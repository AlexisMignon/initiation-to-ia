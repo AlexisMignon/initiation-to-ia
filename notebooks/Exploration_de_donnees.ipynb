{
 "cells": [
  {
   "cell_type": "markdown",
   "id": "71e58bea",
   "metadata": {},
   "source": [
    "# Analyse exploratoire en Python"
   ]
  },
  {
   "cell_type": "code",
   "execution_count": null,
   "id": "b8a33e08",
   "metadata": {},
   "outputs": [],
   "source": [
    "import pandas as pd # Manipulation de données tabulaires\n",
    "import matplotlib.pyplot as plt # Génération de graphiques\n",
    "import seaborn as sns # Génération de graphiques complexes"
   ]
  },
  {
   "cell_type": "markdown",
   "id": "6c42b92d",
   "metadata": {},
   "source": [
    "Pour les représentations graphiques nous allons montrer plusieurs façon de faire :\n",
    "\n",
    "* En utilisant la bibliothèque `matplotlib`\n",
    "* En utilisant les fonctionnalité de dessin de la bibliothèque `pandas`\n",
    "* En utilisant la bibliothèque `seaborn`\n",
    "\n",
    "La bibliothèque **`pandas`** est la principale bibliothèque de manipulation de données tabulaires en Python. Elle est compatible avec la bibliothèque `numpy`, de calcul numérique. Cette dernière étant particulièrement efficaces pour la manipulation des tableaux multi-dimensionnels. La bibliothèque `pandas` fournit également des fonctionnalité pour généré des graphiques. Ces fonctionnalités reposent en interne sur la bibliothèque `matplotlib`.\n",
    "\n",
    "La bibliothèque **`matplotlib`** est un des principaux outils pour la génération de graphiques scientifiques en Python. Elle est particulièrement adaptée à la génération de graphiques simples pour lesquels elle dispose d'une API dédiées. \n",
    "\n",
    "Pour la génération de figure plus complexes mais d'usage courant, on pourra utiliser la bibliothèque **`seaborn`**. elle repose également sur **`matplotlib`**.\n",
    "\n",
    "Puisque tous ces outils repose sur `matplotlib`, il est possible de rafiner les graphiques en utilisant l'API de cette dernière."
   ]
  },
  {
   "cell_type": "markdown",
   "id": "d949889f",
   "metadata": {},
   "source": [
    "## Données de réussites d'élèves\n",
    "\n",
    "Il s'agit de données artificielles générées sur [ce site](http://roycekimmons.com/tools/generated_data/exams)."
   ]
  },
  {
   "cell_type": "code",
   "execution_count": null,
   "id": "f874013d",
   "metadata": {},
   "outputs": [],
   "source": [
    "df_students = pd.read_csv(\"../../data/StudentsPerformance.csv\")\n",
    "df_students"
   ]
  },
  {
   "cell_type": "markdown",
   "id": "8d92dbba",
   "metadata": {},
   "source": [
    "### Analyse descriptive\n",
    "\n",
    "Graphique baton et comptage :"
   ]
  },
  {
   "cell_type": "code",
   "execution_count": null,
   "id": "a2874b07",
   "metadata": {},
   "outputs": [],
   "source": [
    "df_students[\"gender\"].value_counts().plot.bar();"
   ]
  },
  {
   "cell_type": "markdown",
   "id": "b975dd19",
   "metadata": {},
   "source": [
    "Camembert :"
   ]
  },
  {
   "cell_type": "code",
   "execution_count": null,
   "id": "a69b591f",
   "metadata": {},
   "outputs": [],
   "source": [
    "df_students[\"lunch\"].value_counts().plot.pie();"
   ]
  },
  {
   "cell_type": "markdown",
   "id": "8dfced9e",
   "metadata": {},
   "source": [
    "Graphique bâton et valeures moyenne en fonction du genre et des réductions pour les repas. On utilise `seaborn` pour analyser selon deux variables catégorielles :"
   ]
  },
  {
   "cell_type": "code",
   "execution_count": null,
   "id": "f72ad3b2",
   "metadata": {},
   "outputs": [],
   "source": [
    "sns.barplot(x=\"gender\", y=\"reading score\", hue=\"lunch\", data=df_students);"
   ]
  },
  {
   "cell_type": "markdown",
   "id": "8e97b9a1",
   "metadata": {},
   "source": [
    "KDE par genre :"
   ]
  },
  {
   "cell_type": "code",
   "execution_count": null,
   "id": "54ec5b12",
   "metadata": {},
   "outputs": [],
   "source": [
    "sns.kdeplot(x=\"writing score\", hue=\"gender\", data=df_students);"
   ]
  },
  {
   "cell_type": "markdown",
   "id": "25647a64",
   "metadata": {},
   "source": [
    "Graphique violon + box plot par genre :"
   ]
  },
  {
   "cell_type": "code",
   "execution_count": null,
   "id": "160398b5",
   "metadata": {},
   "outputs": [],
   "source": [
    "sns.violinplot(x=\"writing score\", y=\"gender\", data=df_students);"
   ]
  },
  {
   "cell_type": "markdown",
   "id": "f686c176",
   "metadata": {},
   "source": [
    "Boîtes à moustache uniquement"
   ]
  },
  {
   "cell_type": "code",
   "execution_count": null,
   "id": "8e55e68a",
   "metadata": {},
   "outputs": [],
   "source": [
    "sns.boxplot(x=\"writing score\", y=\"gender\", data=df_students);"
   ]
  },
  {
   "cell_type": "markdown",
   "id": "b99a7c8b",
   "metadata": {},
   "source": [
    "Scatter plots avec informations additionelles utilisant :\n",
    "\n",
    "* la couleur,\n",
    "* la taille,\n",
    "* la forme\n",
    "\n",
    "des marqueurs."
   ]
  },
  {
   "cell_type": "code",
   "execution_count": null,
   "id": "55ae1921",
   "metadata": {},
   "outputs": [],
   "source": [
    "sns.scatterplot(x=\"math score\", y=\"reading score\",\n",
    "                hue=\"gender\", size=\"writing score\",\n",
    "                style=\"test preparation course\",\n",
    "                data=df_students)\n",
    "plt.legend(bbox_to_anchor=(1, 1));"
   ]
  },
  {
   "cell_type": "markdown",
   "id": "9e13b347",
   "metadata": {},
   "source": [
    "KDE plots en deux dimensions :"
   ]
  },
  {
   "cell_type": "code",
   "execution_count": null,
   "id": "f12d75a2",
   "metadata": {},
   "outputs": [],
   "source": [
    "ax = sns.kdeplot(x=\"math score\", y=\"reading score\", hue=\"gender\", data=df_students)\n",
    "ax.legend_.set_bbox_to_anchor((0.3, 0.95))"
   ]
  },
  {
   "cell_type": "markdown",
   "id": "cf07fbd3",
   "metadata": {},
   "source": [
    "Histogramme 2D"
   ]
  },
  {
   "cell_type": "code",
   "execution_count": null,
   "id": "b85b3d60",
   "metadata": {},
   "outputs": [],
   "source": [
    "sns.histplot(x=\"math score\", y=\"reading score\", bins=20, data=df_students, cmap=\"BuPu\");"
   ]
  },
  {
   "cell_type": "markdown",
   "id": "879470aa",
   "metadata": {},
   "source": [
    "Histogramme 2D à bin hexagonaux :"
   ]
  },
  {
   "cell_type": "code",
   "execution_count": null,
   "id": "26a99f95",
   "metadata": {},
   "outputs": [],
   "source": [
    "g = sns.jointplot(x=\"math score\", y=\"reading score\", kind=\"hex\", bins=20, data=df_students, cmap=\"BuPu\")\n",
    "g.ax_marg_x.remove()  # On n'affiche pas les distributions marginales\n",
    "g.ax_marg_y.remove();"
   ]
  },
  {
   "cell_type": "markdown",
   "id": "d4e121bf",
   "metadata": {},
   "source": [
    "## Les chiffres manuscrits"
   ]
  },
  {
   "cell_type": "code",
   "execution_count": null,
   "id": "f71bd792",
   "metadata": {},
   "outputs": [],
   "source": [
    "from sklearn.datasets import load_digits\n",
    "\n",
    "digits = load_digits()\n",
    "print(digits[\"DESCR\"])"
   ]
  },
  {
   "cell_type": "markdown",
   "id": "8d47fdca",
   "metadata": {},
   "source": [
    "Distribution des différents chiffres :"
   ]
  },
  {
   "cell_type": "code",
   "execution_count": null,
   "id": "52419663",
   "metadata": {},
   "outputs": [],
   "source": [
    "sns.countplot(x=digits[\"target\"]);"
   ]
  },
  {
   "cell_type": "markdown",
   "id": "c4d8ecdb",
   "metadata": {},
   "source": [
    "Petites interface d'exploration des images. On ajoute la possibilité de lisser le rendu de sorte à rendre l'image plus agréable à l'œil. Ceci n'ajoute aucune information."
   ]
  },
  {
   "cell_type": "code",
   "execution_count": null,
   "id": "ac4125ae",
   "metadata": {},
   "outputs": [],
   "source": [
    "from ipywidgets import widgets, interact\n",
    "\n",
    "@interact(\n",
    "    i=widgets.IntSlider(min=0, max=len(digits.images) - 11, continuous_update=False),\n",
    "    smooth=False\n",
    ")\n",
    "def plot_img(i, smooth):\n",
    "    plt.figure(figsize=(14, 5))\n",
    "    for j in range(10):\n",
    "        plt.subplot(1, 10, j + 1)\n",
    "        plt.title(f\"{digits['target'][i + j]}\")\n",
    "        plt.imshow(digits[\"images\"][i + j], cmap=\"gray\", interpolation=\"bicubic\" if smooth else None)\n",
    "        plt.xticks([])\n",
    "        plt.yticks([])\n",
    "    \n",
    "\n"
   ]
  },
  {
   "cell_type": "markdown",
   "id": "7f90ee32",
   "metadata": {},
   "source": [
    "### Réduction de dimension\n",
    "\n",
    "#### Analyse en composante principale\n",
    "\n",
    "Applaction d'une Analyse en composante principale. On demande toutes les dimensions de sorte qu'il soit possible\n",
    "d'analyser le nombre de dimensions intrinsèques :"
   ]
  },
  {
   "cell_type": "code",
   "execution_count": null,
   "id": "95731707",
   "metadata": {},
   "outputs": [],
   "source": [
    "from sklearn.decomposition import PCA\n",
    "\n",
    "X = digits[\"data\"]\n",
    "y = digits[\"target\"]\n",
    "pca = PCA(n_components=X.shape[1])\n",
    "pca.fit(X)\n",
    "plt.plot(pca.explained_variance_ratio_, label=\"Variance\")\n",
    "plt.plot(pca.explained_variance_ratio_.cumsum(), label=\"Variance cumulée\")\n",
    "plt.xlabel(\"Nombre de composantes\")\n",
    "plt.ylabel(\"Ratio\")\n",
    "plt.legend()\n",
    "plt.grid(\"on\");"
   ]
  },
  {
   "cell_type": "markdown",
   "id": "d4f32b82",
   "metadata": {},
   "source": [
    "Les images continenne 64 pixels, mais on voit que à partir de 40, presque toutes la variance totale est reproduite."
   ]
  },
  {
   "cell_type": "markdown",
   "id": "14dcd9cd",
   "metadata": {},
   "source": [
    "Projection sur les deux premiers axes principaux :"
   ]
  },
  {
   "cell_type": "code",
   "execution_count": null,
   "id": "5df0c8f1",
   "metadata": {},
   "outputs": [],
   "source": [
    "Xpca = pca.transform(X)\n",
    "sns.scatterplot(x=Xpca[:, 0], y=Xpca[:, 1])\n",
    "plt.xlabel(\"PC 1\")\n",
    "plt.ylabel(\"PC 2\");"
   ]
  },
  {
   "cell_type": "code",
   "execution_count": null,
   "id": "c8b5ef6f",
   "metadata": {},
   "outputs": [],
   "source": [
    "sns.scatterplot(x=Xpca[:, 0], y=Xpca[:, 1], hue=y, palette=\"tab10\")\n",
    "plt.legend(bbox_to_anchor=(1, 1))\n",
    "plt.xlabel(\"PC 1\")\n",
    "plt.ylabel(\"PC 2\");"
   ]
  },
  {
   "cell_type": "markdown",
   "id": "dd35997c",
   "metadata": {},
   "source": [
    "Clairement la projection linéaire sur les deux premiers axes principaux n'est pas suffisante pour distinguer les groupes naturels.\n",
    "\n",
    "Les deux premiers axes principaux supportent moins de 30% de la variance totale :"
   ]
  },
  {
   "cell_type": "code",
   "execution_count": null,
   "id": "dce1219e",
   "metadata": {},
   "outputs": [],
   "source": [
    "pca.explained_variance_ratio_[:2].sum()"
   ]
  },
  {
   "cell_type": "markdown",
   "id": "34749709",
   "metadata": {},
   "source": [
    "Dans une certaine mesure, la réduction de dimension par ACP, peut être vue comme un algorithme de débruitage. En effet, les composantes principales d'ordres élevé capture de plus en plus les détails des images. Eliminer les détails les plus fins peut alors aider l'analyse."
   ]
  },
  {
   "cell_type": "code",
   "execution_count": null,
   "id": "be445121",
   "metadata": {},
   "outputs": [],
   "source": [
    "from ipywidgets import widgets, interact\n",
    "\n",
    "images_comp = pca.components_.reshape(-1, 8, 8)\n",
    "\n",
    "@interact(\n",
    "    i=widgets.IntSlider(min=0, max=len(images_comp) - 11, continuous_update=False),\n",
    "    smooth=False\n",
    ")\n",
    "def plot_img(i, smooth):\n",
    "    plt.figure(figsize=(14, 5))\n",
    "    for j in range(10):\n",
    "        plt.subplot(1, 10, j + 1)\n",
    "        plt.title(f\"PC {i + j + 1}\")\n",
    "        plt.imshow(images_comp[i + j], cmap=\"gray\", interpolation=\"bicubic\" if smooth else None)\n",
    "        plt.xticks([])\n",
    "        plt.yticks([])\n",
    "    \n",
    "\n"
   ]
  },
  {
   "cell_type": "markdown",
   "id": "fc8df6e5",
   "metadata": {},
   "source": [
    "On peut effectuer une projection inverse et examiner le résultat après filtrage des composantes principales non-conservées :"
   ]
  },
  {
   "cell_type": "code",
   "execution_count": null,
   "id": "e9afbd1d",
   "metadata": {},
   "outputs": [],
   "source": [
    "variances = [0.99, 0.9, 0.75, 0.5, 0.25]\n",
    "\n",
    "plt.figure(figsize=(12, 6))\n",
    "\n",
    "for i, variance in enumerate(variances):\n",
    "    pca_ = PCA(n_components=variance)\n",
    "    Xpca = pca_.fit_transform(digits.data[:10])\n",
    "    X_inv = pca_.inverse_transform(Xpca)\n",
    "    for j in range(10):\n",
    "        plt.subplot(len(variances), 10, 10 * i + j + 1)\n",
    "        if j == 0:\n",
    "            plt.ylabel(f\"ratio: {variance}\")\n",
    "        plt.imshow(X_inv[j].reshape(8, 8), cmap=\"gray\", interpolation=\"bicubic\")\n",
    "        "
   ]
  },
  {
   "cell_type": "markdown",
   "id": "bb7f2c34",
   "metadata": {},
   "source": [
    "On voit qu'il faut des niveaux de \"compression\" élevés pour observer une perten d'information notable."
   ]
  },
  {
   "cell_type": "markdown",
   "id": "d3e60c5b",
   "metadata": {},
   "source": [
    "#### t-SNE\n",
    "\n",
    "Utilisation de t-SNE pour effectuer une réduction de dimension non-linéaire :"
   ]
  },
  {
   "cell_type": "code",
   "execution_count": null,
   "id": "f3fd94cd",
   "metadata": {},
   "outputs": [],
   "source": [
    "from sklearn.manifold import TSNE\n",
    "\n",
    "tsne = TSNE(2, learning_rate=\"auto\", init=\"pca\", random_state=1)\n",
    "Xtsne = tsne.fit_transform(X)"
   ]
  },
  {
   "cell_type": "markdown",
   "id": "c14aac54",
   "metadata": {},
   "source": [
    "L'algorithme t-SNE ne permet pas de projeter de nouveaux points (non-utilisé à l'entrainement), donc seule la méthode `fit_transform` est disponible et non pas la méthode `transform` seule."
   ]
  },
  {
   "cell_type": "code",
   "execution_count": null,
   "id": "89566e29",
   "metadata": {},
   "outputs": [],
   "source": [
    "sns.scatterplot(x=Xtsne[:, 0], y=Xtsne[:, 1], hue=y, palette=\"tab10\");\n",
    "plt.legend(bbox_to_anchor=(1, 1));"
   ]
  },
  {
   "cell_type": "markdown",
   "id": "dbdc70a8",
   "metadata": {},
   "source": [
    "### Clustering avec les K-Moyennes\n",
    "\n",
    "On commence par appliquer une réduction de dimension par PCA pour :\n",
    "\n",
    "* faciliter le calcul des distances, plus compliqué en grandes dimensions\n",
    "* débruiter les images"
   ]
  },
  {
   "cell_type": "code",
   "execution_count": null,
   "id": "276a98e1",
   "metadata": {},
   "outputs": [],
   "source": [
    "from sklearn.cluster import KMeans\n",
    "from sklearn.pipeline import Pipeline\n",
    "\n",
    "model = Pipeline([\n",
    "    (\"pca\", PCA(n_components=0.9)),\n",
    "    (\"kmeans\", KMeans(n_clusters=10, random_state=1))\n",
    "])\n",
    "\n",
    "model.fit(X)"
   ]
  },
  {
   "cell_type": "markdown",
   "id": "52d594ee",
   "metadata": {},
   "source": [
    "On peut ensuite visualiser le centroïde de chaque cluster en moyennant toutes les images de chaque cluster :"
   ]
  },
  {
   "cell_type": "code",
   "execution_count": null,
   "id": "b4de273f",
   "metadata": {},
   "outputs": [],
   "source": [
    "import numpy as np\n",
    "\n",
    "cluster = model.predict(X)\n",
    "\n",
    "img_centers = np.hstack([\n",
    "    digits[\"images\"][cluster == i].mean(0)\n",
    "    for i in range(10)\n",
    "])\n",
    "\n",
    "plt.figure(figsize=(12, 5))\n",
    "plt.imshow(img_centers, cmap=\"gray\");"
   ]
  },
  {
   "cell_type": "code",
   "execution_count": null,
   "id": "78320995",
   "metadata": {},
   "outputs": [],
   "source": [
    "plt.figure(figsize=(12, 5))\n",
    "plt.imshow(img_centers, cmap=\"gray\", interpolation=\"bicubic\");"
   ]
  },
  {
   "cell_type": "markdown",
   "id": "5a12841a",
   "metadata": {},
   "source": [
    "On voit que, naturellement, les clusters sont centrés sur les groupes corre chiffres"
   ]
  }
 ],
 "metadata": {
  "jupytext": {
   "encoding": "# -*- coding: utf-8 -*-",
   "formats": "ipynb,py:light"
  },
  "kernelspec": {
   "display_name": "Python 3 (ipykernel)",
   "language": "python",
   "name": "python3"
  }
 },
 "nbformat": 4,
 "nbformat_minor": 5
}
