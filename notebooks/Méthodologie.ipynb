{
 "cells": [
  {
   "cell_type": "markdown",
   "id": "9e71152b",
   "metadata": {},
   "source": [
    "# Méthodologie\n",
    "\n",
    "Lorsque l'on conçoit un modèle d'IA basé sur l'apprentissage automatique, on est généralement amené à tester plusieurs modèles et on doit pouvoir comparer les performances de ces modèles.\n",
    "\n",
    "Parmi la variété possible sur les modèles tester on a :\n",
    "\n",
    "* différentes familles de modèles (linéaire, gradient boosting, forêts aléatoires, etc.)\n",
    "* différents jeux possible d'hyper-paramètres pour une même famille de modèle.\n",
    "\n",
    "Une méthodologie d'évaluation de modèle complète doit donc faire intervenir :\n",
    "\n",
    "* Une stratégie d'évaluation de la performance des modèles\n",
    "* Une stratégie d'exploration des hyper-paramètres\n",
    "\n",
    "Les deux stratégies pouvant être indépendantes ou se combiner.\n",
    "\n",
    "## Préparation de l'environnement"
   ]
  },
  {
   "cell_type": "code",
   "execution_count": 1,
   "id": "15a5f720",
   "metadata": {
    "ExecuteTime": {
     "end_time": "2022-11-28T13:54:35.071623Z",
     "start_time": "2022-11-28T13:54:35.060662Z"
    }
   },
   "outputs": [],
   "source": [
    "DATA_FILE = \"initiation-to-ia/data/Titanic/train.csv\""
   ]
  },
  {
   "cell_type": "code",
   "execution_count": 2,
   "id": "4b282add",
   "metadata": {
    "ExecuteTime": {
     "end_time": "2022-11-28T13:54:36.135967Z",
     "start_time": "2022-11-28T13:54:35.081947Z"
    }
   },
   "outputs": [
    {
     "name": "stdout",
     "output_type": "stream",
     "text": [
      "Clonage dans 'initiation-to-ia'...\n",
      "remote: Enumerating objects: 46, done.\u001b[K\n",
      "remote: Counting objects: 100% (46/46), done.\u001b[K\n",
      "remote: Compressing objects: 100% (38/38), done.\u001b[K\n",
      "remote: Total 46 (delta 15), reused 35 (delta 7), pack-reused 0\u001b[K\n",
      "Réception d'objets: 100% (46/46), 754.34 Kio | 5.55 Mio/s, fait.\n",
      "Résolution des deltas: 100% (15/15), fait.\n"
     ]
    }
   ],
   "source": [
    "# Retrieve data from GitHub if not present\n",
    "! if [ ! -f $DATA_FILE ]; then git clone https://github.com/AlexisMignon/initiation-to-ia.git; fi"
   ]
  },
  {
   "cell_type": "code",
   "execution_count": 3,
   "id": "72ffaf44",
   "metadata": {
    "ExecuteTime": {
     "end_time": "2022-11-28T13:54:44.058495Z",
     "start_time": "2022-11-28T13:54:36.148138Z"
    }
   },
   "outputs": [
    {
     "name": "stdout",
     "output_type": "stream",
     "text": [
      "Requirement already satisfied: numpy in /home/amignon/Projets/upec-introduction-to-ai/shared_notebooks/venv/lib/python3.10/site-packages (from -r initiation-to-ia/requirements.txt (line 1)) (1.23.5)\n",
      "Requirement already satisfied: pandas in /home/amignon/Projets/upec-introduction-to-ai/shared_notebooks/venv/lib/python3.10/site-packages (from -r initiation-to-ia/requirements.txt (line 2)) (1.5.2)\n",
      "Requirement already satisfied: matplotlib in /home/amignon/Projets/upec-introduction-to-ai/shared_notebooks/venv/lib/python3.10/site-packages (from -r initiation-to-ia/requirements.txt (line 3)) (3.6.2)\n",
      "Requirement already satisfied: scikit-learn in /home/amignon/Projets/upec-introduction-to-ai/shared_notebooks/venv/lib/python3.10/site-packages (from -r initiation-to-ia/requirements.txt (line 4)) (1.1.3)\n",
      "Requirement already satisfied: optuna in /home/amignon/Projets/upec-introduction-to-ai/shared_notebooks/venv/lib/python3.10/site-packages (from -r initiation-to-ia/requirements.txt (line 5)) (3.0.3)\n",
      "Requirement already satisfied: catboost in /home/amignon/Projets/upec-introduction-to-ai/shared_notebooks/venv/lib/python3.10/site-packages (from -r initiation-to-ia/requirements.txt (line 6)) (1.1.1)\n",
      "Requirement already satisfied: category_encoders in /home/amignon/Projets/upec-introduction-to-ai/shared_notebooks/venv/lib/python3.10/site-packages (from -r initiation-to-ia/requirements.txt (line 7)) (2.5.1.post0)\n",
      "Requirement already satisfied: jupyter in /home/amignon/Projets/upec-introduction-to-ai/shared_notebooks/venv/lib/python3.10/site-packages (from -r initiation-to-ia/requirements.txt (line 9)) (1.0.0)\n",
      "Requirement already satisfied: jupyter_contrib_nbextensions in /home/amignon/Projets/upec-introduction-to-ai/shared_notebooks/venv/lib/python3.10/site-packages (from -r initiation-to-ia/requirements.txt (line 10)) (0.7.0)\n",
      "Requirement already satisfied: python-dateutil>=2.8.1 in /home/amignon/Projets/upec-introduction-to-ai/shared_notebooks/venv/lib/python3.10/site-packages (from pandas->-r initiation-to-ia/requirements.txt (line 2)) (2.8.2)\n",
      "Requirement already satisfied: pytz>=2020.1 in /home/amignon/Projets/upec-introduction-to-ai/shared_notebooks/venv/lib/python3.10/site-packages (from pandas->-r initiation-to-ia/requirements.txt (line 2)) (2022.6)\n",
      "Requirement already satisfied: pillow>=6.2.0 in /home/amignon/Projets/upec-introduction-to-ai/shared_notebooks/venv/lib/python3.10/site-packages (from matplotlib->-r initiation-to-ia/requirements.txt (line 3)) (9.3.0)\n",
      "Requirement already satisfied: kiwisolver>=1.0.1 in /home/amignon/Projets/upec-introduction-to-ai/shared_notebooks/venv/lib/python3.10/site-packages (from matplotlib->-r initiation-to-ia/requirements.txt (line 3)) (1.4.4)\n",
      "Requirement already satisfied: cycler>=0.10 in /home/amignon/Projets/upec-introduction-to-ai/shared_notebooks/venv/lib/python3.10/site-packages (from matplotlib->-r initiation-to-ia/requirements.txt (line 3)) (0.11.0)\n",
      "Requirement already satisfied: contourpy>=1.0.1 in /home/amignon/Projets/upec-introduction-to-ai/shared_notebooks/venv/lib/python3.10/site-packages (from matplotlib->-r initiation-to-ia/requirements.txt (line 3)) (1.0.6)\n",
      "Requirement already satisfied: packaging>=20.0 in /home/amignon/Projets/upec-introduction-to-ai/shared_notebooks/venv/lib/python3.10/site-packages (from matplotlib->-r initiation-to-ia/requirements.txt (line 3)) (21.3)\n",
      "Requirement already satisfied: pyparsing>=2.2.1 in /home/amignon/Projets/upec-introduction-to-ai/shared_notebooks/venv/lib/python3.10/site-packages (from matplotlib->-r initiation-to-ia/requirements.txt (line 3)) (3.0.9)\n",
      "Requirement already satisfied: fonttools>=4.22.0 in /home/amignon/Projets/upec-introduction-to-ai/shared_notebooks/venv/lib/python3.10/site-packages (from matplotlib->-r initiation-to-ia/requirements.txt (line 3)) (4.38.0)\n",
      "Requirement already satisfied: joblib>=1.0.0 in /home/amignon/Projets/upec-introduction-to-ai/shared_notebooks/venv/lib/python3.10/site-packages (from scikit-learn->-r initiation-to-ia/requirements.txt (line 4)) (1.2.0)\n",
      "Requirement already satisfied: threadpoolctl>=2.0.0 in /home/amignon/Projets/upec-introduction-to-ai/shared_notebooks/venv/lib/python3.10/site-packages (from scikit-learn->-r initiation-to-ia/requirements.txt (line 4)) (3.1.0)\n",
      "Requirement already satisfied: scipy>=1.3.2 in /home/amignon/Projets/upec-introduction-to-ai/shared_notebooks/venv/lib/python3.10/site-packages (from scikit-learn->-r initiation-to-ia/requirements.txt (line 4)) (1.8.1)\n",
      "Requirement already satisfied: sqlalchemy>=1.3.0 in /home/amignon/Projets/upec-introduction-to-ai/shared_notebooks/venv/lib/python3.10/site-packages (from optuna->-r initiation-to-ia/requirements.txt (line 5)) (1.4.44)\n",
      "Requirement already satisfied: alembic>=1.5.0 in /home/amignon/Projets/upec-introduction-to-ai/shared_notebooks/venv/lib/python3.10/site-packages (from optuna->-r initiation-to-ia/requirements.txt (line 5)) (1.8.1)\n",
      "Requirement already satisfied: cliff in /home/amignon/Projets/upec-introduction-to-ai/shared_notebooks/venv/lib/python3.10/site-packages (from optuna->-r initiation-to-ia/requirements.txt (line 5)) (4.1.0)\n",
      "Requirement already satisfied: importlib-metadata<5.0.0 in /home/amignon/Projets/upec-introduction-to-ai/shared_notebooks/venv/lib/python3.10/site-packages (from optuna->-r initiation-to-ia/requirements.txt (line 5)) (4.13.0)\n",
      "Requirement already satisfied: cmaes>=0.8.2 in /home/amignon/Projets/upec-introduction-to-ai/shared_notebooks/venv/lib/python3.10/site-packages (from optuna->-r initiation-to-ia/requirements.txt (line 5)) (0.9.0)\n",
      "Requirement already satisfied: PyYAML in /home/amignon/Projets/upec-introduction-to-ai/shared_notebooks/venv/lib/python3.10/site-packages (from optuna->-r initiation-to-ia/requirements.txt (line 5)) (6.0)\n",
      "Requirement already satisfied: colorlog in /home/amignon/Projets/upec-introduction-to-ai/shared_notebooks/venv/lib/python3.10/site-packages (from optuna->-r initiation-to-ia/requirements.txt (line 5)) (6.7.0)\n",
      "Requirement already satisfied: tqdm in /home/amignon/Projets/upec-introduction-to-ai/shared_notebooks/venv/lib/python3.10/site-packages (from optuna->-r initiation-to-ia/requirements.txt (line 5)) (4.64.1)\n",
      "Requirement already satisfied: six in /home/amignon/Projets/upec-introduction-to-ai/shared_notebooks/venv/lib/python3.10/site-packages (from catboost->-r initiation-to-ia/requirements.txt (line 6)) (1.16.0)\n",
      "Requirement already satisfied: plotly in /home/amignon/Projets/upec-introduction-to-ai/shared_notebooks/venv/lib/python3.10/site-packages (from catboost->-r initiation-to-ia/requirements.txt (line 6)) (5.11.0)\n",
      "Requirement already satisfied: graphviz in /home/amignon/Projets/upec-introduction-to-ai/shared_notebooks/venv/lib/python3.10/site-packages (from catboost->-r initiation-to-ia/requirements.txt (line 6)) (0.20.1)\n",
      "Requirement already satisfied: statsmodels>=0.9.0 in /home/amignon/Projets/upec-introduction-to-ai/shared_notebooks/venv/lib/python3.10/site-packages (from category_encoders->-r initiation-to-ia/requirements.txt (line 7)) (0.13.5)\n",
      "Requirement already satisfied: patsy>=0.5.1 in /home/amignon/Projets/upec-introduction-to-ai/shared_notebooks/venv/lib/python3.10/site-packages (from category_encoders->-r initiation-to-ia/requirements.txt (line 7)) (0.5.3)\n",
      "Requirement already satisfied: nbconvert in /home/amignon/Projets/upec-introduction-to-ai/shared_notebooks/venv/lib/python3.10/site-packages (from jupyter->-r initiation-to-ia/requirements.txt (line 9)) (7.2.5)\n",
      "Requirement already satisfied: ipykernel in /home/amignon/Projets/upec-introduction-to-ai/shared_notebooks/venv/lib/python3.10/site-packages (from jupyter->-r initiation-to-ia/requirements.txt (line 9)) (6.17.1)\n",
      "Requirement already satisfied: notebook in /home/amignon/Projets/upec-introduction-to-ai/shared_notebooks/venv/lib/python3.10/site-packages (from jupyter->-r initiation-to-ia/requirements.txt (line 9)) (6.5.2)\n",
      "Requirement already satisfied: ipywidgets in /home/amignon/Projets/upec-introduction-to-ai/shared_notebooks/venv/lib/python3.10/site-packages (from jupyter->-r initiation-to-ia/requirements.txt (line 9)) (8.0.2)\n",
      "Requirement already satisfied: jupyter-console in /home/amignon/Projets/upec-introduction-to-ai/shared_notebooks/venv/lib/python3.10/site-packages (from jupyter->-r initiation-to-ia/requirements.txt (line 9)) (6.4.4)\n",
      "Requirement already satisfied: qtconsole in /home/amignon/Projets/upec-introduction-to-ai/shared_notebooks/venv/lib/python3.10/site-packages (from jupyter->-r initiation-to-ia/requirements.txt (line 9)) (5.4.0)\n"
     ]
    },
    {
     "name": "stdout",
     "output_type": "stream",
     "text": [
      "Requirement already satisfied: lxml in /home/amignon/Projets/upec-introduction-to-ai/shared_notebooks/venv/lib/python3.10/site-packages (from jupyter_contrib_nbextensions->-r initiation-to-ia/requirements.txt (line 10)) (4.9.1)\n",
      "Requirement already satisfied: ipython-genutils in /home/amignon/Projets/upec-introduction-to-ai/shared_notebooks/venv/lib/python3.10/site-packages (from jupyter_contrib_nbextensions->-r initiation-to-ia/requirements.txt (line 10)) (0.2.0)\n",
      "Requirement already satisfied: jupyter-nbextensions-configurator>=0.4.0 in /home/amignon/Projets/upec-introduction-to-ai/shared_notebooks/venv/lib/python3.10/site-packages (from jupyter_contrib_nbextensions->-r initiation-to-ia/requirements.txt (line 10)) (0.6.1)\n",
      "Requirement already satisfied: jupyter-core in /home/amignon/Projets/upec-introduction-to-ai/shared_notebooks/venv/lib/python3.10/site-packages (from jupyter_contrib_nbextensions->-r initiation-to-ia/requirements.txt (line 10)) (5.0.0)\n",
      "Requirement already satisfied: traitlets>=4.1 in /home/amignon/Projets/upec-introduction-to-ai/shared_notebooks/venv/lib/python3.10/site-packages (from jupyter_contrib_nbextensions->-r initiation-to-ia/requirements.txt (line 10)) (5.5.0)\n",
      "Requirement already satisfied: jupyter-contrib-core>=0.3.3 in /home/amignon/Projets/upec-introduction-to-ai/shared_notebooks/venv/lib/python3.10/site-packages (from jupyter_contrib_nbextensions->-r initiation-to-ia/requirements.txt (line 10)) (0.4.2)\n",
      "Requirement already satisfied: tornado in /home/amignon/Projets/upec-introduction-to-ai/shared_notebooks/venv/lib/python3.10/site-packages (from jupyter_contrib_nbextensions->-r initiation-to-ia/requirements.txt (line 10)) (6.2)\n",
      "Requirement already satisfied: jupyter-highlight-selected-word>=0.1.1 in /home/amignon/Projets/upec-introduction-to-ai/shared_notebooks/venv/lib/python3.10/site-packages (from jupyter_contrib_nbextensions->-r initiation-to-ia/requirements.txt (line 10)) (0.2.0)\n",
      "Requirement already satisfied: Mako in /home/amignon/Projets/upec-introduction-to-ai/shared_notebooks/venv/lib/python3.10/site-packages (from alembic>=1.5.0->optuna->-r initiation-to-ia/requirements.txt (line 5)) (1.2.4)\n",
      "Requirement already satisfied: zipp>=0.5 in /home/amignon/Projets/upec-introduction-to-ai/shared_notebooks/venv/lib/python3.10/site-packages (from importlib-metadata<5.0.0->optuna->-r initiation-to-ia/requirements.txt (line 5)) (3.10.0)\n",
      "Requirement already satisfied: setuptools in /home/amignon/Projets/upec-introduction-to-ai/shared_notebooks/venv/lib/python3.10/site-packages (from jupyter-contrib-core>=0.3.3->jupyter_contrib_nbextensions->-r initiation-to-ia/requirements.txt (line 10)) (63.2.0)\n",
      "Requirement already satisfied: nbformat>=5.1 in /home/amignon/Projets/upec-introduction-to-ai/shared_notebooks/venv/lib/python3.10/site-packages (from nbconvert->jupyter->-r initiation-to-ia/requirements.txt (line 9)) (5.7.0)\n",
      "Requirement already satisfied: mistune<3,>=2.0.3 in /home/amignon/Projets/upec-introduction-to-ai/shared_notebooks/venv/lib/python3.10/site-packages (from nbconvert->jupyter->-r initiation-to-ia/requirements.txt (line 9)) (2.0.4)\n",
      "Requirement already satisfied: pygments>=2.4.1 in /home/amignon/Projets/upec-introduction-to-ai/shared_notebooks/venv/lib/python3.10/site-packages (from nbconvert->jupyter->-r initiation-to-ia/requirements.txt (line 9)) (2.13.0)\n",
      "Requirement already satisfied: jinja2>=3.0 in /home/amignon/Projets/upec-introduction-to-ai/shared_notebooks/venv/lib/python3.10/site-packages (from nbconvert->jupyter->-r initiation-to-ia/requirements.txt (line 9)) (3.1.2)\n",
      "Requirement already satisfied: tinycss2 in /home/amignon/Projets/upec-introduction-to-ai/shared_notebooks/venv/lib/python3.10/site-packages (from nbconvert->jupyter->-r initiation-to-ia/requirements.txt (line 9)) (1.2.1)\n",
      "Requirement already satisfied: beautifulsoup4 in /home/amignon/Projets/upec-introduction-to-ai/shared_notebooks/venv/lib/python3.10/site-packages (from nbconvert->jupyter->-r initiation-to-ia/requirements.txt (line 9)) (4.11.1)\n",
      "Requirement already satisfied: jupyterlab-pygments in /home/amignon/Projets/upec-introduction-to-ai/shared_notebooks/venv/lib/python3.10/site-packages (from nbconvert->jupyter->-r initiation-to-ia/requirements.txt (line 9)) (0.2.2)\n",
      "Requirement already satisfied: bleach in /home/amignon/Projets/upec-introduction-to-ai/shared_notebooks/venv/lib/python3.10/site-packages (from nbconvert->jupyter->-r initiation-to-ia/requirements.txt (line 9)) (5.0.1)\n",
      "Requirement already satisfied: pandocfilters>=1.4.1 in /home/amignon/Projets/upec-introduction-to-ai/shared_notebooks/venv/lib/python3.10/site-packages (from nbconvert->jupyter->-r initiation-to-ia/requirements.txt (line 9)) (1.5.0)\n",
      "Requirement already satisfied: defusedxml in /home/amignon/Projets/upec-introduction-to-ai/shared_notebooks/venv/lib/python3.10/site-packages (from nbconvert->jupyter->-r initiation-to-ia/requirements.txt (line 9)) (0.7.1)\n",
      "Requirement already satisfied: markupsafe>=2.0 in /home/amignon/Projets/upec-introduction-to-ai/shared_notebooks/venv/lib/python3.10/site-packages (from nbconvert->jupyter->-r initiation-to-ia/requirements.txt (line 9)) (2.1.1)\n",
      "Requirement already satisfied: nbclient>=0.5.0 in /home/amignon/Projets/upec-introduction-to-ai/shared_notebooks/venv/lib/python3.10/site-packages (from nbconvert->jupyter->-r initiation-to-ia/requirements.txt (line 9)) (0.7.0)\n",
      "Requirement already satisfied: platformdirs in /home/amignon/Projets/upec-introduction-to-ai/shared_notebooks/venv/lib/python3.10/site-packages (from jupyter-core->jupyter_contrib_nbextensions->-r initiation-to-ia/requirements.txt (line 10)) (2.5.4)\n",
      "Requirement already satisfied: nbclassic>=0.4.7 in /home/amignon/Projets/upec-introduction-to-ai/shared_notebooks/venv/lib/python3.10/site-packages (from notebook->jupyter->-r initiation-to-ia/requirements.txt (line 9)) (0.4.8)\n",
      "Requirement already satisfied: jupyter-client>=5.3.4 in /home/amignon/Projets/upec-introduction-to-ai/shared_notebooks/venv/lib/python3.10/site-packages (from notebook->jupyter->-r initiation-to-ia/requirements.txt (line 9)) (7.4.7)\n",
      "Requirement already satisfied: terminado>=0.8.3 in /home/amignon/Projets/upec-introduction-to-ai/shared_notebooks/venv/lib/python3.10/site-packages (from notebook->jupyter->-r initiation-to-ia/requirements.txt (line 9)) (0.17.0)\n",
      "Requirement already satisfied: Send2Trash>=1.8.0 in /home/amignon/Projets/upec-introduction-to-ai/shared_notebooks/venv/lib/python3.10/site-packages (from notebook->jupyter->-r initiation-to-ia/requirements.txt (line 9)) (1.8.0)\n",
      "Requirement already satisfied: argon2-cffi in /home/amignon/Projets/upec-introduction-to-ai/shared_notebooks/venv/lib/python3.10/site-packages (from notebook->jupyter->-r initiation-to-ia/requirements.txt (line 9)) (21.3.0)\n",
      "Requirement already satisfied: prometheus-client in /home/amignon/Projets/upec-introduction-to-ai/shared_notebooks/venv/lib/python3.10/site-packages (from notebook->jupyter->-r initiation-to-ia/requirements.txt (line 9)) (0.15.0)\n",
      "Requirement already satisfied: pyzmq>=17 in /home/amignon/Projets/upec-introduction-to-ai/shared_notebooks/venv/lib/python3.10/site-packages (from notebook->jupyter->-r initiation-to-ia/requirements.txt (line 9)) (24.0.1)\n",
      "Requirement already satisfied: nest-asyncio>=1.5 in /home/amignon/Projets/upec-introduction-to-ai/shared_notebooks/venv/lib/python3.10/site-packages (from notebook->jupyter->-r initiation-to-ia/requirements.txt (line 9)) (1.5.6)\n",
      "Requirement already satisfied: greenlet!=0.4.17 in /home/amignon/Projets/upec-introduction-to-ai/shared_notebooks/venv/lib/python3.10/site-packages (from sqlalchemy>=1.3.0->optuna->-r initiation-to-ia/requirements.txt (line 5)) (2.0.1)\n",
      "Requirement already satisfied: PrettyTable>=0.7.2 in /home/amignon/Projets/upec-introduction-to-ai/shared_notebooks/venv/lib/python3.10/site-packages (from cliff->optuna->-r initiation-to-ia/requirements.txt (line 5)) (3.5.0)\n",
      "Requirement already satisfied: autopage>=0.4.0 in /home/amignon/Projets/upec-introduction-to-ai/shared_notebooks/venv/lib/python3.10/site-packages (from cliff->optuna->-r initiation-to-ia/requirements.txt (line 5)) (0.5.1)\n",
      "Requirement already satisfied: cmd2>=1.0.0 in /home/amignon/Projets/upec-introduction-to-ai/shared_notebooks/venv/lib/python3.10/site-packages (from cliff->optuna->-r initiation-to-ia/requirements.txt (line 5)) (2.4.2)\n"
     ]
    },
    {
     "name": "stdout",
     "output_type": "stream",
     "text": [
      "Requirement already satisfied: stevedore>=2.0.1 in /home/amignon/Projets/upec-introduction-to-ai/shared_notebooks/venv/lib/python3.10/site-packages (from cliff->optuna->-r initiation-to-ia/requirements.txt (line 5)) (4.1.1)\n",
      "Requirement already satisfied: ipython>=7.23.1 in /home/amignon/Projets/upec-introduction-to-ai/shared_notebooks/venv/lib/python3.10/site-packages (from ipykernel->jupyter->-r initiation-to-ia/requirements.txt (line 9)) (8.6.0)\n",
      "Requirement already satisfied: debugpy>=1.0 in /home/amignon/Projets/upec-introduction-to-ai/shared_notebooks/venv/lib/python3.10/site-packages (from ipykernel->jupyter->-r initiation-to-ia/requirements.txt (line 9)) (1.6.3)\n",
      "Requirement already satisfied: psutil in /home/amignon/Projets/upec-introduction-to-ai/shared_notebooks/venv/lib/python3.10/site-packages (from ipykernel->jupyter->-r initiation-to-ia/requirements.txt (line 9)) (5.9.4)\n",
      "Requirement already satisfied: matplotlib-inline>=0.1 in /home/amignon/Projets/upec-introduction-to-ai/shared_notebooks/venv/lib/python3.10/site-packages (from ipykernel->jupyter->-r initiation-to-ia/requirements.txt (line 9)) (0.1.6)\n",
      "Requirement already satisfied: jupyterlab-widgets~=3.0 in /home/amignon/Projets/upec-introduction-to-ai/shared_notebooks/venv/lib/python3.10/site-packages (from ipywidgets->jupyter->-r initiation-to-ia/requirements.txt (line 9)) (3.0.3)\n",
      "Requirement already satisfied: widgetsnbextension~=4.0 in /home/amignon/Projets/upec-introduction-to-ai/shared_notebooks/venv/lib/python3.10/site-packages (from ipywidgets->jupyter->-r initiation-to-ia/requirements.txt (line 9)) (4.0.3)\n",
      "Requirement already satisfied: prompt-toolkit!=3.0.0,!=3.0.1,<3.1.0,>=2.0.0 in /home/amignon/Projets/upec-introduction-to-ai/shared_notebooks/venv/lib/python3.10/site-packages (from jupyter-console->jupyter->-r initiation-to-ia/requirements.txt (line 9)) (3.0.33)\n",
      "Requirement already satisfied: tenacity>=6.2.0 in /home/amignon/Projets/upec-introduction-to-ai/shared_notebooks/venv/lib/python3.10/site-packages (from plotly->catboost->-r initiation-to-ia/requirements.txt (line 6)) (8.1.0)\n",
      "Requirement already satisfied: qtpy>=2.0.1 in /home/amignon/Projets/upec-introduction-to-ai/shared_notebooks/venv/lib/python3.10/site-packages (from qtconsole->jupyter->-r initiation-to-ia/requirements.txt (line 9)) (2.3.0)\n",
      "Requirement already satisfied: pyperclip>=1.6 in /home/amignon/Projets/upec-introduction-to-ai/shared_notebooks/venv/lib/python3.10/site-packages (from cmd2>=1.0.0->cliff->optuna->-r initiation-to-ia/requirements.txt (line 5)) (1.8.2)\n",
      "Requirement already satisfied: wcwidth>=0.1.7 in /home/amignon/Projets/upec-introduction-to-ai/shared_notebooks/venv/lib/python3.10/site-packages (from cmd2>=1.0.0->cliff->optuna->-r initiation-to-ia/requirements.txt (line 5)) (0.2.5)\n",
      "Requirement already satisfied: attrs>=16.3.0 in /home/amignon/Projets/upec-introduction-to-ai/shared_notebooks/venv/lib/python3.10/site-packages (from cmd2>=1.0.0->cliff->optuna->-r initiation-to-ia/requirements.txt (line 5)) (22.1.0)\n",
      "Requirement already satisfied: stack-data in /home/amignon/Projets/upec-introduction-to-ai/shared_notebooks/venv/lib/python3.10/site-packages (from ipython>=7.23.1->ipykernel->jupyter->-r initiation-to-ia/requirements.txt (line 9)) (0.6.1)\n",
      "Requirement already satisfied: backcall in /home/amignon/Projets/upec-introduction-to-ai/shared_notebooks/venv/lib/python3.10/site-packages (from ipython>=7.23.1->ipykernel->jupyter->-r initiation-to-ia/requirements.txt (line 9)) (0.2.0)\n",
      "Requirement already satisfied: pickleshare in /home/amignon/Projets/upec-introduction-to-ai/shared_notebooks/venv/lib/python3.10/site-packages (from ipython>=7.23.1->ipykernel->jupyter->-r initiation-to-ia/requirements.txt (line 9)) (0.7.5)\n",
      "Requirement already satisfied: decorator in /home/amignon/Projets/upec-introduction-to-ai/shared_notebooks/venv/lib/python3.10/site-packages (from ipython>=7.23.1->ipykernel->jupyter->-r initiation-to-ia/requirements.txt (line 9)) (5.1.1)\n",
      "Requirement already satisfied: jedi>=0.16 in /home/amignon/Projets/upec-introduction-to-ai/shared_notebooks/venv/lib/python3.10/site-packages (from ipython>=7.23.1->ipykernel->jupyter->-r initiation-to-ia/requirements.txt (line 9)) (0.18.2)\n",
      "Requirement already satisfied: pexpect>4.3 in /home/amignon/Projets/upec-introduction-to-ai/shared_notebooks/venv/lib/python3.10/site-packages (from ipython>=7.23.1->ipykernel->jupyter->-r initiation-to-ia/requirements.txt (line 9)) (4.8.0)\n",
      "Requirement already satisfied: entrypoints in /home/amignon/Projets/upec-introduction-to-ai/shared_notebooks/venv/lib/python3.10/site-packages (from jupyter-client>=5.3.4->notebook->jupyter->-r initiation-to-ia/requirements.txt (line 9)) (0.4)\n",
      "Requirement already satisfied: jupyter-server>=1.8 in /home/amignon/Projets/upec-introduction-to-ai/shared_notebooks/venv/lib/python3.10/site-packages (from nbclassic>=0.4.7->notebook->jupyter->-r initiation-to-ia/requirements.txt (line 9)) (1.23.3)\n",
      "Requirement already satisfied: notebook-shim>=0.1.0 in /home/amignon/Projets/upec-introduction-to-ai/shared_notebooks/venv/lib/python3.10/site-packages (from nbclassic>=0.4.7->notebook->jupyter->-r initiation-to-ia/requirements.txt (line 9)) (0.2.2)\n",
      "Requirement already satisfied: jsonschema>=2.6 in /home/amignon/Projets/upec-introduction-to-ai/shared_notebooks/venv/lib/python3.10/site-packages (from nbformat>=5.1->nbconvert->jupyter->-r initiation-to-ia/requirements.txt (line 9)) (4.17.1)\n",
      "Requirement already satisfied: fastjsonschema in /home/amignon/Projets/upec-introduction-to-ai/shared_notebooks/venv/lib/python3.10/site-packages (from nbformat>=5.1->nbconvert->jupyter->-r initiation-to-ia/requirements.txt (line 9)) (2.16.2)\n",
      "Requirement already satisfied: pbr!=2.1.0,>=2.0.0 in /home/amignon/Projets/upec-introduction-to-ai/shared_notebooks/venv/lib/python3.10/site-packages (from stevedore>=2.0.1->cliff->optuna->-r initiation-to-ia/requirements.txt (line 5)) (5.11.0)\n",
      "Requirement already satisfied: ptyprocess in /home/amignon/Projets/upec-introduction-to-ai/shared_notebooks/venv/lib/python3.10/site-packages (from terminado>=0.8.3->notebook->jupyter->-r initiation-to-ia/requirements.txt (line 9)) (0.7.0)\n",
      "Requirement already satisfied: argon2-cffi-bindings in /home/amignon/Projets/upec-introduction-to-ai/shared_notebooks/venv/lib/python3.10/site-packages (from argon2-cffi->notebook->jupyter->-r initiation-to-ia/requirements.txt (line 9)) (21.2.0)\n",
      "Requirement already satisfied: soupsieve>1.2 in /home/amignon/Projets/upec-introduction-to-ai/shared_notebooks/venv/lib/python3.10/site-packages (from beautifulsoup4->nbconvert->jupyter->-r initiation-to-ia/requirements.txt (line 9)) (2.3.2.post1)\n",
      "Requirement already satisfied: webencodings in /home/amignon/Projets/upec-introduction-to-ai/shared_notebooks/venv/lib/python3.10/site-packages (from bleach->nbconvert->jupyter->-r initiation-to-ia/requirements.txt (line 9)) (0.5.1)\n",
      "Requirement already satisfied: parso<0.9.0,>=0.8.0 in /home/amignon/Projets/upec-introduction-to-ai/shared_notebooks/venv/lib/python3.10/site-packages (from jedi>=0.16->ipython>=7.23.1->ipykernel->jupyter->-r initiation-to-ia/requirements.txt (line 9)) (0.8.3)\n",
      "Requirement already satisfied: pyrsistent!=0.17.0,!=0.17.1,!=0.17.2,>=0.14.0 in /home/amignon/Projets/upec-introduction-to-ai/shared_notebooks/venv/lib/python3.10/site-packages (from jsonschema>=2.6->nbformat>=5.1->nbconvert->jupyter->-r initiation-to-ia/requirements.txt (line 9)) (0.19.2)\n",
      "Requirement already satisfied: anyio<4,>=3.1.0 in /home/amignon/Projets/upec-introduction-to-ai/shared_notebooks/venv/lib/python3.10/site-packages (from jupyter-server>=1.8->nbclassic>=0.4.7->notebook->jupyter->-r initiation-to-ia/requirements.txt (line 9)) (3.6.2)\n",
      "Requirement already satisfied: websocket-client in /home/amignon/Projets/upec-introduction-to-ai/shared_notebooks/venv/lib/python3.10/site-packages (from jupyter-server>=1.8->nbclassic>=0.4.7->notebook->jupyter->-r initiation-to-ia/requirements.txt (line 9)) (1.4.2)\n",
      "Requirement already satisfied: cffi>=1.0.1 in /home/amignon/Projets/upec-introduction-to-ai/shared_notebooks/venv/lib/python3.10/site-packages (from argon2-cffi-bindings->argon2-cffi->notebook->jupyter->-r initiation-to-ia/requirements.txt (line 9)) (1.15.1)\n"
     ]
    },
    {
     "name": "stdout",
     "output_type": "stream",
     "text": [
      "Requirement already satisfied: asttokens>=2.1.0 in /home/amignon/Projets/upec-introduction-to-ai/shared_notebooks/venv/lib/python3.10/site-packages (from stack-data->ipython>=7.23.1->ipykernel->jupyter->-r initiation-to-ia/requirements.txt (line 9)) (2.1.0)\n",
      "Requirement already satisfied: pure-eval in /home/amignon/Projets/upec-introduction-to-ai/shared_notebooks/venv/lib/python3.10/site-packages (from stack-data->ipython>=7.23.1->ipykernel->jupyter->-r initiation-to-ia/requirements.txt (line 9)) (0.2.2)\n",
      "Requirement already satisfied: executing>=1.2.0 in /home/amignon/Projets/upec-introduction-to-ai/shared_notebooks/venv/lib/python3.10/site-packages (from stack-data->ipython>=7.23.1->ipykernel->jupyter->-r initiation-to-ia/requirements.txt (line 9)) (1.2.0)\n",
      "Requirement already satisfied: idna>=2.8 in /home/amignon/Projets/upec-introduction-to-ai/shared_notebooks/venv/lib/python3.10/site-packages (from anyio<4,>=3.1.0->jupyter-server>=1.8->nbclassic>=0.4.7->notebook->jupyter->-r initiation-to-ia/requirements.txt (line 9)) (3.4)\n",
      "Requirement already satisfied: sniffio>=1.1 in /home/amignon/Projets/upec-introduction-to-ai/shared_notebooks/venv/lib/python3.10/site-packages (from anyio<4,>=3.1.0->jupyter-server>=1.8->nbclassic>=0.4.7->notebook->jupyter->-r initiation-to-ia/requirements.txt (line 9)) (1.3.0)\n",
      "Requirement already satisfied: pycparser in /home/amignon/Projets/upec-introduction-to-ai/shared_notebooks/venv/lib/python3.10/site-packages (from cffi>=1.0.1->argon2-cffi-bindings->argon2-cffi->notebook->jupyter->-r initiation-to-ia/requirements.txt (line 9)) (2.21)\n"
     ]
    }
   ],
   "source": [
    "! pip install -r \"initiation-to-ia/requirements.txt\""
   ]
  },
  {
   "cell_type": "markdown",
   "id": "aaf81946",
   "metadata": {},
   "source": [
    "## Evaluation des performances\n",
    "\n",
    "En apprentissage automatique, il est important de tester les capacités de généralisation d'un modèle, c'est-à-dire, sa capaciter à émettre des prédictions correctes sur des données non vues durant la phase d'apprentissage.\n",
    "\n",
    "Disposant d'une quantité plus ou moins limités d'exemple, il va donc s'agir d'exploiter au mieux les données disponibles. Le principe de base étant de garder des échantillons de données hors du jeu d'apprentissage afin d'évaluer la performances sur ces échantillons.\n",
    "\n",
    "Différentes façons de faire sont possibles avec leurs avantages et leurs inconvénients.\n",
    "\n",
    "\n",
    "### Séparation entrainement / test (train/test split)\n",
    "\n",
    "La stratégie la plus simple consiste bien sûr à séparer les échantillons d'exemple en deux jeux de donnés fixes."
   ]
  },
  {
   "cell_type": "code",
   "execution_count": 5,
   "id": "f5a8d031",
   "metadata": {
    "ExecuteTime": {
     "end_time": "2022-11-28T13:54:47.313449Z",
     "start_time": "2022-11-28T13:54:44.201559Z"
    }
   },
   "outputs": [],
   "source": [
    "from sklearn.model_selection import train_test_split\n",
    "from matplotlib.cm import cmaps_listed\n",
    "import numpy as np\n",
    "import pandas as pd\n",
    "import matplotlib.pyplot as plt\n",
    "import warnings\n",
    "warnings.filterwarnings(\"ignore\")"
   ]
  },
  {
   "cell_type": "markdown",
   "id": "5a2f42ea",
   "metadata": {},
   "source": [
    "La méthode du train / test split n'a pas d'object de cross-validation dédié. Le code suivant implémente l'interface des cross-valideurs pour être utilisé comme les autres stratégies."
   ]
  },
  {
   "cell_type": "code",
   "execution_count": 6,
   "id": "eb93c941",
   "metadata": {
    "ExecuteTime": {
     "end_time": "2022-11-28T13:54:47.473715Z",
     "start_time": "2022-11-28T13:54:47.319055Z"
    },
    "hide_input": false
   },
   "outputs": [],
   "source": [
    "class TrainTestSplit:\n",
    "    def __init__(self, stratified=False, **kwargs):\n",
    "        self.kwargs = kwargs\n",
    "        self.stratified = stratified\n",
    "    \n",
    "    def split(self, X, y, groups=None):\n",
    "        kwargs = self.kwargs\n",
    "        if self.stratified:\n",
    "            if \"shuffle\" in kwargs and kwargs[\"shuffle\"] is False:\n",
    "                itrain = []\n",
    "                itest = []\n",
    "\n",
    "                for c in np.unique(y):\n",
    "                    c_train, c_test = train_test_split(np.where(y == c)[0], **kwargs)\n",
    "                    itrain.append(c_train)\n",
    "                    itest.append(c_test)\n",
    "                itrain = np.hstack(itrain)\n",
    "                itest = np.hstack(itest)\n",
    "                return [(itrain, itest)]\n",
    "    \n",
    "            kwargs = {**kwargs, \"stratify\": y}\n",
    "        return [train_test_split(np.arange(len(X)), **kwargs)]"
   ]
  },
  {
   "cell_type": "markdown",
   "id": "140a3d1a",
   "metadata": {},
   "source": [
    "Ci-dessous on a le code de la fonction qui permet d'afficher les indices appartenant aux différentes partitions du jeu de données. C'est une adaptation de la fonction donnée sur le site de scikit-learn."
   ]
  },
  {
   "cell_type": "code",
   "execution_count": 7,
   "id": "abc50b9a",
   "metadata": {
    "ExecuteTime": {
     "end_time": "2022-11-28T13:54:47.510136Z",
     "start_time": "2022-11-28T13:54:47.482191Z"
    },
    "hide_input": false
   },
   "outputs": [],
   "source": [
    "from matplotlib.patches import Patch\n",
    "\n",
    "cmap_data = plt.cm.Paired\n",
    "cmap_cv = plt.cm.coolwarm\n",
    "\n",
    "\n",
    "def plot_cv_indices(cv, X, y=None, ax=None, lw=10):\n",
    "    \"\"\"Create a sample plot for indices of a cross-validation object.\"\"\"\n",
    "\n",
    "    # Generate the training/testing visualizations for each CV split\n",
    "    if ax is None:\n",
    "        ax = plt.gca()\n",
    "\n",
    "    for ii, (tr, tt) in enumerate(cv.split(X, y)):\n",
    "        # Fill in indices with the training/test groups\n",
    "        indices = np.array([np.nan] * len(X))\n",
    "        indices[tt] = 1\n",
    "        indices[tr] = 0\n",
    "\n",
    "        # Visualize the results\n",
    "        ax.scatter(\n",
    "            range(len(indices)),\n",
    "            [ii + 0.5] * len(indices),\n",
    "            c=indices,\n",
    "            marker=\"_\",\n",
    "            lw=lw,\n",
    "            cmap=cmap_cv,\n",
    "            vmin=-0.2,\n",
    "            vmax=1.2,\n",
    "        )\n",
    "    n_splits = ii + 1\n",
    "    \n",
    "    if y is not None:\n",
    "        # Plot the data classes and groups at the end\n",
    "        ax.scatter(\n",
    "            range(len(X)), [ii + 1.5] * len(X), c=y, marker=\"_\", lw=lw, cmap=cmap_data\n",
    "        )\n",
    "\n",
    "    # Formatting\n",
    "    yticklabels = (list(range(n_splits)) if n_splits > 1 else [\"\"]) + ([] if y is None else [\"class\"])\n",
    "    ax.set(\n",
    "        yticks=np.arange(n_splits + (0 if y is None else 1)) + 0.5,\n",
    "        yticklabels=yticklabels,\n",
    "        xlabel=\"Sample index\",\n",
    "        ylabel=\"CV iteration\" if n_splits > 1 else \"\",\n",
    "        ylim=[n_splits + (0 if y is None else 1) + 0.2, -0.2],\n",
    "        xlim=[0, 100]\n",
    "    )\n",
    "    ax.set_title(\"{}\".format(type(cv).__name__), fontsize=15)\n",
    "    ax.legend(\n",
    "        [Patch(color=cmap_cv(0.8)), Patch(color=cmap_cv(0.02))],\n",
    "        [\"Testing set\", \"Training set\"],\n",
    "        loc=(1.02, 0.8),\n",
    "    )\n",
    "    return ax"
   ]
  },
  {
   "cell_type": "markdown",
   "id": "ab92a475",
   "metadata": {},
   "source": [
    "La stratégie la plus simple consiste à garder un certain nombre de poitns pour l'évaluation de la performance, c'est **le jeu de test** et d'utiliser le reste du jeu de données pour entrainer le modèle, on parle de **jeu d'entrainement**.\n",
    "\n",
    "Dans la figure qui suit on représente les indices des points de données et on montre en bleu les points attribués au jeu d'entrainement et en rouge ceux attribués au jeu de test."
   ]
  },
  {
   "cell_type": "code",
   "execution_count": 8,
   "id": "f79d1d5b",
   "metadata": {
    "ExecuteTime": {
     "end_time": "2022-11-28T13:54:48.260065Z",
     "start_time": "2022-11-28T13:54:47.518070Z"
    }
   },
   "outputs": [
    {
     "data": {
      "image/png": "[encoded data removed]",
      "text/plain": [
       "<Figure size 640x480 with 1 Axes>"
      ]
     },
     "metadata": {},
     "output_type": "display_data"
    }
   ],
   "source": [
    "from sklearn.utils import check_random_state\n",
    "\n",
    "rng = check_random_state(1)\n",
    "\n",
    "n_points = 100\n",
    "X = rng.randn(100, 10)\n",
    "\n",
    "percentiles_classes = [0.1, 0.3, 0.6]\n",
    "y = np.hstack([[ii] * int(100 * perc) for ii, perc in enumerate(percentiles_classes)])\n",
    "\n",
    "cv = TrainTestSplit(shuffle=False, stratified=False, test_size=0.25)\n",
    "plot_cv_indices(cv, X, None);"
   ]
  },
  {
   "cell_type": "markdown",
   "id": "138fb402",
   "metadata": {
    "ExecuteTime": {
     "end_time": "2022-11-25T11:18:12.200712Z",
     "start_time": "2022-11-25T11:18:12.184426Z"
    }
   },
   "source": [
    "On peut également choisir les points aléatoirement pour éviter certains biais liés à l'ordonnancement des points dans le jeu de données :"
   ]
  },
  {
   "cell_type": "code",
   "execution_count": 9,
   "id": "d474bc84",
   "metadata": {
    "ExecuteTime": {
     "end_time": "2022-11-28T13:54:48.782341Z",
     "start_time": "2022-11-28T13:54:48.272713Z"
    }
   },
   "outputs": [
    {
     "data": {
      "image/png": "[encoded data removed]",
      "text/plain": [
       "<Figure size 640x480 with 1 Axes>"
      ]
     },
     "metadata": {},
     "output_type": "display_data"
    }
   ],
   "source": [
    "cv = TrainTestSplit(shuffle=True, stratified=False, test_size=0.25, random_state=5)\n",
    "plot_cv_indices(cv, X, None);"
   ]
  },
  {
   "cell_type": "markdown",
   "id": "89d9ed93",
   "metadata": {},
   "source": [
    "Dans le cas d'un problème de classification, il faut s'assurer que les classes soient soit correctement représentées en train et en test, notamment en cas de déséquilbrage entre classes.\n",
    "\n",
    "Dans l'exemple qui suit, la ligne inférieur montre la répartition des points en trois classes. On voit que la première classe se retrouve sans représentants dans le jeu de test."
   ]
  },
  {
   "cell_type": "code",
   "execution_count": 10,
   "id": "ab6b8e64",
   "metadata": {
    "ExecuteTime": {
     "end_time": "2022-11-28T13:54:49.317652Z",
     "start_time": "2022-11-28T13:54:48.787902Z"
    }
   },
   "outputs": [
    {
     "data": {
      "image/png": "[encoded data removed]",
      "text/plain": [
       "<Figure size 640x480 with 1 Axes>"
      ]
     },
     "metadata": {},
     "output_type": "display_data"
    }
   ],
   "source": [
    "cv = TrainTestSplit(shuffle=True, stratified=False, test_size=0.25, random_state=5)\n",
    "plot_cv_indices(cv, X, y);"
   ]
  },
  {
   "cell_type": "markdown",
   "id": "6484b97a",
   "metadata": {},
   "source": [
    "La stratégie habituellement utilisée consiste à la séparation (aléatoire ou non) indépendamment pour chaque classe. On appelle cette procédure la **stratification**.\n",
    "\n",
    "L'exemple suivant illustre une stratification sans mélange :"
   ]
  },
  {
   "cell_type": "code",
   "execution_count": 11,
   "id": "2cff3c5a",
   "metadata": {
    "ExecuteTime": {
     "end_time": "2022-11-28T13:54:49.892766Z",
     "start_time": "2022-11-28T13:54:49.324274Z"
    }
   },
   "outputs": [
    {
     "data": {
      "image/png": "[encoded data removed]",
      "text/plain": [
       "<Figure size 640x480 with 1 Axes>"
      ]
     },
     "metadata": {},
     "output_type": "display_data"
    }
   ],
   "source": [
    "cv = TrainTestSplit(shuffle=False, stratified=True, test_size=0.25)\n",
    "plot_cv_indices(cv, X, y);"
   ]
  },
  {
   "cell_type": "markdown",
   "id": "23471228",
   "metadata": {},
   "source": [
    "L'exemple suivant correspond à une stratification avec tirage aléatoire :"
   ]
  },
  {
   "cell_type": "code",
   "execution_count": 12,
   "id": "c4e5651a",
   "metadata": {
    "ExecuteTime": {
     "end_time": "2022-11-28T13:54:50.401275Z",
     "start_time": "2022-11-28T13:54:49.897681Z"
    }
   },
   "outputs": [
    {
     "data": {
      "image/png": "[encoded data removed]",
      "text/plain": [
       "<Figure size 640x480 with 1 Axes>"
      ]
     },
     "metadata": {},
     "output_type": "display_data"
    }
   ],
   "source": [
    "cv = TrainTestSplit(shuffle=True, stratified=True, test_size=0.25, random_state=5)\n",
    "plot_cv_indices(cv, X, y);"
   ]
  },
  {
   "cell_type": "markdown",
   "id": "98931ed9",
   "metadata": {},
   "source": [
    "Avec cette stratégie d'évaluation, le score n'est calculé que sur sous-partie des données et n'est peut-être pas représentatif du score obtenu sur de nouvelles données. Plus la taille du jeu de test est importante plus le score pourrait être représentatif mais en même temps plus la taille du jeu d'entrainement diminue plus la performance attendue du modèle se dégrade.\n",
    "\n",
    "Un équilibre doit donc être trouvé afin d'avoir à la fois un modèle proche de celui entrainé sur le jeu de données complet et une mesure de performance représentative."
   ]
  },
  {
   "cell_type": "markdown",
   "id": "f03106b3",
   "metadata": {},
   "source": [
    "### Validation à K sous-ensembles (K-fold cross validation)\n",
    "\n",
    "La stratégie de validation croisée à K sous-ensemble tente de résoudre le problème de la fiabilité de la mesure de performance. L'idée est que tous les points du jeu de données seront utilisés pour l'évaluation.\n",
    "\n",
    "Pour cela on sépare le jeu de données en K sous-ensembles et chaque sous ensemble est utilisé à tour de rôle comme jeu de test le reste des données étant utilisée pour entrainer un modèle.\n",
    "\n",
    "On va donc entrainer K modèles.\n",
    "\n",
    "La stratégie est illustrée dans la figure suivante :"
   ]
  },
  {
   "cell_type": "code",
   "execution_count": 13,
   "id": "7d4d7775",
   "metadata": {
    "ExecuteTime": {
     "end_time": "2022-11-28T13:54:51.024770Z",
     "start_time": "2022-11-28T13:54:50.409245Z"
    }
   },
   "outputs": [
    {
     "data": {
      "image/png": "[encoded data removed]",
      "text/plain": [
       "<Figure size 640x480 with 1 Axes>"
      ]
     },
     "metadata": {},
     "output_type": "display_data"
    }
   ],
   "source": [
    "from sklearn.model_selection import KFold\n",
    "cv = KFold(n_splits=4)\n",
    "plot_cv_indices(cv, X, None);"
   ]
  },
  {
   "cell_type": "markdown",
   "id": "97f73e65",
   "metadata": {},
   "source": [
    "Le même principe peut être appliqué avec une stratification par classe dans le cas d'un problème de classification :"
   ]
  },
  {
   "cell_type": "code",
   "execution_count": 14,
   "id": "f8d16778",
   "metadata": {
    "ExecuteTime": {
     "end_time": "2022-11-28T13:54:51.675564Z",
     "start_time": "2022-11-28T13:54:51.030392Z"
    }
   },
   "outputs": [
    {
     "data": {
      "image/png": "[encoded data removed]",
      "text/plain": [
       "<Figure size 640x480 with 1 Axes>"
      ]
     },
     "metadata": {},
     "output_type": "display_data"
    }
   ],
   "source": [
    "from sklearn.model_selection import StratifiedKFold\n",
    "cv = StratifiedKFold(n_splits=4)\n",
    "plot_cv_indices(cv, X, y);"
   ]
  },
  {
   "cell_type": "markdown",
   "id": "ad60dc6e",
   "metadata": {},
   "source": [
    "Et le choix peut-être effectué aléatoirement pour chaque classe :"
   ]
  },
  {
   "cell_type": "code",
   "execution_count": 15,
   "id": "998b64fb",
   "metadata": {
    "ExecuteTime": {
     "end_time": "2022-11-28T13:54:52.286165Z",
     "start_time": "2022-11-28T13:54:51.679511Z"
    }
   },
   "outputs": [
    {
     "data": {
      "image/png": "[encoded data removed]",
      "text/plain": [
       "<Figure size 640x480 with 1 Axes>"
      ]
     },
     "metadata": {},
     "output_type": "display_data"
    }
   ],
   "source": [
    "from sklearn.model_selection import StratifiedKFold\n",
    "cv = StratifiedKFold(n_splits=4, shuffle=True, random_state=1)\n",
    "plot_cv_indices(cv, X, y);"
   ]
  },
  {
   "cell_type": "markdown",
   "id": "b95fa280",
   "metadata": {},
   "source": [
    "Cette stratégie résoud donc le problème de la représentativité du score de performance car tous les points sont utilisés pour l'estimation de cette performance.\n",
    "\n",
    "Le choix du nombre de sous-ensembles reste important car plus le nombre de sous-ensemble est grand, plus la taille du jeu d'entrainement est proche de la taille du jeu complet et plus les modèles entrainés auront des performances proches.\n",
    "\n",
    "Un compromis doit toutefois être tranché pour éviter d'avoir à entrainer un nombre de modèles trop important."
   ]
  },
  {
   "cell_type": "markdown",
   "id": "d51cc618",
   "metadata": {},
   "source": [
    "## Optimisation des hyper-paramètres et évaluation de performance\n",
    "\n",
    "Les hyper-paramètres d'un modèle doivent être fixés avant l'entrainement mais ont une importance capitale pour la performance du modèle. Il est donc nécessaire de tester plusieurs combinaisons d'hyper-paramètre et de choisir la combinaison qui donne la meilleur mesure de performance. \n",
    "\n",
    "La procédure d'optimisation des hyper-paramètres ne devrait pas être réalisées en utilisant le jeu de données de test pour mesurer la performance faute de quoi, on peut **sur-apprendre** le jeu de donné optimal. Il est donc souhaitable de découpler la procédure d'optimisation des hyper-paramètres de l'évaluation de score finale.\n",
    "\n",
    "\n",
    "\n",
    "La figure suivante montre un choix classique de procédure d'évaluation :\n",
    "\n",
    "1. L'évaluation finale est réalisée avec une approche train / test\n",
    "2. L'optimisation des hyper-paramètres est réalisée avec une approche à K sous-ensembles.\n",
    "\n",
    "![Validation croisée avec recherche d'hyper-paramètres](https://scikit-learn.org/stable/_images/grid_search_cross_validation.png)\n",
    "\n",
    "Si la procédure d'évaluation utilisée pour choisir les hyper-paramètres implique $K$ évaluations et qu'il faut tester $P$ combinaisons d'hyper-paramètres, alors il faudra entrainer $K\\times P$ modèles, pour la procédure de sélection des hyper-paramètres.\n",
    "\n",
    "\n",
    "D'autres combinaisons sont possibles comme par exemple deux validations croisées à K sous-ensembles imbriquées. Le choix des stratégies d'évaluation étant généralement guider par le nombre d'entrainements de modèles impliqués.\n",
    "\n",
    "\n",
    "## Stratégies de recherche d'hyper-paramètres\n",
    "\n",
    "Pour trouver la meilleurs combinaison d'hyper-paramètres nous devons en essayer plusieurs et évaluer la performance obtenue avec chacune. Le choix des valeurs d'hyper-paramètres à tester est donc important et plussieurs stratégies sont possibles\n",
    "\n",
    "### Recherche par grille (grid search)\n",
    "\n",
    "Dans la recherche par grille on propose, pour chaque hyper-paramètre, un ensemble de valeurs à tester et on génère toutes les combinaisons possibles :"
   ]
  },
  {
   "cell_type": "code",
   "execution_count": 16,
   "id": "9288f90a",
   "metadata": {
    "ExecuteTime": {
     "end_time": "2022-11-28T13:54:52.312603Z",
     "start_time": "2022-11-28T13:54:52.290806Z"
    }
   },
   "outputs": [
    {
     "data": {
      "text/plain": [
       "[{'param1': 1.0, 'param2': 5, 'param3': 'a'},\n",
       " {'param1': 1.0, 'param2': 5, 'param3': 'b'},\n",
       " {'param1': 1.0, 'param2': 7, 'param3': 'a'},\n",
       " {'param1': 1.0, 'param2': 7, 'param3': 'b'},\n",
       " {'param1': 2.0, 'param2': 5, 'param3': 'a'},\n",
       " {'param1': 2.0, 'param2': 5, 'param3': 'b'},\n",
       " {'param1': 2.0, 'param2': 7, 'param3': 'a'},\n",
       " {'param1': 2.0, 'param2': 7, 'param3': 'b'},\n",
       " {'param1': 3.0, 'param2': 5, 'param3': 'a'},\n",
       " {'param1': 3.0, 'param2': 5, 'param3': 'b'},\n",
       " {'param1': 3.0, 'param2': 7, 'param3': 'a'},\n",
       " {'param1': 3.0, 'param2': 7, 'param3': 'b'}]"
      ]
     },
     "execution_count": 16,
     "metadata": {},
     "output_type": "execute_result"
    }
   ],
   "source": [
    "from itertools import product\n",
    "\n",
    "param_grid = {\n",
    "    \"param1\": [1.0, 2.0, 3.0],\n",
    "    \"param2\": [5, 7],\n",
    "    \"param3\": [\"a\", \"b\"]\n",
    "}\n",
    "\n",
    "[dict(zip(param_grid.keys(), values)) for values in product(*param_grid.values())]"
   ]
  },
  {
   "cell_type": "markdown",
   "id": "3b5a4a18",
   "metadata": {},
   "source": [
    "Les choix des valeurs à tester reste toutefois arbitraire et est souvent guidé par des essais manuels préalables.\n",
    "\n",
    "Le nombre de combinaisons à tester peut donc rapidement exploser en fonction du nombre de paramètres et du nombre de valeurs proposées.\n",
    "\n",
    "Avec $N_p$ paramètres et $n_i$ valeurs à tester pour le paramètre $i$ on a donc un nombre de combinaisons à tester $P$ :\n",
    "\n",
    "$$ P = \\prod_{i=1}^{N_p} p_i = p_1 \\times \\dots \\times p_{N_p}$$"
   ]
  },
  {
   "cell_type": "markdown",
   "id": "54881a7e",
   "metadata": {},
   "source": [
    "### Recherche aléatoire (randomized search)\n",
    "\n",
    "Dans une recherche aléatoire on donne une distribution pour chacun des hyper-paramètres. Le nombre de combinaisons $P$ à tester est alors fixé et pour chaque combinaison on tire aléatoirement une valeur de chaque hyper-paramètre depuis la distribution associée :"
   ]
  },
  {
   "cell_type": "code",
   "execution_count": 17,
   "id": "995ce393",
   "metadata": {
    "ExecuteTime": {
     "end_time": "2022-11-28T13:54:52.368229Z",
     "start_time": "2022-11-28T13:54:52.320618Z"
    },
    "scrolled": true
   },
   "outputs": [
    {
     "data": {
      "text/plain": [
       "[{'param1': 0.6824078427098832, 'param2': 0, 'param3': 'b'},\n",
       " {'param1': 2.1852044366982226, 'param2': 1, 'param3': 'a'},\n",
       " {'param1': 0.2563920173316309, 'param2': 0, 'param3': 'a'},\n",
       " {'param1': 3.6039476397777395, 'param2': 1, 'param3': 'b'},\n",
       " {'param1': 5.659503131926904, 'param2': 1, 'param3': 'a'},\n",
       " {'param1': 3.6866248434672557, 'param2': 0, 'param3': 'c'},\n",
       " {'param1': 9.499968774647312, 'param2': 0, 'param3': 'a'},\n",
       " {'param1': 0.8679147174590263, 'param2': 1, 'param3': 'b'},\n",
       " {'param1': 0.1469758596743518, 'param2': 2, 'param3': 'a'},\n",
       " {'param1': 0.16020234085819765, 'param2': 0, 'param3': 'a'}]"
      ]
     },
     "execution_count": 17,
     "metadata": {},
     "output_type": "execute_result"
    }
   ],
   "source": [
    "from scipy.stats import loguniform, nbinom, uniform, multinomial, randint\n",
    "\n",
    "class multinomial_uniform:\n",
    "    def __init__(self, values):\n",
    "        self.values = np.array(values)\n",
    "        self.uniform = randint(0, len(values))\n",
    "\n",
    "    def rvs(self, *args, size=None, **kwargs):\n",
    "        return self.values[\n",
    "            self.uniform.rvs(*args, **kwargs)\n",
    "        ]\n",
    "\n",
    "param_distribs = {\n",
    "    \"param1\": loguniform(0.1, 10.),\n",
    "    \"param2\": nbinom(2.0, 0.7),\n",
    "    \"param3\": multinomial_uniform([\"a\", \"b\", \"c\"])\n",
    "}\n",
    "\n",
    "np.random.seed(1)\n",
    "\n",
    "n_iter = 10\n",
    "params = [\n",
    "    {name: dist.rvs() for name, dist in param_distribs.items()}\n",
    "    for _ in range(n_iter)\n",
    "]\n",
    "params"
   ]
  },
  {
   "cell_type": "markdown",
   "id": "e6aafd97",
   "metadata": {},
   "source": [
    "### Optimisation Bayésienne\n",
    "\n",
    "La recherche aléatoire permet de mieux explorer l'espace des hyper-paramètres mais n'exploite pas la connaissance acquise par les différents essais succéssifs.\n",
    "\n",
    "Intuitivement, on se dit qu'une bonne stratégie d'exploration devrait explorer en priorité :\n",
    "\n",
    "* les zones non déjà explorées\n",
    "* les zones donnant déjà de bon résultats\n",
    "\n",
    "L'optimisation bayésienne cherche à atteindre ce type de stratégies en construisant au fur et à mesure des essais une approximation de la fonction liant les hyper-paramètres au score de performance. Une des spécificité est que cette approximation est données sous forme d'une distribution qui reflète l'incertitude sur le score attendu pour un jeu d'hyper-paramètres donné.\n",
    "\n",
    "Dans le panel du haut de l'illustration suivante on montre :\n",
    "\n",
    "* la vraie fonction de score simulée:  ligne noire\n",
    "* les points déjà évalués : point noires\n",
    "* l'approximation courante avec :\n",
    "    * sa valeur moyenne : ligne violette épaisse\n",
    "    * sa distribution : gradient violet\n",
    "    * une limite haute de l'estimation de la \n",
    "    \n",
    "Cette **distribution prédictive** peut alors être exploitée de diverse manière qui correspondent aux trois graphes du dessous. Le losange jaune montrant pour chacune des méthodes la proposition du modèle.\n",
    "\n",
    "Les trois critères montrés sont :\n",
    "\n",
    "* L'amélioration espérée au sens de l'espérance mathématique\n",
    "* La limite haute de confiance correspond à un certain quantile (haut) de la distribution\n",
    "* La probabilité d'amélioration\n",
    "\n",
    "\n",
    "![Optimisation Bayésienne](https://upload.wikimedia.org/wikipedia/commons/0/02/GpParBayesAnimationSmall.gif)"
   ]
  },
  {
   "cell_type": "markdown",
   "id": "0a000e3e",
   "metadata": {},
   "source": [
    "## Titanic\n",
    "\n",
    "Nous allons maintenant appliquer ces méthodes sur les données Titanic.\n",
    "Commençons par charger les données :"
   ]
  },
  {
   "cell_type": "code",
   "execution_count": 18,
   "id": "de14975a",
   "metadata": {
    "ExecuteTime": {
     "end_time": "2022-11-28T13:54:52.425250Z",
     "start_time": "2022-11-28T13:54:52.375181Z"
    }
   },
   "outputs": [],
   "source": [
    "import pandas as pd\n",
    "\n",
    "df = pd.read_csv(DATA_FILE).dropna()\n",
    "# On garde d'un côté les variables explicatives\n",
    "# On retire donc la variables cibles mais aussi les identifiants\n",
    "# ainsi que deux colonnes non-informatives (Nom et numéro de tickets)\n",
    "X = df.drop([\"PassengerId\", \"Name\", \"Ticket\", \"Survived\"], axis=1)\n",
    "# On récupère la cible\n",
    "y = df.Survived"
   ]
  },
  {
   "cell_type": "markdown",
   "id": "c12d6f85",
   "metadata": {},
   "source": [
    "On identifie les colonnes catégorielles qui nécessitent un traitement spécifique :"
   ]
  },
  {
   "cell_type": "code",
   "execution_count": 19,
   "id": "4817e120",
   "metadata": {
    "ExecuteTime": {
     "end_time": "2022-11-28T13:54:52.446760Z",
     "start_time": "2022-11-28T13:54:52.433143Z"
    }
   },
   "outputs": [],
   "source": [
    "# Les colonnes encoder comme des chaines de caractères sont\n",
    "# considérées comme catégorielles\n",
    "\n",
    "cat_columns = [c for c in X.columns if X.dtypes[c] == \"object\"]"
   ]
  },
  {
   "cell_type": "markdown",
   "id": "ba29ef45",
   "metadata": {},
   "source": [
    "### Le protocol d'évaluation\n",
    "\n",
    "Nous allon utilisée le protocole décrit plus haut :\n",
    "\n",
    "1. Une séparation entrainement / test pour l'évaluation finale\n",
    "2. Une validation croisée à 4 sous-ensembles pour la sélection des hyper-paramètres\n",
    "\n",
    "Puisqu'il s'agit d'un problème de classificatoin nous allons recourrir à la stratification pour assurer l'iso-répartition des classes entre les jeux d'entrainement et de test.\n"
   ]
  },
  {
   "cell_type": "code",
   "execution_count": 20,
   "id": "060e30e4",
   "metadata": {
    "ExecuteTime": {
     "end_time": "2022-11-28T13:54:52.478611Z",
     "start_time": "2022-11-28T13:54:52.456293Z"
    }
   },
   "outputs": [],
   "source": [
    "from sklearn.model_selection import train_test_split, StratifiedKFold\n",
    "from sklearn.utils import check_random_state\n",
    "\n",
    "# Séparation entrainement / test pour l'évaluation finale\n",
    "Xtrain, Xtest, ytrain, ytest = train_test_split(X, y, shuffle=True, stratify=y, random_state=1)\n",
    "\n",
    "# Validation croisée stratifiée à 4 sous-ensembles pour la recherche d'hyper-paramètres\n",
    "cv = StratifiedKFold(n_splits=4, shuffle=True, random_state=2)\n",
    "\n",
    "# On peut utiliser plusieurs processeurs si disponibles\n",
    "n_jobs=5"
   ]
  },
  {
   "cell_type": "markdown",
   "id": "8968ce53",
   "metadata": {},
   "source": [
    "### Les modèles\n",
    "\n",
    "#### Classification linéaire\n",
    "\n",
    "Nous allons tester un modèle de classification linéaire. Le plus courant est le modèle de régression logistique. Toutefois nous allons d'abord procéder à quelques prétraitements :\n",
    "\n",
    "* numériser les variables catégorielles avec l'encodage de cible\n",
    "* effectuer une expansion polynomiale pour capturer d'éventuelles relations non linéaires\n",
    "* standardiser (retirer la moyenne et diviser par l'écart-type) les variables pour qu'elles aient toutes la même échelle.\n",
    "\n",
    "Pour cela nous pouvons utiliser un `Pipeline`. Ceci nous permet de grouper en un seul object, des étapes de prétraitement et un modèle supervisé :"
   ]
  },
  {
   "cell_type": "code",
   "execution_count": 21,
   "id": "7611fec7",
   "metadata": {
    "ExecuteTime": {
     "end_time": "2022-11-28T13:54:52.733171Z",
     "start_time": "2022-11-28T13:54:52.486459Z"
    }
   },
   "outputs": [],
   "source": [
    "from sklearn.linear_model import LogisticRegression\n",
    "from sklearn.pipeline import Pipeline\n",
    "from sklearn.preprocessing import PolynomialFeatures, StandardScaler\n",
    "from category_encoders import TargetEncoder\n",
    "\n",
    "logist_model = Pipeline([\n",
    "    (\"cat_enc\", TargetEncoder(cols=cat_columns, min_samples_leaf=5, smoothing=1.0)),\n",
    "    (\"poly\", PolynomialFeatures(include_bias=False)),\n",
    "    (\"std\", StandardScaler()),\n",
    "    (\"clf\", LogisticRegression(max_iter=1000, verbose=0))\n",
    "])"
   ]
  },
  {
   "cell_type": "markdown",
   "id": "3892acc2",
   "metadata": {},
   "source": [
    "Notez la manière de déclarer les éléments de la chaîne de traitement sous forme de tuples avec un nom et l'estimateur ensuite.\n",
    "\n",
    "Ceci nous permettra, lors de la recherche des hyper-paramètres, d'adresser les hyper-paramètres de n'importe quel élément de la chaine."
   ]
  },
  {
   "cell_type": "markdown",
   "id": "3a836fc8",
   "metadata": {},
   "source": [
    "#### Classification par arbre de décision\n",
    "\n",
    "Les arbres de décision sont naturellement capables de capturer les relations non-linéaires et sont insensibles aux transformations monotones des variables. La seule étape de prétraitement nécessaire sera donc l'encodage des données catégorielles :"
   ]
  },
  {
   "cell_type": "code",
   "execution_count": 22,
   "id": "ee1949a2",
   "metadata": {
    "ExecuteTime": {
     "end_time": "2022-11-28T13:54:52.850548Z",
     "start_time": "2022-11-28T13:54:52.740519Z"
    }
   },
   "outputs": [],
   "source": [
    "from sklearn.ensemble import RandomForestClassifier\n",
    "\n",
    "tree_model = Pipeline([\n",
    "    (\"cat_enc\", TargetEncoder(cols=cat_columns)),\n",
    "    (\"clf\", RandomForestClassifier())\n",
    "])"
   ]
  },
  {
   "cell_type": "markdown",
   "id": "0bd1eee4",
   "metadata": {},
   "source": [
    "#### CatBoost\n",
    "\n",
    "CatBoost est une variante de gradient boosting embarquant un traitement spécifique des données catégorielles (le \"Cat\" de \"CatBoost\"). Pour rappel les modèles de gradient boosting construise de manière itérative un ensemble de modèles, le plus souvent des arbres de décision, dont la tâche est de corriger les erreurs du modèles précédent.\n",
    "\n",
    "Basés sur les arbres de décision, le modèle CatBoost :\n",
    "\n",
    "* peut capturer les relations non-linéaires\n",
    "* est insensibles aux transformations monotones des variables\n",
    "* est capable de gérer les variables catégorielles\n",
    "\n",
    "Il peut donc être utilisé directement sans l'inclure dans un `Pipeline`:"
   ]
  },
  {
   "cell_type": "code",
   "execution_count": 23,
   "id": "d3361aec",
   "metadata": {
    "ExecuteTime": {
     "end_time": "2022-11-28T13:54:53.046957Z",
     "start_time": "2022-11-28T13:54:52.858183Z"
    }
   },
   "outputs": [],
   "source": [
    "from catboost import  CatBoostClassifier\n",
    "\n",
    "boost_model = CatBoostClassifier(cat_features=cat_columns, verbose=False)"
   ]
  },
  {
   "cell_type": "markdown",
   "id": "e2900535",
   "metadata": {},
   "source": [
    "### La recherche par grille (grid search)\n",
    "\n",
    "La recherche par grille consiste à affecter, pour chaque hyper-paramètre inspecté, une liste de valeurs à tester. Le choix des valeurs reste plus ou moins arbitraires. Une pratique courante consiste à faire une première recherche \"à la main\" pour trouver un ensemble de paramètres qui semble bien fonctionner, et ensuite de scanner autour des valeurs trouvées.\n",
    "\n",
    "Le code ci-dessous montre les valeurs de paramètres testées pour un sous-ensembles d'hyper-paramètres (ceux connus pour être important pour le score final).\n",
    "\n",
    "#### Modèle linéaire\n",
    "\n",
    "Le modèle linéaire est donc en fait composé de plusieurs étapes, dont certaines ont également des paramètres à déterminer.\n",
    "\n",
    "L'encodage des données catégorielles est réalisée par encodage de la cible, c'est à dire que basiquement on va\n",
    "calculer la moyenne de la cible pour tous les points "
   ]
  },
  {
   "cell_type": "code",
   "execution_count": 24,
   "id": "eb1da807",
   "metadata": {
    "ExecuteTime": {
     "end_time": "2022-11-28T13:54:53.062897Z",
     "start_time": "2022-11-28T13:54:53.054581Z"
    }
   },
   "outputs": [],
   "source": [
    "logist_param_grid = {\n",
    "    \"cat_enc__smoothing\": [0.5, 1.0, 5.0],\n",
    "    \"cat_enc__min_samples_leaf\": [5, 10, 20],\n",
    "    \"poly__degree\": [2, 3, 4],\n",
    "    \"clf__C\": [0.001, 0.01, 0.1]\n",
    "}"
   ]
  },
  {
   "cell_type": "markdown",
   "id": "f3893c26",
   "metadata": {},
   "source": [
    "Notez la manière de déclarer les listes de valeurs sous forme de dictionnaire (tableau associatif). Le nom du paramètres à scanner est donnée en concaténant le nom de l'élément de le pipeline et le nom du paramètre pour l'élément (avec un double \"_\" entre les deux)\n",
    "\n",
    "La recherche par grille va donc consister à tester toutes les combinaisons possibles de ces paramètres ce qui donne\n",
    "$3 \\times 3 \\times 3 \\times 3 = 81$ combinaisons possibles.\n",
    "\n",
    "On peut appliquer la recherche sur grille avec validation croisée stratifiée en utilisant l'object  `GridSearchCV` :"
   ]
  },
  {
   "cell_type": "code",
   "execution_count": 25,
   "id": "9fc614e6",
   "metadata": {
    "ExecuteTime": {
     "end_time": "2022-11-28T13:55:16.256688Z",
     "start_time": "2022-11-28T13:54:53.070539Z"
    }
   },
   "outputs": [
    {
     "data": {
      "text/html": [
       "<style>#sk-container-id-1 {color: black;background-color: white;}#sk-container-id-1 pre{padding: 0;}#sk-container-id-1 div.sk-toggleable {background-color: white;}#sk-container-id-1 label.sk-toggleable__label {cursor: pointer;display: block;width: 100%;margin-bottom: 0;padding: 0.3em;box-sizing: border-box;text-align: center;}#sk-container-id-1 label.sk-toggleable__label-arrow:before {content: \"▸\";float: left;margin-right: 0.25em;color: #696969;}#sk-container-id-1 label.sk-toggleable__label-arrow:hover:before {color: black;}#sk-container-id-1 div.sk-estimator:hover label.sk-toggleable__label-arrow:before {color: black;}#sk-container-id-1 div.sk-toggleable__content {max-height: 0;max-width: 0;overflow: hidden;text-align: left;background-color: #f0f8ff;}#sk-container-id-1 div.sk-toggleable__content pre {margin: 0.2em;color: black;border-radius: 0.25em;background-color: #f0f8ff;}#sk-container-id-1 input.sk-toggleable__control:checked~div.sk-toggleable__content {max-height: 200px;max-width: 100%;overflow: auto;}#sk-container-id-1 input.sk-toggleable__control:checked~label.sk-toggleable__label-arrow:before {content: \"▾\";}#sk-container-id-1 div.sk-estimator input.sk-toggleable__control:checked~label.sk-toggleable__label {background-color: #d4ebff;}#sk-container-id-1 div.sk-label input.sk-toggleable__control:checked~label.sk-toggleable__label {background-color: #d4ebff;}#sk-container-id-1 input.sk-hidden--visually {border: 0;clip: rect(1px 1px 1px 1px);clip: rect(1px, 1px, 1px, 1px);height: 1px;margin: -1px;overflow: hidden;padding: 0;position: absolute;width: 1px;}#sk-container-id-1 div.sk-estimator {font-family: monospace;background-color: #f0f8ff;border: 1px dotted black;border-radius: 0.25em;box-sizing: border-box;margin-bottom: 0.5em;}#sk-container-id-1 div.sk-estimator:hover {background-color: #d4ebff;}#sk-container-id-1 div.sk-parallel-item::after {content: \"\";width: 100%;border-bottom: 1px solid gray;flex-grow: 1;}#sk-container-id-1 div.sk-label:hover label.sk-toggleable__label {background-color: #d4ebff;}#sk-container-id-1 div.sk-serial::before {content: \"\";position: absolute;border-left: 1px solid gray;box-sizing: border-box;top: 0;bottom: 0;left: 50%;z-index: 0;}#sk-container-id-1 div.sk-serial {display: flex;flex-direction: column;align-items: center;background-color: white;padding-right: 0.2em;padding-left: 0.2em;position: relative;}#sk-container-id-1 div.sk-item {position: relative;z-index: 1;}#sk-container-id-1 div.sk-parallel {display: flex;align-items: stretch;justify-content: center;background-color: white;position: relative;}#sk-container-id-1 div.sk-item::before, #sk-container-id-1 div.sk-parallel-item::before {content: \"\";position: absolute;border-left: 1px solid gray;box-sizing: border-box;top: 0;bottom: 0;left: 50%;z-index: -1;}#sk-container-id-1 div.sk-parallel-item {display: flex;flex-direction: column;z-index: 1;position: relative;background-color: white;}#sk-container-id-1 div.sk-parallel-item:first-child::after {align-self: flex-end;width: 50%;}#sk-container-id-1 div.sk-parallel-item:last-child::after {align-self: flex-start;width: 50%;}#sk-container-id-1 div.sk-parallel-item:only-child::after {width: 0;}#sk-container-id-1 div.sk-dashed-wrapped {border: 1px dashed gray;margin: 0 0.4em 0.5em 0.4em;box-sizing: border-box;padding-bottom: 0.4em;background-color: white;}#sk-container-id-1 div.sk-label label {font-family: monospace;font-weight: bold;display: inline-block;line-height: 1.2em;}#sk-container-id-1 div.sk-label-container {text-align: center;}#sk-container-id-1 div.sk-container {/* jupyter's `normalize.less` sets `[hidden] { display: none; }` but bootstrap.min.css set `[hidden] { display: none !important; }` so we also need the `!important` here to be able to override the default hidden behavior on the sphinx rendered scikit-learn.org. See: https://github.com/scikit-learn/scikit-learn/issues/21755 */display: inline-block !important;position: relative;}#sk-container-id-1 div.sk-text-repr-fallback {display: none;}</style><div id=\"sk-container-id-1\" class=\"sk-top-container\"><div class=\"sk-text-repr-fallback\"><pre>GridSearchCV(cv=StratifiedKFold(n_splits=4, random_state=2, shuffle=True),\n",
       "             estimator=Pipeline(steps=[(&#x27;cat_enc&#x27;,\n",
       "                                        TargetEncoder(cols=[&#x27;Sex&#x27;, &#x27;Cabin&#x27;,\n",
       "                                                            &#x27;Embarked&#x27;],\n",
       "                                                      min_samples_leaf=5)),\n",
       "                                       (&#x27;poly&#x27;,\n",
       "                                        PolynomialFeatures(include_bias=False)),\n",
       "                                       (&#x27;std&#x27;, StandardScaler()),\n",
       "                                       (&#x27;clf&#x27;,\n",
       "                                        LogisticRegression(max_iter=1000))]),\n",
       "             n_jobs=5,\n",
       "             param_grid={&#x27;cat_enc__min_samples_leaf&#x27;: [5, 10, 20],\n",
       "                         &#x27;cat_enc__smoothing&#x27;: [0.5, 1.0, 5.0],\n",
       "                         &#x27;clf__C&#x27;: [0.001, 0.01, 0.1],\n",
       "                         &#x27;poly__degree&#x27;: [2, 3, 4]})</pre><b>In a Jupyter environment, please rerun this cell to show the HTML representation or trust the notebook. <br />On GitHub, the HTML representation is unable to render, please try loading this page with nbviewer.org.</b></div><div class=\"sk-container\" hidden><div class=\"sk-item sk-dashed-wrapped\"><div class=\"sk-label-container\"><div class=\"sk-label sk-toggleable\"><input class=\"sk-toggleable__control sk-hidden--visually\" id=\"sk-estimator-id-1\" type=\"checkbox\" ><label for=\"sk-estimator-id-1\" class=\"sk-toggleable__label sk-toggleable__label-arrow\">GridSearchCV</label><div class=\"sk-toggleable__content\"><pre>GridSearchCV(cv=StratifiedKFold(n_splits=4, random_state=2, shuffle=True),\n",
       "             estimator=Pipeline(steps=[(&#x27;cat_enc&#x27;,\n",
       "                                        TargetEncoder(cols=[&#x27;Sex&#x27;, &#x27;Cabin&#x27;,\n",
       "                                                            &#x27;Embarked&#x27;],\n",
       "                                                      min_samples_leaf=5)),\n",
       "                                       (&#x27;poly&#x27;,\n",
       "                                        PolynomialFeatures(include_bias=False)),\n",
       "                                       (&#x27;std&#x27;, StandardScaler()),\n",
       "                                       (&#x27;clf&#x27;,\n",
       "                                        LogisticRegression(max_iter=1000))]),\n",
       "             n_jobs=5,\n",
       "             param_grid={&#x27;cat_enc__min_samples_leaf&#x27;: [5, 10, 20],\n",
       "                         &#x27;cat_enc__smoothing&#x27;: [0.5, 1.0, 5.0],\n",
       "                         &#x27;clf__C&#x27;: [0.001, 0.01, 0.1],\n",
       "                         &#x27;poly__degree&#x27;: [2, 3, 4]})</pre></div></div></div><div class=\"sk-parallel\"><div class=\"sk-parallel-item\"><div class=\"sk-item\"><div class=\"sk-label-container\"><div class=\"sk-label sk-toggleable\"><input class=\"sk-toggleable__control sk-hidden--visually\" id=\"sk-estimator-id-2\" type=\"checkbox\" ><label for=\"sk-estimator-id-2\" class=\"sk-toggleable__label sk-toggleable__label-arrow\">estimator: Pipeline</label><div class=\"sk-toggleable__content\"><pre>Pipeline(steps=[(&#x27;cat_enc&#x27;,\n",
       "                 TargetEncoder(cols=[&#x27;Sex&#x27;, &#x27;Cabin&#x27;, &#x27;Embarked&#x27;],\n",
       "                               min_samples_leaf=5)),\n",
       "                (&#x27;poly&#x27;, PolynomialFeatures(include_bias=False)),\n",
       "                (&#x27;std&#x27;, StandardScaler()),\n",
       "                (&#x27;clf&#x27;, LogisticRegression(max_iter=1000))])</pre></div></div></div><div class=\"sk-serial\"><div class=\"sk-item\"><div class=\"sk-serial\"><div class=\"sk-item\"><div class=\"sk-estimator sk-toggleable\"><input class=\"sk-toggleable__control sk-hidden--visually\" id=\"sk-estimator-id-3\" type=\"checkbox\" ><label for=\"sk-estimator-id-3\" class=\"sk-toggleable__label sk-toggleable__label-arrow\">TargetEncoder</label><div class=\"sk-toggleable__content\"><pre>TargetEncoder(cols=[&#x27;Sex&#x27;, &#x27;Cabin&#x27;, &#x27;Embarked&#x27;], min_samples_leaf=5)</pre></div></div></div><div class=\"sk-item\"><div class=\"sk-estimator sk-toggleable\"><input class=\"sk-toggleable__control sk-hidden--visually\" id=\"sk-estimator-id-4\" type=\"checkbox\" ><label for=\"sk-estimator-id-4\" class=\"sk-toggleable__label sk-toggleable__label-arrow\">PolynomialFeatures</label><div class=\"sk-toggleable__content\"><pre>PolynomialFeatures(include_bias=False)</pre></div></div></div><div class=\"sk-item\"><div class=\"sk-estimator sk-toggleable\"><input class=\"sk-toggleable__control sk-hidden--visually\" id=\"sk-estimator-id-5\" type=\"checkbox\" ><label for=\"sk-estimator-id-5\" class=\"sk-toggleable__label sk-toggleable__label-arrow\">StandardScaler</label><div class=\"sk-toggleable__content\"><pre>StandardScaler()</pre></div></div></div><div class=\"sk-item\"><div class=\"sk-estimator sk-toggleable\"><input class=\"sk-toggleable__control sk-hidden--visually\" id=\"sk-estimator-id-6\" type=\"checkbox\" ><label for=\"sk-estimator-id-6\" class=\"sk-toggleable__label sk-toggleable__label-arrow\">LogisticRegression</label><div class=\"sk-toggleable__content\"><pre>LogisticRegression(max_iter=1000)</pre></div></div></div></div></div></div></div></div></div></div></div></div>"
      ],
      "text/plain": [
       "GridSearchCV(cv=StratifiedKFold(n_splits=4, random_state=2, shuffle=True),\n",
       "             estimator=Pipeline(steps=[('cat_enc',\n",
       "                                        TargetEncoder(cols=['Sex', 'Cabin',\n",
       "                                                            'Embarked'],\n",
       "                                                      min_samples_leaf=5)),\n",
       "                                       ('poly',\n",
       "                                        PolynomialFeatures(include_bias=False)),\n",
       "                                       ('std', StandardScaler()),\n",
       "                                       ('clf',\n",
       "                                        LogisticRegression(max_iter=1000))]),\n",
       "             n_jobs=5,\n",
       "             param_grid={'cat_enc__min_samples_leaf': [5, 10, 20],\n",
       "                         'cat_enc__smoothing': [0.5, 1.0, 5.0],\n",
       "                         'clf__C': [0.001, 0.01, 0.1],\n",
       "                         'poly__degree': [2, 3, 4]})"
      ]
     },
     "execution_count": 25,
     "metadata": {},
     "output_type": "execute_result"
    }
   ],
   "source": [
    "from sklearn.model_selection import GridSearchCV\n",
    "\n",
    "logist_grid_cv = GridSearchCV(\n",
    "    estimator=logist_model,\n",
    "    param_grid=logist_param_grid,\n",
    "    cv=cv,\n",
    "    n_jobs=n_jobs\n",
    ")\n",
    "\n",
    "logist_grid_cv.fit(Xtrain, ytrain)"
   ]
  },
  {
   "cell_type": "markdown",
   "id": "1ee3b140",
   "metadata": {},
   "source": [
    "L'objet s'utilise comme un estimateur scikit-learn classique. En interne, il va utiliser la stratégie de validation croisée données en argument pour évaluer la performance associée à chaque combinaison d'hyper-paramètres.\n",
    "\n",
    "Puique nous utilisons une validation croisée à 4 sous-ensemble il y aura donc en tout $81\\times 4 = 324$ modèles entrainés et testés. Un 325 ème modèle sera par ailleur entrainer sur l'ensemble des données d'entrainement avec le meilleur jeu d'hyper-paramètres trouvé.\n",
    "\n",
    "Ce jeu d'hyper-paramètres est accessible par un attribut du modèle après apprentissage :"
   ]
  },
  {
   "cell_type": "code",
   "execution_count": 26,
   "id": "6b661a59",
   "metadata": {
    "ExecuteTime": {
     "end_time": "2022-11-28T13:55:16.286003Z",
     "start_time": "2022-11-28T13:55:16.268340Z"
    }
   },
   "outputs": [
    {
     "data": {
      "text/plain": [
       "{'cat_enc__min_samples_leaf': 5,\n",
       " 'cat_enc__smoothing': 1.0,\n",
       " 'clf__C': 0.1,\n",
       " 'poly__degree': 3}"
      ]
     },
     "execution_count": 26,
     "metadata": {},
     "output_type": "execute_result"
    }
   ],
   "source": [
    "logist_grid_cv.best_params_"
   ]
  },
  {
   "cell_type": "markdown",
   "id": "e41e77f4",
   "metadata": {},
   "source": [
    "On voit notamment que le degré de l'expansion polynomial ainsi que le paramètre de régularisation de la régression logistique correspondent aux limites des valeurs de la grille. Cela implique qu'une recherche au-delà de ces valeurs peut être pertinente.\n",
    "\n",
    "Nous avons alors accès au score associé à cette combinaison :"
   ]
  },
  {
   "cell_type": "code",
   "execution_count": 27,
   "id": "03a2bed7",
   "metadata": {
    "ExecuteTime": {
     "end_time": "2022-11-28T13:55:16.330649Z",
     "start_time": "2022-11-28T13:55:16.314785Z"
    }
   },
   "outputs": [
    {
     "name": "stdout",
     "output_type": "stream",
     "text": [
      "Meilleur score:  0.751890756302521\n"
     ]
    }
   ],
   "source": [
    "print(\"Meilleur score: \", logist_grid_cv.best_score_)"
   ]
  },
  {
   "cell_type": "markdown",
   "id": "9626fe89",
   "metadata": {},
   "source": [
    "Par défault, scikit-learn utilise le taux de classification correcte (accuracy). Une autre mesure de performance peut être spécifiée."
   ]
  },
  {
   "cell_type": "markdown",
   "id": "f8068257",
   "metadata": {},
   "source": [
    "#### Arbre de décision"
   ]
  },
  {
   "cell_type": "code",
   "execution_count": 28,
   "id": "bb0443e2",
   "metadata": {
    "ExecuteTime": {
     "end_time": "2022-11-28T13:55:16.357903Z",
     "start_time": "2022-11-28T13:55:16.343906Z"
    }
   },
   "outputs": [],
   "source": [
    "tree_param_grid = {\n",
    "    \"cat_enc__smoothing\": [0.5, 1.0, 5.0],\n",
    "    \"cat_enc__min_samples_leaf\": [2, 5, 10, 20],\n",
    "    \"clf__n_estimators\": [5, 10, 20, 50],\n",
    "    \"clf__max_depth\": [None, 5, 11, 21],\n",
    "    \"clf__min_samples_leaf\": [2, 5, 10, 20]\n",
    "}"
   ]
  },
  {
   "cell_type": "code",
   "execution_count": 29,
   "id": "a9281944",
   "metadata": {
    "ExecuteTime": {
     "end_time": "2022-11-28T13:58:46.524245Z",
     "start_time": "2022-11-28T13:55:16.367969Z"
    }
   },
   "outputs": [
    {
     "data": {
      "text/html": [
       "<style>#sk-container-id-2 {color: black;background-color: white;}#sk-container-id-2 pre{padding: 0;}#sk-container-id-2 div.sk-toggleable {background-color: white;}#sk-container-id-2 label.sk-toggleable__label {cursor: pointer;display: block;width: 100%;margin-bottom: 0;padding: 0.3em;box-sizing: border-box;text-align: center;}#sk-container-id-2 label.sk-toggleable__label-arrow:before {content: \"▸\";float: left;margin-right: 0.25em;color: #696969;}#sk-container-id-2 label.sk-toggleable__label-arrow:hover:before {color: black;}#sk-container-id-2 div.sk-estimator:hover label.sk-toggleable__label-arrow:before {color: black;}#sk-container-id-2 div.sk-toggleable__content {max-height: 0;max-width: 0;overflow: hidden;text-align: left;background-color: #f0f8ff;}#sk-container-id-2 div.sk-toggleable__content pre {margin: 0.2em;color: black;border-radius: 0.25em;background-color: #f0f8ff;}#sk-container-id-2 input.sk-toggleable__control:checked~div.sk-toggleable__content {max-height: 200px;max-width: 100%;overflow: auto;}#sk-container-id-2 input.sk-toggleable__control:checked~label.sk-toggleable__label-arrow:before {content: \"▾\";}#sk-container-id-2 div.sk-estimator input.sk-toggleable__control:checked~label.sk-toggleable__label {background-color: #d4ebff;}#sk-container-id-2 div.sk-label input.sk-toggleable__control:checked~label.sk-toggleable__label {background-color: #d4ebff;}#sk-container-id-2 input.sk-hidden--visually {border: 0;clip: rect(1px 1px 1px 1px);clip: rect(1px, 1px, 1px, 1px);height: 1px;margin: -1px;overflow: hidden;padding: 0;position: absolute;width: 1px;}#sk-container-id-2 div.sk-estimator {font-family: monospace;background-color: #f0f8ff;border: 1px dotted black;border-radius: 0.25em;box-sizing: border-box;margin-bottom: 0.5em;}#sk-container-id-2 div.sk-estimator:hover {background-color: #d4ebff;}#sk-container-id-2 div.sk-parallel-item::after {content: \"\";width: 100%;border-bottom: 1px solid gray;flex-grow: 1;}#sk-container-id-2 div.sk-label:hover label.sk-toggleable__label {background-color: #d4ebff;}#sk-container-id-2 div.sk-serial::before {content: \"\";position: absolute;border-left: 1px solid gray;box-sizing: border-box;top: 0;bottom: 0;left: 50%;z-index: 0;}#sk-container-id-2 div.sk-serial {display: flex;flex-direction: column;align-items: center;background-color: white;padding-right: 0.2em;padding-left: 0.2em;position: relative;}#sk-container-id-2 div.sk-item {position: relative;z-index: 1;}#sk-container-id-2 div.sk-parallel {display: flex;align-items: stretch;justify-content: center;background-color: white;position: relative;}#sk-container-id-2 div.sk-item::before, #sk-container-id-2 div.sk-parallel-item::before {content: \"\";position: absolute;border-left: 1px solid gray;box-sizing: border-box;top: 0;bottom: 0;left: 50%;z-index: -1;}#sk-container-id-2 div.sk-parallel-item {display: flex;flex-direction: column;z-index: 1;position: relative;background-color: white;}#sk-container-id-2 div.sk-parallel-item:first-child::after {align-self: flex-end;width: 50%;}#sk-container-id-2 div.sk-parallel-item:last-child::after {align-self: flex-start;width: 50%;}#sk-container-id-2 div.sk-parallel-item:only-child::after {width: 0;}#sk-container-id-2 div.sk-dashed-wrapped {border: 1px dashed gray;margin: 0 0.4em 0.5em 0.4em;box-sizing: border-box;padding-bottom: 0.4em;background-color: white;}#sk-container-id-2 div.sk-label label {font-family: monospace;font-weight: bold;display: inline-block;line-height: 1.2em;}#sk-container-id-2 div.sk-label-container {text-align: center;}#sk-container-id-2 div.sk-container {/* jupyter's `normalize.less` sets `[hidden] { display: none; }` but bootstrap.min.css set `[hidden] { display: none !important; }` so we also need the `!important` here to be able to override the default hidden behavior on the sphinx rendered scikit-learn.org. See: https://github.com/scikit-learn/scikit-learn/issues/21755 */display: inline-block !important;position: relative;}#sk-container-id-2 div.sk-text-repr-fallback {display: none;}</style><div id=\"sk-container-id-2\" class=\"sk-top-container\"><div class=\"sk-text-repr-fallback\"><pre>GridSearchCV(cv=StratifiedKFold(n_splits=4, random_state=2, shuffle=True),\n",
       "             estimator=Pipeline(steps=[(&#x27;cat_enc&#x27;,\n",
       "                                        TargetEncoder(cols=[&#x27;Sex&#x27;, &#x27;Cabin&#x27;,\n",
       "                                                            &#x27;Embarked&#x27;])),\n",
       "                                       (&#x27;clf&#x27;, RandomForestClassifier())]),\n",
       "             n_jobs=5,\n",
       "             param_grid={&#x27;cat_enc__min_samples_leaf&#x27;: [2, 5, 10, 20],\n",
       "                         &#x27;cat_enc__smoothing&#x27;: [0.5, 1.0, 5.0],\n",
       "                         &#x27;clf__max_depth&#x27;: [None, 5, 11, 21],\n",
       "                         &#x27;clf__min_samples_leaf&#x27;: [2, 5, 10, 20],\n",
       "                         &#x27;clf__n_estimators&#x27;: [5, 10, 20, 50]})</pre><b>In a Jupyter environment, please rerun this cell to show the HTML representation or trust the notebook. <br />On GitHub, the HTML representation is unable to render, please try loading this page with nbviewer.org.</b></div><div class=\"sk-container\" hidden><div class=\"sk-item sk-dashed-wrapped\"><div class=\"sk-label-container\"><div class=\"sk-label sk-toggleable\"><input class=\"sk-toggleable__control sk-hidden--visually\" id=\"sk-estimator-id-7\" type=\"checkbox\" ><label for=\"sk-estimator-id-7\" class=\"sk-toggleable__label sk-toggleable__label-arrow\">GridSearchCV</label><div class=\"sk-toggleable__content\"><pre>GridSearchCV(cv=StratifiedKFold(n_splits=4, random_state=2, shuffle=True),\n",
       "             estimator=Pipeline(steps=[(&#x27;cat_enc&#x27;,\n",
       "                                        TargetEncoder(cols=[&#x27;Sex&#x27;, &#x27;Cabin&#x27;,\n",
       "                                                            &#x27;Embarked&#x27;])),\n",
       "                                       (&#x27;clf&#x27;, RandomForestClassifier())]),\n",
       "             n_jobs=5,\n",
       "             param_grid={&#x27;cat_enc__min_samples_leaf&#x27;: [2, 5, 10, 20],\n",
       "                         &#x27;cat_enc__smoothing&#x27;: [0.5, 1.0, 5.0],\n",
       "                         &#x27;clf__max_depth&#x27;: [None, 5, 11, 21],\n",
       "                         &#x27;clf__min_samples_leaf&#x27;: [2, 5, 10, 20],\n",
       "                         &#x27;clf__n_estimators&#x27;: [5, 10, 20, 50]})</pre></div></div></div><div class=\"sk-parallel\"><div class=\"sk-parallel-item\"><div class=\"sk-item\"><div class=\"sk-label-container\"><div class=\"sk-label sk-toggleable\"><input class=\"sk-toggleable__control sk-hidden--visually\" id=\"sk-estimator-id-8\" type=\"checkbox\" ><label for=\"sk-estimator-id-8\" class=\"sk-toggleable__label sk-toggleable__label-arrow\">estimator: Pipeline</label><div class=\"sk-toggleable__content\"><pre>Pipeline(steps=[(&#x27;cat_enc&#x27;, TargetEncoder(cols=[&#x27;Sex&#x27;, &#x27;Cabin&#x27;, &#x27;Embarked&#x27;])),\n",
       "                (&#x27;clf&#x27;, RandomForestClassifier())])</pre></div></div></div><div class=\"sk-serial\"><div class=\"sk-item\"><div class=\"sk-serial\"><div class=\"sk-item\"><div class=\"sk-estimator sk-toggleable\"><input class=\"sk-toggleable__control sk-hidden--visually\" id=\"sk-estimator-id-9\" type=\"checkbox\" ><label for=\"sk-estimator-id-9\" class=\"sk-toggleable__label sk-toggleable__label-arrow\">TargetEncoder</label><div class=\"sk-toggleable__content\"><pre>TargetEncoder(cols=[&#x27;Sex&#x27;, &#x27;Cabin&#x27;, &#x27;Embarked&#x27;])</pre></div></div></div><div class=\"sk-item\"><div class=\"sk-estimator sk-toggleable\"><input class=\"sk-toggleable__control sk-hidden--visually\" id=\"sk-estimator-id-10\" type=\"checkbox\" ><label for=\"sk-estimator-id-10\" class=\"sk-toggleable__label sk-toggleable__label-arrow\">RandomForestClassifier</label><div class=\"sk-toggleable__content\"><pre>RandomForestClassifier()</pre></div></div></div></div></div></div></div></div></div></div></div></div>"
      ],
      "text/plain": [
       "GridSearchCV(cv=StratifiedKFold(n_splits=4, random_state=2, shuffle=True),\n",
       "             estimator=Pipeline(steps=[('cat_enc',\n",
       "                                        TargetEncoder(cols=['Sex', 'Cabin',\n",
       "                                                            'Embarked'])),\n",
       "                                       ('clf', RandomForestClassifier())]),\n",
       "             n_jobs=5,\n",
       "             param_grid={'cat_enc__min_samples_leaf': [2, 5, 10, 20],\n",
       "                         'cat_enc__smoothing': [0.5, 1.0, 5.0],\n",
       "                         'clf__max_depth': [None, 5, 11, 21],\n",
       "                         'clf__min_samples_leaf': [2, 5, 10, 20],\n",
       "                         'clf__n_estimators': [5, 10, 20, 50]})"
      ]
     },
     "execution_count": 29,
     "metadata": {},
     "output_type": "execute_result"
    }
   ],
   "source": [
    "tree_grid_cv = GridSearchCV(\n",
    "    estimator=tree_model,\n",
    "    param_grid=tree_param_grid,\n",
    "    cv=cv,\n",
    "    n_jobs=n_jobs\n",
    ")\n",
    "\n",
    "tree_grid_cv.fit(Xtrain, ytrain)"
   ]
  },
  {
   "cell_type": "code",
   "execution_count": 30,
   "id": "76305162",
   "metadata": {
    "ExecuteTime": {
     "end_time": "2022-11-28T13:58:46.548310Z",
     "start_time": "2022-11-28T13:58:46.531291Z"
    }
   },
   "outputs": [
    {
     "name": "stdout",
     "output_type": "stream",
     "text": [
      "Meilleur score:  0.7735294117647059\n"
     ]
    },
    {
     "data": {
      "text/plain": [
       "{'cat_enc__min_samples_leaf': 20,\n",
       " 'cat_enc__smoothing': 5.0,\n",
       " 'clf__max_depth': 21,\n",
       " 'clf__min_samples_leaf': 10,\n",
       " 'clf__n_estimators': 5}"
      ]
     },
     "execution_count": 30,
     "metadata": {},
     "output_type": "execute_result"
    }
   ],
   "source": [
    "print(\"Meilleur score: \", tree_grid_cv.best_score_)\n",
    "tree_grid_cv.best_params_"
   ]
  },
  {
   "cell_type": "code",
   "execution_count": 31,
   "id": "c0563154",
   "metadata": {
    "ExecuteTime": {
     "end_time": "2022-11-28T13:58:46.569389Z",
     "start_time": "2022-11-28T13:58:46.559294Z"
    }
   },
   "outputs": [],
   "source": [
    "boost_param_grid = {\n",
    "    \"iterations\": [10, 20, 50],\n",
    "    \"depth\": [2, 3, 5],\n",
    "    \"min_data_in_leaf\": [1, 2, 5]\n",
    "}"
   ]
  },
  {
   "cell_type": "code",
   "execution_count": 32,
   "id": "e19d3069",
   "metadata": {
    "ExecuteTime": {
     "end_time": "2022-11-28T13:58:56.221512Z",
     "start_time": "2022-11-28T13:58:46.577318Z"
    }
   },
   "outputs": [
    {
     "data": {
      "text/html": [
       "<style>#sk-container-id-3 {color: black;background-color: white;}#sk-container-id-3 pre{padding: 0;}#sk-container-id-3 div.sk-toggleable {background-color: white;}#sk-container-id-3 label.sk-toggleable__label {cursor: pointer;display: block;width: 100%;margin-bottom: 0;padding: 0.3em;box-sizing: border-box;text-align: center;}#sk-container-id-3 label.sk-toggleable__label-arrow:before {content: \"▸\";float: left;margin-right: 0.25em;color: #696969;}#sk-container-id-3 label.sk-toggleable__label-arrow:hover:before {color: black;}#sk-container-id-3 div.sk-estimator:hover label.sk-toggleable__label-arrow:before {color: black;}#sk-container-id-3 div.sk-toggleable__content {max-height: 0;max-width: 0;overflow: hidden;text-align: left;background-color: #f0f8ff;}#sk-container-id-3 div.sk-toggleable__content pre {margin: 0.2em;color: black;border-radius: 0.25em;background-color: #f0f8ff;}#sk-container-id-3 input.sk-toggleable__control:checked~div.sk-toggleable__content {max-height: 200px;max-width: 100%;overflow: auto;}#sk-container-id-3 input.sk-toggleable__control:checked~label.sk-toggleable__label-arrow:before {content: \"▾\";}#sk-container-id-3 div.sk-estimator input.sk-toggleable__control:checked~label.sk-toggleable__label {background-color: #d4ebff;}#sk-container-id-3 div.sk-label input.sk-toggleable__control:checked~label.sk-toggleable__label {background-color: #d4ebff;}#sk-container-id-3 input.sk-hidden--visually {border: 0;clip: rect(1px 1px 1px 1px);clip: rect(1px, 1px, 1px, 1px);height: 1px;margin: -1px;overflow: hidden;padding: 0;position: absolute;width: 1px;}#sk-container-id-3 div.sk-estimator {font-family: monospace;background-color: #f0f8ff;border: 1px dotted black;border-radius: 0.25em;box-sizing: border-box;margin-bottom: 0.5em;}#sk-container-id-3 div.sk-estimator:hover {background-color: #d4ebff;}#sk-container-id-3 div.sk-parallel-item::after {content: \"\";width: 100%;border-bottom: 1px solid gray;flex-grow: 1;}#sk-container-id-3 div.sk-label:hover label.sk-toggleable__label {background-color: #d4ebff;}#sk-container-id-3 div.sk-serial::before {content: \"\";position: absolute;border-left: 1px solid gray;box-sizing: border-box;top: 0;bottom: 0;left: 50%;z-index: 0;}#sk-container-id-3 div.sk-serial {display: flex;flex-direction: column;align-items: center;background-color: white;padding-right: 0.2em;padding-left: 0.2em;position: relative;}#sk-container-id-3 div.sk-item {position: relative;z-index: 1;}#sk-container-id-3 div.sk-parallel {display: flex;align-items: stretch;justify-content: center;background-color: white;position: relative;}#sk-container-id-3 div.sk-item::before, #sk-container-id-3 div.sk-parallel-item::before {content: \"\";position: absolute;border-left: 1px solid gray;box-sizing: border-box;top: 0;bottom: 0;left: 50%;z-index: -1;}#sk-container-id-3 div.sk-parallel-item {display: flex;flex-direction: column;z-index: 1;position: relative;background-color: white;}#sk-container-id-3 div.sk-parallel-item:first-child::after {align-self: flex-end;width: 50%;}#sk-container-id-3 div.sk-parallel-item:last-child::after {align-self: flex-start;width: 50%;}#sk-container-id-3 div.sk-parallel-item:only-child::after {width: 0;}#sk-container-id-3 div.sk-dashed-wrapped {border: 1px dashed gray;margin: 0 0.4em 0.5em 0.4em;box-sizing: border-box;padding-bottom: 0.4em;background-color: white;}#sk-container-id-3 div.sk-label label {font-family: monospace;font-weight: bold;display: inline-block;line-height: 1.2em;}#sk-container-id-3 div.sk-label-container {text-align: center;}#sk-container-id-3 div.sk-container {/* jupyter's `normalize.less` sets `[hidden] { display: none; }` but bootstrap.min.css set `[hidden] { display: none !important; }` so we also need the `!important` here to be able to override the default hidden behavior on the sphinx rendered scikit-learn.org. See: https://github.com/scikit-learn/scikit-learn/issues/21755 */display: inline-block !important;position: relative;}#sk-container-id-3 div.sk-text-repr-fallback {display: none;}</style><div id=\"sk-container-id-3\" class=\"sk-top-container\"><div class=\"sk-text-repr-fallback\"><pre>GridSearchCV(cv=StratifiedKFold(n_splits=4, random_state=2, shuffle=True),\n",
       "             estimator=&lt;catboost.core.CatBoostClassifier object at 0x7fe66b15fe20&gt;,\n",
       "             n_jobs=5,\n",
       "             param_grid={&#x27;depth&#x27;: [2, 3, 5], &#x27;iterations&#x27;: [10, 20, 50],\n",
       "                         &#x27;min_data_in_leaf&#x27;: [1, 2, 5]})</pre><b>In a Jupyter environment, please rerun this cell to show the HTML representation or trust the notebook. <br />On GitHub, the HTML representation is unable to render, please try loading this page with nbviewer.org.</b></div><div class=\"sk-container\" hidden><div class=\"sk-item sk-dashed-wrapped\"><div class=\"sk-label-container\"><div class=\"sk-label sk-toggleable\"><input class=\"sk-toggleable__control sk-hidden--visually\" id=\"sk-estimator-id-11\" type=\"checkbox\" ><label for=\"sk-estimator-id-11\" class=\"sk-toggleable__label sk-toggleable__label-arrow\">GridSearchCV</label><div class=\"sk-toggleable__content\"><pre>GridSearchCV(cv=StratifiedKFold(n_splits=4, random_state=2, shuffle=True),\n",
       "             estimator=&lt;catboost.core.CatBoostClassifier object at 0x7fe66b15fe20&gt;,\n",
       "             n_jobs=5,\n",
       "             param_grid={&#x27;depth&#x27;: [2, 3, 5], &#x27;iterations&#x27;: [10, 20, 50],\n",
       "                         &#x27;min_data_in_leaf&#x27;: [1, 2, 5]})</pre></div></div></div><div class=\"sk-parallel\"><div class=\"sk-parallel-item\"><div class=\"sk-item\"><div class=\"sk-label-container\"><div class=\"sk-label sk-toggleable\"><input class=\"sk-toggleable__control sk-hidden--visually\" id=\"sk-estimator-id-12\" type=\"checkbox\" ><label for=\"sk-estimator-id-12\" class=\"sk-toggleable__label sk-toggleable__label-arrow\">estimator: CatBoostClassifier</label><div class=\"sk-toggleable__content\"><pre>&lt;catboost.core.CatBoostClassifier object at 0x7fe66b15fe20&gt;</pre></div></div></div><div class=\"sk-serial\"><div class=\"sk-item\"><div class=\"sk-estimator sk-toggleable\"><input class=\"sk-toggleable__control sk-hidden--visually\" id=\"sk-estimator-id-13\" type=\"checkbox\" ><label for=\"sk-estimator-id-13\" class=\"sk-toggleable__label sk-toggleable__label-arrow\">CatBoostClassifier</label><div class=\"sk-toggleable__content\"><pre>&lt;catboost.core.CatBoostClassifier object at 0x7fe66b15fe20&gt;</pre></div></div></div></div></div></div></div></div></div></div>"
      ],
      "text/plain": [
       "GridSearchCV(cv=StratifiedKFold(n_splits=4, random_state=2, shuffle=True),\n",
       "             estimator=<catboost.core.CatBoostClassifier object at 0x7fe66b15fe20>,\n",
       "             n_jobs=5,\n",
       "             param_grid={'depth': [2, 3, 5], 'iterations': [10, 20, 50],\n",
       "                         'min_data_in_leaf': [1, 2, 5]})"
      ]
     },
     "execution_count": 32,
     "metadata": {},
     "output_type": "execute_result"
    }
   ],
   "source": [
    "boost_grid_cv = GridSearchCV(\n",
    "    estimator=boost_model,\n",
    "    param_grid=boost_param_grid,\n",
    "    cv=cv,\n",
    "    n_jobs=n_jobs\n",
    ")\n",
    "\n",
    "boost_grid_cv.fit(Xtrain, ytrain)"
   ]
  },
  {
   "cell_type": "code",
   "execution_count": 33,
   "id": "f784c301",
   "metadata": {
    "ExecuteTime": {
     "end_time": "2022-11-28T13:58:56.244891Z",
     "start_time": "2022-11-28T13:58:56.230451Z"
    }
   },
   "outputs": [
    {
     "name": "stdout",
     "output_type": "stream",
     "text": [
      "Meilleur score:  0.759453781512605\n"
     ]
    },
    {
     "data": {
      "text/plain": [
       "{'depth': 3, 'iterations': 20, 'min_data_in_leaf': 1}"
      ]
     },
     "execution_count": 33,
     "metadata": {},
     "output_type": "execute_result"
    }
   ],
   "source": [
    "print(\"Meilleur score: \", boost_grid_cv.best_score_)\n",
    "boost_grid_cv.best_params_"
   ]
  },
  {
   "cell_type": "markdown",
   "id": "fa304499",
   "metadata": {},
   "source": [
    "### Recherche randomisée\n",
    "\n",
    "On l'a vu, le nombre de modèles à entrainter dans une recherche sur grille peut rapidement exploser lorsque le nombre d'hyper-paramètre à tester augmente.\n",
    "\n",
    "Pour réduire cette charge dans un espace d'hyper-paramètres à grande dimension, on peut effectuer une recherche aléatoire. Pour cela, on donne à chaque hyper-paramètre une distribution depuis laquelle on pourra tirer aléatoirement une valeur.\n",
    "\n",
    "On peut alors fixer à l'avance le nombre d'essais et pour chaque essai, on tire une valeur pour chaque hyper-paramètre depuis la distribution associée."
   ]
  },
  {
   "cell_type": "code",
   "execution_count": 34,
   "id": "62720b82",
   "metadata": {
    "ExecuteTime": {
     "end_time": "2022-11-28T13:58:56.274627Z",
     "start_time": "2022-11-28T13:58:56.251705Z"
    }
   },
   "outputs": [],
   "source": [
    "from scipy.stats import loguniform\n",
    "import numpy as np\n",
    "\n",
    "logist_param_distribs = {\n",
    "    \"cat_enc__smoothing\": loguniform(1e-2, 1e1),\n",
    "    \"cat_enc__min_samples_leaf\": np.arange(1, 51),\n",
    "    \"poly__degree\": np.arange(1, 6),\n",
    "    \"clf__C\": loguniform(1e-3, 1e3)\n",
    "}\n",
    "\n",
    "tree_param_distribs = {\n",
    "    \"cat_enc__smoothing\": loguniform(1e-2, 1e1),\n",
    "    \"cat_enc__min_samples_leaf\": np.arange(1, 51),\n",
    "    \"clf__max_depth\": np.arange(1, 51),\n",
    "    \"clf__min_samples_leaf\": np.arange(1, 51)   \n",
    "}\n",
    "\n",
    "boost_param_distribs = {\n",
    "    \"iterations\": np.arange(5, 100),\n",
    "    \"depth\": np.arange(2, 16),\n",
    "    \"min_data_in_leaf\": np.arange(1, 51) \n",
    "}"
   ]
  },
  {
   "cell_type": "markdown",
   "id": "258a5f23",
   "metadata": {
    "ExecuteTime": {
     "end_time": "2022-11-28T10:48:16.945197Z",
     "start_time": "2022-11-28T10:48:16.931419Z"
    }
   },
   "source": [
    "Modèle de régression logistique :"
   ]
  },
  {
   "cell_type": "code",
   "execution_count": 35,
   "id": "83da188b",
   "metadata": {
    "ExecuteTime": {
     "end_time": "2022-11-28T14:00:16.911953Z",
     "start_time": "2022-11-28T13:58:56.282982Z"
    },
    "scrolled": true
   },
   "outputs": [
    {
     "name": "stderr",
     "output_type": "stream",
     "text": [
      "/home/amignon/Projets/upec-introduction-to-ai/shared_notebooks/venv/lib/python3.10/site-packages/sklearn/linear_model/_logistic.py:444: ConvergenceWarning: lbfgs failed to converge (status=1):\n",
      "STOP: TOTAL NO. of ITERATIONS REACHED LIMIT.\n",
      "\n",
      "Increase the number of iterations (max_iter) or scale the data as shown in:\n",
      "    https://scikit-learn.org/stable/modules/preprocessing.html\n",
      "Please also refer to the documentation for alternative solver options:\n",
      "    https://scikit-learn.org/stable/modules/linear_model.html#logistic-regression\n",
      "  n_iter_i = _check_optimize_result(\n",
      "/home/amignon/Projets/upec-introduction-to-ai/shared_notebooks/venv/lib/python3.10/site-packages/sklearn/linear_model/_logistic.py:444: ConvergenceWarning: lbfgs failed to converge (status=1):\n",
      "STOP: TOTAL NO. of ITERATIONS REACHED LIMIT.\n",
      "\n",
      "Increase the number of iterations (max_iter) or scale the data as shown in:\n",
      "    https://scikit-learn.org/stable/modules/preprocessing.html\n",
      "Please also refer to the documentation for alternative solver options:\n",
      "    https://scikit-learn.org/stable/modules/linear_model.html#logistic-regression\n",
      "  n_iter_i = _check_optimize_result(\n",
      "/home/amignon/Projets/upec-introduction-to-ai/shared_notebooks/venv/lib/python3.10/site-packages/sklearn/linear_model/_logistic.py:444: ConvergenceWarning: lbfgs failed to converge (status=1):\n",
      "STOP: TOTAL NO. of ITERATIONS REACHED LIMIT.\n",
      "\n",
      "Increase the number of iterations (max_iter) or scale the data as shown in:\n",
      "    https://scikit-learn.org/stable/modules/preprocessing.html\n",
      "Please also refer to the documentation for alternative solver options:\n",
      "    https://scikit-learn.org/stable/modules/linear_model.html#logistic-regression\n",
      "  n_iter_i = _check_optimize_result(\n",
      "/home/amignon/Projets/upec-introduction-to-ai/shared_notebooks/venv/lib/python3.10/site-packages/pandas/core/arraylike.py:402: RuntimeWarning: overflow encountered in exp\n",
      "  result = getattr(ufunc, method)(*inputs, **kwargs)\n",
      "/home/amignon/Projets/upec-introduction-to-ai/shared_notebooks/venv/lib/python3.10/site-packages/pandas/core/arraylike.py:402: RuntimeWarning: overflow encountered in exp\n",
      "  result = getattr(ufunc, method)(*inputs, **kwargs)\n",
      "/home/amignon/Projets/upec-introduction-to-ai/shared_notebooks/venv/lib/python3.10/site-packages/pandas/core/arraylike.py:402: RuntimeWarning: overflow encountered in exp\n",
      "  result = getattr(ufunc, method)(*inputs, **kwargs)\n",
      "/home/amignon/Projets/upec-introduction-to-ai/shared_notebooks/venv/lib/python3.10/site-packages/pandas/core/arraylike.py:402: RuntimeWarning: overflow encountered in exp\n",
      "  result = getattr(ufunc, method)(*inputs, **kwargs)\n",
      "/home/amignon/Projets/upec-introduction-to-ai/shared_notebooks/venv/lib/python3.10/site-packages/pandas/core/arraylike.py:402: RuntimeWarning: overflow encountered in exp\n",
      "  result = getattr(ufunc, method)(*inputs, **kwargs)\n",
      "/home/amignon/Projets/upec-introduction-to-ai/shared_notebooks/venv/lib/python3.10/site-packages/pandas/core/arraylike.py:402: RuntimeWarning: overflow encountered in exp\n",
      "  result = getattr(ufunc, method)(*inputs, **kwargs)\n",
      "/home/amignon/Projets/upec-introduction-to-ai/shared_notebooks/venv/lib/python3.10/site-packages/pandas/core/arraylike.py:402: RuntimeWarning: overflow encountered in exp\n",
      "  result = getattr(ufunc, method)(*inputs, **kwargs)\n",
      "/home/amignon/Projets/upec-introduction-to-ai/shared_notebooks/venv/lib/python3.10/site-packages/pandas/core/arraylike.py:402: RuntimeWarning: overflow encountered in exp\n",
      "  result = getattr(ufunc, method)(*inputs, **kwargs)\n",
      "/home/amignon/Projets/upec-introduction-to-ai/shared_notebooks/venv/lib/python3.10/site-packages/pandas/core/arraylike.py:402: RuntimeWarning: overflow encountered in exp\n",
      "  result = getattr(ufunc, method)(*inputs, **kwargs)\n",
      "/home/amignon/Projets/upec-introduction-to-ai/shared_notebooks/venv/lib/python3.10/site-packages/pandas/core/arraylike.py:402: RuntimeWarning: overflow encountered in exp\n",
      "  result = getattr(ufunc, method)(*inputs, **kwargs)\n",
      "/home/amignon/Projets/upec-introduction-to-ai/shared_notebooks/venv/lib/python3.10/site-packages/pandas/core/arraylike.py:402: RuntimeWarning: overflow encountered in exp\n",
      "  result = getattr(ufunc, method)(*inputs, **kwargs)\n",
      "/home/amignon/Projets/upec-introduction-to-ai/shared_notebooks/venv/lib/python3.10/site-packages/pandas/core/arraylike.py:402: RuntimeWarning: overflow encountered in exp\n",
      "  result = getattr(ufunc, method)(*inputs, **kwargs)\n",
      "/home/amignon/Projets/upec-introduction-to-ai/shared_notebooks/venv/lib/python3.10/site-packages/pandas/core/arraylike.py:402: RuntimeWarning: overflow encountered in exp\n",
      "  result = getattr(ufunc, method)(*inputs, **kwargs)\n",
      "/home/amignon/Projets/upec-introduction-to-ai/shared_notebooks/venv/lib/python3.10/site-packages/pandas/core/arraylike.py:402: RuntimeWarning: overflow encountered in exp\n",
      "  result = getattr(ufunc, method)(*inputs, **kwargs)\n",
      "/home/amignon/Projets/upec-introduction-to-ai/shared_notebooks/venv/lib/python3.10/site-packages/pandas/core/arraylike.py:402: RuntimeWarning: overflow encountered in exp\n",
      "  result = getattr(ufunc, method)(*inputs, **kwargs)\n",
      "/home/amignon/Projets/upec-introduction-to-ai/shared_notebooks/venv/lib/python3.10/site-packages/pandas/core/arraylike.py:402: RuntimeWarning: overflow encountered in exp\n",
      "  result = getattr(ufunc, method)(*inputs, **kwargs)\n",
      "/home/amignon/Projets/upec-introduction-to-ai/shared_notebooks/venv/lib/python3.10/site-packages/pandas/core/arraylike.py:402: RuntimeWarning: overflow encountered in exp\n",
      "  result = getattr(ufunc, method)(*inputs, **kwargs)\n",
      "/home/amignon/Projets/upec-introduction-to-ai/shared_notebooks/venv/lib/python3.10/site-packages/pandas/core/arraylike.py:402: RuntimeWarning: overflow encountered in exp\n",
      "  result = getattr(ufunc, method)(*inputs, **kwargs)\n",
      "/home/amignon/Projets/upec-introduction-to-ai/shared_notebooks/venv/lib/python3.10/site-packages/pandas/core/arraylike.py:402: RuntimeWarning: overflow encountered in exp\n",
      "  result = getattr(ufunc, method)(*inputs, **kwargs)\n",
      "/home/amignon/Projets/upec-introduction-to-ai/shared_notebooks/venv/lib/python3.10/site-packages/pandas/core/arraylike.py:402: RuntimeWarning: overflow encountered in exp\n",
      "  result = getattr(ufunc, method)(*inputs, **kwargs)\n",
      "/home/amignon/Projets/upec-introduction-to-ai/shared_notebooks/venv/lib/python3.10/site-packages/pandas/core/arraylike.py:402: RuntimeWarning: overflow encountered in exp\n",
      "  result = getattr(ufunc, method)(*inputs, **kwargs)\n",
      "/home/amignon/Projets/upec-introduction-to-ai/shared_notebooks/venv/lib/python3.10/site-packages/pandas/core/arraylike.py:402: RuntimeWarning: overflow encountered in exp\n",
      "  result = getattr(ufunc, method)(*inputs, **kwargs)\n",
      "/home/amignon/Projets/upec-introduction-to-ai/shared_notebooks/venv/lib/python3.10/site-packages/pandas/core/arraylike.py:402: RuntimeWarning: overflow encountered in exp\n",
      "  result = getattr(ufunc, method)(*inputs, **kwargs)\n",
      "/home/amignon/Projets/upec-introduction-to-ai/shared_notebooks/venv/lib/python3.10/site-packages/pandas/core/arraylike.py:402: RuntimeWarning: overflow encountered in exp\n",
      "  result = getattr(ufunc, method)(*inputs, **kwargs)\n",
      "/home/amignon/Projets/upec-introduction-to-ai/shared_notebooks/venv/lib/python3.10/site-packages/sklearn/linear_model/_logistic.py:444: ConvergenceWarning: lbfgs failed to converge (status=1):\n",
      "STOP: TOTAL NO. of ITERATIONS REACHED LIMIT.\n",
      "\n",
      "Increase the number of iterations (max_iter) or scale the data as shown in:\n",
      "    https://scikit-learn.org/stable/modules/preprocessing.html\n",
      "Please also refer to the documentation for alternative solver options:\n",
      "    https://scikit-learn.org/stable/modules/linear_model.html#logistic-regression\n",
      "  n_iter_i = _check_optimize_result(\n",
      "/home/amignon/Projets/upec-introduction-to-ai/shared_notebooks/venv/lib/python3.10/site-packages/pandas/core/arraylike.py:402: RuntimeWarning: overflow encountered in exp\n",
      "  result = getattr(ufunc, method)(*inputs, **kwargs)\n",
      "/home/amignon/Projets/upec-introduction-to-ai/shared_notebooks/venv/lib/python3.10/site-packages/pandas/core/arraylike.py:402: RuntimeWarning: overflow encountered in exp\n",
      "  result = getattr(ufunc, method)(*inputs, **kwargs)\n",
      "/home/amignon/Projets/upec-introduction-to-ai/shared_notebooks/venv/lib/python3.10/site-packages/pandas/core/arraylike.py:402: RuntimeWarning: overflow encountered in exp\n",
      "  result = getattr(ufunc, method)(*inputs, **kwargs)\n",
      "/home/amignon/Projets/upec-introduction-to-ai/shared_notebooks/venv/lib/python3.10/site-packages/pandas/core/arraylike.py:402: RuntimeWarning: overflow encountered in exp\n",
      "  result = getattr(ufunc, method)(*inputs, **kwargs)\n",
      "/home/amignon/Projets/upec-introduction-to-ai/shared_notebooks/venv/lib/python3.10/site-packages/pandas/core/arraylike.py:402: RuntimeWarning: overflow encountered in exp\n",
      "  result = getattr(ufunc, method)(*inputs, **kwargs)\n",
      "/home/amignon/Projets/upec-introduction-to-ai/shared_notebooks/venv/lib/python3.10/site-packages/pandas/core/arraylike.py:402: RuntimeWarning: overflow encountered in exp\n",
      "  result = getattr(ufunc, method)(*inputs, **kwargs)\n"
     ]
    },
    {
     "name": "stderr",
     "output_type": "stream",
     "text": [
      "/home/amignon/Projets/upec-introduction-to-ai/shared_notebooks/venv/lib/python3.10/site-packages/pandas/core/arraylike.py:402: RuntimeWarning: overflow encountered in exp\n",
      "  result = getattr(ufunc, method)(*inputs, **kwargs)\n",
      "/home/amignon/Projets/upec-introduction-to-ai/shared_notebooks/venv/lib/python3.10/site-packages/pandas/core/arraylike.py:402: RuntimeWarning: overflow encountered in exp\n",
      "  result = getattr(ufunc, method)(*inputs, **kwargs)\n",
      "/home/amignon/Projets/upec-introduction-to-ai/shared_notebooks/venv/lib/python3.10/site-packages/sklearn/linear_model/_logistic.py:444: ConvergenceWarning: lbfgs failed to converge (status=1):\n",
      "STOP: TOTAL NO. of ITERATIONS REACHED LIMIT.\n",
      "\n",
      "Increase the number of iterations (max_iter) or scale the data as shown in:\n",
      "    https://scikit-learn.org/stable/modules/preprocessing.html\n",
      "Please also refer to the documentation for alternative solver options:\n",
      "    https://scikit-learn.org/stable/modules/linear_model.html#logistic-regression\n",
      "  n_iter_i = _check_optimize_result(\n",
      "/home/amignon/Projets/upec-introduction-to-ai/shared_notebooks/venv/lib/python3.10/site-packages/sklearn/linear_model/_logistic.py:444: ConvergenceWarning: lbfgs failed to converge (status=1):\n",
      "STOP: TOTAL NO. of ITERATIONS REACHED LIMIT.\n",
      "\n",
      "Increase the number of iterations (max_iter) or scale the data as shown in:\n",
      "    https://scikit-learn.org/stable/modules/preprocessing.html\n",
      "Please also refer to the documentation for alternative solver options:\n",
      "    https://scikit-learn.org/stable/modules/linear_model.html#logistic-regression\n",
      "  n_iter_i = _check_optimize_result(\n",
      "/home/amignon/Projets/upec-introduction-to-ai/shared_notebooks/venv/lib/python3.10/site-packages/sklearn/linear_model/_logistic.py:444: ConvergenceWarning: lbfgs failed to converge (status=1):\n",
      "STOP: TOTAL NO. of ITERATIONS REACHED LIMIT.\n",
      "\n",
      "Increase the number of iterations (max_iter) or scale the data as shown in:\n",
      "    https://scikit-learn.org/stable/modules/preprocessing.html\n",
      "Please also refer to the documentation for alternative solver options:\n",
      "    https://scikit-learn.org/stable/modules/linear_model.html#logistic-regression\n",
      "  n_iter_i = _check_optimize_result(\n",
      "/home/amignon/Projets/upec-introduction-to-ai/shared_notebooks/venv/lib/python3.10/site-packages/sklearn/linear_model/_logistic.py:444: ConvergenceWarning: lbfgs failed to converge (status=1):\n",
      "STOP: TOTAL NO. of ITERATIONS REACHED LIMIT.\n",
      "\n",
      "Increase the number of iterations (max_iter) or scale the data as shown in:\n",
      "    https://scikit-learn.org/stable/modules/preprocessing.html\n",
      "Please also refer to the documentation for alternative solver options:\n",
      "    https://scikit-learn.org/stable/modules/linear_model.html#logistic-regression\n",
      "  n_iter_i = _check_optimize_result(\n",
      "/home/amignon/Projets/upec-introduction-to-ai/shared_notebooks/venv/lib/python3.10/site-packages/pandas/core/arraylike.py:402: RuntimeWarning: overflow encountered in exp\n",
      "  result = getattr(ufunc, method)(*inputs, **kwargs)\n",
      "/home/amignon/Projets/upec-introduction-to-ai/shared_notebooks/venv/lib/python3.10/site-packages/pandas/core/arraylike.py:402: RuntimeWarning: overflow encountered in exp\n",
      "  result = getattr(ufunc, method)(*inputs, **kwargs)\n",
      "/home/amignon/Projets/upec-introduction-to-ai/shared_notebooks/venv/lib/python3.10/site-packages/pandas/core/arraylike.py:402: RuntimeWarning: overflow encountered in exp\n",
      "  result = getattr(ufunc, method)(*inputs, **kwargs)\n",
      "/home/amignon/Projets/upec-introduction-to-ai/shared_notebooks/venv/lib/python3.10/site-packages/pandas/core/arraylike.py:402: RuntimeWarning: overflow encountered in exp\n",
      "  result = getattr(ufunc, method)(*inputs, **kwargs)\n",
      "/home/amignon/Projets/upec-introduction-to-ai/shared_notebooks/venv/lib/python3.10/site-packages/pandas/core/arraylike.py:402: RuntimeWarning: overflow encountered in exp\n",
      "  result = getattr(ufunc, method)(*inputs, **kwargs)\n",
      "/home/amignon/Projets/upec-introduction-to-ai/shared_notebooks/venv/lib/python3.10/site-packages/pandas/core/arraylike.py:402: RuntimeWarning: overflow encountered in exp\n",
      "  result = getattr(ufunc, method)(*inputs, **kwargs)\n",
      "/home/amignon/Projets/upec-introduction-to-ai/shared_notebooks/venv/lib/python3.10/site-packages/pandas/core/arraylike.py:402: RuntimeWarning: overflow encountered in exp\n",
      "  result = getattr(ufunc, method)(*inputs, **kwargs)\n",
      "/home/amignon/Projets/upec-introduction-to-ai/shared_notebooks/venv/lib/python3.10/site-packages/pandas/core/arraylike.py:402: RuntimeWarning: overflow encountered in exp\n",
      "  result = getattr(ufunc, method)(*inputs, **kwargs)\n",
      "/home/amignon/Projets/upec-introduction-to-ai/shared_notebooks/venv/lib/python3.10/site-packages/pandas/core/arraylike.py:402: RuntimeWarning: overflow encountered in exp\n",
      "  result = getattr(ufunc, method)(*inputs, **kwargs)\n",
      "/home/amignon/Projets/upec-introduction-to-ai/shared_notebooks/venv/lib/python3.10/site-packages/pandas/core/arraylike.py:402: RuntimeWarning: overflow encountered in exp\n",
      "  result = getattr(ufunc, method)(*inputs, **kwargs)\n",
      "/home/amignon/Projets/upec-introduction-to-ai/shared_notebooks/venv/lib/python3.10/site-packages/pandas/core/arraylike.py:402: RuntimeWarning: overflow encountered in exp\n",
      "  result = getattr(ufunc, method)(*inputs, **kwargs)\n",
      "/home/amignon/Projets/upec-introduction-to-ai/shared_notebooks/venv/lib/python3.10/site-packages/pandas/core/arraylike.py:402: RuntimeWarning: overflow encountered in exp\n",
      "  result = getattr(ufunc, method)(*inputs, **kwargs)\n",
      "/home/amignon/Projets/upec-introduction-to-ai/shared_notebooks/venv/lib/python3.10/site-packages/pandas/core/arraylike.py:402: RuntimeWarning: overflow encountered in exp\n",
      "  result = getattr(ufunc, method)(*inputs, **kwargs)\n",
      "/home/amignon/Projets/upec-introduction-to-ai/shared_notebooks/venv/lib/python3.10/site-packages/pandas/core/arraylike.py:402: RuntimeWarning: overflow encountered in exp\n",
      "  result = getattr(ufunc, method)(*inputs, **kwargs)\n",
      "/home/amignon/Projets/upec-introduction-to-ai/shared_notebooks/venv/lib/python3.10/site-packages/pandas/core/arraylike.py:402: RuntimeWarning: overflow encountered in exp\n",
      "  result = getattr(ufunc, method)(*inputs, **kwargs)\n",
      "/home/amignon/Projets/upec-introduction-to-ai/shared_notebooks/venv/lib/python3.10/site-packages/pandas/core/arraylike.py:402: RuntimeWarning: overflow encountered in exp\n",
      "  result = getattr(ufunc, method)(*inputs, **kwargs)\n",
      "/home/amignon/Projets/upec-introduction-to-ai/shared_notebooks/venv/lib/python3.10/site-packages/sklearn/linear_model/_logistic.py:444: ConvergenceWarning: lbfgs failed to converge (status=1):\n",
      "STOP: TOTAL NO. of ITERATIONS REACHED LIMIT.\n",
      "\n",
      "Increase the number of iterations (max_iter) or scale the data as shown in:\n",
      "    https://scikit-learn.org/stable/modules/preprocessing.html\n",
      "Please also refer to the documentation for alternative solver options:\n",
      "    https://scikit-learn.org/stable/modules/linear_model.html#logistic-regression\n",
      "  n_iter_i = _check_optimize_result(\n",
      "/home/amignon/Projets/upec-introduction-to-ai/shared_notebooks/venv/lib/python3.10/site-packages/sklearn/linear_model/_logistic.py:444: ConvergenceWarning: lbfgs failed to converge (status=1):\n",
      "STOP: TOTAL NO. of ITERATIONS REACHED LIMIT.\n",
      "\n",
      "Increase the number of iterations (max_iter) or scale the data as shown in:\n",
      "    https://scikit-learn.org/stable/modules/preprocessing.html\n",
      "Please also refer to the documentation for alternative solver options:\n",
      "    https://scikit-learn.org/stable/modules/linear_model.html#logistic-regression\n",
      "  n_iter_i = _check_optimize_result(\n",
      "/home/amignon/Projets/upec-introduction-to-ai/shared_notebooks/venv/lib/python3.10/site-packages/sklearn/linear_model/_logistic.py:444: ConvergenceWarning: lbfgs failed to converge (status=1):\n",
      "STOP: TOTAL NO. of ITERATIONS REACHED LIMIT.\n",
      "\n",
      "Increase the number of iterations (max_iter) or scale the data as shown in:\n",
      "    https://scikit-learn.org/stable/modules/preprocessing.html\n",
      "Please also refer to the documentation for alternative solver options:\n",
      "    https://scikit-learn.org/stable/modules/linear_model.html#logistic-regression\n",
      "  n_iter_i = _check_optimize_result(\n",
      "/home/amignon/Projets/upec-introduction-to-ai/shared_notebooks/venv/lib/python3.10/site-packages/sklearn/linear_model/_logistic.py:444: ConvergenceWarning: lbfgs failed to converge (status=1):\n",
      "STOP: TOTAL NO. of ITERATIONS REACHED LIMIT.\n",
      "\n",
      "Increase the number of iterations (max_iter) or scale the data as shown in:\n",
      "    https://scikit-learn.org/stable/modules/preprocessing.html\n",
      "Please also refer to the documentation for alternative solver options:\n",
      "    https://scikit-learn.org/stable/modules/linear_model.html#logistic-regression\n",
      "  n_iter_i = _check_optimize_result(\n"
     ]
    },
    {
     "name": "stderr",
     "output_type": "stream",
     "text": [
      "/home/amignon/Projets/upec-introduction-to-ai/shared_notebooks/venv/lib/python3.10/site-packages/sklearn/linear_model/_logistic.py:444: ConvergenceWarning: lbfgs failed to converge (status=1):\n",
      "STOP: TOTAL NO. of ITERATIONS REACHED LIMIT.\n",
      "\n",
      "Increase the number of iterations (max_iter) or scale the data as shown in:\n",
      "    https://scikit-learn.org/stable/modules/preprocessing.html\n",
      "Please also refer to the documentation for alternative solver options:\n",
      "    https://scikit-learn.org/stable/modules/linear_model.html#logistic-regression\n",
      "  n_iter_i = _check_optimize_result(\n",
      "/home/amignon/Projets/upec-introduction-to-ai/shared_notebooks/venv/lib/python3.10/site-packages/sklearn/linear_model/_logistic.py:444: ConvergenceWarning: lbfgs failed to converge (status=1):\n",
      "STOP: TOTAL NO. of ITERATIONS REACHED LIMIT.\n",
      "\n",
      "Increase the number of iterations (max_iter) or scale the data as shown in:\n",
      "    https://scikit-learn.org/stable/modules/preprocessing.html\n",
      "Please also refer to the documentation for alternative solver options:\n",
      "    https://scikit-learn.org/stable/modules/linear_model.html#logistic-regression\n",
      "  n_iter_i = _check_optimize_result(\n",
      "/home/amignon/Projets/upec-introduction-to-ai/shared_notebooks/venv/lib/python3.10/site-packages/sklearn/linear_model/_logistic.py:444: ConvergenceWarning: lbfgs failed to converge (status=1):\n",
      "STOP: TOTAL NO. of ITERATIONS REACHED LIMIT.\n",
      "\n",
      "Increase the number of iterations (max_iter) or scale the data as shown in:\n",
      "    https://scikit-learn.org/stable/modules/preprocessing.html\n",
      "Please also refer to the documentation for alternative solver options:\n",
      "    https://scikit-learn.org/stable/modules/linear_model.html#logistic-regression\n",
      "  n_iter_i = _check_optimize_result(\n",
      "/home/amignon/Projets/upec-introduction-to-ai/shared_notebooks/venv/lib/python3.10/site-packages/sklearn/linear_model/_logistic.py:444: ConvergenceWarning: lbfgs failed to converge (status=1):\n",
      "STOP: TOTAL NO. of ITERATIONS REACHED LIMIT.\n",
      "\n",
      "Increase the number of iterations (max_iter) or scale the data as shown in:\n",
      "    https://scikit-learn.org/stable/modules/preprocessing.html\n",
      "Please also refer to the documentation for alternative solver options:\n",
      "    https://scikit-learn.org/stable/modules/linear_model.html#logistic-regression\n",
      "  n_iter_i = _check_optimize_result(\n",
      "/home/amignon/Projets/upec-introduction-to-ai/shared_notebooks/venv/lib/python3.10/site-packages/pandas/core/arraylike.py:402: RuntimeWarning: overflow encountered in exp\n",
      "  result = getattr(ufunc, method)(*inputs, **kwargs)\n",
      "/home/amignon/Projets/upec-introduction-to-ai/shared_notebooks/venv/lib/python3.10/site-packages/pandas/core/arraylike.py:402: RuntimeWarning: overflow encountered in exp\n",
      "  result = getattr(ufunc, method)(*inputs, **kwargs)\n",
      "/home/amignon/Projets/upec-introduction-to-ai/shared_notebooks/venv/lib/python3.10/site-packages/pandas/core/arraylike.py:402: RuntimeWarning: overflow encountered in exp\n",
      "  result = getattr(ufunc, method)(*inputs, **kwargs)\n",
      "/home/amignon/Projets/upec-introduction-to-ai/shared_notebooks/venv/lib/python3.10/site-packages/pandas/core/arraylike.py:402: RuntimeWarning: overflow encountered in exp\n",
      "  result = getattr(ufunc, method)(*inputs, **kwargs)\n",
      "/home/amignon/Projets/upec-introduction-to-ai/shared_notebooks/venv/lib/python3.10/site-packages/pandas/core/arraylike.py:402: RuntimeWarning: overflow encountered in exp\n",
      "  result = getattr(ufunc, method)(*inputs, **kwargs)\n",
      "/home/amignon/Projets/upec-introduction-to-ai/shared_notebooks/venv/lib/python3.10/site-packages/pandas/core/arraylike.py:402: RuntimeWarning: overflow encountered in exp\n",
      "  result = getattr(ufunc, method)(*inputs, **kwargs)\n",
      "/home/amignon/Projets/upec-introduction-to-ai/shared_notebooks/venv/lib/python3.10/site-packages/pandas/core/arraylike.py:402: RuntimeWarning: overflow encountered in exp\n",
      "  result = getattr(ufunc, method)(*inputs, **kwargs)\n",
      "/home/amignon/Projets/upec-introduction-to-ai/shared_notebooks/venv/lib/python3.10/site-packages/pandas/core/arraylike.py:402: RuntimeWarning: overflow encountered in exp\n",
      "  result = getattr(ufunc, method)(*inputs, **kwargs)\n",
      "/home/amignon/Projets/upec-introduction-to-ai/shared_notebooks/venv/lib/python3.10/site-packages/pandas/core/arraylike.py:402: RuntimeWarning: overflow encountered in exp\n",
      "  result = getattr(ufunc, method)(*inputs, **kwargs)\n",
      "/home/amignon/Projets/upec-introduction-to-ai/shared_notebooks/venv/lib/python3.10/site-packages/pandas/core/arraylike.py:402: RuntimeWarning: overflow encountered in exp\n",
      "  result = getattr(ufunc, method)(*inputs, **kwargs)\n",
      "/home/amignon/Projets/upec-introduction-to-ai/shared_notebooks/venv/lib/python3.10/site-packages/pandas/core/arraylike.py:402: RuntimeWarning: overflow encountered in exp\n",
      "  result = getattr(ufunc, method)(*inputs, **kwargs)\n",
      "/home/amignon/Projets/upec-introduction-to-ai/shared_notebooks/venv/lib/python3.10/site-packages/pandas/core/arraylike.py:402: RuntimeWarning: overflow encountered in exp\n",
      "  result = getattr(ufunc, method)(*inputs, **kwargs)\n",
      "/home/amignon/Projets/upec-introduction-to-ai/shared_notebooks/venv/lib/python3.10/site-packages/pandas/core/arraylike.py:402: RuntimeWarning: overflow encountered in exp\n",
      "  result = getattr(ufunc, method)(*inputs, **kwargs)\n",
      "/home/amignon/Projets/upec-introduction-to-ai/shared_notebooks/venv/lib/python3.10/site-packages/pandas/core/arraylike.py:402: RuntimeWarning: overflow encountered in exp\n",
      "  result = getattr(ufunc, method)(*inputs, **kwargs)\n",
      "/home/amignon/Projets/upec-introduction-to-ai/shared_notebooks/venv/lib/python3.10/site-packages/pandas/core/arraylike.py:402: RuntimeWarning: overflow encountered in exp\n",
      "  result = getattr(ufunc, method)(*inputs, **kwargs)\n",
      "/home/amignon/Projets/upec-introduction-to-ai/shared_notebooks/venv/lib/python3.10/site-packages/pandas/core/arraylike.py:402: RuntimeWarning: overflow encountered in exp\n",
      "  result = getattr(ufunc, method)(*inputs, **kwargs)\n",
      "/home/amignon/Projets/upec-introduction-to-ai/shared_notebooks/venv/lib/python3.10/site-packages/pandas/core/arraylike.py:402: RuntimeWarning: overflow encountered in exp\n",
      "  result = getattr(ufunc, method)(*inputs, **kwargs)\n",
      "/home/amignon/Projets/upec-introduction-to-ai/shared_notebooks/venv/lib/python3.10/site-packages/pandas/core/arraylike.py:402: RuntimeWarning: overflow encountered in exp\n",
      "  result = getattr(ufunc, method)(*inputs, **kwargs)\n",
      "/home/amignon/Projets/upec-introduction-to-ai/shared_notebooks/venv/lib/python3.10/site-packages/pandas/core/arraylike.py:402: RuntimeWarning: overflow encountered in exp\n",
      "  result = getattr(ufunc, method)(*inputs, **kwargs)\n",
      "/home/amignon/Projets/upec-introduction-to-ai/shared_notebooks/venv/lib/python3.10/site-packages/pandas/core/arraylike.py:402: RuntimeWarning: overflow encountered in exp\n",
      "  result = getattr(ufunc, method)(*inputs, **kwargs)\n",
      "/home/amignon/Projets/upec-introduction-to-ai/shared_notebooks/venv/lib/python3.10/site-packages/pandas/core/arraylike.py:402: RuntimeWarning: overflow encountered in exp\n",
      "  result = getattr(ufunc, method)(*inputs, **kwargs)\n",
      "/home/amignon/Projets/upec-introduction-to-ai/shared_notebooks/venv/lib/python3.10/site-packages/pandas/core/arraylike.py:402: RuntimeWarning: overflow encountered in exp\n",
      "  result = getattr(ufunc, method)(*inputs, **kwargs)\n",
      "/home/amignon/Projets/upec-introduction-to-ai/shared_notebooks/venv/lib/python3.10/site-packages/pandas/core/arraylike.py:402: RuntimeWarning: overflow encountered in exp\n",
      "  result = getattr(ufunc, method)(*inputs, **kwargs)\n",
      "/home/amignon/Projets/upec-introduction-to-ai/shared_notebooks/venv/lib/python3.10/site-packages/pandas/core/arraylike.py:402: RuntimeWarning: overflow encountered in exp\n",
      "  result = getattr(ufunc, method)(*inputs, **kwargs)\n",
      "/home/amignon/Projets/upec-introduction-to-ai/shared_notebooks/venv/lib/python3.10/site-packages/sklearn/linear_model/_logistic.py:444: ConvergenceWarning: lbfgs failed to converge (status=1):\n",
      "STOP: TOTAL NO. of ITERATIONS REACHED LIMIT.\n",
      "\n",
      "Increase the number of iterations (max_iter) or scale the data as shown in:\n",
      "    https://scikit-learn.org/stable/modules/preprocessing.html\n",
      "Please also refer to the documentation for alternative solver options:\n",
      "    https://scikit-learn.org/stable/modules/linear_model.html#logistic-regression\n",
      "  n_iter_i = _check_optimize_result(\n",
      "/home/amignon/Projets/upec-introduction-to-ai/shared_notebooks/venv/lib/python3.10/site-packages/sklearn/linear_model/_logistic.py:444: ConvergenceWarning: lbfgs failed to converge (status=1):\n",
      "STOP: TOTAL NO. of ITERATIONS REACHED LIMIT.\n",
      "\n",
      "Increase the number of iterations (max_iter) or scale the data as shown in:\n",
      "    https://scikit-learn.org/stable/modules/preprocessing.html\n",
      "Please also refer to the documentation for alternative solver options:\n",
      "    https://scikit-learn.org/stable/modules/linear_model.html#logistic-regression\n",
      "  n_iter_i = _check_optimize_result(\n"
     ]
    },
    {
     "name": "stderr",
     "output_type": "stream",
     "text": [
      "/home/amignon/Projets/upec-introduction-to-ai/shared_notebooks/venv/lib/python3.10/site-packages/sklearn/linear_model/_logistic.py:444: ConvergenceWarning: lbfgs failed to converge (status=1):\n",
      "STOP: TOTAL NO. of ITERATIONS REACHED LIMIT.\n",
      "\n",
      "Increase the number of iterations (max_iter) or scale the data as shown in:\n",
      "    https://scikit-learn.org/stable/modules/preprocessing.html\n",
      "Please also refer to the documentation for alternative solver options:\n",
      "    https://scikit-learn.org/stable/modules/linear_model.html#logistic-regression\n",
      "  n_iter_i = _check_optimize_result(\n",
      "/home/amignon/Projets/upec-introduction-to-ai/shared_notebooks/venv/lib/python3.10/site-packages/sklearn/linear_model/_logistic.py:444: ConvergenceWarning: lbfgs failed to converge (status=1):\n",
      "STOP: TOTAL NO. of ITERATIONS REACHED LIMIT.\n",
      "\n",
      "Increase the number of iterations (max_iter) or scale the data as shown in:\n",
      "    https://scikit-learn.org/stable/modules/preprocessing.html\n",
      "Please also refer to the documentation for alternative solver options:\n",
      "    https://scikit-learn.org/stable/modules/linear_model.html#logistic-regression\n",
      "  n_iter_i = _check_optimize_result(\n",
      "/home/amignon/Projets/upec-introduction-to-ai/shared_notebooks/venv/lib/python3.10/site-packages/pandas/core/arraylike.py:402: RuntimeWarning: overflow encountered in exp\n",
      "  result = getattr(ufunc, method)(*inputs, **kwargs)\n",
      "/home/amignon/Projets/upec-introduction-to-ai/shared_notebooks/venv/lib/python3.10/site-packages/pandas/core/arraylike.py:402: RuntimeWarning: overflow encountered in exp\n",
      "  result = getattr(ufunc, method)(*inputs, **kwargs)\n",
      "/home/amignon/Projets/upec-introduction-to-ai/shared_notebooks/venv/lib/python3.10/site-packages/pandas/core/arraylike.py:402: RuntimeWarning: overflow encountered in exp\n",
      "  result = getattr(ufunc, method)(*inputs, **kwargs)\n",
      "/home/amignon/Projets/upec-introduction-to-ai/shared_notebooks/venv/lib/python3.10/site-packages/pandas/core/arraylike.py:402: RuntimeWarning: overflow encountered in exp\n",
      "  result = getattr(ufunc, method)(*inputs, **kwargs)\n",
      "/home/amignon/Projets/upec-introduction-to-ai/shared_notebooks/venv/lib/python3.10/site-packages/pandas/core/arraylike.py:402: RuntimeWarning: overflow encountered in exp\n",
      "  result = getattr(ufunc, method)(*inputs, **kwargs)\n",
      "/home/amignon/Projets/upec-introduction-to-ai/shared_notebooks/venv/lib/python3.10/site-packages/pandas/core/arraylike.py:402: RuntimeWarning: overflow encountered in exp\n",
      "  result = getattr(ufunc, method)(*inputs, **kwargs)\n",
      "/home/amignon/Projets/upec-introduction-to-ai/shared_notebooks/venv/lib/python3.10/site-packages/pandas/core/arraylike.py:402: RuntimeWarning: overflow encountered in exp\n",
      "  result = getattr(ufunc, method)(*inputs, **kwargs)\n",
      "/home/amignon/Projets/upec-introduction-to-ai/shared_notebooks/venv/lib/python3.10/site-packages/pandas/core/arraylike.py:402: RuntimeWarning: overflow encountered in exp\n",
      "  result = getattr(ufunc, method)(*inputs, **kwargs)\n",
      "/home/amignon/Projets/upec-introduction-to-ai/shared_notebooks/venv/lib/python3.10/site-packages/pandas/core/arraylike.py:402: RuntimeWarning: overflow encountered in exp\n",
      "  result = getattr(ufunc, method)(*inputs, **kwargs)\n",
      "/home/amignon/Projets/upec-introduction-to-ai/shared_notebooks/venv/lib/python3.10/site-packages/pandas/core/arraylike.py:402: RuntimeWarning: overflow encountered in exp\n",
      "  result = getattr(ufunc, method)(*inputs, **kwargs)\n",
      "/home/amignon/Projets/upec-introduction-to-ai/shared_notebooks/venv/lib/python3.10/site-packages/pandas/core/arraylike.py:402: RuntimeWarning: overflow encountered in exp\n",
      "  result = getattr(ufunc, method)(*inputs, **kwargs)\n",
      "/home/amignon/Projets/upec-introduction-to-ai/shared_notebooks/venv/lib/python3.10/site-packages/pandas/core/arraylike.py:402: RuntimeWarning: overflow encountered in exp\n",
      "  result = getattr(ufunc, method)(*inputs, **kwargs)\n",
      "/home/amignon/Projets/upec-introduction-to-ai/shared_notebooks/venv/lib/python3.10/site-packages/pandas/core/arraylike.py:402: RuntimeWarning: overflow encountered in exp\n",
      "  result = getattr(ufunc, method)(*inputs, **kwargs)\n",
      "/home/amignon/Projets/upec-introduction-to-ai/shared_notebooks/venv/lib/python3.10/site-packages/pandas/core/arraylike.py:402: RuntimeWarning: overflow encountered in exp\n",
      "  result = getattr(ufunc, method)(*inputs, **kwargs)\n",
      "/home/amignon/Projets/upec-introduction-to-ai/shared_notebooks/venv/lib/python3.10/site-packages/pandas/core/arraylike.py:402: RuntimeWarning: overflow encountered in exp\n",
      "  result = getattr(ufunc, method)(*inputs, **kwargs)\n",
      "/home/amignon/Projets/upec-introduction-to-ai/shared_notebooks/venv/lib/python3.10/site-packages/pandas/core/arraylike.py:402: RuntimeWarning: overflow encountered in exp\n",
      "  result = getattr(ufunc, method)(*inputs, **kwargs)\n",
      "/home/amignon/Projets/upec-introduction-to-ai/shared_notebooks/venv/lib/python3.10/site-packages/pandas/core/arraylike.py:402: RuntimeWarning: overflow encountered in exp\n",
      "  result = getattr(ufunc, method)(*inputs, **kwargs)\n",
      "/home/amignon/Projets/upec-introduction-to-ai/shared_notebooks/venv/lib/python3.10/site-packages/pandas/core/arraylike.py:402: RuntimeWarning: overflow encountered in exp\n",
      "  result = getattr(ufunc, method)(*inputs, **kwargs)\n",
      "/home/amignon/Projets/upec-introduction-to-ai/shared_notebooks/venv/lib/python3.10/site-packages/pandas/core/arraylike.py:402: RuntimeWarning: overflow encountered in exp\n",
      "  result = getattr(ufunc, method)(*inputs, **kwargs)\n",
      "/home/amignon/Projets/upec-introduction-to-ai/shared_notebooks/venv/lib/python3.10/site-packages/pandas/core/arraylike.py:402: RuntimeWarning: overflow encountered in exp\n",
      "  result = getattr(ufunc, method)(*inputs, **kwargs)\n",
      "/home/amignon/Projets/upec-introduction-to-ai/shared_notebooks/venv/lib/python3.10/site-packages/pandas/core/arraylike.py:402: RuntimeWarning: overflow encountered in exp\n",
      "  result = getattr(ufunc, method)(*inputs, **kwargs)\n",
      "/home/amignon/Projets/upec-introduction-to-ai/shared_notebooks/venv/lib/python3.10/site-packages/pandas/core/arraylike.py:402: RuntimeWarning: overflow encountered in exp\n",
      "  result = getattr(ufunc, method)(*inputs, **kwargs)\n",
      "/home/amignon/Projets/upec-introduction-to-ai/shared_notebooks/venv/lib/python3.10/site-packages/pandas/core/arraylike.py:402: RuntimeWarning: overflow encountered in exp\n",
      "  result = getattr(ufunc, method)(*inputs, **kwargs)\n",
      "/home/amignon/Projets/upec-introduction-to-ai/shared_notebooks/venv/lib/python3.10/site-packages/pandas/core/arraylike.py:402: RuntimeWarning: overflow encountered in exp\n",
      "  result = getattr(ufunc, method)(*inputs, **kwargs)\n",
      "/home/amignon/Projets/upec-introduction-to-ai/shared_notebooks/venv/lib/python3.10/site-packages/pandas/core/arraylike.py:402: RuntimeWarning: overflow encountered in exp\n",
      "  result = getattr(ufunc, method)(*inputs, **kwargs)\n",
      "/home/amignon/Projets/upec-introduction-to-ai/shared_notebooks/venv/lib/python3.10/site-packages/pandas/core/arraylike.py:402: RuntimeWarning: overflow encountered in exp\n",
      "  result = getattr(ufunc, method)(*inputs, **kwargs)\n",
      "/home/amignon/Projets/upec-introduction-to-ai/shared_notebooks/venv/lib/python3.10/site-packages/pandas/core/arraylike.py:402: RuntimeWarning: overflow encountered in exp\n",
      "  result = getattr(ufunc, method)(*inputs, **kwargs)\n",
      "/home/amignon/Projets/upec-introduction-to-ai/shared_notebooks/venv/lib/python3.10/site-packages/pandas/core/arraylike.py:402: RuntimeWarning: overflow encountered in exp\n",
      "  result = getattr(ufunc, method)(*inputs, **kwargs)\n",
      "/home/amignon/Projets/upec-introduction-to-ai/shared_notebooks/venv/lib/python3.10/site-packages/pandas/core/arraylike.py:402: RuntimeWarning: overflow encountered in exp\n",
      "  result = getattr(ufunc, method)(*inputs, **kwargs)\n",
      "/home/amignon/Projets/upec-introduction-to-ai/shared_notebooks/venv/lib/python3.10/site-packages/pandas/core/arraylike.py:402: RuntimeWarning: overflow encountered in exp\n",
      "  result = getattr(ufunc, method)(*inputs, **kwargs)\n",
      "/home/amignon/Projets/upec-introduction-to-ai/shared_notebooks/venv/lib/python3.10/site-packages/pandas/core/arraylike.py:402: RuntimeWarning: overflow encountered in exp\n",
      "  result = getattr(ufunc, method)(*inputs, **kwargs)\n",
      "/home/amignon/Projets/upec-introduction-to-ai/shared_notebooks/venv/lib/python3.10/site-packages/pandas/core/arraylike.py:402: RuntimeWarning: overflow encountered in exp\n",
      "  result = getattr(ufunc, method)(*inputs, **kwargs)\n"
     ]
    },
    {
     "name": "stderr",
     "output_type": "stream",
     "text": [
      "/home/amignon/Projets/upec-introduction-to-ai/shared_notebooks/venv/lib/python3.10/site-packages/pandas/core/arraylike.py:402: RuntimeWarning: overflow encountered in exp\n",
      "  result = getattr(ufunc, method)(*inputs, **kwargs)\n",
      "/home/amignon/Projets/upec-introduction-to-ai/shared_notebooks/venv/lib/python3.10/site-packages/pandas/core/arraylike.py:402: RuntimeWarning: overflow encountered in exp\n",
      "  result = getattr(ufunc, method)(*inputs, **kwargs)\n",
      "/home/amignon/Projets/upec-introduction-to-ai/shared_notebooks/venv/lib/python3.10/site-packages/pandas/core/arraylike.py:402: RuntimeWarning: overflow encountered in exp\n",
      "  result = getattr(ufunc, method)(*inputs, **kwargs)\n",
      "/home/amignon/Projets/upec-introduction-to-ai/shared_notebooks/venv/lib/python3.10/site-packages/pandas/core/arraylike.py:402: RuntimeWarning: overflow encountered in exp\n",
      "  result = getattr(ufunc, method)(*inputs, **kwargs)\n",
      "/home/amignon/Projets/upec-introduction-to-ai/shared_notebooks/venv/lib/python3.10/site-packages/pandas/core/arraylike.py:402: RuntimeWarning: overflow encountered in exp\n",
      "  result = getattr(ufunc, method)(*inputs, **kwargs)\n",
      "/home/amignon/Projets/upec-introduction-to-ai/shared_notebooks/venv/lib/python3.10/site-packages/pandas/core/arraylike.py:402: RuntimeWarning: overflow encountered in exp\n",
      "  result = getattr(ufunc, method)(*inputs, **kwargs)\n",
      "/home/amignon/Projets/upec-introduction-to-ai/shared_notebooks/venv/lib/python3.10/site-packages/pandas/core/arraylike.py:402: RuntimeWarning: overflow encountered in exp\n",
      "  result = getattr(ufunc, method)(*inputs, **kwargs)\n",
      "/home/amignon/Projets/upec-introduction-to-ai/shared_notebooks/venv/lib/python3.10/site-packages/pandas/core/arraylike.py:402: RuntimeWarning: overflow encountered in exp\n",
      "  result = getattr(ufunc, method)(*inputs, **kwargs)\n",
      "/home/amignon/Projets/upec-introduction-to-ai/shared_notebooks/venv/lib/python3.10/site-packages/pandas/core/arraylike.py:402: RuntimeWarning: overflow encountered in exp\n",
      "  result = getattr(ufunc, method)(*inputs, **kwargs)\n",
      "/home/amignon/Projets/upec-introduction-to-ai/shared_notebooks/venv/lib/python3.10/site-packages/pandas/core/arraylike.py:402: RuntimeWarning: overflow encountered in exp\n",
      "  result = getattr(ufunc, method)(*inputs, **kwargs)\n",
      "/home/amignon/Projets/upec-introduction-to-ai/shared_notebooks/venv/lib/python3.10/site-packages/pandas/core/arraylike.py:402: RuntimeWarning: overflow encountered in exp\n",
      "  result = getattr(ufunc, method)(*inputs, **kwargs)\n",
      "/home/amignon/Projets/upec-introduction-to-ai/shared_notebooks/venv/lib/python3.10/site-packages/pandas/core/arraylike.py:402: RuntimeWarning: overflow encountered in exp\n",
      "  result = getattr(ufunc, method)(*inputs, **kwargs)\n",
      "/home/amignon/Projets/upec-introduction-to-ai/shared_notebooks/venv/lib/python3.10/site-packages/pandas/core/arraylike.py:402: RuntimeWarning: overflow encountered in exp\n",
      "  result = getattr(ufunc, method)(*inputs, **kwargs)\n",
      "/home/amignon/Projets/upec-introduction-to-ai/shared_notebooks/venv/lib/python3.10/site-packages/pandas/core/arraylike.py:402: RuntimeWarning: overflow encountered in exp\n",
      "  result = getattr(ufunc, method)(*inputs, **kwargs)\n",
      "/home/amignon/Projets/upec-introduction-to-ai/shared_notebooks/venv/lib/python3.10/site-packages/pandas/core/arraylike.py:402: RuntimeWarning: overflow encountered in exp\n",
      "  result = getattr(ufunc, method)(*inputs, **kwargs)\n",
      "/home/amignon/Projets/upec-introduction-to-ai/shared_notebooks/venv/lib/python3.10/site-packages/pandas/core/arraylike.py:402: RuntimeWarning: overflow encountered in exp\n",
      "  result = getattr(ufunc, method)(*inputs, **kwargs)\n",
      "/home/amignon/Projets/upec-introduction-to-ai/shared_notebooks/venv/lib/python3.10/site-packages/pandas/core/arraylike.py:402: RuntimeWarning: overflow encountered in exp\n",
      "  result = getattr(ufunc, method)(*inputs, **kwargs)\n",
      "/home/amignon/Projets/upec-introduction-to-ai/shared_notebooks/venv/lib/python3.10/site-packages/pandas/core/arraylike.py:402: RuntimeWarning: overflow encountered in exp\n",
      "  result = getattr(ufunc, method)(*inputs, **kwargs)\n",
      "/home/amignon/Projets/upec-introduction-to-ai/shared_notebooks/venv/lib/python3.10/site-packages/pandas/core/arraylike.py:402: RuntimeWarning: overflow encountered in exp\n",
      "  result = getattr(ufunc, method)(*inputs, **kwargs)\n",
      "/home/amignon/Projets/upec-introduction-to-ai/shared_notebooks/venv/lib/python3.10/site-packages/pandas/core/arraylike.py:402: RuntimeWarning: overflow encountered in exp\n",
      "  result = getattr(ufunc, method)(*inputs, **kwargs)\n",
      "/home/amignon/Projets/upec-introduction-to-ai/shared_notebooks/venv/lib/python3.10/site-packages/pandas/core/arraylike.py:402: RuntimeWarning: overflow encountered in exp\n",
      "  result = getattr(ufunc, method)(*inputs, **kwargs)\n",
      "/home/amignon/Projets/upec-introduction-to-ai/shared_notebooks/venv/lib/python3.10/site-packages/pandas/core/arraylike.py:402: RuntimeWarning: overflow encountered in exp\n",
      "  result = getattr(ufunc, method)(*inputs, **kwargs)\n",
      "/home/amignon/Projets/upec-introduction-to-ai/shared_notebooks/venv/lib/python3.10/site-packages/pandas/core/arraylike.py:402: RuntimeWarning: overflow encountered in exp\n",
      "  result = getattr(ufunc, method)(*inputs, **kwargs)\n",
      "/home/amignon/Projets/upec-introduction-to-ai/shared_notebooks/venv/lib/python3.10/site-packages/pandas/core/arraylike.py:402: RuntimeWarning: overflow encountered in exp\n",
      "  result = getattr(ufunc, method)(*inputs, **kwargs)\n",
      "/home/amignon/Projets/upec-introduction-to-ai/shared_notebooks/venv/lib/python3.10/site-packages/pandas/core/arraylike.py:402: RuntimeWarning: overflow encountered in exp\n",
      "  result = getattr(ufunc, method)(*inputs, **kwargs)\n",
      "/home/amignon/Projets/upec-introduction-to-ai/shared_notebooks/venv/lib/python3.10/site-packages/pandas/core/arraylike.py:402: RuntimeWarning: overflow encountered in exp\n",
      "  result = getattr(ufunc, method)(*inputs, **kwargs)\n",
      "/home/amignon/Projets/upec-introduction-to-ai/shared_notebooks/venv/lib/python3.10/site-packages/pandas/core/arraylike.py:402: RuntimeWarning: overflow encountered in exp\n",
      "  result = getattr(ufunc, method)(*inputs, **kwargs)\n",
      "/home/amignon/Projets/upec-introduction-to-ai/shared_notebooks/venv/lib/python3.10/site-packages/pandas/core/arraylike.py:402: RuntimeWarning: overflow encountered in exp\n",
      "  result = getattr(ufunc, method)(*inputs, **kwargs)\n",
      "/home/amignon/Projets/upec-introduction-to-ai/shared_notebooks/venv/lib/python3.10/site-packages/pandas/core/arraylike.py:402: RuntimeWarning: overflow encountered in exp\n",
      "  result = getattr(ufunc, method)(*inputs, **kwargs)\n",
      "/home/amignon/Projets/upec-introduction-to-ai/shared_notebooks/venv/lib/python3.10/site-packages/pandas/core/arraylike.py:402: RuntimeWarning: overflow encountered in exp\n",
      "  result = getattr(ufunc, method)(*inputs, **kwargs)\n",
      "/home/amignon/Projets/upec-introduction-to-ai/shared_notebooks/venv/lib/python3.10/site-packages/pandas/core/arraylike.py:402: RuntimeWarning: overflow encountered in exp\n",
      "  result = getattr(ufunc, method)(*inputs, **kwargs)\n",
      "/home/amignon/Projets/upec-introduction-to-ai/shared_notebooks/venv/lib/python3.10/site-packages/pandas/core/arraylike.py:402: RuntimeWarning: overflow encountered in exp\n",
      "  result = getattr(ufunc, method)(*inputs, **kwargs)\n",
      "/home/amignon/Projets/upec-introduction-to-ai/shared_notebooks/venv/lib/python3.10/site-packages/pandas/core/arraylike.py:402: RuntimeWarning: overflow encountered in exp\n",
      "  result = getattr(ufunc, method)(*inputs, **kwargs)\n",
      "/home/amignon/Projets/upec-introduction-to-ai/shared_notebooks/venv/lib/python3.10/site-packages/pandas/core/arraylike.py:402: RuntimeWarning: overflow encountered in exp\n",
      "  result = getattr(ufunc, method)(*inputs, **kwargs)\n",
      "/home/amignon/Projets/upec-introduction-to-ai/shared_notebooks/venv/lib/python3.10/site-packages/pandas/core/arraylike.py:402: RuntimeWarning: overflow encountered in exp\n",
      "  result = getattr(ufunc, method)(*inputs, **kwargs)\n",
      "/home/amignon/Projets/upec-introduction-to-ai/shared_notebooks/venv/lib/python3.10/site-packages/pandas/core/arraylike.py:402: RuntimeWarning: overflow encountered in exp\n",
      "  result = getattr(ufunc, method)(*inputs, **kwargs)\n",
      "/home/amignon/Projets/upec-introduction-to-ai/shared_notebooks/venv/lib/python3.10/site-packages/pandas/core/arraylike.py:402: RuntimeWarning: overflow encountered in exp\n",
      "  result = getattr(ufunc, method)(*inputs, **kwargs)\n",
      "/home/amignon/Projets/upec-introduction-to-ai/shared_notebooks/venv/lib/python3.10/site-packages/pandas/core/arraylike.py:402: RuntimeWarning: overflow encountered in exp\n",
      "  result = getattr(ufunc, method)(*inputs, **kwargs)\n",
      "/home/amignon/Projets/upec-introduction-to-ai/shared_notebooks/venv/lib/python3.10/site-packages/pandas/core/arraylike.py:402: RuntimeWarning: overflow encountered in exp\n",
      "  result = getattr(ufunc, method)(*inputs, **kwargs)\n",
      "/home/amignon/Projets/upec-introduction-to-ai/shared_notebooks/venv/lib/python3.10/site-packages/pandas/core/arraylike.py:402: RuntimeWarning: overflow encountered in exp\n",
      "  result = getattr(ufunc, method)(*inputs, **kwargs)\n"
     ]
    },
    {
     "name": "stderr",
     "output_type": "stream",
     "text": [
      "/home/amignon/Projets/upec-introduction-to-ai/shared_notebooks/venv/lib/python3.10/site-packages/pandas/core/arraylike.py:402: RuntimeWarning: overflow encountered in exp\n",
      "  result = getattr(ufunc, method)(*inputs, **kwargs)\n",
      "/home/amignon/Projets/upec-introduction-to-ai/shared_notebooks/venv/lib/python3.10/site-packages/pandas/core/arraylike.py:402: RuntimeWarning: overflow encountered in exp\n",
      "  result = getattr(ufunc, method)(*inputs, **kwargs)\n",
      "/home/amignon/Projets/upec-introduction-to-ai/shared_notebooks/venv/lib/python3.10/site-packages/pandas/core/arraylike.py:402: RuntimeWarning: overflow encountered in exp\n",
      "  result = getattr(ufunc, method)(*inputs, **kwargs)\n",
      "/home/amignon/Projets/upec-introduction-to-ai/shared_notebooks/venv/lib/python3.10/site-packages/pandas/core/arraylike.py:402: RuntimeWarning: overflow encountered in exp\n",
      "  result = getattr(ufunc, method)(*inputs, **kwargs)\n",
      "/home/amignon/Projets/upec-introduction-to-ai/shared_notebooks/venv/lib/python3.10/site-packages/pandas/core/arraylike.py:402: RuntimeWarning: overflow encountered in exp\n",
      "  result = getattr(ufunc, method)(*inputs, **kwargs)\n",
      "/home/amignon/Projets/upec-introduction-to-ai/shared_notebooks/venv/lib/python3.10/site-packages/pandas/core/arraylike.py:402: RuntimeWarning: overflow encountered in exp\n",
      "  result = getattr(ufunc, method)(*inputs, **kwargs)\n",
      "/home/amignon/Projets/upec-introduction-to-ai/shared_notebooks/venv/lib/python3.10/site-packages/pandas/core/arraylike.py:402: RuntimeWarning: overflow encountered in exp\n",
      "  result = getattr(ufunc, method)(*inputs, **kwargs)\n",
      "/home/amignon/Projets/upec-introduction-to-ai/shared_notebooks/venv/lib/python3.10/site-packages/pandas/core/arraylike.py:402: RuntimeWarning: overflow encountered in exp\n",
      "  result = getattr(ufunc, method)(*inputs, **kwargs)\n",
      "/home/amignon/Projets/upec-introduction-to-ai/shared_notebooks/venv/lib/python3.10/site-packages/pandas/core/arraylike.py:402: RuntimeWarning: overflow encountered in exp\n",
      "  result = getattr(ufunc, method)(*inputs, **kwargs)\n",
      "/home/amignon/Projets/upec-introduction-to-ai/shared_notebooks/venv/lib/python3.10/site-packages/pandas/core/arraylike.py:402: RuntimeWarning: overflow encountered in exp\n",
      "  result = getattr(ufunc, method)(*inputs, **kwargs)\n",
      "/home/amignon/Projets/upec-introduction-to-ai/shared_notebooks/venv/lib/python3.10/site-packages/pandas/core/arraylike.py:402: RuntimeWarning: overflow encountered in exp\n",
      "  result = getattr(ufunc, method)(*inputs, **kwargs)\n",
      "/home/amignon/Projets/upec-introduction-to-ai/shared_notebooks/venv/lib/python3.10/site-packages/pandas/core/arraylike.py:402: RuntimeWarning: overflow encountered in exp\n",
      "  result = getattr(ufunc, method)(*inputs, **kwargs)\n",
      "/home/amignon/Projets/upec-introduction-to-ai/shared_notebooks/venv/lib/python3.10/site-packages/pandas/core/arraylike.py:402: RuntimeWarning: overflow encountered in exp\n",
      "  result = getattr(ufunc, method)(*inputs, **kwargs)\n",
      "/home/amignon/Projets/upec-introduction-to-ai/shared_notebooks/venv/lib/python3.10/site-packages/pandas/core/arraylike.py:402: RuntimeWarning: overflow encountered in exp\n",
      "  result = getattr(ufunc, method)(*inputs, **kwargs)\n",
      "/home/amignon/Projets/upec-introduction-to-ai/shared_notebooks/venv/lib/python3.10/site-packages/pandas/core/arraylike.py:402: RuntimeWarning: overflow encountered in exp\n",
      "  result = getattr(ufunc, method)(*inputs, **kwargs)\n",
      "/home/amignon/Projets/upec-introduction-to-ai/shared_notebooks/venv/lib/python3.10/site-packages/pandas/core/arraylike.py:402: RuntimeWarning: overflow encountered in exp\n",
      "  result = getattr(ufunc, method)(*inputs, **kwargs)\n",
      "/home/amignon/Projets/upec-introduction-to-ai/shared_notebooks/venv/lib/python3.10/site-packages/pandas/core/arraylike.py:402: RuntimeWarning: overflow encountered in exp\n",
      "  result = getattr(ufunc, method)(*inputs, **kwargs)\n",
      "/home/amignon/Projets/upec-introduction-to-ai/shared_notebooks/venv/lib/python3.10/site-packages/pandas/core/arraylike.py:402: RuntimeWarning: overflow encountered in exp\n",
      "  result = getattr(ufunc, method)(*inputs, **kwargs)\n",
      "/home/amignon/Projets/upec-introduction-to-ai/shared_notebooks/venv/lib/python3.10/site-packages/pandas/core/arraylike.py:402: RuntimeWarning: overflow encountered in exp\n",
      "  result = getattr(ufunc, method)(*inputs, **kwargs)\n",
      "/home/amignon/Projets/upec-introduction-to-ai/shared_notebooks/venv/lib/python3.10/site-packages/pandas/core/arraylike.py:402: RuntimeWarning: overflow encountered in exp\n",
      "  result = getattr(ufunc, method)(*inputs, **kwargs)\n",
      "/home/amignon/Projets/upec-introduction-to-ai/shared_notebooks/venv/lib/python3.10/site-packages/pandas/core/arraylike.py:402: RuntimeWarning: overflow encountered in exp\n",
      "  result = getattr(ufunc, method)(*inputs, **kwargs)\n",
      "/home/amignon/Projets/upec-introduction-to-ai/shared_notebooks/venv/lib/python3.10/site-packages/pandas/core/arraylike.py:402: RuntimeWarning: overflow encountered in exp\n",
      "  result = getattr(ufunc, method)(*inputs, **kwargs)\n",
      "/home/amignon/Projets/upec-introduction-to-ai/shared_notebooks/venv/lib/python3.10/site-packages/pandas/core/arraylike.py:402: RuntimeWarning: overflow encountered in exp\n",
      "  result = getattr(ufunc, method)(*inputs, **kwargs)\n",
      "/home/amignon/Projets/upec-introduction-to-ai/shared_notebooks/venv/lib/python3.10/site-packages/pandas/core/arraylike.py:402: RuntimeWarning: overflow encountered in exp\n",
      "  result = getattr(ufunc, method)(*inputs, **kwargs)\n",
      "/home/amignon/Projets/upec-introduction-to-ai/shared_notebooks/venv/lib/python3.10/site-packages/pandas/core/arraylike.py:402: RuntimeWarning: overflow encountered in exp\n",
      "  result = getattr(ufunc, method)(*inputs, **kwargs)\n",
      "/home/amignon/Projets/upec-introduction-to-ai/shared_notebooks/venv/lib/python3.10/site-packages/pandas/core/arraylike.py:402: RuntimeWarning: overflow encountered in exp\n",
      "  result = getattr(ufunc, method)(*inputs, **kwargs)\n",
      "/home/amignon/Projets/upec-introduction-to-ai/shared_notebooks/venv/lib/python3.10/site-packages/pandas/core/arraylike.py:402: RuntimeWarning: overflow encountered in exp\n",
      "  result = getattr(ufunc, method)(*inputs, **kwargs)\n",
      "/home/amignon/Projets/upec-introduction-to-ai/shared_notebooks/venv/lib/python3.10/site-packages/pandas/core/arraylike.py:402: RuntimeWarning: overflow encountered in exp\n",
      "  result = getattr(ufunc, method)(*inputs, **kwargs)\n",
      "/home/amignon/Projets/upec-introduction-to-ai/shared_notebooks/venv/lib/python3.10/site-packages/pandas/core/arraylike.py:402: RuntimeWarning: overflow encountered in exp\n",
      "  result = getattr(ufunc, method)(*inputs, **kwargs)\n",
      "/home/amignon/Projets/upec-introduction-to-ai/shared_notebooks/venv/lib/python3.10/site-packages/pandas/core/arraylike.py:402: RuntimeWarning: overflow encountered in exp\n",
      "  result = getattr(ufunc, method)(*inputs, **kwargs)\n",
      "/home/amignon/Projets/upec-introduction-to-ai/shared_notebooks/venv/lib/python3.10/site-packages/pandas/core/arraylike.py:402: RuntimeWarning: overflow encountered in exp\n",
      "  result = getattr(ufunc, method)(*inputs, **kwargs)\n",
      "/home/amignon/Projets/upec-introduction-to-ai/shared_notebooks/venv/lib/python3.10/site-packages/pandas/core/arraylike.py:402: RuntimeWarning: overflow encountered in exp\n",
      "  result = getattr(ufunc, method)(*inputs, **kwargs)\n",
      "/home/amignon/Projets/upec-introduction-to-ai/shared_notebooks/venv/lib/python3.10/site-packages/pandas/core/arraylike.py:402: RuntimeWarning: overflow encountered in exp\n",
      "  result = getattr(ufunc, method)(*inputs, **kwargs)\n",
      "/home/amignon/Projets/upec-introduction-to-ai/shared_notebooks/venv/lib/python3.10/site-packages/pandas/core/arraylike.py:402: RuntimeWarning: overflow encountered in exp\n",
      "  result = getattr(ufunc, method)(*inputs, **kwargs)\n",
      "/home/amignon/Projets/upec-introduction-to-ai/shared_notebooks/venv/lib/python3.10/site-packages/pandas/core/arraylike.py:402: RuntimeWarning: overflow encountered in exp\n",
      "  result = getattr(ufunc, method)(*inputs, **kwargs)\n",
      "/home/amignon/Projets/upec-introduction-to-ai/shared_notebooks/venv/lib/python3.10/site-packages/pandas/core/arraylike.py:402: RuntimeWarning: overflow encountered in exp\n",
      "  result = getattr(ufunc, method)(*inputs, **kwargs)\n",
      "/home/amignon/Projets/upec-introduction-to-ai/shared_notebooks/venv/lib/python3.10/site-packages/pandas/core/arraylike.py:402: RuntimeWarning: overflow encountered in exp\n",
      "  result = getattr(ufunc, method)(*inputs, **kwargs)\n",
      "/home/amignon/Projets/upec-introduction-to-ai/shared_notebooks/venv/lib/python3.10/site-packages/pandas/core/arraylike.py:402: RuntimeWarning: overflow encountered in exp\n",
      "  result = getattr(ufunc, method)(*inputs, **kwargs)\n"
     ]
    },
    {
     "name": "stderr",
     "output_type": "stream",
     "text": [
      "/home/amignon/Projets/upec-introduction-to-ai/shared_notebooks/venv/lib/python3.10/site-packages/pandas/core/arraylike.py:402: RuntimeWarning: overflow encountered in exp\n",
      "  result = getattr(ufunc, method)(*inputs, **kwargs)\n",
      "/home/amignon/Projets/upec-introduction-to-ai/shared_notebooks/venv/lib/python3.10/site-packages/pandas/core/arraylike.py:402: RuntimeWarning: overflow encountered in exp\n",
      "  result = getattr(ufunc, method)(*inputs, **kwargs)\n",
      "/home/amignon/Projets/upec-introduction-to-ai/shared_notebooks/venv/lib/python3.10/site-packages/pandas/core/arraylike.py:402: RuntimeWarning: overflow encountered in exp\n",
      "  result = getattr(ufunc, method)(*inputs, **kwargs)\n",
      "/home/amignon/Projets/upec-introduction-to-ai/shared_notebooks/venv/lib/python3.10/site-packages/pandas/core/arraylike.py:402: RuntimeWarning: overflow encountered in exp\n",
      "  result = getattr(ufunc, method)(*inputs, **kwargs)\n",
      "/home/amignon/Projets/upec-introduction-to-ai/shared_notebooks/venv/lib/python3.10/site-packages/pandas/core/arraylike.py:402: RuntimeWarning: overflow encountered in exp\n",
      "  result = getattr(ufunc, method)(*inputs, **kwargs)\n",
      "/home/amignon/Projets/upec-introduction-to-ai/shared_notebooks/venv/lib/python3.10/site-packages/pandas/core/arraylike.py:402: RuntimeWarning: overflow encountered in exp\n",
      "  result = getattr(ufunc, method)(*inputs, **kwargs)\n",
      "/home/amignon/Projets/upec-introduction-to-ai/shared_notebooks/venv/lib/python3.10/site-packages/pandas/core/arraylike.py:402: RuntimeWarning: overflow encountered in exp\n",
      "  result = getattr(ufunc, method)(*inputs, **kwargs)\n",
      "/home/amignon/Projets/upec-introduction-to-ai/shared_notebooks/venv/lib/python3.10/site-packages/pandas/core/arraylike.py:402: RuntimeWarning: overflow encountered in exp\n",
      "  result = getattr(ufunc, method)(*inputs, **kwargs)\n",
      "/home/amignon/Projets/upec-introduction-to-ai/shared_notebooks/venv/lib/python3.10/site-packages/pandas/core/arraylike.py:402: RuntimeWarning: overflow encountered in exp\n",
      "  result = getattr(ufunc, method)(*inputs, **kwargs)\n",
      "/home/amignon/Projets/upec-introduction-to-ai/shared_notebooks/venv/lib/python3.10/site-packages/pandas/core/arraylike.py:402: RuntimeWarning: overflow encountered in exp\n",
      "  result = getattr(ufunc, method)(*inputs, **kwargs)\n",
      "/home/amignon/Projets/upec-introduction-to-ai/shared_notebooks/venv/lib/python3.10/site-packages/sklearn/linear_model/_logistic.py:444: ConvergenceWarning: lbfgs failed to converge (status=1):\n",
      "STOP: TOTAL NO. of ITERATIONS REACHED LIMIT.\n",
      "\n",
      "Increase the number of iterations (max_iter) or scale the data as shown in:\n",
      "    https://scikit-learn.org/stable/modules/preprocessing.html\n",
      "Please also refer to the documentation for alternative solver options:\n",
      "    https://scikit-learn.org/stable/modules/linear_model.html#logistic-regression\n",
      "  n_iter_i = _check_optimize_result(\n",
      "/home/amignon/Projets/upec-introduction-to-ai/shared_notebooks/venv/lib/python3.10/site-packages/sklearn/linear_model/_logistic.py:444: ConvergenceWarning: lbfgs failed to converge (status=1):\n",
      "STOP: TOTAL NO. of ITERATIONS REACHED LIMIT.\n",
      "\n",
      "Increase the number of iterations (max_iter) or scale the data as shown in:\n",
      "    https://scikit-learn.org/stable/modules/preprocessing.html\n",
      "Please also refer to the documentation for alternative solver options:\n",
      "    https://scikit-learn.org/stable/modules/linear_model.html#logistic-regression\n",
      "  n_iter_i = _check_optimize_result(\n",
      "/home/amignon/Projets/upec-introduction-to-ai/shared_notebooks/venv/lib/python3.10/site-packages/pandas/core/arraylike.py:402: RuntimeWarning: overflow encountered in exp\n",
      "  result = getattr(ufunc, method)(*inputs, **kwargs)\n",
      "/home/amignon/Projets/upec-introduction-to-ai/shared_notebooks/venv/lib/python3.10/site-packages/pandas/core/arraylike.py:402: RuntimeWarning: overflow encountered in exp\n",
      "  result = getattr(ufunc, method)(*inputs, **kwargs)\n",
      "/home/amignon/Projets/upec-introduction-to-ai/shared_notebooks/venv/lib/python3.10/site-packages/pandas/core/arraylike.py:402: RuntimeWarning: overflow encountered in exp\n",
      "  result = getattr(ufunc, method)(*inputs, **kwargs)\n",
      "/home/amignon/Projets/upec-introduction-to-ai/shared_notebooks/venv/lib/python3.10/site-packages/pandas/core/arraylike.py:402: RuntimeWarning: overflow encountered in exp\n",
      "  result = getattr(ufunc, method)(*inputs, **kwargs)\n",
      "/home/amignon/Projets/upec-introduction-to-ai/shared_notebooks/venv/lib/python3.10/site-packages/pandas/core/arraylike.py:402: RuntimeWarning: overflow encountered in exp\n",
      "  result = getattr(ufunc, method)(*inputs, **kwargs)\n",
      "/home/amignon/Projets/upec-introduction-to-ai/shared_notebooks/venv/lib/python3.10/site-packages/pandas/core/arraylike.py:402: RuntimeWarning: overflow encountered in exp\n",
      "  result = getattr(ufunc, method)(*inputs, **kwargs)\n",
      "/home/amignon/Projets/upec-introduction-to-ai/shared_notebooks/venv/lib/python3.10/site-packages/pandas/core/arraylike.py:402: RuntimeWarning: overflow encountered in exp\n",
      "  result = getattr(ufunc, method)(*inputs, **kwargs)\n",
      "/home/amignon/Projets/upec-introduction-to-ai/shared_notebooks/venv/lib/python3.10/site-packages/pandas/core/arraylike.py:402: RuntimeWarning: overflow encountered in exp\n",
      "  result = getattr(ufunc, method)(*inputs, **kwargs)\n",
      "/home/amignon/Projets/upec-introduction-to-ai/shared_notebooks/venv/lib/python3.10/site-packages/pandas/core/arraylike.py:402: RuntimeWarning: overflow encountered in exp\n",
      "  result = getattr(ufunc, method)(*inputs, **kwargs)\n",
      "/home/amignon/Projets/upec-introduction-to-ai/shared_notebooks/venv/lib/python3.10/site-packages/pandas/core/arraylike.py:402: RuntimeWarning: overflow encountered in exp\n",
      "  result = getattr(ufunc, method)(*inputs, **kwargs)\n",
      "/home/amignon/Projets/upec-introduction-to-ai/shared_notebooks/venv/lib/python3.10/site-packages/pandas/core/arraylike.py:402: RuntimeWarning: overflow encountered in exp\n",
      "  result = getattr(ufunc, method)(*inputs, **kwargs)\n",
      "/home/amignon/Projets/upec-introduction-to-ai/shared_notebooks/venv/lib/python3.10/site-packages/pandas/core/arraylike.py:402: RuntimeWarning: overflow encountered in exp\n",
      "  result = getattr(ufunc, method)(*inputs, **kwargs)\n",
      "/home/amignon/Projets/upec-introduction-to-ai/shared_notebooks/venv/lib/python3.10/site-packages/pandas/core/arraylike.py:402: RuntimeWarning: overflow encountered in exp\n",
      "  result = getattr(ufunc, method)(*inputs, **kwargs)\n",
      "/home/amignon/Projets/upec-introduction-to-ai/shared_notebooks/venv/lib/python3.10/site-packages/pandas/core/arraylike.py:402: RuntimeWarning: overflow encountered in exp\n",
      "  result = getattr(ufunc, method)(*inputs, **kwargs)\n",
      "/home/amignon/Projets/upec-introduction-to-ai/shared_notebooks/venv/lib/python3.10/site-packages/pandas/core/arraylike.py:402: RuntimeWarning: overflow encountered in exp\n",
      "  result = getattr(ufunc, method)(*inputs, **kwargs)\n",
      "/home/amignon/Projets/upec-introduction-to-ai/shared_notebooks/venv/lib/python3.10/site-packages/pandas/core/arraylike.py:402: RuntimeWarning: overflow encountered in exp\n",
      "  result = getattr(ufunc, method)(*inputs, **kwargs)\n",
      "/home/amignon/Projets/upec-introduction-to-ai/shared_notebooks/venv/lib/python3.10/site-packages/sklearn/linear_model/_logistic.py:444: ConvergenceWarning: lbfgs failed to converge (status=1):\n",
      "STOP: TOTAL NO. of ITERATIONS REACHED LIMIT.\n",
      "\n",
      "Increase the number of iterations (max_iter) or scale the data as shown in:\n",
      "    https://scikit-learn.org/stable/modules/preprocessing.html\n",
      "Please also refer to the documentation for alternative solver options:\n",
      "    https://scikit-learn.org/stable/modules/linear_model.html#logistic-regression\n",
      "  n_iter_i = _check_optimize_result(\n",
      "/home/amignon/Projets/upec-introduction-to-ai/shared_notebooks/venv/lib/python3.10/site-packages/sklearn/linear_model/_logistic.py:444: ConvergenceWarning: lbfgs failed to converge (status=1):\n",
      "STOP: TOTAL NO. of ITERATIONS REACHED LIMIT.\n",
      "\n",
      "Increase the number of iterations (max_iter) or scale the data as shown in:\n",
      "    https://scikit-learn.org/stable/modules/preprocessing.html\n",
      "Please also refer to the documentation for alternative solver options:\n",
      "    https://scikit-learn.org/stable/modules/linear_model.html#logistic-regression\n",
      "  n_iter_i = _check_optimize_result(\n",
      "/home/amignon/Projets/upec-introduction-to-ai/shared_notebooks/venv/lib/python3.10/site-packages/sklearn/linear_model/_logistic.py:444: ConvergenceWarning: lbfgs failed to converge (status=1):\n",
      "STOP: TOTAL NO. of ITERATIONS REACHED LIMIT.\n",
      "\n",
      "Increase the number of iterations (max_iter) or scale the data as shown in:\n",
      "    https://scikit-learn.org/stable/modules/preprocessing.html\n",
      "Please also refer to the documentation for alternative solver options:\n",
      "    https://scikit-learn.org/stable/modules/linear_model.html#logistic-regression\n",
      "  n_iter_i = _check_optimize_result(\n"
     ]
    },
    {
     "name": "stderr",
     "output_type": "stream",
     "text": [
      "/home/amignon/Projets/upec-introduction-to-ai/shared_notebooks/venv/lib/python3.10/site-packages/sklearn/linear_model/_logistic.py:444: ConvergenceWarning: lbfgs failed to converge (status=1):\n",
      "STOP: TOTAL NO. of ITERATIONS REACHED LIMIT.\n",
      "\n",
      "Increase the number of iterations (max_iter) or scale the data as shown in:\n",
      "    https://scikit-learn.org/stable/modules/preprocessing.html\n",
      "Please also refer to the documentation for alternative solver options:\n",
      "    https://scikit-learn.org/stable/modules/linear_model.html#logistic-regression\n",
      "  n_iter_i = _check_optimize_result(\n",
      "/home/amignon/Projets/upec-introduction-to-ai/shared_notebooks/venv/lib/python3.10/site-packages/pandas/core/arraylike.py:402: RuntimeWarning: overflow encountered in exp\n",
      "  result = getattr(ufunc, method)(*inputs, **kwargs)\n",
      "/home/amignon/Projets/upec-introduction-to-ai/shared_notebooks/venv/lib/python3.10/site-packages/pandas/core/arraylike.py:402: RuntimeWarning: overflow encountered in exp\n",
      "  result = getattr(ufunc, method)(*inputs, **kwargs)\n",
      "/home/amignon/Projets/upec-introduction-to-ai/shared_notebooks/venv/lib/python3.10/site-packages/pandas/core/arraylike.py:402: RuntimeWarning: overflow encountered in exp\n",
      "  result = getattr(ufunc, method)(*inputs, **kwargs)\n",
      "/home/amignon/Projets/upec-introduction-to-ai/shared_notebooks/venv/lib/python3.10/site-packages/pandas/core/arraylike.py:402: RuntimeWarning: overflow encountered in exp\n",
      "  result = getattr(ufunc, method)(*inputs, **kwargs)\n",
      "/home/amignon/Projets/upec-introduction-to-ai/shared_notebooks/venv/lib/python3.10/site-packages/pandas/core/arraylike.py:402: RuntimeWarning: overflow encountered in exp\n",
      "  result = getattr(ufunc, method)(*inputs, **kwargs)\n",
      "/home/amignon/Projets/upec-introduction-to-ai/shared_notebooks/venv/lib/python3.10/site-packages/pandas/core/arraylike.py:402: RuntimeWarning: overflow encountered in exp\n",
      "  result = getattr(ufunc, method)(*inputs, **kwargs)\n",
      "/home/amignon/Projets/upec-introduction-to-ai/shared_notebooks/venv/lib/python3.10/site-packages/pandas/core/arraylike.py:402: RuntimeWarning: overflow encountered in exp\n",
      "  result = getattr(ufunc, method)(*inputs, **kwargs)\n",
      "/home/amignon/Projets/upec-introduction-to-ai/shared_notebooks/venv/lib/python3.10/site-packages/pandas/core/arraylike.py:402: RuntimeWarning: overflow encountered in exp\n",
      "  result = getattr(ufunc, method)(*inputs, **kwargs)\n",
      "/home/amignon/Projets/upec-introduction-to-ai/shared_notebooks/venv/lib/python3.10/site-packages/pandas/core/arraylike.py:402: RuntimeWarning: overflow encountered in exp\n",
      "  result = getattr(ufunc, method)(*inputs, **kwargs)\n",
      "/home/amignon/Projets/upec-introduction-to-ai/shared_notebooks/venv/lib/python3.10/site-packages/pandas/core/arraylike.py:402: RuntimeWarning: overflow encountered in exp\n",
      "  result = getattr(ufunc, method)(*inputs, **kwargs)\n",
      "/home/amignon/Projets/upec-introduction-to-ai/shared_notebooks/venv/lib/python3.10/site-packages/pandas/core/arraylike.py:402: RuntimeWarning: overflow encountered in exp\n",
      "  result = getattr(ufunc, method)(*inputs, **kwargs)\n",
      "/home/amignon/Projets/upec-introduction-to-ai/shared_notebooks/venv/lib/python3.10/site-packages/pandas/core/arraylike.py:402: RuntimeWarning: overflow encountered in exp\n",
      "  result = getattr(ufunc, method)(*inputs, **kwargs)\n",
      "/home/amignon/Projets/upec-introduction-to-ai/shared_notebooks/venv/lib/python3.10/site-packages/pandas/core/arraylike.py:402: RuntimeWarning: overflow encountered in exp\n",
      "  result = getattr(ufunc, method)(*inputs, **kwargs)\n",
      "/home/amignon/Projets/upec-introduction-to-ai/shared_notebooks/venv/lib/python3.10/site-packages/pandas/core/arraylike.py:402: RuntimeWarning: overflow encountered in exp\n",
      "  result = getattr(ufunc, method)(*inputs, **kwargs)\n",
      "/home/amignon/Projets/upec-introduction-to-ai/shared_notebooks/venv/lib/python3.10/site-packages/pandas/core/arraylike.py:402: RuntimeWarning: overflow encountered in exp\n",
      "  result = getattr(ufunc, method)(*inputs, **kwargs)\n",
      "/home/amignon/Projets/upec-introduction-to-ai/shared_notebooks/venv/lib/python3.10/site-packages/pandas/core/arraylike.py:402: RuntimeWarning: overflow encountered in exp\n",
      "  result = getattr(ufunc, method)(*inputs, **kwargs)\n",
      "/home/amignon/Projets/upec-introduction-to-ai/shared_notebooks/venv/lib/python3.10/site-packages/pandas/core/arraylike.py:402: RuntimeWarning: overflow encountered in exp\n",
      "  result = getattr(ufunc, method)(*inputs, **kwargs)\n",
      "/home/amignon/Projets/upec-introduction-to-ai/shared_notebooks/venv/lib/python3.10/site-packages/pandas/core/arraylike.py:402: RuntimeWarning: overflow encountered in exp\n",
      "  result = getattr(ufunc, method)(*inputs, **kwargs)\n",
      "/home/amignon/Projets/upec-introduction-to-ai/shared_notebooks/venv/lib/python3.10/site-packages/pandas/core/arraylike.py:402: RuntimeWarning: overflow encountered in exp\n",
      "  result = getattr(ufunc, method)(*inputs, **kwargs)\n",
      "/home/amignon/Projets/upec-introduction-to-ai/shared_notebooks/venv/lib/python3.10/site-packages/pandas/core/arraylike.py:402: RuntimeWarning: overflow encountered in exp\n",
      "  result = getattr(ufunc, method)(*inputs, **kwargs)\n",
      "/home/amignon/Projets/upec-introduction-to-ai/shared_notebooks/venv/lib/python3.10/site-packages/pandas/core/arraylike.py:402: RuntimeWarning: overflow encountered in exp\n",
      "  result = getattr(ufunc, method)(*inputs, **kwargs)\n",
      "/home/amignon/Projets/upec-introduction-to-ai/shared_notebooks/venv/lib/python3.10/site-packages/pandas/core/arraylike.py:402: RuntimeWarning: overflow encountered in exp\n",
      "  result = getattr(ufunc, method)(*inputs, **kwargs)\n",
      "/home/amignon/Projets/upec-introduction-to-ai/shared_notebooks/venv/lib/python3.10/site-packages/pandas/core/arraylike.py:402: RuntimeWarning: overflow encountered in exp\n",
      "  result = getattr(ufunc, method)(*inputs, **kwargs)\n",
      "/home/amignon/Projets/upec-introduction-to-ai/shared_notebooks/venv/lib/python3.10/site-packages/pandas/core/arraylike.py:402: RuntimeWarning: overflow encountered in exp\n",
      "  result = getattr(ufunc, method)(*inputs, **kwargs)\n",
      "/home/amignon/Projets/upec-introduction-to-ai/shared_notebooks/venv/lib/python3.10/site-packages/pandas/core/arraylike.py:402: RuntimeWarning: overflow encountered in exp\n",
      "  result = getattr(ufunc, method)(*inputs, **kwargs)\n",
      "/home/amignon/Projets/upec-introduction-to-ai/shared_notebooks/venv/lib/python3.10/site-packages/pandas/core/arraylike.py:402: RuntimeWarning: overflow encountered in exp\n",
      "  result = getattr(ufunc, method)(*inputs, **kwargs)\n",
      "/home/amignon/Projets/upec-introduction-to-ai/shared_notebooks/venv/lib/python3.10/site-packages/pandas/core/arraylike.py:402: RuntimeWarning: overflow encountered in exp\n",
      "  result = getattr(ufunc, method)(*inputs, **kwargs)\n",
      "/home/amignon/Projets/upec-introduction-to-ai/shared_notebooks/venv/lib/python3.10/site-packages/pandas/core/arraylike.py:402: RuntimeWarning: overflow encountered in exp\n",
      "  result = getattr(ufunc, method)(*inputs, **kwargs)\n",
      "/home/amignon/Projets/upec-introduction-to-ai/shared_notebooks/venv/lib/python3.10/site-packages/pandas/core/arraylike.py:402: RuntimeWarning: overflow encountered in exp\n",
      "  result = getattr(ufunc, method)(*inputs, **kwargs)\n",
      "/home/amignon/Projets/upec-introduction-to-ai/shared_notebooks/venv/lib/python3.10/site-packages/pandas/core/arraylike.py:402: RuntimeWarning: overflow encountered in exp\n",
      "  result = getattr(ufunc, method)(*inputs, **kwargs)\n",
      "/home/amignon/Projets/upec-introduction-to-ai/shared_notebooks/venv/lib/python3.10/site-packages/pandas/core/arraylike.py:402: RuntimeWarning: overflow encountered in exp\n",
      "  result = getattr(ufunc, method)(*inputs, **kwargs)\n",
      "/home/amignon/Projets/upec-introduction-to-ai/shared_notebooks/venv/lib/python3.10/site-packages/pandas/core/arraylike.py:402: RuntimeWarning: overflow encountered in exp\n",
      "  result = getattr(ufunc, method)(*inputs, **kwargs)\n",
      "/home/amignon/Projets/upec-introduction-to-ai/shared_notebooks/venv/lib/python3.10/site-packages/pandas/core/arraylike.py:402: RuntimeWarning: overflow encountered in exp\n",
      "  result = getattr(ufunc, method)(*inputs, **kwargs)\n",
      "/home/amignon/Projets/upec-introduction-to-ai/shared_notebooks/venv/lib/python3.10/site-packages/pandas/core/arraylike.py:402: RuntimeWarning: overflow encountered in exp\n",
      "  result = getattr(ufunc, method)(*inputs, **kwargs)\n",
      "/home/amignon/Projets/upec-introduction-to-ai/shared_notebooks/venv/lib/python3.10/site-packages/pandas/core/arraylike.py:402: RuntimeWarning: overflow encountered in exp\n",
      "  result = getattr(ufunc, method)(*inputs, **kwargs)\n",
      "/home/amignon/Projets/upec-introduction-to-ai/shared_notebooks/venv/lib/python3.10/site-packages/pandas/core/arraylike.py:402: RuntimeWarning: overflow encountered in exp\n",
      "  result = getattr(ufunc, method)(*inputs, **kwargs)\n",
      "/home/amignon/Projets/upec-introduction-to-ai/shared_notebooks/venv/lib/python3.10/site-packages/pandas/core/arraylike.py:402: RuntimeWarning: overflow encountered in exp\n",
      "  result = getattr(ufunc, method)(*inputs, **kwargs)\n",
      "/home/amignon/Projets/upec-introduction-to-ai/shared_notebooks/venv/lib/python3.10/site-packages/pandas/core/arraylike.py:402: RuntimeWarning: overflow encountered in exp\n",
      "  result = getattr(ufunc, method)(*inputs, **kwargs)\n",
      "/home/amignon/Projets/upec-introduction-to-ai/shared_notebooks/venv/lib/python3.10/site-packages/pandas/core/arraylike.py:402: RuntimeWarning: overflow encountered in exp\n",
      "  result = getattr(ufunc, method)(*inputs, **kwargs)\n",
      "/home/amignon/Projets/upec-introduction-to-ai/shared_notebooks/venv/lib/python3.10/site-packages/pandas/core/arraylike.py:402: RuntimeWarning: overflow encountered in exp\n",
      "  result = getattr(ufunc, method)(*inputs, **kwargs)\n"
     ]
    },
    {
     "name": "stderr",
     "output_type": "stream",
     "text": [
      "/home/amignon/Projets/upec-introduction-to-ai/shared_notebooks/venv/lib/python3.10/site-packages/sklearn/linear_model/_logistic.py:444: ConvergenceWarning: lbfgs failed to converge (status=1):\n",
      "STOP: TOTAL NO. of ITERATIONS REACHED LIMIT.\n",
      "\n",
      "Increase the number of iterations (max_iter) or scale the data as shown in:\n",
      "    https://scikit-learn.org/stable/modules/preprocessing.html\n",
      "Please also refer to the documentation for alternative solver options:\n",
      "    https://scikit-learn.org/stable/modules/linear_model.html#logistic-regression\n",
      "  n_iter_i = _check_optimize_result(\n",
      "/home/amignon/Projets/upec-introduction-to-ai/shared_notebooks/venv/lib/python3.10/site-packages/sklearn/linear_model/_logistic.py:444: ConvergenceWarning: lbfgs failed to converge (status=1):\n",
      "STOP: TOTAL NO. of ITERATIONS REACHED LIMIT.\n",
      "\n",
      "Increase the number of iterations (max_iter) or scale the data as shown in:\n",
      "    https://scikit-learn.org/stable/modules/preprocessing.html\n",
      "Please also refer to the documentation for alternative solver options:\n",
      "    https://scikit-learn.org/stable/modules/linear_model.html#logistic-regression\n",
      "  n_iter_i = _check_optimize_result(\n",
      "/home/amignon/Projets/upec-introduction-to-ai/shared_notebooks/venv/lib/python3.10/site-packages/sklearn/linear_model/_logistic.py:444: ConvergenceWarning: lbfgs failed to converge (status=1):\n",
      "STOP: TOTAL NO. of ITERATIONS REACHED LIMIT.\n",
      "\n",
      "Increase the number of iterations (max_iter) or scale the data as shown in:\n",
      "    https://scikit-learn.org/stable/modules/preprocessing.html\n",
      "Please also refer to the documentation for alternative solver options:\n",
      "    https://scikit-learn.org/stable/modules/linear_model.html#logistic-regression\n",
      "  n_iter_i = _check_optimize_result(\n",
      "/home/amignon/Projets/upec-introduction-to-ai/shared_notebooks/venv/lib/python3.10/site-packages/sklearn/linear_model/_logistic.py:444: ConvergenceWarning: lbfgs failed to converge (status=1):\n",
      "STOP: TOTAL NO. of ITERATIONS REACHED LIMIT.\n",
      "\n",
      "Increase the number of iterations (max_iter) or scale the data as shown in:\n",
      "    https://scikit-learn.org/stable/modules/preprocessing.html\n",
      "Please also refer to the documentation for alternative solver options:\n",
      "    https://scikit-learn.org/stable/modules/linear_model.html#logistic-regression\n",
      "  n_iter_i = _check_optimize_result(\n",
      "/home/amignon/Projets/upec-introduction-to-ai/shared_notebooks/venv/lib/python3.10/site-packages/pandas/core/arraylike.py:402: RuntimeWarning: overflow encountered in exp\n",
      "  result = getattr(ufunc, method)(*inputs, **kwargs)\n",
      "/home/amignon/Projets/upec-introduction-to-ai/shared_notebooks/venv/lib/python3.10/site-packages/pandas/core/arraylike.py:402: RuntimeWarning: overflow encountered in exp\n",
      "  result = getattr(ufunc, method)(*inputs, **kwargs)\n",
      "/home/amignon/Projets/upec-introduction-to-ai/shared_notebooks/venv/lib/python3.10/site-packages/pandas/core/arraylike.py:402: RuntimeWarning: overflow encountered in exp\n",
      "  result = getattr(ufunc, method)(*inputs, **kwargs)\n",
      "/home/amignon/Projets/upec-introduction-to-ai/shared_notebooks/venv/lib/python3.10/site-packages/pandas/core/arraylike.py:402: RuntimeWarning: overflow encountered in exp\n",
      "  result = getattr(ufunc, method)(*inputs, **kwargs)\n",
      "/home/amignon/Projets/upec-introduction-to-ai/shared_notebooks/venv/lib/python3.10/site-packages/sklearn/linear_model/_logistic.py:444: ConvergenceWarning: lbfgs failed to converge (status=1):\n",
      "STOP: TOTAL NO. of ITERATIONS REACHED LIMIT.\n",
      "\n",
      "Increase the number of iterations (max_iter) or scale the data as shown in:\n",
      "    https://scikit-learn.org/stable/modules/preprocessing.html\n",
      "Please also refer to the documentation for alternative solver options:\n",
      "    https://scikit-learn.org/stable/modules/linear_model.html#logistic-regression\n",
      "  n_iter_i = _check_optimize_result(\n",
      "/home/amignon/Projets/upec-introduction-to-ai/shared_notebooks/venv/lib/python3.10/site-packages/pandas/core/arraylike.py:402: RuntimeWarning: overflow encountered in exp\n",
      "  result = getattr(ufunc, method)(*inputs, **kwargs)\n",
      "/home/amignon/Projets/upec-introduction-to-ai/shared_notebooks/venv/lib/python3.10/site-packages/pandas/core/arraylike.py:402: RuntimeWarning: overflow encountered in exp\n",
      "  result = getattr(ufunc, method)(*inputs, **kwargs)\n",
      "/home/amignon/Projets/upec-introduction-to-ai/shared_notebooks/venv/lib/python3.10/site-packages/pandas/core/arraylike.py:402: RuntimeWarning: overflow encountered in exp\n",
      "  result = getattr(ufunc, method)(*inputs, **kwargs)\n",
      "/home/amignon/Projets/upec-introduction-to-ai/shared_notebooks/venv/lib/python3.10/site-packages/pandas/core/arraylike.py:402: RuntimeWarning: overflow encountered in exp\n",
      "  result = getattr(ufunc, method)(*inputs, **kwargs)\n",
      "/home/amignon/Projets/upec-introduction-to-ai/shared_notebooks/venv/lib/python3.10/site-packages/sklearn/linear_model/_logistic.py:444: ConvergenceWarning: lbfgs failed to converge (status=1):\n",
      "STOP: TOTAL NO. of ITERATIONS REACHED LIMIT.\n",
      "\n",
      "Increase the number of iterations (max_iter) or scale the data as shown in:\n",
      "    https://scikit-learn.org/stable/modules/preprocessing.html\n",
      "Please also refer to the documentation for alternative solver options:\n",
      "    https://scikit-learn.org/stable/modules/linear_model.html#logistic-regression\n",
      "  n_iter_i = _check_optimize_result(\n",
      "/home/amignon/Projets/upec-introduction-to-ai/shared_notebooks/venv/lib/python3.10/site-packages/sklearn/linear_model/_logistic.py:444: ConvergenceWarning: lbfgs failed to converge (status=1):\n",
      "STOP: TOTAL NO. of ITERATIONS REACHED LIMIT.\n",
      "\n",
      "Increase the number of iterations (max_iter) or scale the data as shown in:\n",
      "    https://scikit-learn.org/stable/modules/preprocessing.html\n",
      "Please also refer to the documentation for alternative solver options:\n",
      "    https://scikit-learn.org/stable/modules/linear_model.html#logistic-regression\n",
      "  n_iter_i = _check_optimize_result(\n",
      "/home/amignon/Projets/upec-introduction-to-ai/shared_notebooks/venv/lib/python3.10/site-packages/sklearn/linear_model/_logistic.py:444: ConvergenceWarning: lbfgs failed to converge (status=1):\n",
      "STOP: TOTAL NO. of ITERATIONS REACHED LIMIT.\n",
      "\n",
      "Increase the number of iterations (max_iter) or scale the data as shown in:\n",
      "    https://scikit-learn.org/stable/modules/preprocessing.html\n",
      "Please also refer to the documentation for alternative solver options:\n",
      "    https://scikit-learn.org/stable/modules/linear_model.html#logistic-regression\n",
      "  n_iter_i = _check_optimize_result(\n",
      "/home/amignon/Projets/upec-introduction-to-ai/shared_notebooks/venv/lib/python3.10/site-packages/sklearn/linear_model/_logistic.py:444: ConvergenceWarning: lbfgs failed to converge (status=1):\n",
      "STOP: TOTAL NO. of ITERATIONS REACHED LIMIT.\n",
      "\n",
      "Increase the number of iterations (max_iter) or scale the data as shown in:\n",
      "    https://scikit-learn.org/stable/modules/preprocessing.html\n",
      "Please also refer to the documentation for alternative solver options:\n",
      "    https://scikit-learn.org/stable/modules/linear_model.html#logistic-regression\n",
      "  n_iter_i = _check_optimize_result(\n",
      "/home/amignon/Projets/upec-introduction-to-ai/shared_notebooks/venv/lib/python3.10/site-packages/pandas/core/arraylike.py:402: RuntimeWarning: overflow encountered in exp\n",
      "  result = getattr(ufunc, method)(*inputs, **kwargs)\n",
      "/home/amignon/Projets/upec-introduction-to-ai/shared_notebooks/venv/lib/python3.10/site-packages/pandas/core/arraylike.py:402: RuntimeWarning: overflow encountered in exp\n",
      "  result = getattr(ufunc, method)(*inputs, **kwargs)\n",
      "/home/amignon/Projets/upec-introduction-to-ai/shared_notebooks/venv/lib/python3.10/site-packages/pandas/core/arraylike.py:402: RuntimeWarning: overflow encountered in exp\n",
      "  result = getattr(ufunc, method)(*inputs, **kwargs)\n",
      "/home/amignon/Projets/upec-introduction-to-ai/shared_notebooks/venv/lib/python3.10/site-packages/pandas/core/arraylike.py:402: RuntimeWarning: overflow encountered in exp\n",
      "  result = getattr(ufunc, method)(*inputs, **kwargs)\n",
      "/home/amignon/Projets/upec-introduction-to-ai/shared_notebooks/venv/lib/python3.10/site-packages/pandas/core/arraylike.py:402: RuntimeWarning: overflow encountered in exp\n",
      "  result = getattr(ufunc, method)(*inputs, **kwargs)\n",
      "/home/amignon/Projets/upec-introduction-to-ai/shared_notebooks/venv/lib/python3.10/site-packages/pandas/core/arraylike.py:402: RuntimeWarning: overflow encountered in exp\n",
      "  result = getattr(ufunc, method)(*inputs, **kwargs)\n",
      "/home/amignon/Projets/upec-introduction-to-ai/shared_notebooks/venv/lib/python3.10/site-packages/pandas/core/arraylike.py:402: RuntimeWarning: overflow encountered in exp\n",
      "  result = getattr(ufunc, method)(*inputs, **kwargs)\n",
      "/home/amignon/Projets/upec-introduction-to-ai/shared_notebooks/venv/lib/python3.10/site-packages/pandas/core/arraylike.py:402: RuntimeWarning: overflow encountered in exp\n",
      "  result = getattr(ufunc, method)(*inputs, **kwargs)\n"
     ]
    },
    {
     "name": "stderr",
     "output_type": "stream",
     "text": [
      "/home/amignon/Projets/upec-introduction-to-ai/shared_notebooks/venv/lib/python3.10/site-packages/pandas/core/arraylike.py:402: RuntimeWarning: overflow encountered in exp\n",
      "  result = getattr(ufunc, method)(*inputs, **kwargs)\n",
      "/home/amignon/Projets/upec-introduction-to-ai/shared_notebooks/venv/lib/python3.10/site-packages/pandas/core/arraylike.py:402: RuntimeWarning: overflow encountered in exp\n",
      "  result = getattr(ufunc, method)(*inputs, **kwargs)\n",
      "/home/amignon/Projets/upec-introduction-to-ai/shared_notebooks/venv/lib/python3.10/site-packages/pandas/core/arraylike.py:402: RuntimeWarning: overflow encountered in exp\n",
      "  result = getattr(ufunc, method)(*inputs, **kwargs)\n",
      "/home/amignon/Projets/upec-introduction-to-ai/shared_notebooks/venv/lib/python3.10/site-packages/pandas/core/arraylike.py:402: RuntimeWarning: overflow encountered in exp\n",
      "  result = getattr(ufunc, method)(*inputs, **kwargs)\n",
      "/home/amignon/Projets/upec-introduction-to-ai/shared_notebooks/venv/lib/python3.10/site-packages/pandas/core/arraylike.py:402: RuntimeWarning: overflow encountered in exp\n",
      "  result = getattr(ufunc, method)(*inputs, **kwargs)\n",
      "/home/amignon/Projets/upec-introduction-to-ai/shared_notebooks/venv/lib/python3.10/site-packages/pandas/core/arraylike.py:402: RuntimeWarning: overflow encountered in exp\n",
      "  result = getattr(ufunc, method)(*inputs, **kwargs)\n",
      "/home/amignon/Projets/upec-introduction-to-ai/shared_notebooks/venv/lib/python3.10/site-packages/pandas/core/arraylike.py:402: RuntimeWarning: overflow encountered in exp\n",
      "  result = getattr(ufunc, method)(*inputs, **kwargs)\n",
      "/home/amignon/Projets/upec-introduction-to-ai/shared_notebooks/venv/lib/python3.10/site-packages/pandas/core/arraylike.py:402: RuntimeWarning: overflow encountered in exp\n",
      "  result = getattr(ufunc, method)(*inputs, **kwargs)\n",
      "/home/amignon/Projets/upec-introduction-to-ai/shared_notebooks/venv/lib/python3.10/site-packages/pandas/core/arraylike.py:402: RuntimeWarning: overflow encountered in exp\n",
      "  result = getattr(ufunc, method)(*inputs, **kwargs)\n",
      "/home/amignon/Projets/upec-introduction-to-ai/shared_notebooks/venv/lib/python3.10/site-packages/pandas/core/arraylike.py:402: RuntimeWarning: overflow encountered in exp\n",
      "  result = getattr(ufunc, method)(*inputs, **kwargs)\n",
      "/home/amignon/Projets/upec-introduction-to-ai/shared_notebooks/venv/lib/python3.10/site-packages/pandas/core/arraylike.py:402: RuntimeWarning: overflow encountered in exp\n",
      "  result = getattr(ufunc, method)(*inputs, **kwargs)\n",
      "/home/amignon/Projets/upec-introduction-to-ai/shared_notebooks/venv/lib/python3.10/site-packages/pandas/core/arraylike.py:402: RuntimeWarning: overflow encountered in exp\n",
      "  result = getattr(ufunc, method)(*inputs, **kwargs)\n",
      "/home/amignon/Projets/upec-introduction-to-ai/shared_notebooks/venv/lib/python3.10/site-packages/pandas/core/arraylike.py:402: RuntimeWarning: overflow encountered in exp\n",
      "  result = getattr(ufunc, method)(*inputs, **kwargs)\n",
      "/home/amignon/Projets/upec-introduction-to-ai/shared_notebooks/venv/lib/python3.10/site-packages/pandas/core/arraylike.py:402: RuntimeWarning: overflow encountered in exp\n",
      "  result = getattr(ufunc, method)(*inputs, **kwargs)\n",
      "/home/amignon/Projets/upec-introduction-to-ai/shared_notebooks/venv/lib/python3.10/site-packages/pandas/core/arraylike.py:402: RuntimeWarning: overflow encountered in exp\n",
      "  result = getattr(ufunc, method)(*inputs, **kwargs)\n",
      "/home/amignon/Projets/upec-introduction-to-ai/shared_notebooks/venv/lib/python3.10/site-packages/pandas/core/arraylike.py:402: RuntimeWarning: overflow encountered in exp\n",
      "  result = getattr(ufunc, method)(*inputs, **kwargs)\n",
      "/home/amignon/Projets/upec-introduction-to-ai/shared_notebooks/venv/lib/python3.10/site-packages/pandas/core/arraylike.py:402: RuntimeWarning: overflow encountered in exp\n",
      "  result = getattr(ufunc, method)(*inputs, **kwargs)\n",
      "/home/amignon/Projets/upec-introduction-to-ai/shared_notebooks/venv/lib/python3.10/site-packages/pandas/core/arraylike.py:402: RuntimeWarning: overflow encountered in exp\n",
      "  result = getattr(ufunc, method)(*inputs, **kwargs)\n",
      "/home/amignon/Projets/upec-introduction-to-ai/shared_notebooks/venv/lib/python3.10/site-packages/pandas/core/arraylike.py:402: RuntimeWarning: overflow encountered in exp\n",
      "  result = getattr(ufunc, method)(*inputs, **kwargs)\n",
      "/home/amignon/Projets/upec-introduction-to-ai/shared_notebooks/venv/lib/python3.10/site-packages/pandas/core/arraylike.py:402: RuntimeWarning: overflow encountered in exp\n",
      "  result = getattr(ufunc, method)(*inputs, **kwargs)\n",
      "/home/amignon/Projets/upec-introduction-to-ai/shared_notebooks/venv/lib/python3.10/site-packages/pandas/core/arraylike.py:402: RuntimeWarning: overflow encountered in exp\n",
      "  result = getattr(ufunc, method)(*inputs, **kwargs)\n",
      "/home/amignon/Projets/upec-introduction-to-ai/shared_notebooks/venv/lib/python3.10/site-packages/pandas/core/arraylike.py:402: RuntimeWarning: overflow encountered in exp\n",
      "  result = getattr(ufunc, method)(*inputs, **kwargs)\n",
      "/home/amignon/Projets/upec-introduction-to-ai/shared_notebooks/venv/lib/python3.10/site-packages/pandas/core/arraylike.py:402: RuntimeWarning: overflow encountered in exp\n",
      "  result = getattr(ufunc, method)(*inputs, **kwargs)\n",
      "/home/amignon/Projets/upec-introduction-to-ai/shared_notebooks/venv/lib/python3.10/site-packages/pandas/core/arraylike.py:402: RuntimeWarning: overflow encountered in exp\n",
      "  result = getattr(ufunc, method)(*inputs, **kwargs)\n",
      "/home/amignon/Projets/upec-introduction-to-ai/shared_notebooks/venv/lib/python3.10/site-packages/pandas/core/arraylike.py:402: RuntimeWarning: overflow encountered in exp\n",
      "  result = getattr(ufunc, method)(*inputs, **kwargs)\n",
      "/home/amignon/Projets/upec-introduction-to-ai/shared_notebooks/venv/lib/python3.10/site-packages/pandas/core/arraylike.py:402: RuntimeWarning: overflow encountered in exp\n",
      "  result = getattr(ufunc, method)(*inputs, **kwargs)\n",
      "/home/amignon/Projets/upec-introduction-to-ai/shared_notebooks/venv/lib/python3.10/site-packages/pandas/core/arraylike.py:402: RuntimeWarning: overflow encountered in exp\n",
      "  result = getattr(ufunc, method)(*inputs, **kwargs)\n",
      "/home/amignon/Projets/upec-introduction-to-ai/shared_notebooks/venv/lib/python3.10/site-packages/pandas/core/arraylike.py:402: RuntimeWarning: overflow encountered in exp\n",
      "  result = getattr(ufunc, method)(*inputs, **kwargs)\n",
      "/home/amignon/Projets/upec-introduction-to-ai/shared_notebooks/venv/lib/python3.10/site-packages/pandas/core/arraylike.py:402: RuntimeWarning: overflow encountered in exp\n",
      "  result = getattr(ufunc, method)(*inputs, **kwargs)\n",
      "/home/amignon/Projets/upec-introduction-to-ai/shared_notebooks/venv/lib/python3.10/site-packages/pandas/core/arraylike.py:402: RuntimeWarning: overflow encountered in exp\n",
      "  result = getattr(ufunc, method)(*inputs, **kwargs)\n",
      "/home/amignon/Projets/upec-introduction-to-ai/shared_notebooks/venv/lib/python3.10/site-packages/pandas/core/arraylike.py:402: RuntimeWarning: overflow encountered in exp\n",
      "  result = getattr(ufunc, method)(*inputs, **kwargs)\n",
      "/home/amignon/Projets/upec-introduction-to-ai/shared_notebooks/venv/lib/python3.10/site-packages/pandas/core/arraylike.py:402: RuntimeWarning: overflow encountered in exp\n",
      "  result = getattr(ufunc, method)(*inputs, **kwargs)\n",
      "/home/amignon/Projets/upec-introduction-to-ai/shared_notebooks/venv/lib/python3.10/site-packages/pandas/core/arraylike.py:402: RuntimeWarning: overflow encountered in exp\n",
      "  result = getattr(ufunc, method)(*inputs, **kwargs)\n",
      "/home/amignon/Projets/upec-introduction-to-ai/shared_notebooks/venv/lib/python3.10/site-packages/pandas/core/arraylike.py:402: RuntimeWarning: overflow encountered in exp\n",
      "  result = getattr(ufunc, method)(*inputs, **kwargs)\n",
      "/home/amignon/Projets/upec-introduction-to-ai/shared_notebooks/venv/lib/python3.10/site-packages/pandas/core/arraylike.py:402: RuntimeWarning: overflow encountered in exp\n",
      "  result = getattr(ufunc, method)(*inputs, **kwargs)\n",
      "/home/amignon/Projets/upec-introduction-to-ai/shared_notebooks/venv/lib/python3.10/site-packages/pandas/core/arraylike.py:402: RuntimeWarning: overflow encountered in exp\n",
      "  result = getattr(ufunc, method)(*inputs, **kwargs)\n",
      "/home/amignon/Projets/upec-introduction-to-ai/shared_notebooks/venv/lib/python3.10/site-packages/pandas/core/arraylike.py:402: RuntimeWarning: overflow encountered in exp\n",
      "  result = getattr(ufunc, method)(*inputs, **kwargs)\n",
      "/home/amignon/Projets/upec-introduction-to-ai/shared_notebooks/venv/lib/python3.10/site-packages/pandas/core/arraylike.py:402: RuntimeWarning: overflow encountered in exp\n",
      "  result = getattr(ufunc, method)(*inputs, **kwargs)\n"
     ]
    },
    {
     "name": "stderr",
     "output_type": "stream",
     "text": [
      "/home/amignon/Projets/upec-introduction-to-ai/shared_notebooks/venv/lib/python3.10/site-packages/pandas/core/arraylike.py:402: RuntimeWarning: overflow encountered in exp\n",
      "  result = getattr(ufunc, method)(*inputs, **kwargs)\n",
      "/home/amignon/Projets/upec-introduction-to-ai/shared_notebooks/venv/lib/python3.10/site-packages/pandas/core/arraylike.py:402: RuntimeWarning: overflow encountered in exp\n",
      "  result = getattr(ufunc, method)(*inputs, **kwargs)\n",
      "/home/amignon/Projets/upec-introduction-to-ai/shared_notebooks/venv/lib/python3.10/site-packages/sklearn/linear_model/_logistic.py:444: ConvergenceWarning: lbfgs failed to converge (status=1):\n",
      "STOP: TOTAL NO. of ITERATIONS REACHED LIMIT.\n",
      "\n",
      "Increase the number of iterations (max_iter) or scale the data as shown in:\n",
      "    https://scikit-learn.org/stable/modules/preprocessing.html\n",
      "Please also refer to the documentation for alternative solver options:\n",
      "    https://scikit-learn.org/stable/modules/linear_model.html#logistic-regression\n",
      "  n_iter_i = _check_optimize_result(\n",
      "/home/amignon/Projets/upec-introduction-to-ai/shared_notebooks/venv/lib/python3.10/site-packages/sklearn/linear_model/_logistic.py:444: ConvergenceWarning: lbfgs failed to converge (status=1):\n",
      "STOP: TOTAL NO. of ITERATIONS REACHED LIMIT.\n",
      "\n",
      "Increase the number of iterations (max_iter) or scale the data as shown in:\n",
      "    https://scikit-learn.org/stable/modules/preprocessing.html\n",
      "Please also refer to the documentation for alternative solver options:\n",
      "    https://scikit-learn.org/stable/modules/linear_model.html#logistic-regression\n",
      "  n_iter_i = _check_optimize_result(\n"
     ]
    }
   ],
   "source": [
    "from sklearn.model_selection import RandomizedSearchCV\n",
    "\n",
    "logist_rand_cv = RandomizedSearchCV(\n",
    "    estimator=logist_model,\n",
    "    param_distributions=logist_param_distribs,\n",
    "    cv=cv,\n",
    "    n_iter=200,\n",
    "    n_jobs=n_jobs\n",
    ").fit(Xtrain, ytrain)"
   ]
  },
  {
   "cell_type": "code",
   "execution_count": 36,
   "id": "d795719e",
   "metadata": {
    "ExecuteTime": {
     "end_time": "2022-11-28T14:00:16.968655Z",
     "start_time": "2022-11-28T14:00:16.933948Z"
    }
   },
   "outputs": [
    {
     "name": "stdout",
     "output_type": "stream",
     "text": [
      "Meilleur score:  0.7737394957983192\n"
     ]
    },
    {
     "data": {
      "text/plain": [
       "{'cat_enc__min_samples_leaf': 5,\n",
       " 'cat_enc__smoothing': 2.0726887426218505,\n",
       " 'clf__C': 279.83054288230915,\n",
       " 'poly__degree': 5}"
      ]
     },
     "execution_count": 36,
     "metadata": {},
     "output_type": "execute_result"
    }
   ],
   "source": [
    "print(\"Meilleur score: \", logist_rand_cv.best_score_)\n",
    "logist_rand_cv.best_params_"
   ]
  },
  {
   "cell_type": "markdown",
   "id": "f113d178",
   "metadata": {},
   "source": [
    "Arbre de décision :"
   ]
  },
  {
   "cell_type": "code",
   "execution_count": 37,
   "id": "92ff5a4f",
   "metadata": {
    "ExecuteTime": {
     "end_time": "2022-11-28T14:01:18.811796Z",
     "start_time": "2022-11-28T14:00:16.978651Z"
    },
    "scrolled": true
   },
   "outputs": [
    {
     "name": "stderr",
     "output_type": "stream",
     "text": [
      "/home/amignon/Projets/upec-introduction-to-ai/shared_notebooks/venv/lib/python3.10/site-packages/pandas/core/arraylike.py:402: RuntimeWarning: overflow encountered in exp\n",
      "  result = getattr(ufunc, method)(*inputs, **kwargs)\n",
      "/home/amignon/Projets/upec-introduction-to-ai/shared_notebooks/venv/lib/python3.10/site-packages/pandas/core/arraylike.py:402: RuntimeWarning: overflow encountered in exp\n",
      "  result = getattr(ufunc, method)(*inputs, **kwargs)\n",
      "/home/amignon/Projets/upec-introduction-to-ai/shared_notebooks/venv/lib/python3.10/site-packages/pandas/core/arraylike.py:402: RuntimeWarning: overflow encountered in exp\n",
      "  result = getattr(ufunc, method)(*inputs, **kwargs)\n",
      "/home/amignon/Projets/upec-introduction-to-ai/shared_notebooks/venv/lib/python3.10/site-packages/pandas/core/arraylike.py:402: RuntimeWarning: overflow encountered in exp\n",
      "  result = getattr(ufunc, method)(*inputs, **kwargs)\n",
      "/home/amignon/Projets/upec-introduction-to-ai/shared_notebooks/venv/lib/python3.10/site-packages/pandas/core/arraylike.py:402: RuntimeWarning: overflow encountered in exp\n",
      "  result = getattr(ufunc, method)(*inputs, **kwargs)\n",
      "/home/amignon/Projets/upec-introduction-to-ai/shared_notebooks/venv/lib/python3.10/site-packages/pandas/core/arraylike.py:402: RuntimeWarning: overflow encountered in exp\n",
      "  result = getattr(ufunc, method)(*inputs, **kwargs)\n",
      "/home/amignon/Projets/upec-introduction-to-ai/shared_notebooks/venv/lib/python3.10/site-packages/pandas/core/arraylike.py:402: RuntimeWarning: overflow encountered in exp\n",
      "  result = getattr(ufunc, method)(*inputs, **kwargs)\n",
      "/home/amignon/Projets/upec-introduction-to-ai/shared_notebooks/venv/lib/python3.10/site-packages/pandas/core/arraylike.py:402: RuntimeWarning: overflow encountered in exp\n",
      "  result = getattr(ufunc, method)(*inputs, **kwargs)\n",
      "/home/amignon/Projets/upec-introduction-to-ai/shared_notebooks/venv/lib/python3.10/site-packages/pandas/core/arraylike.py:402: RuntimeWarning: overflow encountered in exp\n",
      "  result = getattr(ufunc, method)(*inputs, **kwargs)\n",
      "/home/amignon/Projets/upec-introduction-to-ai/shared_notebooks/venv/lib/python3.10/site-packages/pandas/core/arraylike.py:402: RuntimeWarning: overflow encountered in exp\n",
      "  result = getattr(ufunc, method)(*inputs, **kwargs)\n",
      "/home/amignon/Projets/upec-introduction-to-ai/shared_notebooks/venv/lib/python3.10/site-packages/pandas/core/arraylike.py:402: RuntimeWarning: overflow encountered in exp\n",
      "  result = getattr(ufunc, method)(*inputs, **kwargs)\n",
      "/home/amignon/Projets/upec-introduction-to-ai/shared_notebooks/venv/lib/python3.10/site-packages/pandas/core/arraylike.py:402: RuntimeWarning: overflow encountered in exp\n",
      "  result = getattr(ufunc, method)(*inputs, **kwargs)\n",
      "/home/amignon/Projets/upec-introduction-to-ai/shared_notebooks/venv/lib/python3.10/site-packages/pandas/core/arraylike.py:402: RuntimeWarning: overflow encountered in exp\n",
      "  result = getattr(ufunc, method)(*inputs, **kwargs)\n",
      "/home/amignon/Projets/upec-introduction-to-ai/shared_notebooks/venv/lib/python3.10/site-packages/pandas/core/arraylike.py:402: RuntimeWarning: overflow encountered in exp\n",
      "  result = getattr(ufunc, method)(*inputs, **kwargs)\n",
      "/home/amignon/Projets/upec-introduction-to-ai/shared_notebooks/venv/lib/python3.10/site-packages/pandas/core/arraylike.py:402: RuntimeWarning: overflow encountered in exp\n",
      "  result = getattr(ufunc, method)(*inputs, **kwargs)\n",
      "/home/amignon/Projets/upec-introduction-to-ai/shared_notebooks/venv/lib/python3.10/site-packages/pandas/core/arraylike.py:402: RuntimeWarning: overflow encountered in exp\n",
      "  result = getattr(ufunc, method)(*inputs, **kwargs)\n",
      "/home/amignon/Projets/upec-introduction-to-ai/shared_notebooks/venv/lib/python3.10/site-packages/pandas/core/arraylike.py:402: RuntimeWarning: overflow encountered in exp\n",
      "  result = getattr(ufunc, method)(*inputs, **kwargs)\n",
      "/home/amignon/Projets/upec-introduction-to-ai/shared_notebooks/venv/lib/python3.10/site-packages/pandas/core/arraylike.py:402: RuntimeWarning: overflow encountered in exp\n",
      "  result = getattr(ufunc, method)(*inputs, **kwargs)\n",
      "/home/amignon/Projets/upec-introduction-to-ai/shared_notebooks/venv/lib/python3.10/site-packages/pandas/core/arraylike.py:402: RuntimeWarning: overflow encountered in exp\n",
      "  result = getattr(ufunc, method)(*inputs, **kwargs)\n",
      "/home/amignon/Projets/upec-introduction-to-ai/shared_notebooks/venv/lib/python3.10/site-packages/pandas/core/arraylike.py:402: RuntimeWarning: overflow encountered in exp\n",
      "  result = getattr(ufunc, method)(*inputs, **kwargs)\n",
      "/home/amignon/Projets/upec-introduction-to-ai/shared_notebooks/venv/lib/python3.10/site-packages/pandas/core/arraylike.py:402: RuntimeWarning: overflow encountered in exp\n",
      "  result = getattr(ufunc, method)(*inputs, **kwargs)\n",
      "/home/amignon/Projets/upec-introduction-to-ai/shared_notebooks/venv/lib/python3.10/site-packages/pandas/core/arraylike.py:402: RuntimeWarning: overflow encountered in exp\n",
      "  result = getattr(ufunc, method)(*inputs, **kwargs)\n",
      "/home/amignon/Projets/upec-introduction-to-ai/shared_notebooks/venv/lib/python3.10/site-packages/pandas/core/arraylike.py:402: RuntimeWarning: overflow encountered in exp\n",
      "  result = getattr(ufunc, method)(*inputs, **kwargs)\n",
      "/home/amignon/Projets/upec-introduction-to-ai/shared_notebooks/venv/lib/python3.10/site-packages/pandas/core/arraylike.py:402: RuntimeWarning: overflow encountered in exp\n",
      "  result = getattr(ufunc, method)(*inputs, **kwargs)\n",
      "/home/amignon/Projets/upec-introduction-to-ai/shared_notebooks/venv/lib/python3.10/site-packages/pandas/core/arraylike.py:402: RuntimeWarning: overflow encountered in exp\n",
      "  result = getattr(ufunc, method)(*inputs, **kwargs)\n",
      "/home/amignon/Projets/upec-introduction-to-ai/shared_notebooks/venv/lib/python3.10/site-packages/pandas/core/arraylike.py:402: RuntimeWarning: overflow encountered in exp\n",
      "  result = getattr(ufunc, method)(*inputs, **kwargs)\n",
      "/home/amignon/Projets/upec-introduction-to-ai/shared_notebooks/venv/lib/python3.10/site-packages/pandas/core/arraylike.py:402: RuntimeWarning: overflow encountered in exp\n",
      "  result = getattr(ufunc, method)(*inputs, **kwargs)\n",
      "/home/amignon/Projets/upec-introduction-to-ai/shared_notebooks/venv/lib/python3.10/site-packages/pandas/core/arraylike.py:402: RuntimeWarning: overflow encountered in exp\n",
      "  result = getattr(ufunc, method)(*inputs, **kwargs)\n",
      "/home/amignon/Projets/upec-introduction-to-ai/shared_notebooks/venv/lib/python3.10/site-packages/pandas/core/arraylike.py:402: RuntimeWarning: overflow encountered in exp\n",
      "  result = getattr(ufunc, method)(*inputs, **kwargs)\n",
      "/home/amignon/Projets/upec-introduction-to-ai/shared_notebooks/venv/lib/python3.10/site-packages/pandas/core/arraylike.py:402: RuntimeWarning: overflow encountered in exp\n",
      "  result = getattr(ufunc, method)(*inputs, **kwargs)\n",
      "/home/amignon/Projets/upec-introduction-to-ai/shared_notebooks/venv/lib/python3.10/site-packages/pandas/core/arraylike.py:402: RuntimeWarning: overflow encountered in exp\n",
      "  result = getattr(ufunc, method)(*inputs, **kwargs)\n",
      "/home/amignon/Projets/upec-introduction-to-ai/shared_notebooks/venv/lib/python3.10/site-packages/pandas/core/arraylike.py:402: RuntimeWarning: overflow encountered in exp\n",
      "  result = getattr(ufunc, method)(*inputs, **kwargs)\n",
      "/home/amignon/Projets/upec-introduction-to-ai/shared_notebooks/venv/lib/python3.10/site-packages/pandas/core/arraylike.py:402: RuntimeWarning: overflow encountered in exp\n",
      "  result = getattr(ufunc, method)(*inputs, **kwargs)\n",
      "/home/amignon/Projets/upec-introduction-to-ai/shared_notebooks/venv/lib/python3.10/site-packages/pandas/core/arraylike.py:402: RuntimeWarning: overflow encountered in exp\n",
      "  result = getattr(ufunc, method)(*inputs, **kwargs)\n",
      "/home/amignon/Projets/upec-introduction-to-ai/shared_notebooks/venv/lib/python3.10/site-packages/pandas/core/arraylike.py:402: RuntimeWarning: overflow encountered in exp\n",
      "  result = getattr(ufunc, method)(*inputs, **kwargs)\n",
      "/home/amignon/Projets/upec-introduction-to-ai/shared_notebooks/venv/lib/python3.10/site-packages/pandas/core/arraylike.py:402: RuntimeWarning: overflow encountered in exp\n",
      "  result = getattr(ufunc, method)(*inputs, **kwargs)\n",
      "/home/amignon/Projets/upec-introduction-to-ai/shared_notebooks/venv/lib/python3.10/site-packages/pandas/core/arraylike.py:402: RuntimeWarning: overflow encountered in exp\n",
      "  result = getattr(ufunc, method)(*inputs, **kwargs)\n"
     ]
    },
    {
     "name": "stderr",
     "output_type": "stream",
     "text": [
      "/home/amignon/Projets/upec-introduction-to-ai/shared_notebooks/venv/lib/python3.10/site-packages/pandas/core/arraylike.py:402: RuntimeWarning: overflow encountered in exp\n",
      "  result = getattr(ufunc, method)(*inputs, **kwargs)\n",
      "/home/amignon/Projets/upec-introduction-to-ai/shared_notebooks/venv/lib/python3.10/site-packages/pandas/core/arraylike.py:402: RuntimeWarning: overflow encountered in exp\n",
      "  result = getattr(ufunc, method)(*inputs, **kwargs)\n",
      "/home/amignon/Projets/upec-introduction-to-ai/shared_notebooks/venv/lib/python3.10/site-packages/pandas/core/arraylike.py:402: RuntimeWarning: overflow encountered in exp\n",
      "  result = getattr(ufunc, method)(*inputs, **kwargs)\n",
      "/home/amignon/Projets/upec-introduction-to-ai/shared_notebooks/venv/lib/python3.10/site-packages/pandas/core/arraylike.py:402: RuntimeWarning: overflow encountered in exp\n",
      "  result = getattr(ufunc, method)(*inputs, **kwargs)\n",
      "/home/amignon/Projets/upec-introduction-to-ai/shared_notebooks/venv/lib/python3.10/site-packages/pandas/core/arraylike.py:402: RuntimeWarning: overflow encountered in exp\n",
      "  result = getattr(ufunc, method)(*inputs, **kwargs)\n",
      "/home/amignon/Projets/upec-introduction-to-ai/shared_notebooks/venv/lib/python3.10/site-packages/pandas/core/arraylike.py:402: RuntimeWarning: overflow encountered in exp\n",
      "  result = getattr(ufunc, method)(*inputs, **kwargs)\n",
      "/home/amignon/Projets/upec-introduction-to-ai/shared_notebooks/venv/lib/python3.10/site-packages/pandas/core/arraylike.py:402: RuntimeWarning: overflow encountered in exp\n",
      "  result = getattr(ufunc, method)(*inputs, **kwargs)\n",
      "/home/amignon/Projets/upec-introduction-to-ai/shared_notebooks/venv/lib/python3.10/site-packages/pandas/core/arraylike.py:402: RuntimeWarning: overflow encountered in exp\n",
      "  result = getattr(ufunc, method)(*inputs, **kwargs)\n",
      "/home/amignon/Projets/upec-introduction-to-ai/shared_notebooks/venv/lib/python3.10/site-packages/pandas/core/arraylike.py:402: RuntimeWarning: overflow encountered in exp\n",
      "  result = getattr(ufunc, method)(*inputs, **kwargs)\n",
      "/home/amignon/Projets/upec-introduction-to-ai/shared_notebooks/venv/lib/python3.10/site-packages/pandas/core/arraylike.py:402: RuntimeWarning: overflow encountered in exp\n",
      "  result = getattr(ufunc, method)(*inputs, **kwargs)\n",
      "/home/amignon/Projets/upec-introduction-to-ai/shared_notebooks/venv/lib/python3.10/site-packages/pandas/core/arraylike.py:402: RuntimeWarning: overflow encountered in exp\n",
      "  result = getattr(ufunc, method)(*inputs, **kwargs)\n",
      "/home/amignon/Projets/upec-introduction-to-ai/shared_notebooks/venv/lib/python3.10/site-packages/pandas/core/arraylike.py:402: RuntimeWarning: overflow encountered in exp\n",
      "  result = getattr(ufunc, method)(*inputs, **kwargs)\n",
      "/home/amignon/Projets/upec-introduction-to-ai/shared_notebooks/venv/lib/python3.10/site-packages/pandas/core/arraylike.py:402: RuntimeWarning: overflow encountered in exp\n",
      "  result = getattr(ufunc, method)(*inputs, **kwargs)\n",
      "/home/amignon/Projets/upec-introduction-to-ai/shared_notebooks/venv/lib/python3.10/site-packages/pandas/core/arraylike.py:402: RuntimeWarning: overflow encountered in exp\n",
      "  result = getattr(ufunc, method)(*inputs, **kwargs)\n",
      "/home/amignon/Projets/upec-introduction-to-ai/shared_notebooks/venv/lib/python3.10/site-packages/pandas/core/arraylike.py:402: RuntimeWarning: overflow encountered in exp\n",
      "  result = getattr(ufunc, method)(*inputs, **kwargs)\n",
      "/home/amignon/Projets/upec-introduction-to-ai/shared_notebooks/venv/lib/python3.10/site-packages/pandas/core/arraylike.py:402: RuntimeWarning: overflow encountered in exp\n",
      "  result = getattr(ufunc, method)(*inputs, **kwargs)\n",
      "/home/amignon/Projets/upec-introduction-to-ai/shared_notebooks/venv/lib/python3.10/site-packages/pandas/core/arraylike.py:402: RuntimeWarning: overflow encountered in exp\n",
      "  result = getattr(ufunc, method)(*inputs, **kwargs)\n",
      "/home/amignon/Projets/upec-introduction-to-ai/shared_notebooks/venv/lib/python3.10/site-packages/pandas/core/arraylike.py:402: RuntimeWarning: overflow encountered in exp\n",
      "  result = getattr(ufunc, method)(*inputs, **kwargs)\n",
      "/home/amignon/Projets/upec-introduction-to-ai/shared_notebooks/venv/lib/python3.10/site-packages/pandas/core/arraylike.py:402: RuntimeWarning: overflow encountered in exp\n",
      "  result = getattr(ufunc, method)(*inputs, **kwargs)\n",
      "/home/amignon/Projets/upec-introduction-to-ai/shared_notebooks/venv/lib/python3.10/site-packages/pandas/core/arraylike.py:402: RuntimeWarning: overflow encountered in exp\n",
      "  result = getattr(ufunc, method)(*inputs, **kwargs)\n",
      "/home/amignon/Projets/upec-introduction-to-ai/shared_notebooks/venv/lib/python3.10/site-packages/pandas/core/arraylike.py:402: RuntimeWarning: overflow encountered in exp\n",
      "  result = getattr(ufunc, method)(*inputs, **kwargs)\n",
      "/home/amignon/Projets/upec-introduction-to-ai/shared_notebooks/venv/lib/python3.10/site-packages/pandas/core/arraylike.py:402: RuntimeWarning: overflow encountered in exp\n",
      "  result = getattr(ufunc, method)(*inputs, **kwargs)\n",
      "/home/amignon/Projets/upec-introduction-to-ai/shared_notebooks/venv/lib/python3.10/site-packages/pandas/core/arraylike.py:402: RuntimeWarning: overflow encountered in exp\n",
      "  result = getattr(ufunc, method)(*inputs, **kwargs)\n",
      "/home/amignon/Projets/upec-introduction-to-ai/shared_notebooks/venv/lib/python3.10/site-packages/pandas/core/arraylike.py:402: RuntimeWarning: overflow encountered in exp\n",
      "  result = getattr(ufunc, method)(*inputs, **kwargs)\n",
      "/home/amignon/Projets/upec-introduction-to-ai/shared_notebooks/venv/lib/python3.10/site-packages/pandas/core/arraylike.py:402: RuntimeWarning: overflow encountered in exp\n",
      "  result = getattr(ufunc, method)(*inputs, **kwargs)\n",
      "/home/amignon/Projets/upec-introduction-to-ai/shared_notebooks/venv/lib/python3.10/site-packages/pandas/core/arraylike.py:402: RuntimeWarning: overflow encountered in exp\n",
      "  result = getattr(ufunc, method)(*inputs, **kwargs)\n",
      "/home/amignon/Projets/upec-introduction-to-ai/shared_notebooks/venv/lib/python3.10/site-packages/pandas/core/arraylike.py:402: RuntimeWarning: overflow encountered in exp\n",
      "  result = getattr(ufunc, method)(*inputs, **kwargs)\n",
      "/home/amignon/Projets/upec-introduction-to-ai/shared_notebooks/venv/lib/python3.10/site-packages/pandas/core/arraylike.py:402: RuntimeWarning: overflow encountered in exp\n",
      "  result = getattr(ufunc, method)(*inputs, **kwargs)\n",
      "/home/amignon/Projets/upec-introduction-to-ai/shared_notebooks/venv/lib/python3.10/site-packages/pandas/core/arraylike.py:402: RuntimeWarning: overflow encountered in exp\n",
      "  result = getattr(ufunc, method)(*inputs, **kwargs)\n",
      "/home/amignon/Projets/upec-introduction-to-ai/shared_notebooks/venv/lib/python3.10/site-packages/pandas/core/arraylike.py:402: RuntimeWarning: overflow encountered in exp\n",
      "  result = getattr(ufunc, method)(*inputs, **kwargs)\n",
      "/home/amignon/Projets/upec-introduction-to-ai/shared_notebooks/venv/lib/python3.10/site-packages/pandas/core/arraylike.py:402: RuntimeWarning: overflow encountered in exp\n",
      "  result = getattr(ufunc, method)(*inputs, **kwargs)\n",
      "/home/amignon/Projets/upec-introduction-to-ai/shared_notebooks/venv/lib/python3.10/site-packages/pandas/core/arraylike.py:402: RuntimeWarning: overflow encountered in exp\n",
      "  result = getattr(ufunc, method)(*inputs, **kwargs)\n",
      "/home/amignon/Projets/upec-introduction-to-ai/shared_notebooks/venv/lib/python3.10/site-packages/pandas/core/arraylike.py:402: RuntimeWarning: overflow encountered in exp\n",
      "  result = getattr(ufunc, method)(*inputs, **kwargs)\n",
      "/home/amignon/Projets/upec-introduction-to-ai/shared_notebooks/venv/lib/python3.10/site-packages/pandas/core/arraylike.py:402: RuntimeWarning: overflow encountered in exp\n",
      "  result = getattr(ufunc, method)(*inputs, **kwargs)\n",
      "/home/amignon/Projets/upec-introduction-to-ai/shared_notebooks/venv/lib/python3.10/site-packages/pandas/core/arraylike.py:402: RuntimeWarning: overflow encountered in exp\n",
      "  result = getattr(ufunc, method)(*inputs, **kwargs)\n",
      "/home/amignon/Projets/upec-introduction-to-ai/shared_notebooks/venv/lib/python3.10/site-packages/pandas/core/arraylike.py:402: RuntimeWarning: overflow encountered in exp\n",
      "  result = getattr(ufunc, method)(*inputs, **kwargs)\n",
      "/home/amignon/Projets/upec-introduction-to-ai/shared_notebooks/venv/lib/python3.10/site-packages/pandas/core/arraylike.py:402: RuntimeWarning: overflow encountered in exp\n",
      "  result = getattr(ufunc, method)(*inputs, **kwargs)\n",
      "/home/amignon/Projets/upec-introduction-to-ai/shared_notebooks/venv/lib/python3.10/site-packages/pandas/core/arraylike.py:402: RuntimeWarning: overflow encountered in exp\n",
      "  result = getattr(ufunc, method)(*inputs, **kwargs)\n",
      "/home/amignon/Projets/upec-introduction-to-ai/shared_notebooks/venv/lib/python3.10/site-packages/pandas/core/arraylike.py:402: RuntimeWarning: overflow encountered in exp\n",
      "  result = getattr(ufunc, method)(*inputs, **kwargs)\n",
      "/home/amignon/Projets/upec-introduction-to-ai/shared_notebooks/venv/lib/python3.10/site-packages/pandas/core/arraylike.py:402: RuntimeWarning: overflow encountered in exp\n",
      "  result = getattr(ufunc, method)(*inputs, **kwargs)\n"
     ]
    },
    {
     "name": "stderr",
     "output_type": "stream",
     "text": [
      "/home/amignon/Projets/upec-introduction-to-ai/shared_notebooks/venv/lib/python3.10/site-packages/pandas/core/arraylike.py:402: RuntimeWarning: overflow encountered in exp\n",
      "  result = getattr(ufunc, method)(*inputs, **kwargs)\n",
      "/home/amignon/Projets/upec-introduction-to-ai/shared_notebooks/venv/lib/python3.10/site-packages/pandas/core/arraylike.py:402: RuntimeWarning: overflow encountered in exp\n",
      "  result = getattr(ufunc, method)(*inputs, **kwargs)\n",
      "/home/amignon/Projets/upec-introduction-to-ai/shared_notebooks/venv/lib/python3.10/site-packages/pandas/core/arraylike.py:402: RuntimeWarning: overflow encountered in exp\n",
      "  result = getattr(ufunc, method)(*inputs, **kwargs)\n",
      "/home/amignon/Projets/upec-introduction-to-ai/shared_notebooks/venv/lib/python3.10/site-packages/pandas/core/arraylike.py:402: RuntimeWarning: overflow encountered in exp\n",
      "  result = getattr(ufunc, method)(*inputs, **kwargs)\n",
      "/home/amignon/Projets/upec-introduction-to-ai/shared_notebooks/venv/lib/python3.10/site-packages/pandas/core/arraylike.py:402: RuntimeWarning: overflow encountered in exp\n",
      "  result = getattr(ufunc, method)(*inputs, **kwargs)\n",
      "/home/amignon/Projets/upec-introduction-to-ai/shared_notebooks/venv/lib/python3.10/site-packages/pandas/core/arraylike.py:402: RuntimeWarning: overflow encountered in exp\n",
      "  result = getattr(ufunc, method)(*inputs, **kwargs)\n",
      "/home/amignon/Projets/upec-introduction-to-ai/shared_notebooks/venv/lib/python3.10/site-packages/pandas/core/arraylike.py:402: RuntimeWarning: overflow encountered in exp\n",
      "  result = getattr(ufunc, method)(*inputs, **kwargs)\n",
      "/home/amignon/Projets/upec-introduction-to-ai/shared_notebooks/venv/lib/python3.10/site-packages/pandas/core/arraylike.py:402: RuntimeWarning: overflow encountered in exp\n",
      "  result = getattr(ufunc, method)(*inputs, **kwargs)\n",
      "/home/amignon/Projets/upec-introduction-to-ai/shared_notebooks/venv/lib/python3.10/site-packages/pandas/core/arraylike.py:402: RuntimeWarning: overflow encountered in exp\n",
      "  result = getattr(ufunc, method)(*inputs, **kwargs)\n",
      "/home/amignon/Projets/upec-introduction-to-ai/shared_notebooks/venv/lib/python3.10/site-packages/pandas/core/arraylike.py:402: RuntimeWarning: overflow encountered in exp\n",
      "  result = getattr(ufunc, method)(*inputs, **kwargs)\n",
      "/home/amignon/Projets/upec-introduction-to-ai/shared_notebooks/venv/lib/python3.10/site-packages/pandas/core/arraylike.py:402: RuntimeWarning: overflow encountered in exp\n",
      "  result = getattr(ufunc, method)(*inputs, **kwargs)\n",
      "/home/amignon/Projets/upec-introduction-to-ai/shared_notebooks/venv/lib/python3.10/site-packages/pandas/core/arraylike.py:402: RuntimeWarning: overflow encountered in exp\n",
      "  result = getattr(ufunc, method)(*inputs, **kwargs)\n",
      "/home/amignon/Projets/upec-introduction-to-ai/shared_notebooks/venv/lib/python3.10/site-packages/pandas/core/arraylike.py:402: RuntimeWarning: overflow encountered in exp\n",
      "  result = getattr(ufunc, method)(*inputs, **kwargs)\n",
      "/home/amignon/Projets/upec-introduction-to-ai/shared_notebooks/venv/lib/python3.10/site-packages/pandas/core/arraylike.py:402: RuntimeWarning: overflow encountered in exp\n",
      "  result = getattr(ufunc, method)(*inputs, **kwargs)\n",
      "/home/amignon/Projets/upec-introduction-to-ai/shared_notebooks/venv/lib/python3.10/site-packages/pandas/core/arraylike.py:402: RuntimeWarning: overflow encountered in exp\n",
      "  result = getattr(ufunc, method)(*inputs, **kwargs)\n",
      "/home/amignon/Projets/upec-introduction-to-ai/shared_notebooks/venv/lib/python3.10/site-packages/pandas/core/arraylike.py:402: RuntimeWarning: overflow encountered in exp\n",
      "  result = getattr(ufunc, method)(*inputs, **kwargs)\n",
      "/home/amignon/Projets/upec-introduction-to-ai/shared_notebooks/venv/lib/python3.10/site-packages/pandas/core/arraylike.py:402: RuntimeWarning: overflow encountered in exp\n",
      "  result = getattr(ufunc, method)(*inputs, **kwargs)\n",
      "/home/amignon/Projets/upec-introduction-to-ai/shared_notebooks/venv/lib/python3.10/site-packages/pandas/core/arraylike.py:402: RuntimeWarning: overflow encountered in exp\n",
      "  result = getattr(ufunc, method)(*inputs, **kwargs)\n",
      "/home/amignon/Projets/upec-introduction-to-ai/shared_notebooks/venv/lib/python3.10/site-packages/pandas/core/arraylike.py:402: RuntimeWarning: overflow encountered in exp\n",
      "  result = getattr(ufunc, method)(*inputs, **kwargs)\n",
      "/home/amignon/Projets/upec-introduction-to-ai/shared_notebooks/venv/lib/python3.10/site-packages/pandas/core/arraylike.py:402: RuntimeWarning: overflow encountered in exp\n",
      "  result = getattr(ufunc, method)(*inputs, **kwargs)\n",
      "/home/amignon/Projets/upec-introduction-to-ai/shared_notebooks/venv/lib/python3.10/site-packages/pandas/core/arraylike.py:402: RuntimeWarning: overflow encountered in exp\n",
      "  result = getattr(ufunc, method)(*inputs, **kwargs)\n",
      "/home/amignon/Projets/upec-introduction-to-ai/shared_notebooks/venv/lib/python3.10/site-packages/pandas/core/arraylike.py:402: RuntimeWarning: overflow encountered in exp\n",
      "  result = getattr(ufunc, method)(*inputs, **kwargs)\n",
      "/home/amignon/Projets/upec-introduction-to-ai/shared_notebooks/venv/lib/python3.10/site-packages/pandas/core/arraylike.py:402: RuntimeWarning: overflow encountered in exp\n",
      "  result = getattr(ufunc, method)(*inputs, **kwargs)\n",
      "/home/amignon/Projets/upec-introduction-to-ai/shared_notebooks/venv/lib/python3.10/site-packages/pandas/core/arraylike.py:402: RuntimeWarning: overflow encountered in exp\n",
      "  result = getattr(ufunc, method)(*inputs, **kwargs)\n",
      "/home/amignon/Projets/upec-introduction-to-ai/shared_notebooks/venv/lib/python3.10/site-packages/pandas/core/arraylike.py:402: RuntimeWarning: overflow encountered in exp\n",
      "  result = getattr(ufunc, method)(*inputs, **kwargs)\n",
      "/home/amignon/Projets/upec-introduction-to-ai/shared_notebooks/venv/lib/python3.10/site-packages/pandas/core/arraylike.py:402: RuntimeWarning: overflow encountered in exp\n",
      "  result = getattr(ufunc, method)(*inputs, **kwargs)\n",
      "/home/amignon/Projets/upec-introduction-to-ai/shared_notebooks/venv/lib/python3.10/site-packages/pandas/core/arraylike.py:402: RuntimeWarning: overflow encountered in exp\n",
      "  result = getattr(ufunc, method)(*inputs, **kwargs)\n",
      "/home/amignon/Projets/upec-introduction-to-ai/shared_notebooks/venv/lib/python3.10/site-packages/pandas/core/arraylike.py:402: RuntimeWarning: overflow encountered in exp\n",
      "  result = getattr(ufunc, method)(*inputs, **kwargs)\n",
      "/home/amignon/Projets/upec-introduction-to-ai/shared_notebooks/venv/lib/python3.10/site-packages/pandas/core/arraylike.py:402: RuntimeWarning: overflow encountered in exp\n",
      "  result = getattr(ufunc, method)(*inputs, **kwargs)\n",
      "/home/amignon/Projets/upec-introduction-to-ai/shared_notebooks/venv/lib/python3.10/site-packages/pandas/core/arraylike.py:402: RuntimeWarning: overflow encountered in exp\n",
      "  result = getattr(ufunc, method)(*inputs, **kwargs)\n",
      "/home/amignon/Projets/upec-introduction-to-ai/shared_notebooks/venv/lib/python3.10/site-packages/pandas/core/arraylike.py:402: RuntimeWarning: overflow encountered in exp\n",
      "  result = getattr(ufunc, method)(*inputs, **kwargs)\n",
      "/home/amignon/Projets/upec-introduction-to-ai/shared_notebooks/venv/lib/python3.10/site-packages/pandas/core/arraylike.py:402: RuntimeWarning: overflow encountered in exp\n",
      "  result = getattr(ufunc, method)(*inputs, **kwargs)\n",
      "/home/amignon/Projets/upec-introduction-to-ai/shared_notebooks/venv/lib/python3.10/site-packages/pandas/core/arraylike.py:402: RuntimeWarning: overflow encountered in exp\n",
      "  result = getattr(ufunc, method)(*inputs, **kwargs)\n",
      "/home/amignon/Projets/upec-introduction-to-ai/shared_notebooks/venv/lib/python3.10/site-packages/pandas/core/arraylike.py:402: RuntimeWarning: overflow encountered in exp\n",
      "  result = getattr(ufunc, method)(*inputs, **kwargs)\n",
      "/home/amignon/Projets/upec-introduction-to-ai/shared_notebooks/venv/lib/python3.10/site-packages/pandas/core/arraylike.py:402: RuntimeWarning: overflow encountered in exp\n",
      "  result = getattr(ufunc, method)(*inputs, **kwargs)\n",
      "/home/amignon/Projets/upec-introduction-to-ai/shared_notebooks/venv/lib/python3.10/site-packages/pandas/core/arraylike.py:402: RuntimeWarning: overflow encountered in exp\n",
      "  result = getattr(ufunc, method)(*inputs, **kwargs)\n",
      "/home/amignon/Projets/upec-introduction-to-ai/shared_notebooks/venv/lib/python3.10/site-packages/pandas/core/arraylike.py:402: RuntimeWarning: overflow encountered in exp\n",
      "  result = getattr(ufunc, method)(*inputs, **kwargs)\n"
     ]
    },
    {
     "name": "stderr",
     "output_type": "stream",
     "text": [
      "/home/amignon/Projets/upec-introduction-to-ai/shared_notebooks/venv/lib/python3.10/site-packages/pandas/core/arraylike.py:402: RuntimeWarning: overflow encountered in exp\n",
      "  result = getattr(ufunc, method)(*inputs, **kwargs)\n",
      "/home/amignon/Projets/upec-introduction-to-ai/shared_notebooks/venv/lib/python3.10/site-packages/pandas/core/arraylike.py:402: RuntimeWarning: overflow encountered in exp\n",
      "  result = getattr(ufunc, method)(*inputs, **kwargs)\n",
      "/home/amignon/Projets/upec-introduction-to-ai/shared_notebooks/venv/lib/python3.10/site-packages/pandas/core/arraylike.py:402: RuntimeWarning: overflow encountered in exp\n",
      "  result = getattr(ufunc, method)(*inputs, **kwargs)\n",
      "/home/amignon/Projets/upec-introduction-to-ai/shared_notebooks/venv/lib/python3.10/site-packages/pandas/core/arraylike.py:402: RuntimeWarning: overflow encountered in exp\n",
      "  result = getattr(ufunc, method)(*inputs, **kwargs)\n",
      "/home/amignon/Projets/upec-introduction-to-ai/shared_notebooks/venv/lib/python3.10/site-packages/pandas/core/arraylike.py:402: RuntimeWarning: overflow encountered in exp\n",
      "  result = getattr(ufunc, method)(*inputs, **kwargs)\n",
      "/home/amignon/Projets/upec-introduction-to-ai/shared_notebooks/venv/lib/python3.10/site-packages/pandas/core/arraylike.py:402: RuntimeWarning: overflow encountered in exp\n",
      "  result = getattr(ufunc, method)(*inputs, **kwargs)\n",
      "/home/amignon/Projets/upec-introduction-to-ai/shared_notebooks/venv/lib/python3.10/site-packages/pandas/core/arraylike.py:402: RuntimeWarning: overflow encountered in exp\n",
      "  result = getattr(ufunc, method)(*inputs, **kwargs)\n",
      "/home/amignon/Projets/upec-introduction-to-ai/shared_notebooks/venv/lib/python3.10/site-packages/pandas/core/arraylike.py:402: RuntimeWarning: overflow encountered in exp\n",
      "  result = getattr(ufunc, method)(*inputs, **kwargs)\n",
      "/home/amignon/Projets/upec-introduction-to-ai/shared_notebooks/venv/lib/python3.10/site-packages/pandas/core/arraylike.py:402: RuntimeWarning: overflow encountered in exp\n",
      "  result = getattr(ufunc, method)(*inputs, **kwargs)\n",
      "/home/amignon/Projets/upec-introduction-to-ai/shared_notebooks/venv/lib/python3.10/site-packages/pandas/core/arraylike.py:402: RuntimeWarning: overflow encountered in exp\n",
      "  result = getattr(ufunc, method)(*inputs, **kwargs)\n",
      "/home/amignon/Projets/upec-introduction-to-ai/shared_notebooks/venv/lib/python3.10/site-packages/pandas/core/arraylike.py:402: RuntimeWarning: overflow encountered in exp\n",
      "  result = getattr(ufunc, method)(*inputs, **kwargs)\n",
      "/home/amignon/Projets/upec-introduction-to-ai/shared_notebooks/venv/lib/python3.10/site-packages/pandas/core/arraylike.py:402: RuntimeWarning: overflow encountered in exp\n",
      "  result = getattr(ufunc, method)(*inputs, **kwargs)\n",
      "/home/amignon/Projets/upec-introduction-to-ai/shared_notebooks/venv/lib/python3.10/site-packages/pandas/core/arraylike.py:402: RuntimeWarning: overflow encountered in exp\n",
      "  result = getattr(ufunc, method)(*inputs, **kwargs)\n",
      "/home/amignon/Projets/upec-introduction-to-ai/shared_notebooks/venv/lib/python3.10/site-packages/pandas/core/arraylike.py:402: RuntimeWarning: overflow encountered in exp\n",
      "  result = getattr(ufunc, method)(*inputs, **kwargs)\n",
      "/home/amignon/Projets/upec-introduction-to-ai/shared_notebooks/venv/lib/python3.10/site-packages/pandas/core/arraylike.py:402: RuntimeWarning: overflow encountered in exp\n",
      "  result = getattr(ufunc, method)(*inputs, **kwargs)\n",
      "/home/amignon/Projets/upec-introduction-to-ai/shared_notebooks/venv/lib/python3.10/site-packages/pandas/core/arraylike.py:402: RuntimeWarning: overflow encountered in exp\n",
      "  result = getattr(ufunc, method)(*inputs, **kwargs)\n",
      "/home/amignon/Projets/upec-introduction-to-ai/shared_notebooks/venv/lib/python3.10/site-packages/pandas/core/arraylike.py:402: RuntimeWarning: overflow encountered in exp\n",
      "  result = getattr(ufunc, method)(*inputs, **kwargs)\n",
      "/home/amignon/Projets/upec-introduction-to-ai/shared_notebooks/venv/lib/python3.10/site-packages/pandas/core/arraylike.py:402: RuntimeWarning: overflow encountered in exp\n",
      "  result = getattr(ufunc, method)(*inputs, **kwargs)\n",
      "/home/amignon/Projets/upec-introduction-to-ai/shared_notebooks/venv/lib/python3.10/site-packages/pandas/core/arraylike.py:402: RuntimeWarning: overflow encountered in exp\n",
      "  result = getattr(ufunc, method)(*inputs, **kwargs)\n",
      "/home/amignon/Projets/upec-introduction-to-ai/shared_notebooks/venv/lib/python3.10/site-packages/pandas/core/arraylike.py:402: RuntimeWarning: overflow encountered in exp\n",
      "  result = getattr(ufunc, method)(*inputs, **kwargs)\n"
     ]
    }
   ],
   "source": [
    "tree_rand_cv = RandomizedSearchCV(\n",
    "    estimator=tree_model,\n",
    "    param_distributions=tree_param_distribs,\n",
    "    cv=cv,\n",
    "    n_iter=100,\n",
    "    n_jobs=n_jobs\n",
    ").fit(Xtrain, ytrain)"
   ]
  },
  {
   "cell_type": "code",
   "execution_count": 38,
   "id": "73b121ef",
   "metadata": {
    "ExecuteTime": {
     "end_time": "2022-11-28T14:01:18.837277Z",
     "start_time": "2022-11-28T14:01:18.819747Z"
    }
   },
   "outputs": [
    {
     "name": "stdout",
     "output_type": "stream",
     "text": [
      "Meilleur score:  0.7588235294117648\n"
     ]
    },
    {
     "data": {
      "text/plain": [
       "{'cat_enc__min_samples_leaf': 45,\n",
       " 'cat_enc__smoothing': 1.025770241883158,\n",
       " 'clf__max_depth': 22,\n",
       " 'clf__min_samples_leaf': 1}"
      ]
     },
     "execution_count": 38,
     "metadata": {},
     "output_type": "execute_result"
    }
   ],
   "source": [
    "print(\"Meilleur score: \", tree_rand_cv.best_score_)\n",
    "tree_rand_cv.best_params_"
   ]
  },
  {
   "cell_type": "markdown",
   "id": "f166e415",
   "metadata": {},
   "source": [
    "CatBoost :"
   ]
  },
  {
   "cell_type": "code",
   "execution_count": 39,
   "id": "16ad7b91",
   "metadata": {
    "ExecuteTime": {
     "end_time": "2022-11-28T14:02:45.744166Z",
     "start_time": "2022-11-28T14:01:18.848941Z"
    }
   },
   "outputs": [],
   "source": [
    "boost_rand_cv = RandomizedSearchCV(\n",
    "    estimator=boost_model,\n",
    "    param_distributions=boost_param_distribs,\n",
    "    cv=cv,\n",
    "    n_iter=100,\n",
    "    n_jobs=n_jobs\n",
    ").fit(Xtrain, ytrain)"
   ]
  },
  {
   "cell_type": "code",
   "execution_count": 40,
   "id": "2393f344",
   "metadata": {
    "ExecuteTime": {
     "end_time": "2022-11-28T14:02:45.770325Z",
     "start_time": "2022-11-28T14:02:45.753341Z"
    }
   },
   "outputs": [
    {
     "name": "stdout",
     "output_type": "stream",
     "text": [
      "Meilleur score:  0.7665966386554622\n"
     ]
    },
    {
     "data": {
      "text/plain": [
       "{'min_data_in_leaf': 44, 'iterations': 66, 'depth': 9}"
      ]
     },
     "execution_count": 40,
     "metadata": {},
     "output_type": "execute_result"
    }
   ],
   "source": [
    "print(\"Meilleur score: \", boost_rand_cv.best_score_)\n",
    "boost_rand_cv.best_params_"
   ]
  },
  {
   "cell_type": "markdown",
   "id": "05bbc030",
   "metadata": {},
   "source": [
    "### Optimisation Bayesienne\n",
    "\n",
    "Pour l'optimisation Bayésienne nous utilisons la bibliothèque `optuna`, qui a l'avantage de proposer une interface compatible avec scikit-learn. La déclaration est très similaire à cellle utilisée pour la recherche randomisée mais utilise des objets distributions spécifique à la bibliothèque :"
   ]
  },
  {
   "cell_type": "code",
   "execution_count": 41,
   "id": "60c24020",
   "metadata": {
    "ExecuteTime": {
     "end_time": "2022-11-28T14:02:46.408051Z",
     "start_time": "2022-11-28T14:02:45.778620Z"
    }
   },
   "outputs": [],
   "source": [
    "from optuna.distributions import FloatDistribution, IntDistribution\n",
    "\n",
    "logist_param_distribs_opt = {\n",
    "    \"cat_enc__smoothing\": FloatDistribution(1e-2, 1e1, log=True),\n",
    "    \"cat_enc__min_samples_leaf\": IntDistribution(1, 50),\n",
    "    \"poly__degree\": IntDistribution(1, 5),\n",
    "    \"clf__C\": FloatDistribution(1e-3, 1e3, log=True)\n",
    "}\n",
    "\n",
    "tree_param_distribs_opt = {\n",
    "    \"cat_enc__smoothing\": FloatDistribution(1e-2, 1e1, log=True),\n",
    "    \"cat_enc__min_samples_leaf\": IntDistribution(1, 50),\n",
    "    \"clf__max_depth\": IntDistribution(1, 50),\n",
    "    \"clf__min_samples_leaf\": IntDistribution(1, 50)   \n",
    "}\n",
    "\n",
    "boost_param_distribs_opt = {\n",
    "    \"iterations\": IntDistribution(5, 100),\n",
    "    \"depth\": IntDistribution(2, 16),\n",
    "    \"min_data_in_leaf\": IntDistribution(1, 50) \n",
    "}"
   ]
  },
  {
   "cell_type": "markdown",
   "id": "fa648b27",
   "metadata": {},
   "source": [
    "Il nous reste simplement a effectuée la recherche pour les trois familles de modèles.\n",
    "\n",
    "Voici le code pour la régression logique :"
   ]
  },
  {
   "cell_type": "code",
   "execution_count": 42,
   "id": "c03c55e9",
   "metadata": {
    "ExecuteTime": {
     "end_time": "2022-11-28T14:10:46.781599Z",
     "start_time": "2022-11-28T14:02:46.412349Z"
    }
   },
   "outputs": [
    {
     "name": "stderr",
     "output_type": "stream",
     "text": [
      "\u001b[32m[I 2022-11-28 15:02:46,424]\u001b[0m A new study created in memory with name: no-name-cf09544b-8454-436c-815c-cb394159a78f\u001b[0m\n",
      "\u001b[32m[I 2022-11-28 15:02:47,375]\u001b[0m Trial 0 finished with value: 0.7006302521008404 and parameters: {'cat_enc__smoothing': 0.08685296003222023, 'cat_enc__min_samples_leaf': 25, 'poly__degree': 4, 'clf__C': 0.0013771526305129055}. Best is trial 0 with value: 0.7006302521008404.\u001b[0m\n",
      "\u001b[32m[I 2022-11-28 15:02:48,541]\u001b[0m Trial 1 finished with value: 0.700420168067227 and parameters: {'cat_enc__smoothing': 0.24987678978777955, 'cat_enc__min_samples_leaf': 33, 'poly__degree': 2, 'clf__C': 205.33731133070964}. Best is trial 0 with value: 0.7006302521008404.\u001b[0m\n",
      "\u001b[32m[I 2022-11-28 15:02:50,320]\u001b[0m Trial 2 finished with value: 0.7006302521008403 and parameters: {'cat_enc__smoothing': 0.012283721117079963, 'cat_enc__min_samples_leaf': 16, 'poly__degree': 4, 'clf__C': 0.419376148645163}. Best is trial 0 with value: 0.7006302521008404.\u001b[0m\n",
      "\u001b[32m[I 2022-11-28 15:02:51,471]\u001b[0m Trial 3 finished with value: 0.7298319327731093 and parameters: {'cat_enc__smoothing': 2.433867590483747, 'cat_enc__min_samples_leaf': 17, 'poly__degree': 5, 'clf__C': 0.008350483199877941}. Best is trial 3 with value: 0.7298319327731093.\u001b[0m\n",
      "\u001b[32m[I 2022-11-28 15:02:57,717]\u001b[0m Trial 4 finished with value: 0.7300420168067228 and parameters: {'cat_enc__smoothing': 0.2444470639051412, 'cat_enc__min_samples_leaf': 19, 'poly__degree': 4, 'clf__C': 316.0519235641089}. Best is trial 4 with value: 0.7300420168067228.\u001b[0m\n",
      "\u001b[32m[I 2022-11-28 15:02:58,320]\u001b[0m Trial 5 finished with value: 0.7445378151260504 and parameters: {'cat_enc__smoothing': 2.5155903485739968, 'cat_enc__min_samples_leaf': 15, 'poly__degree': 2, 'clf__C': 0.08534862298550759}. Best is trial 5 with value: 0.7445378151260504.\u001b[0m\n",
      "\u001b[32m[I 2022-11-28 15:02:59,424]\u001b[0m Trial 6 finished with value: 0.7224789915966388 and parameters: {'cat_enc__smoothing': 0.2000968595481101, 'cat_enc__min_samples_leaf': 41, 'poly__degree': 5, 'clf__C': 0.0015002371382165326}. Best is trial 5 with value: 0.7445378151260504.\u001b[0m\n",
      "\u001b[32m[I 2022-11-28 15:03:00,470]\u001b[0m Trial 7 finished with value: 0.6857142857142857 and parameters: {'cat_enc__smoothing': 0.2913855903432833, 'cat_enc__min_samples_leaf': 38, 'poly__degree': 2, 'clf__C': 161.41206849450916}. Best is trial 5 with value: 0.7445378151260504.\u001b[0m\n",
      "\u001b[32m[I 2022-11-28 15:03:06,333]\u001b[0m Trial 8 finished with value: 0.7592436974789916 and parameters: {'cat_enc__smoothing': 5.2169085820295775, 'cat_enc__min_samples_leaf': 50, 'poly__degree': 4, 'clf__C': 187.6261797481979}. Best is trial 8 with value: 0.7592436974789916.\u001b[0m\n",
      "\u001b[32m[I 2022-11-28 15:03:07,113]\u001b[0m Trial 9 finished with value: 0.7298319327731093 and parameters: {'cat_enc__smoothing': 0.1139021940806517, 'cat_enc__min_samples_leaf': 24, 'poly__degree': 1, 'clf__C': 0.6655269559275591}. Best is trial 8 with value: 0.7592436974789916.\u001b[0m\n",
      "\u001b[32m[I 2022-11-28 15:03:08,905]\u001b[0m Trial 10 finished with value: 0.7445378151260504 and parameters: {'cat_enc__smoothing': 9.690303569394047, 'cat_enc__min_samples_leaf': 2, 'poly__degree': 3, 'clf__C': 14.653059112182248}. Best is trial 8 with value: 0.7592436974789916.\u001b[0m\n",
      "\u001b[32m[I 2022-11-28 15:03:09,656]\u001b[0m Trial 11 finished with value: 0.7445378151260504 and parameters: {'cat_enc__smoothing': 1.964973015486476, 'cat_enc__min_samples_leaf': 49, 'poly__degree': 2, 'clf__C': 0.09110487663384202}. Best is trial 8 with value: 0.7592436974789916.\u001b[0m\n",
      "\u001b[32m[I 2022-11-28 15:03:11,876]\u001b[0m Trial 12 finished with value: 0.7445378151260504 and parameters: {'cat_enc__smoothing': 2.7987702070106475, 'cat_enc__min_samples_leaf': 6, 'poly__degree': 3, 'clf__C': 8.24304618972287}. Best is trial 8 with value: 0.7592436974789916.\u001b[0m\n",
      "\u001b[32m[I 2022-11-28 15:03:12,597]\u001b[0m Trial 13 finished with value: 0.6718487394957984 and parameters: {'cat_enc__smoothing': 7.053292928787233, 'cat_enc__min_samples_leaf': 9, 'poly__degree': 1, 'clf__C': 0.037292367889873106}. Best is trial 8 with value: 0.7592436974789916.\u001b[0m\n",
      "\u001b[32m[I 2022-11-28 15:03:15,379]\u001b[0m Trial 14 finished with value: 0.7004201680672268 and parameters: {'cat_enc__smoothing': 0.8906546991477614, 'cat_enc__min_samples_leaf': 49, 'poly__degree': 3, 'clf__C': 12.563080705699953}. Best is trial 8 with value: 0.7592436974789916.\u001b[0m\n",
      "\u001b[32m[I 2022-11-28 15:03:16,366]\u001b[0m Trial 15 finished with value: 0.744327731092437 and parameters: {'cat_enc__smoothing': 1.0118515707806488, 'cat_enc__min_samples_leaf': 31, 'poly__degree': 2, 'clf__C': 1.8542755948232026}. Best is trial 8 with value: 0.7592436974789916.\u001b[0m\n",
      "\u001b[32m[I 2022-11-28 15:03:17,938]\u001b[0m Trial 16 finished with value: 0.7224789915966388 and parameters: {'cat_enc__smoothing': 4.468629146533797, 'cat_enc__min_samples_leaf': 13, 'poly__degree': 4, 'clf__C': 0.07795225884126634}. Best is trial 8 with value: 0.7592436974789916.\u001b[0m\n",
      "\u001b[32m[I 2022-11-28 15:03:19,778]\u001b[0m Trial 17 finished with value: 0.7371848739495799 and parameters: {'cat_enc__smoothing': 0.8311103645530343, 'cat_enc__min_samples_leaf': 3, 'poly__degree': 3, 'clf__C': 20.814176321157753}. Best is trial 8 with value: 0.7592436974789916.\u001b[0m\n",
      "\u001b[32m[I 2022-11-28 15:03:22,453]\u001b[0m Trial 18 finished with value: 0.7445378151260504 and parameters: {'cat_enc__smoothing': 3.899477222704103, 'cat_enc__min_samples_leaf': 41, 'poly__degree': 3, 'clf__C': 59.95604269172005}. Best is trial 8 with value: 0.7592436974789916.\u001b[0m\n",
      "\u001b[32m[I 2022-11-28 15:03:31,865]\u001b[0m Trial 19 finished with value: 0.7300420168067228 and parameters: {'cat_enc__smoothing': 5.3021641176998315, 'cat_enc__min_samples_leaf': 43, 'poly__degree': 5, 'clf__C': 722.1713220415211}. Best is trial 8 with value: 0.7592436974789916.\u001b[0m\n",
      "\u001b[32m[I 2022-11-28 15:03:33,562]\u001b[0m Trial 20 finished with value: 0.7004201680672268 and parameters: {'cat_enc__smoothing': 0.04252823834321182, 'cat_enc__min_samples_leaf': 8, 'poly__degree': 4, 'clf__C': 4.041678368850408}. Best is trial 8 with value: 0.7592436974789916.\u001b[0m\n",
      "\u001b[32m[I 2022-11-28 15:03:36,067]\u001b[0m Trial 21 finished with value: 0.7516806722689076 and parameters: {'cat_enc__smoothing': 7.933572043819816, 'cat_enc__min_samples_leaf': 45, 'poly__degree': 3, 'clf__C': 48.314271112495824}. Best is trial 8 with value: 0.7592436974789916.\u001b[0m\n",
      "\u001b[32m[I 2022-11-28 15:03:38,520]\u001b[0m Trial 22 finished with value: 0.7516806722689076 and parameters: {'cat_enc__smoothing': 9.57333121426414, 'cat_enc__min_samples_leaf': 45, 'poly__degree': 3, 'clf__C': 59.86899432894396}. Best is trial 8 with value: 0.7592436974789916.\u001b[0m\n",
      "\u001b[32m[I 2022-11-28 15:03:41,025]\u001b[0m Trial 23 finished with value: 0.7516806722689076 and parameters: {'cat_enc__smoothing': 9.97799314205228, 'cat_enc__min_samples_leaf': 46, 'poly__degree': 3, 'clf__C': 83.22306494104912}. Best is trial 8 with value: 0.7592436974789916.\u001b[0m\n",
      "\u001b[32m[I 2022-11-28 15:03:47,745]\u001b[0m Trial 24 finished with value: 0.7590336134453781 and parameters: {'cat_enc__smoothing': 1.6617160254427212, 'cat_enc__min_samples_leaf': 35, 'poly__degree': 4, 'clf__C': 803.5487158427618}. Best is trial 8 with value: 0.7592436974789916.\u001b[0m\n",
      "\u001b[32m[I 2022-11-28 15:03:53,602]\u001b[0m Trial 25 finished with value: 0.7516806722689076 and parameters: {'cat_enc__smoothing': 1.3097010846240549, 'cat_enc__min_samples_leaf': 35, 'poly__degree': 4, 'clf__C': 776.6688230635754}. Best is trial 8 with value: 0.7592436974789916.\u001b[0m\n",
      "\u001b[32m[I 2022-11-28 15:03:59,679]\u001b[0m Trial 26 finished with value: 0.7590336134453781 and parameters: {'cat_enc__smoothing': 1.321196050983403, 'cat_enc__min_samples_leaf': 34, 'poly__degree': 4, 'clf__C': 870.1301982129097}. Best is trial 8 with value: 0.7592436974789916.\u001b[0m\n",
      "\u001b[32m[I 2022-11-28 15:04:06,603]\u001b[0m Trial 27 finished with value: 0.6861344537815126 and parameters: {'cat_enc__smoothing': 0.5637653858093548, 'cat_enc__min_samples_leaf': 28, 'poly__degree': 5, 'clf__C': 880.5790963887032}. Best is trial 8 with value: 0.7592436974789916.\u001b[0m\n",
      "\u001b[32m[I 2022-11-28 15:04:11,773]\u001b[0m Trial 28 finished with value: 0.7588235294117647 and parameters: {'cat_enc__smoothing': 1.5768342272774327, 'cat_enc__min_samples_leaf': 37, 'poly__degree': 4, 'clf__C': 330.65250494612945}. Best is trial 8 with value: 0.7592436974789916.\u001b[0m\n"
     ]
    },
    {
     "name": "stderr",
     "output_type": "stream",
     "text": [
      "\u001b[32m[I 2022-11-28 15:04:19,887]\u001b[0m Trial 29 finished with value: 0.7155462184873951 and parameters: {'cat_enc__smoothing': 0.558059730048953, 'cat_enc__min_samples_leaf': 24, 'poly__degree': 5, 'clf__C': 164.43828713048984}. Best is trial 8 with value: 0.7592436974789916.\u001b[0m\n",
      "\u001b[32m[I 2022-11-28 15:04:25,588]\u001b[0m Trial 30 finished with value: 0.7226890756302522 and parameters: {'cat_enc__smoothing': 0.6318891362442468, 'cat_enc__min_samples_leaf': 29, 'poly__degree': 4, 'clf__C': 434.46373397408564}. Best is trial 8 with value: 0.7592436974789916.\u001b[0m\n",
      "\u001b[32m[I 2022-11-28 15:04:30,432]\u001b[0m Trial 31 finished with value: 0.7588235294117647 and parameters: {'cat_enc__smoothing': 1.5565365515801504, 'cat_enc__min_samples_leaf': 37, 'poly__degree': 4, 'clf__C': 319.0507295534733}. Best is trial 8 with value: 0.7592436974789916.\u001b[0m\n",
      "\u001b[32m[I 2022-11-28 15:04:34,443]\u001b[0m Trial 32 finished with value: 0.7590336134453782 and parameters: {'cat_enc__smoothing': 3.299525072429191, 'cat_enc__min_samples_leaf': 35, 'poly__degree': 4, 'clf__C': 167.18956579235996}. Best is trial 8 with value: 0.7592436974789916.\u001b[0m\n",
      "\u001b[32m[I 2022-11-28 15:04:38,548]\u001b[0m Trial 33 finished with value: 0.7663865546218488 and parameters: {'cat_enc__smoothing': 3.4925107630170773, 'cat_enc__min_samples_leaf': 34, 'poly__degree': 4, 'clf__C': 128.97996569489513}. Best is trial 33 with value: 0.7663865546218488.\u001b[0m\n",
      "\u001b[32m[I 2022-11-28 15:04:41,126]\u001b[0m Trial 34 finished with value: 0.7514705882352941 and parameters: {'cat_enc__smoothing': 3.5700291676451203, 'cat_enc__min_samples_leaf': 31, 'poly__degree': 4, 'clf__C': 35.06186933709597}. Best is trial 33 with value: 0.7663865546218488.\u001b[0m\n",
      "\u001b[32m[I 2022-11-28 15:04:47,084]\u001b[0m Trial 35 finished with value: 0.7808823529411765 and parameters: {'cat_enc__smoothing': 5.782863021457932, 'cat_enc__min_samples_leaf': 21, 'poly__degree': 5, 'clf__C': 123.88545032426474}. Best is trial 35 with value: 0.7808823529411765.\u001b[0m\n",
      "\u001b[32m[I 2022-11-28 15:04:54,920]\u001b[0m Trial 36 finished with value: 0.788235294117647 and parameters: {'cat_enc__smoothing': 5.34924238379524, 'cat_enc__min_samples_leaf': 20, 'poly__degree': 5, 'clf__C': 124.82414654969087}. Best is trial 36 with value: 0.788235294117647.\u001b[0m\n",
      "\u001b[32m[I 2022-11-28 15:04:57,693]\u001b[0m Trial 37 finished with value: 0.7588235294117647 and parameters: {'cat_enc__smoothing': 5.979722557193601, 'cat_enc__min_samples_leaf': 21, 'poly__degree': 5, 'clf__C': 4.681423475486044}. Best is trial 36 with value: 0.788235294117647.\u001b[0m\n",
      "\u001b[32m[I 2022-11-28 15:05:04,523]\u001b[0m Trial 38 finished with value: 0.7155462184873951 and parameters: {'cat_enc__smoothing': 0.022161549539313243, 'cat_enc__min_samples_leaf': 22, 'poly__degree': 5, 'clf__C': 106.24614666731311}. Best is trial 36 with value: 0.788235294117647.\u001b[0m\n",
      "\u001b[32m[I 2022-11-28 15:05:06,433]\u001b[0m Trial 39 finished with value: 0.744327731092437 and parameters: {'cat_enc__smoothing': 5.575355104266538, 'cat_enc__min_samples_leaf': 17, 'poly__degree': 5, 'clf__C': 1.3463818623270787}. Best is trial 36 with value: 0.788235294117647.\u001b[0m\n",
      "\u001b[32m[I 2022-11-28 15:05:10,428]\u001b[0m Trial 40 finished with value: 0.7663865546218488 and parameters: {'cat_enc__smoothing': 2.3530625606039752, 'cat_enc__min_samples_leaf': 13, 'poly__degree': 5, 'clf__C': 27.129095258551516}. Best is trial 36 with value: 0.788235294117647.\u001b[0m\n",
      "\u001b[32m[I 2022-11-28 15:05:14,873]\u001b[0m Trial 41 finished with value: 0.7663865546218488 and parameters: {'cat_enc__smoothing': 2.4103061588312715, 'cat_enc__min_samples_leaf': 11, 'poly__degree': 5, 'clf__C': 25.278474666053587}. Best is trial 36 with value: 0.788235294117647.\u001b[0m\n",
      "\u001b[32m[I 2022-11-28 15:05:19,016]\u001b[0m Trial 42 finished with value: 0.7663865546218488 and parameters: {'cat_enc__smoothing': 2.582982166893774, 'cat_enc__min_samples_leaf': 12, 'poly__degree': 5, 'clf__C': 29.562046814207335}. Best is trial 36 with value: 0.788235294117647.\u001b[0m\n",
      "\u001b[32m[I 2022-11-28 15:05:21,891]\u001b[0m Trial 43 finished with value: 0.7588235294117647 and parameters: {'cat_enc__smoothing': 2.441402181118114, 'cat_enc__min_samples_leaf': 14, 'poly__degree': 5, 'clf__C': 5.518349380217548}. Best is trial 36 with value: 0.788235294117647.\u001b[0m\n",
      "\u001b[32m[I 2022-11-28 15:05:27,059]\u001b[0m Trial 44 finished with value: 0.7663865546218488 and parameters: {'cat_enc__smoothing': 2.154034595143458, 'cat_enc__min_samples_leaf': 11, 'poly__degree': 5, 'clf__C': 27.623012165473853}. Best is trial 36 with value: 0.788235294117647.\u001b[0m\n",
      "\u001b[32m[I 2022-11-28 15:05:30,065]\u001b[0m Trial 45 finished with value: 0.7516806722689076 and parameters: {'cat_enc__smoothing': 4.4452381047176095, 'cat_enc__min_samples_leaf': 10, 'poly__degree': 5, 'clf__C': 10.94343413442348}. Best is trial 36 with value: 0.788235294117647.\u001b[0m\n",
      "\u001b[32m[I 2022-11-28 15:05:37,506]\u001b[0m Trial 46 finished with value: 0.7155462184873951 and parameters: {'cat_enc__smoothing': 0.16111622454480093, 'cat_enc__min_samples_leaf': 19, 'poly__degree': 5, 'clf__C': 97.44528761406796}. Best is trial 36 with value: 0.788235294117647.\u001b[0m\n",
      "\u001b[32m[I 2022-11-28 15:05:39,873]\u001b[0m Trial 47 finished with value: 0.7004201680672268 and parameters: {'cat_enc__smoothing': 0.3936853041610879, 'cat_enc__min_samples_leaf': 26, 'poly__degree': 5, 'clf__C': 2.5382628242098644}. Best is trial 36 with value: 0.788235294117647.\u001b[0m\n",
      "\u001b[32m[I 2022-11-28 15:05:41,567]\u001b[0m Trial 48 finished with value: 0.7298319327731093 and parameters: {'cat_enc__smoothing': 2.0547008634630664, 'cat_enc__min_samples_leaf': 17, 'poly__degree': 5, 'clf__C': 0.4481471995475437}. Best is trial 36 with value: 0.788235294117647.\u001b[0m\n",
      "\u001b[32m[I 2022-11-28 15:05:42,556]\u001b[0m Trial 49 finished with value: 0.7373949579831933 and parameters: {'cat_enc__smoothing': 3.293049812471226, 'cat_enc__min_samples_leaf': 20, 'poly__degree': 5, 'clf__C': 0.002295412238621442}. Best is trial 36 with value: 0.788235294117647.\u001b[0m\n",
      "\u001b[32m[I 2022-11-28 15:05:46,223]\u001b[0m Trial 50 finished with value: 0.7445378151260504 and parameters: {'cat_enc__smoothing': 6.850071284322973, 'cat_enc__min_samples_leaf': 6, 'poly__degree': 5, 'clf__C': 16.403023487521704}. Best is trial 36 with value: 0.788235294117647.\u001b[0m\n",
      "\u001b[32m[I 2022-11-28 15:05:50,951]\u001b[0m Trial 51 finished with value: 0.7663865546218488 and parameters: {'cat_enc__smoothing': 2.419398410841488, 'cat_enc__min_samples_leaf': 12, 'poly__degree': 5, 'clf__C': 25.057225570305857}. Best is trial 36 with value: 0.788235294117647.\u001b[0m\n",
      "\u001b[32m[I 2022-11-28 15:05:58,559]\u001b[0m Trial 52 finished with value: 0.788235294117647 and parameters: {'cat_enc__smoothing': 2.9715595034584044, 'cat_enc__min_samples_leaf': 15, 'poly__degree': 5, 'clf__C': 120.43577390591561}. Best is trial 36 with value: 0.788235294117647.\u001b[0m\n",
      "\u001b[32m[I 2022-11-28 15:06:02,805]\u001b[0m Trial 53 finished with value: 0.7516806722689076 and parameters: {'cat_enc__smoothing': 4.664919345772695, 'cat_enc__min_samples_leaf': 11, 'poly__degree': 5, 'clf__C': 8.2461932820843}. Best is trial 36 with value: 0.788235294117647.\u001b[0m\n",
      "\u001b[32m[I 2022-11-28 15:06:08,397]\u001b[0m Trial 54 finished with value: 0.7735294117647059 and parameters: {'cat_enc__smoothing': 3.125615877209259, 'cat_enc__min_samples_leaf': 16, 'poly__degree': 5, 'clf__C': 38.88434170056561}. Best is trial 36 with value: 0.788235294117647.\u001b[0m\n",
      "\u001b[32m[I 2022-11-28 15:06:14,447]\u001b[0m Trial 55 finished with value: 0.788235294117647 and parameters: {'cat_enc__smoothing': 3.140583507746867, 'cat_enc__min_samples_leaf': 16, 'poly__degree': 5, 'clf__C': 119.47384771982642}. Best is trial 36 with value: 0.788235294117647.\u001b[0m\n",
      "\u001b[32m[I 2022-11-28 15:06:20,613]\u001b[0m Trial 56 finished with value: 0.7808823529411765 and parameters: {'cat_enc__smoothing': 3.5629065229320207, 'cat_enc__min_samples_leaf': 16, 'poly__degree': 5, 'clf__C': 111.9570363645387}. Best is trial 36 with value: 0.788235294117647.\u001b[0m\n",
      "\u001b[32m[I 2022-11-28 15:06:27,697]\u001b[0m Trial 57 finished with value: 0.7445378151260504 and parameters: {'cat_enc__smoothing': 8.38516177863146, 'cat_enc__min_samples_leaf': 15, 'poly__degree': 5, 'clf__C': 484.97030290345714}. Best is trial 36 with value: 0.788235294117647.\u001b[0m\n",
      "\u001b[32m[I 2022-11-28 15:06:28,284]\u001b[0m Trial 58 finished with value: 0.7371848739495799 and parameters: {'cat_enc__smoothing': 6.424430784352391, 'cat_enc__min_samples_leaf': 17, 'poly__degree': 1, 'clf__C': 221.18788951873321}. Best is trial 36 with value: 0.788235294117647.\u001b[0m\n"
     ]
    },
    {
     "name": "stderr",
     "output_type": "stream",
     "text": [
      "\u001b[32m[I 2022-11-28 15:06:33,843]\u001b[0m Trial 59 finished with value: 0.7226890756302521 and parameters: {'cat_enc__smoothing': 0.05675847779543199, 'cat_enc__min_samples_leaf': 23, 'poly__degree': 5, 'clf__C': 64.65861577282413}. Best is trial 36 with value: 0.788235294117647.\u001b[0m\n",
      "\u001b[32m[I 2022-11-28 15:06:39,026]\u001b[0m Trial 60 finished with value: 0.7661764705882353 and parameters: {'cat_enc__smoothing': 1.0973578689666006, 'cat_enc__min_samples_leaf': 19, 'poly__degree': 5, 'clf__C': 47.13850223169512}. Best is trial 36 with value: 0.788235294117647.\u001b[0m\n",
      "\u001b[32m[I 2022-11-28 15:06:47,915]\u001b[0m Trial 61 finished with value: 0.7808823529411764 and parameters: {'cat_enc__smoothing': 4.28638160112266, 'cat_enc__min_samples_leaf': 15, 'poly__degree': 5, 'clf__C': 222.3936165576045}. Best is trial 36 with value: 0.788235294117647.\u001b[0m\n",
      "\u001b[32m[I 2022-11-28 15:06:56,257]\u001b[0m Trial 62 finished with value: 0.788235294117647 and parameters: {'cat_enc__smoothing': 4.02776606667873, 'cat_enc__min_samples_leaf': 15, 'poly__degree': 5, 'clf__C': 252.34712099710913}. Best is trial 36 with value: 0.788235294117647.\u001b[0m\n",
      "\u001b[32m[I 2022-11-28 15:07:03,481]\u001b[0m Trial 63 finished with value: 0.7955882352941176 and parameters: {'cat_enc__smoothing': 4.169026896107697, 'cat_enc__min_samples_leaf': 19, 'poly__degree': 5, 'clf__C': 240.63607182762362}. Best is trial 63 with value: 0.7955882352941176.\u001b[0m\n",
      "\u001b[32m[I 2022-11-28 15:07:10,986]\u001b[0m Trial 64 finished with value: 0.7298319327731092 and parameters: {'cat_enc__smoothing': 5.361828171568891, 'cat_enc__min_samples_leaf': 26, 'poly__degree': 5, 'clf__C': 477.1686945654704}. Best is trial 63 with value: 0.7955882352941176.\u001b[0m\n",
      "\u001b[32m[I 2022-11-28 15:07:18,635]\u001b[0m Trial 65 finished with value: 0.7884453781512605 and parameters: {'cat_enc__smoothing': 7.292414758999787, 'cat_enc__min_samples_leaf': 19, 'poly__degree': 5, 'clf__C': 249.62191482322737}. Best is trial 63 with value: 0.7955882352941176.\u001b[0m\n",
      "\u001b[32m[I 2022-11-28 15:07:26,041]\u001b[0m Trial 66 finished with value: 0.788235294117647 and parameters: {'cat_enc__smoothing': 4.1439134191796425, 'cat_enc__min_samples_leaf': 18, 'poly__degree': 5, 'clf__C': 224.9523134705326}. Best is trial 63 with value: 0.7955882352941176.\u001b[0m\n",
      "\u001b[32m[I 2022-11-28 15:07:31,084]\u001b[0m Trial 67 finished with value: 0.7663865546218488 and parameters: {'cat_enc__smoothing': 7.737234108911967, 'cat_enc__min_samples_leaf': 18, 'poly__degree': 4, 'clf__C': 276.21413898633017}. Best is trial 63 with value: 0.7955882352941176.\u001b[0m\n",
      "\u001b[32m[I 2022-11-28 15:07:32,658]\u001b[0m Trial 68 finished with value: 0.736764705882353 and parameters: {'cat_enc__smoothing': 4.376933692046429, 'cat_enc__min_samples_leaf': 20, 'poly__degree': 2, 'clf__C': 490.73531749410307}. Best is trial 63 with value: 0.7955882352941176.\u001b[0m\n",
      "\u001b[32m[I 2022-11-28 15:07:39,267]\u001b[0m Trial 69 finished with value: 0.7737394957983194 and parameters: {'cat_enc__smoothing': 8.263329215579045, 'cat_enc__min_samples_leaf': 8, 'poly__degree': 5, 'clf__C': 74.83962115793389}. Best is trial 63 with value: 0.7955882352941176.\u001b[0m\n",
      "\u001b[32m[I 2022-11-28 15:07:45,627]\u001b[0m Trial 70 finished with value: 0.7588235294117647 and parameters: {'cat_enc__smoothing': 1.793395976147211, 'cat_enc__min_samples_leaf': 24, 'poly__degree': 4, 'clf__C': 323.2022853216432}. Best is trial 63 with value: 0.7955882352941176.\u001b[0m\n",
      "\u001b[32m[I 2022-11-28 15:07:54,244]\u001b[0m Trial 71 finished with value: 0.7955882352941176 and parameters: {'cat_enc__smoothing': 6.245875456932366, 'cat_enc__min_samples_leaf': 20, 'poly__degree': 5, 'clf__C': 173.23692989081505}. Best is trial 63 with value: 0.7955882352941176.\u001b[0m\n",
      "\u001b[32m[I 2022-11-28 15:08:02,143]\u001b[0m Trial 72 finished with value: 0.7808823529411765 and parameters: {'cat_enc__smoothing': 6.646007918169816, 'cat_enc__min_samples_leaf': 22, 'poly__degree': 5, 'clf__C': 179.45854303870394}. Best is trial 63 with value: 0.7955882352941176.\u001b[0m\n",
      "\u001b[32m[I 2022-11-28 15:08:03,584]\u001b[0m Trial 73 finished with value: 0.7298319327731093 and parameters: {'cat_enc__smoothing': 9.891721591951598, 'cat_enc__min_samples_leaf': 18, 'poly__degree': 5, 'clf__C': 0.15651733039707819}. Best is trial 63 with value: 0.7955882352941176.\u001b[0m\n",
      "\u001b[32m[I 2022-11-28 15:08:10,946]\u001b[0m Trial 74 finished with value: 0.7955882352941176 and parameters: {'cat_enc__smoothing': 2.9818694141954922, 'cat_enc__min_samples_leaf': 14, 'poly__degree': 5, 'clf__C': 226.77621336591062}. Best is trial 63 with value: 0.7955882352941176.\u001b[0m\n",
      "\u001b[32m[I 2022-11-28 15:08:18,069]\u001b[0m Trial 75 finished with value: 0.7224789915966386 and parameters: {'cat_enc__smoothing': 2.9135321060748334, 'cat_enc__min_samples_leaf': 14, 'poly__degree': 5, 'clf__C': 507.15049461503304}. Best is trial 63 with value: 0.7955882352941176.\u001b[0m\n",
      "\u001b[32m[I 2022-11-28 15:08:26,439]\u001b[0m Trial 76 finished with value: 0.7224789915966386 and parameters: {'cat_enc__smoothing': 1.3513076422533266, 'cat_enc__min_samples_leaf': 14, 'poly__degree': 5, 'clf__C': 996.590760563059}. Best is trial 63 with value: 0.7955882352941176.\u001b[0m\n",
      "\u001b[32m[I 2022-11-28 15:08:32,861]\u001b[0m Trial 77 finished with value: 0.788235294117647 and parameters: {'cat_enc__smoothing': 5.0448134048328725, 'cat_enc__min_samples_leaf': 20, 'poly__degree': 5, 'clf__C': 153.7595542868214}. Best is trial 63 with value: 0.7955882352941176.\u001b[0m\n",
      "\u001b[32m[I 2022-11-28 15:08:37,585]\u001b[0m Trial 78 finished with value: 0.7590336134453782 and parameters: {'cat_enc__smoothing': 3.881481930149352, 'cat_enc__min_samples_leaf': 18, 'poly__degree': 4, 'clf__C': 249.02738308422514}. Best is trial 63 with value: 0.7955882352941176.\u001b[0m\n",
      "\u001b[32m[I 2022-11-28 15:08:44,586]\u001b[0m Trial 79 finished with value: 0.7737394957983194 and parameters: {'cat_enc__smoothing': 2.8023456883365236, 'cat_enc__min_samples_leaf': 22, 'poly__degree': 5, 'clf__C': 80.49277348625775}. Best is trial 63 with value: 0.7955882352941176.\u001b[0m\n",
      "\u001b[32m[I 2022-11-28 15:08:51,671]\u001b[0m Trial 80 finished with value: 0.788235294117647 and parameters: {'cat_enc__smoothing': 5.017507459668194, 'cat_enc__min_samples_leaf': 20, 'poly__degree': 5, 'clf__C': 154.0285906908484}. Best is trial 63 with value: 0.7955882352941176.\u001b[0m\n",
      "\u001b[32m[I 2022-11-28 15:09:00,137]\u001b[0m Trial 81 finished with value: 0.7955882352941176 and parameters: {'cat_enc__smoothing': 5.029646747767494, 'cat_enc__min_samples_leaf': 20, 'poly__degree': 5, 'clf__C': 164.25632328624127}. Best is trial 63 with value: 0.7955882352941176.\u001b[0m\n",
      "\u001b[32m[I 2022-11-28 15:09:07,509]\u001b[0m Trial 82 finished with value: 0.788235294117647 and parameters: {'cat_enc__smoothing': 5.6848174928246, 'cat_enc__min_samples_leaf': 20, 'poly__degree': 5, 'clf__C': 142.4274909365754}. Best is trial 63 with value: 0.7955882352941176.\u001b[0m\n",
      "\u001b[32m[I 2022-11-28 15:09:14,132]\u001b[0m Trial 83 finished with value: 0.7663865546218488 and parameters: {'cat_enc__smoothing': 7.441208587477484, 'cat_enc__min_samples_leaf': 23, 'poly__degree': 5, 'clf__C': 87.25308058088383}. Best is trial 63 with value: 0.7955882352941176.\u001b[0m\n",
      "\u001b[32m[I 2022-11-28 15:09:22,420]\u001b[0m Trial 84 finished with value: 0.7516806722689076 and parameters: {'cat_enc__smoothing': 1.9126483206619944, 'cat_enc__min_samples_leaf': 15, 'poly__degree': 5, 'clf__C': 352.38721718038386}. Best is trial 63 with value: 0.7955882352941176.\u001b[0m\n",
      "\u001b[32m[I 2022-11-28 15:09:28,226]\u001b[0m Trial 85 finished with value: 0.788235294117647 and parameters: {'cat_enc__smoothing': 6.114629635801949, 'cat_enc__min_samples_leaf': 25, 'poly__degree': 5, 'clf__C': 151.26329363171988}. Best is trial 63 with value: 0.7955882352941176.\u001b[0m\n",
      "\u001b[32m[I 2022-11-28 15:09:36,066]\u001b[0m Trial 86 finished with value: 0.7224789915966386 and parameters: {'cat_enc__smoothing': 3.53347142701127, 'cat_enc__min_samples_leaf': 16, 'poly__degree': 5, 'clf__C': 693.1203356278921}. Best is trial 63 with value: 0.7955882352941176.\u001b[0m\n",
      "\u001b[32m[I 2022-11-28 15:09:44,262]\u001b[0m Trial 87 finished with value: 0.7224789915966386 and parameters: {'cat_enc__smoothing': 8.344549793209884, 'cat_enc__min_samples_leaf': 28, 'poly__degree': 5, 'clf__C': 660.128427692618}. Best is trial 63 with value: 0.7955882352941176.\u001b[0m\n",
      "\u001b[32m[I 2022-11-28 15:09:49,661]\u001b[0m Trial 88 finished with value: 0.7663865546218488 and parameters: {'cat_enc__smoothing': 4.93149731426828, 'cat_enc__min_samples_leaf': 25, 'poly__degree': 5, 'clf__C': 69.72879934869763}. Best is trial 63 with value: 0.7955882352941176.\u001b[0m\n"
     ]
    },
    {
     "name": "stderr",
     "output_type": "stream",
     "text": [
      "\u001b[32m[I 2022-11-28 15:09:54,890]\u001b[0m Trial 89 finished with value: 0.7735294117647059 and parameters: {'cat_enc__smoothing': 5.082516888743073, 'cat_enc__min_samples_leaf': 13, 'poly__degree': 5, 'clf__C': 45.375081574491546}. Best is trial 63 with value: 0.7955882352941176.\u001b[0m\n",
      "\u001b[32m[I 2022-11-28 15:09:59,313]\u001b[0m Trial 90 finished with value: 0.7590336134453782 and parameters: {'cat_enc__smoothing': 4.191280907176627, 'cat_enc__min_samples_leaf': 18, 'poly__degree': 4, 'clf__C': 220.7540622544253}. Best is trial 63 with value: 0.7955882352941176.\u001b[0m\n",
      "\u001b[32m[I 2022-11-28 15:10:06,043]\u001b[0m Trial 91 finished with value: 0.7806722689075629 and parameters: {'cat_enc__smoothing': 7.142154067465965, 'cat_enc__min_samples_leaf': 21, 'poly__degree': 5, 'clf__C': 368.1001251645489}. Best is trial 63 with value: 0.7955882352941176.\u001b[0m\n",
      "\u001b[32m[I 2022-11-28 15:10:13,615]\u001b[0m Trial 92 finished with value: 0.7808823529411765 and parameters: {'cat_enc__smoothing': 4.63581713513691, 'cat_enc__min_samples_leaf': 19, 'poly__degree': 5, 'clf__C': 179.91844502221542}. Best is trial 63 with value: 0.7955882352941176.\u001b[0m\n",
      "\u001b[32m[I 2022-11-28 15:10:20,611]\u001b[0m Trial 93 finished with value: 0.788235294117647 and parameters: {'cat_enc__smoothing': 5.9357933143795085, 'cat_enc__min_samples_leaf': 20, 'poly__degree': 5, 'clf__C': 131.66950200777822}. Best is trial 63 with value: 0.7955882352941176.\u001b[0m\n",
      "\u001b[32m[I 2022-11-28 15:10:27,108]\u001b[0m Trial 94 finished with value: 0.7590336134453781 and parameters: {'cat_enc__smoothing': 2.8803123009148592, 'cat_enc__min_samples_leaf': 17, 'poly__degree': 5, 'clf__C': 275.94191933380665}. Best is trial 63 with value: 0.7955882352941176.\u001b[0m\n",
      "\u001b[32m[I 2022-11-28 15:10:32,470]\u001b[0m Trial 95 finished with value: 0.7808823529411765 and parameters: {'cat_enc__smoothing': 6.052807856393615, 'cat_enc__min_samples_leaf': 25, 'poly__degree': 5, 'clf__C': 109.49202992420179}. Best is trial 63 with value: 0.7955882352941176.\u001b[0m\n",
      "\u001b[32m[I 2022-11-28 15:10:36,890]\u001b[0m Trial 96 finished with value: 0.7735294117647059 and parameters: {'cat_enc__smoothing': 3.78136707398084, 'cat_enc__min_samples_leaf': 16, 'poly__degree': 5, 'clf__C': 54.378610596441476}. Best is trial 63 with value: 0.7955882352941176.\u001b[0m\n",
      "\u001b[32m[I 2022-11-28 15:10:37,403]\u001b[0m Trial 97 finished with value: 0.7300420168067228 and parameters: {'cat_enc__smoothing': 0.012773602476274593, 'cat_enc__min_samples_leaf': 23, 'poly__degree': 1, 'clf__C': 148.14172884951444}. Best is trial 63 with value: 0.7955882352941176.\u001b[0m\n",
      "\u001b[32m[I 2022-11-28 15:10:44,325]\u001b[0m Trial 98 finished with value: 0.7298319327731093 and parameters: {'cat_enc__smoothing': 8.72864852741081, 'cat_enc__min_samples_leaf': 27, 'poly__degree': 5, 'clf__C': 628.193101675921}. Best is trial 63 with value: 0.7955882352941176.\u001b[0m\n",
      "\u001b[32m[I 2022-11-28 15:10:45,271]\u001b[0m Trial 99 finished with value: 0.7371848739495799 and parameters: {'cat_enc__smoothing': 7.241296850529927, 'cat_enc__min_samples_leaf': 30, 'poly__degree': 5, 'clf__C': 0.014622482982342177}. Best is trial 63 with value: 0.7955882352941176.\u001b[0m\n"
     ]
    }
   ],
   "source": [
    "from optuna.integration.sklearn import OptunaSearchCV\n",
    "\n",
    "logist_opt_cv = OptunaSearchCV(\n",
    "    estimator=logist_model,\n",
    "    param_distributions=logist_param_distribs_opt,\n",
    "    cv = cv,\n",
    "    n_trials=100\n",
    ").fit(Xtrain, ytrain)"
   ]
  },
  {
   "cell_type": "code",
   "execution_count": 43,
   "id": "c215df5e",
   "metadata": {
    "ExecuteTime": {
     "end_time": "2022-11-28T14:10:46.808832Z",
     "start_time": "2022-11-28T14:10:46.788723Z"
    }
   },
   "outputs": [
    {
     "name": "stdout",
     "output_type": "stream",
     "text": [
      "Score:  0.7955882352941176\n"
     ]
    },
    {
     "data": {
      "text/plain": [
       "{'cat_enc__smoothing': 4.169026896107697,\n",
       " 'cat_enc__min_samples_leaf': 19,\n",
       " 'poly__degree': 5,\n",
       " 'clf__C': 240.63607182762362}"
      ]
     },
     "execution_count": 43,
     "metadata": {},
     "output_type": "execute_result"
    }
   ],
   "source": [
    "print(\"Score: \", logist_opt_cv.best_score_)\n",
    "logist_opt_cv.best_params_"
   ]
  },
  {
   "cell_type": "markdown",
   "id": "ec29912c",
   "metadata": {},
   "source": [
    "L'arbre de décision :"
   ]
  },
  {
   "cell_type": "code",
   "execution_count": 44,
   "id": "00a0939c",
   "metadata": {
    "ExecuteTime": {
     "end_time": "2022-11-28T14:13:57.723486Z",
     "start_time": "2022-11-28T14:10:46.817020Z"
    }
   },
   "outputs": [
    {
     "name": "stderr",
     "output_type": "stream",
     "text": [
      "\u001b[32m[I 2022-11-28 15:10:46,828]\u001b[0m A new study created in memory with name: no-name-b4f788d4-c898-43a6-a169-01c51e46b4bd\u001b[0m\n",
      "\u001b[32m[I 2022-11-28 15:10:48,533]\u001b[0m Trial 0 finished with value: 0.6716386554621849 and parameters: {'cat_enc__smoothing': 6.550585042811388, 'cat_enc__min_samples_leaf': 19, 'clf__max_depth': 9, 'clf__min_samples_leaf': 33}. Best is trial 0 with value: 0.6716386554621849.\u001b[0m\n",
      "\u001b[32m[I 2022-11-28 15:10:50,453]\u001b[0m Trial 1 finished with value: 0.6789915966386555 and parameters: {'cat_enc__smoothing': 0.023461015718460675, 'cat_enc__min_samples_leaf': 46, 'clf__max_depth': 16, 'clf__min_samples_leaf': 19}. Best is trial 1 with value: 0.6789915966386555.\u001b[0m\n",
      "\u001b[32m[I 2022-11-28 15:10:52,024]\u001b[0m Trial 2 finished with value: 0.6716386554621849 and parameters: {'cat_enc__smoothing': 0.4327748403889183, 'cat_enc__min_samples_leaf': 3, 'clf__max_depth': 10, 'clf__min_samples_leaf': 31}. Best is trial 1 with value: 0.6789915966386555.\u001b[0m\n",
      "\u001b[32m[I 2022-11-28 15:10:53,728]\u001b[0m Trial 3 finished with value: 0.6716386554621849 and parameters: {'cat_enc__smoothing': 0.9559969377193209, 'cat_enc__min_samples_leaf': 8, 'clf__max_depth': 6, 'clf__min_samples_leaf': 21}. Best is trial 1 with value: 0.6789915966386555.\u001b[0m\n",
      "\u001b[32m[I 2022-11-28 15:10:55,431]\u001b[0m Trial 4 finished with value: 0.7153361344537816 and parameters: {'cat_enc__smoothing': 6.841717786861111, 'cat_enc__min_samples_leaf': 38, 'clf__max_depth': 45, 'clf__min_samples_leaf': 11}. Best is trial 4 with value: 0.7153361344537816.\u001b[0m\n",
      "\u001b[32m[I 2022-11-28 15:10:57,583]\u001b[0m Trial 5 finished with value: 0.6861344537815126 and parameters: {'cat_enc__smoothing': 0.12684550702047345, 'cat_enc__min_samples_leaf': 50, 'clf__max_depth': 3, 'clf__min_samples_leaf': 9}. Best is trial 4 with value: 0.7153361344537816.\u001b[0m\n",
      "\u001b[32m[I 2022-11-28 15:10:59,421]\u001b[0m Trial 6 finished with value: 0.6716386554621849 and parameters: {'cat_enc__smoothing': 0.028226809590342676, 'cat_enc__min_samples_leaf': 33, 'clf__max_depth': 36, 'clf__min_samples_leaf': 41}. Best is trial 4 with value: 0.7153361344537816.\u001b[0m\n",
      "\u001b[32m[I 2022-11-28 15:11:01,114]\u001b[0m Trial 7 finished with value: 0.7153361344537816 and parameters: {'cat_enc__smoothing': 0.028258701255643434, 'cat_enc__min_samples_leaf': 50, 'clf__max_depth': 50, 'clf__min_samples_leaf': 11}. Best is trial 4 with value: 0.7153361344537816.\u001b[0m\n",
      "\u001b[32m[I 2022-11-28 15:11:03,046]\u001b[0m Trial 8 finished with value: 0.6716386554621849 and parameters: {'cat_enc__smoothing': 0.7330277228706573, 'cat_enc__min_samples_leaf': 31, 'clf__max_depth': 26, 'clf__min_samples_leaf': 35}. Best is trial 4 with value: 0.7153361344537816.\u001b[0m\n",
      "\u001b[32m[I 2022-11-28 15:11:04,961]\u001b[0m Trial 9 finished with value: 0.6716386554621849 and parameters: {'cat_enc__smoothing': 9.724654353771609, 'cat_enc__min_samples_leaf': 11, 'clf__max_depth': 37, 'clf__min_samples_leaf': 29}. Best is trial 4 with value: 0.7153361344537816.\u001b[0m\n",
      "\u001b[32m[I 2022-11-28 15:11:06,879]\u001b[0m Trial 10 finished with value: 0.744327731092437 and parameters: {'cat_enc__smoothing': 2.5160825628500367, 'cat_enc__min_samples_leaf': 39, 'clf__max_depth': 50, 'clf__min_samples_leaf': 1}. Best is trial 10 with value: 0.744327731092437.\u001b[0m\n",
      "\u001b[32m[I 2022-11-28 15:11:08,625]\u001b[0m Trial 11 finished with value: 0.707983193277311 and parameters: {'cat_enc__smoothing': 2.754778870740696, 'cat_enc__min_samples_leaf': 39, 'clf__max_depth': 50, 'clf__min_samples_leaf': 3}. Best is trial 10 with value: 0.744327731092437.\u001b[0m\n",
      "\u001b[32m[I 2022-11-28 15:11:10,534]\u001b[0m Trial 12 finished with value: 0.744327731092437 and parameters: {'cat_enc__smoothing': 2.3922771920728514, 'cat_enc__min_samples_leaf': 39, 'clf__max_depth': 41, 'clf__min_samples_leaf': 1}. Best is trial 10 with value: 0.744327731092437.\u001b[0m\n",
      "\u001b[32m[I 2022-11-28 15:11:12,160]\u001b[0m Trial 13 finished with value: 0.744327731092437 and parameters: {'cat_enc__smoothing': 2.0627248713310267, 'cat_enc__min_samples_leaf': 22, 'clf__max_depth': 40, 'clf__min_samples_leaf': 2}. Best is trial 10 with value: 0.744327731092437.\u001b[0m\n",
      "\u001b[32m[I 2022-11-28 15:11:13,684]\u001b[0m Trial 14 finished with value: 0.6716386554621849 and parameters: {'cat_enc__smoothing': 0.13981672227624523, 'cat_enc__min_samples_leaf': 41, 'clf__max_depth': 29, 'clf__min_samples_leaf': 47}. Best is trial 10 with value: 0.744327731092437.\u001b[0m\n",
      "\u001b[32m[I 2022-11-28 15:11:15,318]\u001b[0m Trial 15 finished with value: 0.7586134453781513 and parameters: {'cat_enc__smoothing': 1.8036743424803103, 'cat_enc__min_samples_leaf': 28, 'clf__max_depth': 42, 'clf__min_samples_leaf': 1}. Best is trial 15 with value: 0.7586134453781513.\u001b[0m\n",
      "\u001b[32m[I 2022-11-28 15:11:16,859]\u001b[0m Trial 16 finished with value: 0.6789915966386555 and parameters: {'cat_enc__smoothing': 1.1462643603821538, 'cat_enc__min_samples_leaf': 28, 'clf__max_depth': 32, 'clf__min_samples_leaf': 18}. Best is trial 15 with value: 0.7586134453781513.\u001b[0m\n",
      "\u001b[32m[I 2022-11-28 15:11:18,655]\u001b[0m Trial 17 finished with value: 0.7086134453781513 and parameters: {'cat_enc__smoothing': 0.18931330570647611, 'cat_enc__min_samples_leaf': 21, 'clf__max_depth': 20, 'clf__min_samples_leaf': 7}. Best is trial 15 with value: 0.7586134453781513.\u001b[0m\n",
      "\u001b[32m[I 2022-11-28 15:11:20,646]\u001b[0m Trial 18 finished with value: 0.7006302521008404 and parameters: {'cat_enc__smoothing': 0.3655611058493869, 'cat_enc__min_samples_leaf': 22, 'clf__max_depth': 42, 'clf__min_samples_leaf': 15}. Best is trial 15 with value: 0.7586134453781513.\u001b[0m\n",
      "\u001b[32m[I 2022-11-28 15:11:22,378]\u001b[0m Trial 19 finished with value: 0.686344537815126 and parameters: {'cat_enc__smoothing': 1.5420966276021482, 'cat_enc__min_samples_leaf': 15, 'clf__max_depth': 35, 'clf__min_samples_leaf': 6}. Best is trial 15 with value: 0.7586134453781513.\u001b[0m\n",
      "\u001b[32m[I 2022-11-28 15:11:24,156]\u001b[0m Trial 20 finished with value: 0.6936974789915966 and parameters: {'cat_enc__smoothing': 4.0454968089819054, 'cat_enc__min_samples_leaf': 33, 'clf__max_depth': 46, 'clf__min_samples_leaf': 14}. Best is trial 15 with value: 0.7586134453781513.\u001b[0m\n",
      "\u001b[32m[I 2022-11-28 15:11:25,796]\u001b[0m Trial 21 finished with value: 0.7153361344537816 and parameters: {'cat_enc__smoothing': 2.485419321828739, 'cat_enc__min_samples_leaf': 27, 'clf__max_depth': 41, 'clf__min_samples_leaf': 3}. Best is trial 15 with value: 0.7586134453781513.\u001b[0m\n",
      "\u001b[32m[I 2022-11-28 15:11:27,576]\u001b[0m Trial 22 finished with value: 0.7590336134453781 and parameters: {'cat_enc__smoothing': 0.5767719043411449, 'cat_enc__min_samples_leaf': 24, 'clf__max_depth': 46, 'clf__min_samples_leaf': 1}. Best is trial 22 with value: 0.7590336134453781.\u001b[0m\n",
      "\u001b[32m[I 2022-11-28 15:11:29,930]\u001b[0m Trial 23 finished with value: 0.6716386554621849 and parameters: {'cat_enc__smoothing': 0.5420245715243253, 'cat_enc__min_samples_leaf': 25, 'clf__max_depth': 45, 'clf__min_samples_leaf': 24}. Best is trial 22 with value: 0.7590336134453781.\u001b[0m\n",
      "\u001b[32m[I 2022-11-28 15:11:32,280]\u001b[0m Trial 24 finished with value: 0.7008403361344537 and parameters: {'cat_enc__smoothing': 0.22905203737370775, 'cat_enc__min_samples_leaf': 35, 'clf__max_depth': 48, 'clf__min_samples_leaf': 6}. Best is trial 22 with value: 0.7590336134453781.\u001b[0m\n",
      "\u001b[32m[I 2022-11-28 15:11:34,532]\u001b[0m Trial 25 finished with value: 0.7592436974789916 and parameters: {'cat_enc__smoothing': 0.05813188436376453, 'cat_enc__min_samples_leaf': 43, 'clf__max_depth': 31, 'clf__min_samples_leaf': 1}. Best is trial 25 with value: 0.7592436974789916.\u001b[0m\n",
      "\u001b[32m[I 2022-11-28 15:11:36,335]\u001b[0m Trial 26 finished with value: 0.7081932773109244 and parameters: {'cat_enc__smoothing': 0.06251657425170092, 'cat_enc__min_samples_leaf': 16, 'clf__max_depth': 32, 'clf__min_samples_leaf': 14}. Best is trial 25 with value: 0.7592436974789916.\u001b[0m\n",
      "\u001b[32m[I 2022-11-28 15:11:38,053]\u001b[0m Trial 27 finished with value: 0.6863445378151262 and parameters: {'cat_enc__smoothing': 0.013171746863872107, 'cat_enc__min_samples_leaf': 45, 'clf__max_depth': 27, 'clf__min_samples_leaf': 6}. Best is trial 25 with value: 0.7592436974789916.\u001b[0m\n",
      "\u001b[32m[I 2022-11-28 15:11:40,448]\u001b[0m Trial 28 finished with value: 0.6936974789915967 and parameters: {'cat_enc__smoothing': 0.768655337523925, 'cat_enc__min_samples_leaf': 16, 'clf__max_depth': 23, 'clf__min_samples_leaf': 10}. Best is trial 25 with value: 0.7592436974789916.\u001b[0m\n"
     ]
    },
    {
     "name": "stderr",
     "output_type": "stream",
     "text": [
      "\u001b[32m[I 2022-11-28 15:11:42,529]\u001b[0m Trial 29 finished with value: 0.7010504201680672 and parameters: {'cat_enc__smoothing': 0.07013225915410966, 'cat_enc__min_samples_leaf': 29, 'clf__max_depth': 33, 'clf__min_samples_leaf': 5}. Best is trial 25 with value: 0.7592436974789916.\u001b[0m\n",
      "\u001b[32m[I 2022-11-28 15:11:44,645]\u001b[0m Trial 30 finished with value: 0.6716386554621849 and parameters: {'cat_enc__smoothing': 0.058593874541255614, 'cat_enc__min_samples_leaf': 44, 'clf__max_depth': 38, 'clf__min_samples_leaf': 50}. Best is trial 25 with value: 0.7592436974789916.\u001b[0m\n",
      "\u001b[32m[I 2022-11-28 15:11:46,459]\u001b[0m Trial 31 finished with value: 0.7445378151260504 and parameters: {'cat_enc__smoothing': 4.88050774623821, 'cat_enc__min_samples_leaf': 36, 'clf__max_depth': 43, 'clf__min_samples_leaf': 1}. Best is trial 25 with value: 0.7592436974789916.\u001b[0m\n",
      "\u001b[32m[I 2022-11-28 15:11:48,452]\u001b[0m Trial 32 finished with value: 0.7296218487394959 and parameters: {'cat_enc__smoothing': 4.361740301169105, 'cat_enc__min_samples_leaf': 25, 'clf__max_depth': 44, 'clf__min_samples_leaf': 1}. Best is trial 25 with value: 0.7592436974789916.\u001b[0m\n",
      "\u001b[32m[I 2022-11-28 15:11:50,359]\u001b[0m Trial 33 finished with value: 0.6792016806722689 and parameters: {'cat_enc__smoothing': 4.810439970914827, 'cat_enc__min_samples_leaf': 36, 'clf__max_depth': 17, 'clf__min_samples_leaf': 8}. Best is trial 25 with value: 0.7592436974789916.\u001b[0m\n",
      "\u001b[32m[I 2022-11-28 15:11:52,224]\u001b[0m Trial 34 finished with value: 0.678781512605042 and parameters: {'cat_enc__smoothing': 1.5095609661042255, 'cat_enc__min_samples_leaf': 42, 'clf__max_depth': 39, 'clf__min_samples_leaf': 5}. Best is trial 25 with value: 0.7592436974789916.\u001b[0m\n",
      "\u001b[32m[I 2022-11-28 15:11:54,067]\u001b[0m Trial 35 finished with value: 0.7298319327731093 and parameters: {'cat_enc__smoothing': 0.4875874052387996, 'cat_enc__min_samples_leaf': 31, 'clf__max_depth': 12, 'clf__min_samples_leaf': 3}. Best is trial 25 with value: 0.7592436974789916.\u001b[0m\n",
      "\u001b[32m[I 2022-11-28 15:11:56,047]\u001b[0m Trial 36 finished with value: 0.7153361344537816 and parameters: {'cat_enc__smoothing': 9.67709143702368, 'cat_enc__min_samples_leaf': 47, 'clf__max_depth': 43, 'clf__min_samples_leaf': 12}. Best is trial 25 with value: 0.7592436974789916.\u001b[0m\n",
      "\u001b[32m[I 2022-11-28 15:11:57,937]\u001b[0m Trial 37 finished with value: 0.6716386554621849 and parameters: {'cat_enc__smoothing': 0.23840489279596358, 'cat_enc__min_samples_leaf': 34, 'clf__max_depth': 47, 'clf__min_samples_leaf': 19}. Best is trial 25 with value: 0.7592436974789916.\u001b[0m\n",
      "\u001b[32m[I 2022-11-28 15:11:59,713]\u001b[0m Trial 38 finished with value: 0.6716386554621849 and parameters: {'cat_enc__smoothing': 1.1707647412029185, 'cat_enc__min_samples_leaf': 4, 'clf__max_depth': 29, 'clf__min_samples_leaf': 35}. Best is trial 25 with value: 0.7592436974789916.\u001b[0m\n",
      "\u001b[32m[I 2022-11-28 15:12:01,435]\u001b[0m Trial 39 finished with value: 0.7157563025210084 and parameters: {'cat_enc__smoothing': 0.09542904992720354, 'cat_enc__min_samples_leaf': 30, 'clf__max_depth': 34, 'clf__min_samples_leaf': 9}. Best is trial 25 with value: 0.7592436974789916.\u001b[0m\n",
      "\u001b[32m[I 2022-11-28 15:12:03,010]\u001b[0m Trial 40 finished with value: 0.7079831932773109 and parameters: {'cat_enc__smoothing': 6.783317234334423, 'cat_enc__min_samples_leaf': 36, 'clf__max_depth': 47, 'clf__min_samples_leaf': 4}. Best is trial 25 with value: 0.7592436974789916.\u001b[0m\n",
      "\u001b[32m[I 2022-11-28 15:12:04,993]\u001b[0m Trial 41 finished with value: 0.751890756302521 and parameters: {'cat_enc__smoothing': 1.7497349757587273, 'cat_enc__min_samples_leaf': 42, 'clf__max_depth': 50, 'clf__min_samples_leaf': 1}. Best is trial 25 with value: 0.7592436974789916.\u001b[0m\n",
      "\u001b[32m[I 2022-11-28 15:12:06,857]\u001b[0m Trial 42 finished with value: 0.7590336134453781 and parameters: {'cat_enc__smoothing': 3.2827520644322905, 'cat_enc__min_samples_leaf': 42, 'clf__max_depth': 44, 'clf__min_samples_leaf': 1}. Best is trial 25 with value: 0.7592436974789916.\u001b[0m\n",
      "\u001b[32m[I 2022-11-28 15:12:09,050]\u001b[0m Trial 43 finished with value: 0.7226890756302521 and parameters: {'cat_enc__smoothing': 0.7406358027557081, 'cat_enc__min_samples_leaf': 47, 'clf__max_depth': 48, 'clf__min_samples_leaf': 4}. Best is trial 25 with value: 0.7592436974789916.\u001b[0m\n",
      "\u001b[32m[I 2022-11-28 15:12:11,151]\u001b[0m Trial 44 finished with value: 0.6716386554621849 and parameters: {'cat_enc__smoothing': 1.7232498251521167, 'cat_enc__min_samples_leaf': 42, 'clf__max_depth': 1, 'clf__min_samples_leaf': 8}. Best is trial 25 with value: 0.7592436974789916.\u001b[0m\n",
      "\u001b[32m[I 2022-11-28 15:12:13,419]\u001b[0m Trial 45 finished with value: 0.7084033613445379 and parameters: {'cat_enc__smoothing': 3.294953215565126, 'cat_enc__min_samples_leaf': 49, 'clf__max_depth': 50, 'clf__min_samples_leaf': 11}. Best is trial 25 with value: 0.7592436974789916.\u001b[0m\n",
      "\u001b[32m[I 2022-11-28 15:12:15,542]\u001b[0m Trial 46 finished with value: 0.6716386554621849 and parameters: {'cat_enc__smoothing': 0.03775482904201707, 'cat_enc__min_samples_leaf': 43, 'clf__max_depth': 38, 'clf__min_samples_leaf': 27}. Best is trial 25 with value: 0.7592436974789916.\u001b[0m\n",
      "\u001b[32m[I 2022-11-28 15:12:17,301]\u001b[0m Trial 47 finished with value: 0.707983193277311 and parameters: {'cat_enc__smoothing': 0.015117451230422357, 'cat_enc__min_samples_leaf': 40, 'clf__max_depth': 45, 'clf__min_samples_leaf': 3}. Best is trial 25 with value: 0.7592436974789916.\u001b[0m\n",
      "\u001b[32m[I 2022-11-28 15:12:19,214]\u001b[0m Trial 48 finished with value: 0.736764705882353 and parameters: {'cat_enc__smoothing': 1.148821825159652, 'cat_enc__min_samples_leaf': 10, 'clf__max_depth': 40, 'clf__min_samples_leaf': 1}. Best is trial 25 with value: 0.7592436974789916.\u001b[0m\n",
      "\u001b[32m[I 2022-11-28 15:12:21,222]\u001b[0m Trial 49 finished with value: 0.6716386554621849 and parameters: {'cat_enc__smoothing': 0.5619597267081359, 'cat_enc__min_samples_leaf': 19, 'clf__max_depth': 36, 'clf__min_samples_leaf': 39}. Best is trial 25 with value: 0.7592436974789916.\u001b[0m\n",
      "\u001b[32m[I 2022-11-28 15:12:23,355]\u001b[0m Trial 50 finished with value: 0.6934873949579833 and parameters: {'cat_enc__smoothing': 0.3084091855070225, 'cat_enc__min_samples_leaf': 48, 'clf__max_depth': 48, 'clf__min_samples_leaf': 8}. Best is trial 25 with value: 0.7592436974789916.\u001b[0m\n",
      "\u001b[32m[I 2022-11-28 15:12:25,288]\u001b[0m Trial 51 finished with value: 0.7514705882352941 and parameters: {'cat_enc__smoothing': 3.4006485479022976, 'cat_enc__min_samples_leaf': 37, 'clf__max_depth': 42, 'clf__min_samples_leaf': 1}. Best is trial 25 with value: 0.7592436974789916.\u001b[0m\n",
      "\u001b[32m[I 2022-11-28 15:12:27,292]\u001b[0m Trial 52 finished with value: 0.7008403361344538 and parameters: {'cat_enc__smoothing': 3.305779801504791, 'cat_enc__min_samples_leaf': 38, 'clf__max_depth': 43, 'clf__min_samples_leaf': 4}. Best is trial 25 with value: 0.7592436974789916.\u001b[0m\n",
      "\u001b[32m[I 2022-11-28 15:12:29,306]\u001b[0m Trial 53 finished with value: 0.7373949579831933 and parameters: {'cat_enc__smoothing': 2.241724189638277, 'cat_enc__min_samples_leaf': 45, 'clf__max_depth': 41, 'clf__min_samples_leaf': 1}. Best is trial 25 with value: 0.7592436974789916.\u001b[0m\n",
      "\u001b[32m[I 2022-11-28 15:12:31,183]\u001b[0m Trial 54 finished with value: 0.678781512605042 and parameters: {'cat_enc__smoothing': 0.9343284790578544, 'cat_enc__min_samples_leaf': 41, 'clf__max_depth': 45, 'clf__min_samples_leaf': 6}. Best is trial 25 with value: 0.7592436974789916.\u001b[0m\n",
      "\u001b[32m[I 2022-11-28 15:12:33,190]\u001b[0m Trial 55 finished with value: 0.7151260504201681 and parameters: {'cat_enc__smoothing': 1.843161841290106, 'cat_enc__min_samples_leaf': 38, 'clf__max_depth': 48, 'clf__min_samples_leaf': 3}. Best is trial 25 with value: 0.7592436974789916.\u001b[0m\n",
      "\u001b[32m[I 2022-11-28 15:12:35,088]\u001b[0m Trial 56 finished with value: 0.7008403361344537 and parameters: {'cat_enc__smoothing': 3.310543664262577, 'cat_enc__min_samples_leaf': 32, 'clf__max_depth': 23, 'clf__min_samples_leaf': 16}. Best is trial 25 with value: 0.7592436974789916.\u001b[0m\n",
      "\u001b[32m[I 2022-11-28 15:12:36,985]\u001b[0m Trial 57 finished with value: 0.6716386554621849 and parameters: {'cat_enc__smoothing': 1.3604685955584888, 'cat_enc__min_samples_leaf': 45, 'clf__max_depth': 30, 'clf__min_samples_leaf': 22}. Best is trial 25 with value: 0.7592436974789916.\u001b[0m\n",
      "\u001b[32m[I 2022-11-28 15:12:39,063]\u001b[0m Trial 58 finished with value: 0.7153361344537816 and parameters: {'cat_enc__smoothing': 5.443180247838117, 'cat_enc__min_samples_leaf': 26, 'clf__max_depth': 50, 'clf__min_samples_leaf': 12}. Best is trial 25 with value: 0.7592436974789916.\u001b[0m\n"
     ]
    },
    {
     "name": "stderr",
     "output_type": "stream",
     "text": [
      "\u001b[32m[I 2022-11-28 15:12:40,708]\u001b[0m Trial 59 finished with value: 0.686344537815126 and parameters: {'cat_enc__smoothing': 0.8914714256494829, 'cat_enc__min_samples_leaf': 23, 'clf__max_depth': 46, 'clf__min_samples_leaf': 7}. Best is trial 25 with value: 0.7592436974789916.\u001b[0m\n",
      "\u001b[32m[I 2022-11-28 15:12:42,669]\u001b[0m Trial 60 finished with value: 0.7298319327731093 and parameters: {'cat_enc__smoothing': 2.7294880849305376, 'cat_enc__min_samples_leaf': 20, 'clf__max_depth': 42, 'clf__min_samples_leaf': 2}. Best is trial 25 with value: 0.7592436974789916.\u001b[0m\n",
      "\u001b[32m[I 2022-11-28 15:12:44,733]\u001b[0m Trial 61 finished with value: 0.7296218487394959 and parameters: {'cat_enc__smoothing': 8.755801405815793, 'cat_enc__min_samples_leaf': 35, 'clf__max_depth': 43, 'clf__min_samples_leaf': 2}. Best is trial 25 with value: 0.7592436974789916.\u001b[0m\n",
      "\u001b[32m[I 2022-11-28 15:12:46,560]\u001b[0m Trial 62 finished with value: 0.7441176470588236 and parameters: {'cat_enc__smoothing': 5.949867418113961, 'cat_enc__min_samples_leaf': 37, 'clf__max_depth': 37, 'clf__min_samples_leaf': 1}. Best is trial 25 with value: 0.7592436974789916.\u001b[0m\n",
      "\u001b[32m[I 2022-11-28 15:12:48,232]\u001b[0m Trial 63 finished with value: 0.686344537815126 and parameters: {'cat_enc__smoothing': 3.4389985168228336, 'cat_enc__min_samples_leaf': 40, 'clf__max_depth': 40, 'clf__min_samples_leaf': 5}. Best is trial 25 with value: 0.7592436974789916.\u001b[0m\n",
      "\u001b[32m[I 2022-11-28 15:12:49,768]\u001b[0m Trial 64 finished with value: 0.715546218487395 and parameters: {'cat_enc__smoothing': 2.066999693121607, 'cat_enc__min_samples_leaf': 43, 'clf__max_depth': 44, 'clf__min_samples_leaf': 4}. Best is trial 25 with value: 0.7592436974789916.\u001b[0m\n",
      "\u001b[32m[I 2022-11-28 15:12:51,700]\u001b[0m Trial 65 finished with value: 0.7222689075630253 and parameters: {'cat_enc__smoothing': 7.813315714724487, 'cat_enc__min_samples_leaf': 28, 'clf__max_depth': 7, 'clf__min_samples_leaf': 1}. Best is trial 25 with value: 0.7592436974789916.\u001b[0m\n",
      "\u001b[32m[I 2022-11-28 15:12:53,719]\u001b[0m Trial 66 finished with value: 0.6716386554621849 and parameters: {'cat_enc__smoothing': 4.183524811945711, 'cat_enc__min_samples_leaf': 23, 'clf__max_depth': 46, 'clf__min_samples_leaf': 7}. Best is trial 25 with value: 0.7592436974789916.\u001b[0m\n",
      "\u001b[32m[I 2022-11-28 15:12:55,521]\u001b[0m Trial 67 finished with value: 0.7010504201680672 and parameters: {'cat_enc__smoothing': 0.15935059068388147, 'cat_enc__min_samples_leaf': 33, 'clf__max_depth': 49, 'clf__min_samples_leaf': 5}. Best is trial 25 with value: 0.7592436974789916.\u001b[0m\n",
      "\u001b[32m[I 2022-11-28 15:12:57,498]\u001b[0m Trial 68 finished with value: 0.7153361344537815 and parameters: {'cat_enc__smoothing': 5.241929306167605, 'cat_enc__min_samples_leaf': 41, 'clf__max_depth': 39, 'clf__min_samples_leaf': 3}. Best is trial 25 with value: 0.7592436974789916.\u001b[0m\n",
      "\u001b[32m[I 2022-11-28 15:12:59,463]\u001b[0m Trial 69 finished with value: 0.7010504201680672 and parameters: {'cat_enc__smoothing': 0.41211033849239326, 'cat_enc__min_samples_leaf': 50, 'clf__max_depth': 42, 'clf__min_samples_leaf': 10}. Best is trial 25 with value: 0.7592436974789916.\u001b[0m\n",
      "\u001b[32m[I 2022-11-28 15:13:01,718]\u001b[0m Trial 70 finished with value: 0.6716386554621849 and parameters: {'cat_enc__smoothing': 0.017747452475243196, 'cat_enc__min_samples_leaf': 39, 'clf__max_depth': 35, 'clf__min_samples_leaf': 31}. Best is trial 25 with value: 0.7592436974789916.\u001b[0m\n",
      "\u001b[32m[I 2022-11-28 15:13:03,732]\u001b[0m Trial 71 finished with value: 0.7006302521008404 and parameters: {'cat_enc__smoothing': 1.9714576472578031, 'cat_enc__min_samples_leaf': 24, 'clf__max_depth': 44, 'clf__min_samples_leaf': 2}. Best is trial 25 with value: 0.7592436974789916.\u001b[0m\n",
      "\u001b[32m[I 2022-11-28 15:13:05,888]\u001b[0m Trial 72 finished with value: 0.7369747899159664 and parameters: {'cat_enc__smoothing': 2.6563026583572666, 'cat_enc__min_samples_leaf': 37, 'clf__max_depth': 47, 'clf__min_samples_leaf': 1}. Best is trial 25 with value: 0.7592436974789916.\u001b[0m\n",
      "\u001b[32m[I 2022-11-28 15:13:07,644]\u001b[0m Trial 73 finished with value: 0.6569327731092438 and parameters: {'cat_enc__smoothing': 1.5493038122037865, 'cat_enc__min_samples_leaf': 21, 'clf__max_depth': 40, 'clf__min_samples_leaf': 5}. Best is trial 25 with value: 0.7592436974789916.\u001b[0m\n",
      "\u001b[32m[I 2022-11-28 15:13:09,225]\u001b[0m Trial 74 finished with value: 0.7298319327731093 and parameters: {'cat_enc__smoothing': 1.2119538355129056, 'cat_enc__min_samples_leaf': 19, 'clf__max_depth': 37, 'clf__min_samples_leaf': 3}. Best is trial 25 with value: 0.7592436974789916.\u001b[0m\n",
      "\u001b[32m[I 2022-11-28 15:13:10,820]\u001b[0m Trial 75 finished with value: 0.6863445378151262 and parameters: {'cat_enc__smoothing': 3.8774839694518946, 'cat_enc__min_samples_leaf': 43, 'clf__max_depth': 49, 'clf__min_samples_leaf': 7}. Best is trial 25 with value: 0.7592436974789916.\u001b[0m\n",
      "\u001b[32m[I 2022-11-28 15:13:12,557]\u001b[0m Trial 76 finished with value: 0.7298319327731093 and parameters: {'cat_enc__smoothing': 0.6572157612816262, 'cat_enc__min_samples_leaf': 14, 'clf__max_depth': 42, 'clf__min_samples_leaf': 2}. Best is trial 25 with value: 0.7592436974789916.\u001b[0m\n",
      "\u001b[32m[I 2022-11-28 15:13:14,496]\u001b[0m Trial 77 finished with value: 0.7153361344537815 and parameters: {'cat_enc__smoothing': 2.3976261909987127, 'cat_enc__min_samples_leaf': 46, 'clf__max_depth': 50, 'clf__min_samples_leaf': 4}. Best is trial 25 with value: 0.7592436974789916.\u001b[0m\n",
      "\u001b[32m[I 2022-11-28 15:13:16,568]\u001b[0m Trial 78 finished with value: 0.6936974789915967 and parameters: {'cat_enc__smoothing': 0.041253353860586525, 'cat_enc__min_samples_leaf': 27, 'clf__max_depth': 45, 'clf__min_samples_leaf': 9}. Best is trial 25 with value: 0.7592436974789916.\u001b[0m\n",
      "\u001b[32m[I 2022-11-28 15:13:18,360]\u001b[0m Trial 79 finished with value: 0.7084033613445379 and parameters: {'cat_enc__smoothing': 0.10735296398344094, 'cat_enc__min_samples_leaf': 31, 'clf__max_depth': 24, 'clf__min_samples_leaf': 6}. Best is trial 25 with value: 0.7592436974789916.\u001b[0m\n",
      "\u001b[32m[I 2022-11-28 15:13:20,163]\u001b[0m Trial 80 finished with value: 0.7588235294117648 and parameters: {'cat_enc__smoothing': 6.741976969984533, 'cat_enc__min_samples_leaf': 35, 'clf__max_depth': 47, 'clf__min_samples_leaf': 1}. Best is trial 25 with value: 0.7592436974789916.\u001b[0m\n",
      "\u001b[32m[I 2022-11-28 15:13:22,054]\u001b[0m Trial 81 finished with value: 0.707983193277311 and parameters: {'cat_enc__smoothing': 4.676111190743174, 'cat_enc__min_samples_leaf': 35, 'clf__max_depth': 44, 'clf__min_samples_leaf': 2}. Best is trial 25 with value: 0.7592436974789916.\u001b[0m\n",
      "\u001b[32m[I 2022-11-28 15:13:23,662]\u001b[0m Trial 82 finished with value: 0.7516806722689076 and parameters: {'cat_enc__smoothing': 7.1081172785212985, 'cat_enc__min_samples_leaf': 40, 'clf__max_depth': 47, 'clf__min_samples_leaf': 1}. Best is trial 25 with value: 0.7592436974789916.\u001b[0m\n",
      "\u001b[32m[I 2022-11-28 15:13:25,525]\u001b[0m Trial 83 finished with value: 0.7081932773109244 and parameters: {'cat_enc__smoothing': 6.7899246690375055, 'cat_enc__min_samples_leaf': 39, 'clf__max_depth': 46, 'clf__min_samples_leaf': 4}. Best is trial 25 with value: 0.7592436974789916.\u001b[0m\n",
      "\u001b[32m[I 2022-11-28 15:13:27,674]\u001b[0m Trial 84 finished with value: 0.744327731092437 and parameters: {'cat_enc__smoothing': 0.01003636264098738, 'cat_enc__min_samples_leaf': 37, 'clf__max_depth': 47, 'clf__min_samples_leaf': 1}. Best is trial 25 with value: 0.7592436974789916.\u001b[0m\n",
      "\u001b[32m[I 2022-11-28 15:13:29,911]\u001b[0m Trial 85 finished with value: 0.7300420168067228 and parameters: {'cat_enc__smoothing': 8.168515208499569, 'cat_enc__min_samples_leaf': 34, 'clf__max_depth': 48, 'clf__min_samples_leaf': 2}. Best is trial 25 with value: 0.7592436974789916.\u001b[0m\n",
      "\u001b[32m[I 2022-11-28 15:13:32,035]\u001b[0m Trial 86 finished with value: 0.7077731092436975 and parameters: {'cat_enc__smoothing': 6.158626714195708, 'cat_enc__min_samples_leaf': 40, 'clf__max_depth': 20, 'clf__min_samples_leaf': 3}. Best is trial 25 with value: 0.7592436974789916.\u001b[0m\n",
      "\u001b[32m[I 2022-11-28 15:13:33,915]\u001b[0m Trial 87 finished with value: 0.6716386554621849 and parameters: {'cat_enc__smoothing': 3.8700156510613324, 'cat_enc__min_samples_leaf': 29, 'clf__max_depth': 49, 'clf__min_samples_leaf': 45}. Best is trial 25 with value: 0.7592436974789916.\u001b[0m\n",
      "\u001b[32m[I 2022-11-28 15:13:35,738]\u001b[0m Trial 88 finished with value: 0.7079831932773111 and parameters: {'cat_enc__smoothing': 2.8602215330607073, 'cat_enc__min_samples_leaf': 44, 'clf__max_depth': 12, 'clf__min_samples_leaf': 5}. Best is trial 25 with value: 0.7592436974789916.\u001b[0m\n"
     ]
    },
    {
     "name": "stderr",
     "output_type": "stream",
     "text": [
      "\u001b[32m[I 2022-11-28 15:13:37,402]\u001b[0m Trial 89 finished with value: 0.744327731092437 and parameters: {'cat_enc__smoothing': 7.294591540986461, 'cat_enc__min_samples_leaf': 42, 'clf__max_depth': 46, 'clf__min_samples_leaf': 1}. Best is trial 25 with value: 0.7592436974789916.\u001b[0m\n",
      "\u001b[32m[I 2022-11-28 15:13:39,125]\u001b[0m Trial 90 finished with value: 0.7224789915966388 and parameters: {'cat_enc__smoothing': 4.86000331924582, 'cat_enc__min_samples_leaf': 32, 'clf__max_depth': 43, 'clf__min_samples_leaf': 3}. Best is trial 25 with value: 0.7592436974789916.\u001b[0m\n",
      "\u001b[32m[I 2022-11-28 15:13:41,136]\u001b[0m Trial 91 finished with value: 0.7663865546218487 and parameters: {'cat_enc__smoothing': 2.8671515454079746, 'cat_enc__min_samples_leaf': 36, 'clf__max_depth': 41, 'clf__min_samples_leaf': 1}. Best is trial 91 with value: 0.7663865546218487.\u001b[0m\n",
      "\u001b[32m[I 2022-11-28 15:13:43,491]\u001b[0m Trial 92 finished with value: 0.7588235294117647 and parameters: {'cat_enc__smoothing': 3.2406826961206123, 'cat_enc__min_samples_leaf': 38, 'clf__max_depth': 41, 'clf__min_samples_leaf': 1}. Best is trial 91 with value: 0.7663865546218487.\u001b[0m\n",
      "\u001b[32m[I 2022-11-28 15:13:45,889]\u001b[0m Trial 93 finished with value: 0.715546218487395 and parameters: {'cat_enc__smoothing': 1.6172090684312808, 'cat_enc__min_samples_leaf': 38, 'clf__max_depth': 38, 'clf__min_samples_leaf': 4}. Best is trial 91 with value: 0.7663865546218487.\u001b[0m\n",
      "\u001b[32m[I 2022-11-28 15:13:47,778]\u001b[0m Trial 94 finished with value: 0.7006302521008403 and parameters: {'cat_enc__smoothing': 9.94003661814075, 'cat_enc__min_samples_leaf': 41, 'clf__max_depth': 41, 'clf__min_samples_leaf': 2}. Best is trial 91 with value: 0.7663865546218487.\u001b[0m\n",
      "\u001b[32m[I 2022-11-28 15:13:49,327]\u001b[0m Trial 95 finished with value: 0.6789915966386555 and parameters: {'cat_enc__smoothing': 2.9532248933270155, 'cat_enc__min_samples_leaf': 36, 'clf__max_depth': 39, 'clf__min_samples_leaf': 6}. Best is trial 91 with value: 0.7663865546218487.\u001b[0m\n",
      "\u001b[32m[I 2022-11-28 15:13:51,365]\u001b[0m Trial 96 finished with value: 0.7661764705882353 and parameters: {'cat_enc__smoothing': 2.3183183831124015, 'cat_enc__min_samples_leaf': 40, 'clf__max_depth': 31, 'clf__min_samples_leaf': 1}. Best is trial 91 with value: 0.7663865546218487.\u001b[0m\n",
      "\u001b[32m[I 2022-11-28 15:13:53,145]\u001b[0m Trial 97 finished with value: 0.7226890756302521 and parameters: {'cat_enc__smoothing': 0.3181581570496482, 'cat_enc__min_samples_leaf': 44, 'clf__max_depth': 30, 'clf__min_samples_leaf': 3}. Best is trial 91 with value: 0.7663865546218487.\u001b[0m\n",
      "\u001b[32m[I 2022-11-28 15:13:55,231]\u001b[0m Trial 98 finished with value: 0.6718487394957984 and parameters: {'cat_enc__smoothing': 1.3856971609573288, 'cat_enc__min_samples_leaf': 40, 'clf__max_depth': 45, 'clf__min_samples_leaf': 5}. Best is trial 91 with value: 0.7663865546218487.\u001b[0m\n",
      "\u001b[32m[I 2022-11-28 15:13:57,272]\u001b[0m Trial 99 finished with value: 0.7300420168067228 and parameters: {'cat_enc__smoothing': 2.323209342835994, 'cat_enc__min_samples_leaf': 42, 'clf__max_depth': 28, 'clf__min_samples_leaf': 2}. Best is trial 91 with value: 0.7663865546218487.\u001b[0m\n"
     ]
    }
   ],
   "source": [
    "tree_opt_cv = OptunaSearchCV(\n",
    "    estimator=tree_model,\n",
    "    param_distributions=tree_param_distribs_opt,\n",
    "    cv = cv,\n",
    "    n_trials=100\n",
    ").fit(Xtrain, ytrain)"
   ]
  },
  {
   "cell_type": "code",
   "execution_count": 45,
   "id": "22a44227",
   "metadata": {
    "ExecuteTime": {
     "end_time": "2022-11-28T14:13:57.743423Z",
     "start_time": "2022-11-28T14:13:57.728980Z"
    }
   },
   "outputs": [
    {
     "name": "stdout",
     "output_type": "stream",
     "text": [
      "Meilleur score:  0.7663865546218487\n"
     ]
    },
    {
     "data": {
      "text/plain": [
       "{'cat_enc__smoothing': 2.8671515454079746,\n",
       " 'cat_enc__min_samples_leaf': 36,\n",
       " 'clf__max_depth': 41,\n",
       " 'clf__min_samples_leaf': 1}"
      ]
     },
     "execution_count": 45,
     "metadata": {},
     "output_type": "execute_result"
    }
   ],
   "source": [
    "print(\"Meilleur score: \", tree_opt_cv.best_score_)\n",
    "tree_opt_cv.best_params_"
   ]
  },
  {
   "cell_type": "markdown",
   "id": "fdc31ee3",
   "metadata": {},
   "source": [
    "CatBoost :"
   ]
  },
  {
   "cell_type": "code",
   "execution_count": 46,
   "id": "928e2486",
   "metadata": {
    "ExecuteTime": {
     "end_time": "2022-11-28T14:15:45.960384Z",
     "start_time": "2022-11-28T14:13:57.749951Z"
    }
   },
   "outputs": [
    {
     "name": "stderr",
     "output_type": "stream",
     "text": [
      "\u001b[32m[I 2022-11-28 15:13:57,759]\u001b[0m A new study created in memory with name: no-name-4a007ca2-56f3-41fd-b219-7287368709b5\u001b[0m\n",
      "\u001b[32m[I 2022-11-28 15:13:58,082]\u001b[0m Trial 0 finished with value: 0.7302521008403361 and parameters: {'iterations': 44, 'depth': 2, 'min_data_in_leaf': 2}. Best is trial 0 with value: 0.7302521008403361.\u001b[0m\n",
      "\u001b[32m[I 2022-11-28 15:13:58,447]\u001b[0m Trial 1 finished with value: 0.7226890756302521 and parameters: {'iterations': 35, 'depth': 4, 'min_data_in_leaf': 39}. Best is trial 0 with value: 0.7302521008403361.\u001b[0m\n",
      "\u001b[32m[I 2022-11-28 15:14:00,944]\u001b[0m Trial 2 finished with value: 0.7516806722689077 and parameters: {'iterations': 100, 'depth': 14, 'min_data_in_leaf': 24}. Best is trial 2 with value: 0.7516806722689077.\u001b[0m\n",
      "\u001b[32m[I 2022-11-28 15:14:02,119]\u001b[0m Trial 3 finished with value: 0.7081932773109244 and parameters: {'iterations': 45, 'depth': 14, 'min_data_in_leaf': 40}. Best is trial 2 with value: 0.7516806722689077.\u001b[0m\n",
      "\u001b[32m[I 2022-11-28 15:14:02,401]\u001b[0m Trial 4 finished with value: 0.723109243697479 and parameters: {'iterations': 27, 'depth': 4, 'min_data_in_leaf': 38}. Best is trial 2 with value: 0.7516806722689077.\u001b[0m\n",
      "\u001b[32m[I 2022-11-28 15:14:02,769]\u001b[0m Trial 5 finished with value: 0.751890756302521 and parameters: {'iterations': 52, 'depth': 3, 'min_data_in_leaf': 8}. Best is trial 5 with value: 0.751890756302521.\u001b[0m\n",
      "\u001b[32m[I 2022-11-28 15:14:03,303]\u001b[0m Trial 6 finished with value: 0.7373949579831933 and parameters: {'iterations': 68, 'depth': 5, 'min_data_in_leaf': 8}. Best is trial 5 with value: 0.751890756302521.\u001b[0m\n",
      "\u001b[32m[I 2022-11-28 15:14:05,038]\u001b[0m Trial 7 finished with value: 0.7231092436974791 and parameters: {'iterations': 75, 'depth': 13, 'min_data_in_leaf': 38}. Best is trial 5 with value: 0.751890756302521.\u001b[0m\n",
      "\u001b[32m[I 2022-11-28 15:14:05,588]\u001b[0m Trial 8 finished with value: 0.7373949579831933 and parameters: {'iterations': 53, 'depth': 6, 'min_data_in_leaf': 18}. Best is trial 5 with value: 0.751890756302521.\u001b[0m\n",
      "\u001b[32m[I 2022-11-28 15:14:05,889]\u001b[0m Trial 9 finished with value: 0.7008403361344538 and parameters: {'iterations': 29, 'depth': 3, 'min_data_in_leaf': 29}. Best is trial 5 with value: 0.751890756302521.\u001b[0m\n",
      "\u001b[32m[I 2022-11-28 15:14:06,276]\u001b[0m Trial 10 finished with value: 0.7157563025210084 and parameters: {'iterations': 15, 'depth': 9, 'min_data_in_leaf': 13}. Best is trial 5 with value: 0.751890756302521.\u001b[0m\n",
      "\u001b[32m[I 2022-11-28 15:14:07,768]\u001b[0m Trial 11 finished with value: 0.7518907563025211 and parameters: {'iterations': 91, 'depth': 11, 'min_data_in_leaf': 24}. Best is trial 11 with value: 0.7518907563025211.\u001b[0m\n",
      "\u001b[32m[I 2022-11-28 15:14:09,039]\u001b[0m Trial 12 finished with value: 0.7226890756302521 and parameters: {'iterations': 96, 'depth': 10, 'min_data_in_leaf': 49}. Best is trial 11 with value: 0.7518907563025211.\u001b[0m\n",
      "\u001b[32m[I 2022-11-28 15:14:09,965]\u001b[0m Trial 13 finished with value: 0.7521008403361344 and parameters: {'iterations': 73, 'depth': 9, 'min_data_in_leaf': 1}. Best is trial 13 with value: 0.7521008403361344.\u001b[0m\n",
      "\u001b[32m[I 2022-11-28 15:14:11,103]\u001b[0m Trial 14 finished with value: 0.7445378151260504 and parameters: {'iterations': 85, 'depth': 10, 'min_data_in_leaf': 25}. Best is trial 13 with value: 0.7521008403361344.\u001b[0m\n",
      "\u001b[32m[I 2022-11-28 15:14:11,891]\u001b[0m Trial 15 finished with value: 0.7373949579831933 and parameters: {'iterations': 67, 'depth': 8, 'min_data_in_leaf': 3}. Best is trial 13 with value: 0.7521008403361344.\u001b[0m\n",
      "\u001b[32m[I 2022-11-28 15:14:13,247]\u001b[0m Trial 16 finished with value: 0.7445378151260504 and parameters: {'iterations': 84, 'depth': 11, 'min_data_in_leaf': 18}. Best is trial 13 with value: 0.7521008403361344.\u001b[0m\n",
      "\u001b[32m[I 2022-11-28 15:14:14,897]\u001b[0m Trial 17 finished with value: 0.7371848739495799 and parameters: {'iterations': 83, 'depth': 12, 'min_data_in_leaf': 32}. Best is trial 13 with value: 0.7521008403361344.\u001b[0m\n",
      "\u001b[32m[I 2022-11-28 15:14:15,603]\u001b[0m Trial 18 finished with value: 0.7300420168067228 and parameters: {'iterations': 64, 'depth': 7, 'min_data_in_leaf': 18}. Best is trial 13 with value: 0.7521008403361344.\u001b[0m\n",
      "\u001b[32m[I 2022-11-28 15:14:18,261]\u001b[0m Trial 19 finished with value: 0.7302521008403361 and parameters: {'iterations': 91, 'depth': 15, 'min_data_in_leaf': 48}. Best is trial 13 with value: 0.7521008403361344.\u001b[0m\n",
      "\u001b[32m[I 2022-11-28 15:14:19,113]\u001b[0m Trial 20 finished with value: 0.7445378151260504 and parameters: {'iterations': 72, 'depth': 8, 'min_data_in_leaf': 7}. Best is trial 13 with value: 0.7521008403361344.\u001b[0m\n",
      "\u001b[32m[I 2022-11-28 15:14:20,843]\u001b[0m Trial 21 finished with value: 0.7226890756302521 and parameters: {'iterations': 57, 'depth': 16, 'min_data_in_leaf': 12}. Best is trial 13 with value: 0.7521008403361344.\u001b[0m\n",
      "\u001b[32m[I 2022-11-28 15:14:22,403]\u001b[0m Trial 22 finished with value: 0.7226890756302521 and parameters: {'iterations': 78, 'depth': 12, 'min_data_in_leaf': 1}. Best is trial 13 with value: 0.7521008403361344.\u001b[0m\n",
      "\u001b[32m[I 2022-11-28 15:14:22,949]\u001b[0m Trial 23 finished with value: 0.7228991596638656 and parameters: {'iterations': 59, 'depth': 6, 'min_data_in_leaf': 8}. Best is trial 13 with value: 0.7521008403361344.\u001b[0m\n",
      "\u001b[32m[I 2022-11-28 15:14:23,283]\u001b[0m Trial 24 finished with value: 0.7084033613445379 and parameters: {'iterations': 47, 'depth': 2, 'min_data_in_leaf': 14}. Best is trial 13 with value: 0.7521008403361344.\u001b[0m\n",
      "\u001b[32m[I 2022-11-28 15:14:24,433]\u001b[0m Trial 25 finished with value: 0.7373949579831933 and parameters: {'iterations': 91, 'depth': 10, 'min_data_in_leaf': 5}. Best is trial 13 with value: 0.7521008403361344.\u001b[0m\n",
      "\u001b[32m[I 2022-11-28 15:14:25,300]\u001b[0m Trial 26 finished with value: 0.7447478991596639 and parameters: {'iterations': 77, 'depth': 8, 'min_data_in_leaf': 22}. Best is trial 13 with value: 0.7521008403361344.\u001b[0m\n",
      "\u001b[32m[I 2022-11-28 15:14:26,159]\u001b[0m Trial 27 finished with value: 0.7300420168067228 and parameters: {'iterations': 38, 'depth': 12, 'min_data_in_leaf': 31}. Best is trial 13 with value: 0.7521008403361344.\u001b[0m\n",
      "\u001b[32m[I 2022-11-28 15:14:26,843]\u001b[0m Trial 28 finished with value: 0.7376050420168068 and parameters: {'iterations': 61, 'depth': 6, 'min_data_in_leaf': 12}. Best is trial 13 with value: 0.7521008403361344.\u001b[0m\n",
      "\u001b[32m[I 2022-11-28 15:14:27,423]\u001b[0m Trial 29 finished with value: 0.723109243697479 and parameters: {'iterations': 92, 'depth': 2, 'min_data_in_leaf': 1}. Best is trial 13 with value: 0.7521008403361344.\u001b[0m\n",
      "\u001b[32m[I 2022-11-28 15:14:27,805]\u001b[0m Trial 30 finished with value: 0.7298319327731093 and parameters: {'iterations': 11, 'depth': 9, 'min_data_in_leaf': 10}. Best is trial 13 with value: 0.7521008403361344.\u001b[0m\n",
      "\u001b[32m[I 2022-11-28 15:14:30,372]\u001b[0m Trial 31 finished with value: 0.715546218487395 and parameters: {'iterations': 99, 'depth': 14, 'min_data_in_leaf': 24}. Best is trial 13 with value: 0.7521008403361344.\u001b[0m\n",
      "\u001b[32m[I 2022-11-28 15:14:33,172]\u001b[0m Trial 32 finished with value: 0.7226890756302521 and parameters: {'iterations': 99, 'depth': 16, 'min_data_in_leaf': 21}. Best is trial 13 with value: 0.7521008403361344.\u001b[0m\n",
      "\u001b[32m[I 2022-11-28 15:14:35,280]\u001b[0m Trial 33 finished with value: 0.7008403361344538 and parameters: {'iterations': 86, 'depth': 14, 'min_data_in_leaf': 29}. Best is trial 13 with value: 0.7521008403361344.\u001b[0m\n",
      "\u001b[32m[I 2022-11-28 15:14:36,298]\u001b[0m Trial 34 finished with value: 0.7521008403361344 and parameters: {'iterations': 49, 'depth': 15, 'min_data_in_leaf': 35}. Best is trial 13 with value: 0.7521008403361344.\u001b[0m\n",
      "\u001b[32m[I 2022-11-28 15:14:36,692]\u001b[0m Trial 35 finished with value: 0.715546218487395 and parameters: {'iterations': 40, 'depth': 4, 'min_data_in_leaf': 43}. Best is trial 13 with value: 0.7521008403361344.\u001b[0m\n",
      "\u001b[32m[I 2022-11-28 15:14:37,939]\u001b[0m Trial 36 finished with value: 0.7300420168067228 and parameters: {'iterations': 50, 'depth': 13, 'min_data_in_leaf': 35}. Best is trial 13 with value: 0.7521008403361344.\u001b[0m\n",
      "\u001b[32m[I 2022-11-28 15:14:39,927]\u001b[0m Trial 37 finished with value: 0.7445378151260504 and parameters: {'iterations': 53, 'depth': 15, 'min_data_in_leaf': 45}. Best is trial 13 with value: 0.7521008403361344.\u001b[0m\n",
      "\u001b[32m[I 2022-11-28 15:14:40,688]\u001b[0m Trial 38 finished with value: 0.7155462184873949 and parameters: {'iterations': 32, 'depth': 11, 'min_data_in_leaf': 6}. Best is trial 13 with value: 0.7521008403361344.\u001b[0m\n"
     ]
    },
    {
     "name": "stderr",
     "output_type": "stream",
     "text": [
      "\u001b[32m[I 2022-11-28 15:14:41,016]\u001b[0m Trial 39 finished with value: 0.7228991596638655 and parameters: {'iterations': 21, 'depth': 5, 'min_data_in_leaf': 36}. Best is trial 13 with value: 0.7521008403361344.\u001b[0m\n",
      "\u001b[32m[I 2022-11-28 15:14:41,399]\u001b[0m Trial 40 finished with value: 0.7228991596638655 and parameters: {'iterations': 44, 'depth': 3, 'min_data_in_leaf': 3}. Best is trial 13 with value: 0.7521008403361344.\u001b[0m\n",
      "\u001b[32m[I 2022-11-28 15:14:43,839]\u001b[0m Trial 41 finished with value: 0.7373949579831933 and parameters: {'iterations': 68, 'depth': 15, 'min_data_in_leaf': 27}. Best is trial 13 with value: 0.7521008403361344.\u001b[0m\n",
      "\u001b[32m[I 2022-11-28 15:14:46,048]\u001b[0m Trial 42 finished with value: 0.7302521008403362 and parameters: {'iterations': 95, 'depth': 13, 'min_data_in_leaf': 16}. Best is trial 13 with value: 0.7521008403361344.\u001b[0m\n",
      "\u001b[32m[I 2022-11-28 15:14:48,315]\u001b[0m Trial 43 finished with value: 0.7371848739495799 and parameters: {'iterations': 72, 'depth': 14, 'min_data_in_leaf': 41}. Best is trial 13 with value: 0.7521008403361344.\u001b[0m\n",
      "\u001b[32m[I 2022-11-28 15:14:49,160]\u001b[0m Trial 44 finished with value: 0.7226890756302521 and parameters: {'iterations': 49, 'depth': 11, 'min_data_in_leaf': 23}. Best is trial 13 with value: 0.7521008403361344.\u001b[0m\n",
      "\u001b[32m[I 2022-11-28 15:14:50,558]\u001b[0m Trial 45 finished with value: 0.7373949579831933 and parameters: {'iterations': 56, 'depth': 13, 'min_data_in_leaf': 34}. Best is trial 13 with value: 0.7521008403361344.\u001b[0m\n",
      "\u001b[32m[I 2022-11-28 15:14:53,133]\u001b[0m Trial 46 finished with value: 0.7373949579831933 and parameters: {'iterations': 80, 'depth': 16, 'min_data_in_leaf': 26}. Best is trial 13 with value: 0.7521008403361344.\u001b[0m\n",
      "\u001b[32m[I 2022-11-28 15:14:56,294]\u001b[0m Trial 47 finished with value: 0.715546218487395 and parameters: {'iterations': 89, 'depth': 15, 'min_data_in_leaf': 19}. Best is trial 13 with value: 0.7521008403361344.\u001b[0m\n",
      "\u001b[32m[I 2022-11-28 15:14:56,998]\u001b[0m Trial 48 finished with value: 0.7300420168067226 and parameters: {'iterations': 40, 'depth': 9, 'min_data_in_leaf': 28}. Best is trial 13 with value: 0.7521008403361344.\u001b[0m\n",
      "\u001b[32m[I 2022-11-28 15:14:57,698]\u001b[0m Trial 49 finished with value: 0.7228991596638656 and parameters: {'iterations': 63, 'depth': 7, 'min_data_in_leaf': 4}. Best is trial 13 with value: 0.7521008403361344.\u001b[0m\n",
      "\u001b[32m[I 2022-11-28 15:14:58,888]\u001b[0m Trial 50 finished with value: 0.7302521008403362 and parameters: {'iterations': 95, 'depth': 10, 'min_data_in_leaf': 31}. Best is trial 13 with value: 0.7521008403361344.\u001b[0m\n",
      "\u001b[32m[I 2022-11-28 15:14:59,749]\u001b[0m Trial 51 finished with value: 0.7447478991596639 and parameters: {'iterations': 78, 'depth': 8, 'min_data_in_leaf': 22}. Best is trial 13 with value: 0.7521008403361344.\u001b[0m\n",
      "\u001b[32m[I 2022-11-28 15:15:00,523]\u001b[0m Trial 52 finished with value: 0.7300420168067228 and parameters: {'iterations': 73, 'depth': 7, 'min_data_in_leaf': 20}. Best is trial 13 with value: 0.7521008403361344.\u001b[0m\n",
      "\u001b[32m[I 2022-11-28 15:15:01,805]\u001b[0m Trial 53 finished with value: 0.7447478991596639 and parameters: {'iterations': 81, 'depth': 11, 'min_data_in_leaf': 16}. Best is trial 13 with value: 0.7521008403361344.\u001b[0m\n",
      "\u001b[32m[I 2022-11-28 15:15:02,513]\u001b[0m Trial 54 finished with value: 0.7376050420168068 and parameters: {'iterations': 88, 'depth': 5, 'min_data_in_leaf': 25}. Best is trial 13 with value: 0.7521008403361344.\u001b[0m\n",
      "\u001b[32m[I 2022-11-28 15:15:03,392]\u001b[0m Trial 55 finished with value: 0.7226890756302521 and parameters: {'iterations': 68, 'depth': 8, 'min_data_in_leaf': 10}. Best is trial 13 with value: 0.7521008403361344.\u001b[0m\n",
      "\u001b[32m[I 2022-11-28 15:15:04,657]\u001b[0m Trial 56 finished with value: 0.751890756302521 and parameters: {'iterations': 82, 'depth': 11, 'min_data_in_leaf': 16}. Best is trial 13 with value: 0.7521008403361344.\u001b[0m\n",
      "\u001b[32m[I 2022-11-28 15:15:06,359]\u001b[0m Trial 57 finished with value: 0.7373949579831933 and parameters: {'iterations': 100, 'depth': 12, 'min_data_in_leaf': 16}. Best is trial 13 with value: 0.7521008403361344.\u001b[0m\n",
      "\u001b[32m[I 2022-11-28 15:15:08,462]\u001b[0m Trial 58 finished with value: 0.7302521008403362 and parameters: {'iterations': 84, 'depth': 14, 'min_data_in_leaf': 9}. Best is trial 13 with value: 0.7521008403361344.\u001b[0m\n",
      "\u001b[32m[I 2022-11-28 15:15:09,456]\u001b[0m Trial 59 finished with value: 0.7300420168067228 and parameters: {'iterations': 44, 'depth': 12, 'min_data_in_leaf': 14}. Best is trial 13 with value: 0.7521008403361344.\u001b[0m\n",
      "\u001b[32m[I 2022-11-28 15:15:10,995]\u001b[0m Trial 60 finished with value: 0.751890756302521 and parameters: {'iterations': 93, 'depth': 11, 'min_data_in_leaf': 38}. Best is trial 13 with value: 0.7521008403361344.\u001b[0m\n",
      "\u001b[32m[I 2022-11-28 15:15:12,442]\u001b[0m Trial 61 finished with value: 0.751890756302521 and parameters: {'iterations': 93, 'depth': 11, 'min_data_in_leaf': 40}. Best is trial 13 with value: 0.7521008403361344.\u001b[0m\n",
      "\u001b[32m[I 2022-11-28 15:15:13,652]\u001b[0m Trial 62 finished with value: 0.7373949579831933 and parameters: {'iterations': 92, 'depth': 10, 'min_data_in_leaf': 38}. Best is trial 13 with value: 0.7521008403361344.\u001b[0m\n",
      "\u001b[32m[I 2022-11-28 15:15:14,956]\u001b[0m Trial 63 finished with value: 0.7445378151260504 and parameters: {'iterations': 87, 'depth': 11, 'min_data_in_leaf': 40}. Best is trial 13 with value: 0.7521008403361344.\u001b[0m\n",
      "\u001b[32m[I 2022-11-28 15:15:15,908]\u001b[0m Trial 64 finished with value: 0.715546218487395 and parameters: {'iterations': 54, 'depth': 10, 'min_data_in_leaf': 46}. Best is trial 13 with value: 0.7521008403361344.\u001b[0m\n",
      "\u001b[32m[I 2022-11-28 15:15:17,262]\u001b[0m Trial 65 finished with value: 0.7521008403361344 and parameters: {'iterations': 96, 'depth': 9, 'min_data_in_leaf': 42}. Best is trial 13 with value: 0.7521008403361344.\u001b[0m\n",
      "\u001b[32m[I 2022-11-28 15:15:18,439]\u001b[0m Trial 66 finished with value: 0.7373949579831933 and parameters: {'iterations': 95, 'depth': 9, 'min_data_in_leaf': 42}. Best is trial 13 with value: 0.7521008403361344.\u001b[0m\n",
      "\u001b[32m[I 2022-11-28 15:15:19,683]\u001b[0m Trial 67 finished with value: 0.7445378151260504 and parameters: {'iterations': 97, 'depth': 9, 'min_data_in_leaf': 37}. Best is trial 13 with value: 0.7521008403361344.\u001b[0m\n",
      "\u001b[32m[I 2022-11-28 15:15:20,263]\u001b[0m Trial 68 finished with value: 0.751890756302521 and parameters: {'iterations': 91, 'depth': 3, 'min_data_in_leaf': 45}. Best is trial 13 with value: 0.7521008403361344.\u001b[0m\n",
      "\u001b[32m[I 2022-11-28 15:15:21,536]\u001b[0m Trial 69 finished with value: 0.7447478991596639 and parameters: {'iterations': 81, 'depth': 11, 'min_data_in_leaf': 39}. Best is trial 13 with value: 0.7521008403361344.\u001b[0m\n",
      "\u001b[32m[I 2022-11-28 15:15:23,188]\u001b[0m Trial 70 finished with value: 0.7300420168067228 and parameters: {'iterations': 93, 'depth': 12, 'min_data_in_leaf': 50}. Best is trial 13 with value: 0.7521008403361344.\u001b[0m\n",
      "\u001b[32m[I 2022-11-28 15:15:24,310]\u001b[0m Trial 71 finished with value: 0.7447478991596639 and parameters: {'iterations': 89, 'depth': 10, 'min_data_in_leaf': 42}. Best is trial 13 with value: 0.7521008403361344.\u001b[0m\n",
      "\u001b[32m[I 2022-11-28 15:15:24,789]\u001b[0m Trial 72 finished with value: 0.7302521008403361 and parameters: {'iterations': 90, 'depth': 2, 'min_data_in_leaf': 44}. Best is trial 13 with value: 0.7521008403361344.\u001b[0m\n",
      "\u001b[32m[I 2022-11-28 15:15:25,463]\u001b[0m Trial 73 finished with value: 0.7663865546218487 and parameters: {'iterations': 97, 'depth': 3, 'min_data_in_leaf': 47}. Best is trial 73 with value: 0.7663865546218487.\u001b[0m\n",
      "\u001b[32m[I 2022-11-28 15:15:26,502]\u001b[0m Trial 74 finished with value: 0.7373949579831933 and parameters: {'iterations': 98, 'depth': 7, 'min_data_in_leaf': 46}. Best is trial 73 with value: 0.7663865546218487.\u001b[0m\n",
      "\u001b[32m[I 2022-11-28 15:15:26,941]\u001b[0m Trial 75 finished with value: 0.7228991596638655 and parameters: {'iterations': 47, 'depth': 3, 'min_data_in_leaf': 46}. Best is trial 73 with value: 0.7663865546218487.\u001b[0m\n",
      "\u001b[32m[I 2022-11-28 15:15:27,619]\u001b[0m Trial 76 finished with value: 0.7302521008403362 and parameters: {'iterations': 94, 'depth': 4, 'min_data_in_leaf': 40}. Best is trial 73 with value: 0.7663865546218487.\u001b[0m\n",
      "\u001b[32m[I 2022-11-28 15:15:27,862]\u001b[0m Trial 77 finished with value: 0.751890756302521 and parameters: {'iterations': 5, 'depth': 6, 'min_data_in_leaf': 35}. Best is trial 73 with value: 0.7663865546218487.\u001b[0m\n"
     ]
    },
    {
     "name": "stderr",
     "output_type": "stream",
     "text": [
      "\u001b[32m[I 2022-11-28 15:15:29,742]\u001b[0m Trial 78 finished with value: 0.7373949579831933 and parameters: {'iterations': 85, 'depth': 12, 'min_data_in_leaf': 33}. Best is trial 73 with value: 0.7663865546218487.\u001b[0m\n",
      "\u001b[32m[I 2022-11-28 15:15:30,133]\u001b[0m Trial 79 finished with value: 0.7157563025210085 and parameters: {'iterations': 24, 'depth': 6, 'min_data_in_leaf': 48}. Best is trial 73 with value: 0.7663865546218487.\u001b[0m\n",
      "\u001b[32m[I 2022-11-28 15:15:30,471]\u001b[0m Trial 80 finished with value: 0.7376050420168067 and parameters: {'iterations': 32, 'depth': 4, 'min_data_in_leaf': 36}. Best is trial 73 with value: 0.7663865546218487.\u001b[0m\n",
      "\u001b[32m[I 2022-11-28 15:15:30,994]\u001b[0m Trial 81 finished with value: 0.723109243697479 and parameters: {'iterations': 97, 'depth': 2, 'min_data_in_leaf': 48}. Best is trial 73 with value: 0.7663865546218487.\u001b[0m\n",
      "\u001b[32m[I 2022-11-28 15:15:31,308]\u001b[0m Trial 82 finished with value: 0.6934873949579833 and parameters: {'iterations': 8, 'depth': 9, 'min_data_in_leaf': 30}. Best is trial 73 with value: 0.7663865546218487.\u001b[0m\n",
      "\u001b[32m[I 2022-11-28 15:15:31,590]\u001b[0m Trial 83 finished with value: 0.7226890756302521 and parameters: {'iterations': 16, 'depth': 3, 'min_data_in_leaf': 44}. Best is trial 73 with value: 0.7663865546218487.\u001b[0m\n",
      "\u001b[32m[I 2022-11-28 15:15:32,088]\u001b[0m Trial 84 finished with value: 0.751890756302521 and parameters: {'iterations': 63, 'depth': 3, 'min_data_in_leaf': 34}. Best is trial 73 with value: 0.7663865546218487.\u001b[0m\n",
      "\u001b[32m[I 2022-11-28 15:15:33,809]\u001b[0m Trial 85 finished with value: 0.715546218487395 and parameters: {'iterations': 76, 'depth': 13, 'min_data_in_leaf': 33}. Best is trial 73 with value: 0.7663865546218487.\u001b[0m\n",
      "\u001b[32m[I 2022-11-28 15:15:34,364]\u001b[0m Trial 86 finished with value: 0.7445378151260504 and parameters: {'iterations': 59, 'depth': 5, 'min_data_in_leaf': 34}. Best is trial 73 with value: 0.7663865546218487.\u001b[0m\n",
      "\u001b[32m[I 2022-11-28 15:15:34,989]\u001b[0m Trial 87 finished with value: 0.7302521008403361 and parameters: {'iterations': 83, 'depth': 3, 'min_data_in_leaf': 6}. Best is trial 73 with value: 0.7663865546218487.\u001b[0m\n",
      "\u001b[32m[I 2022-11-28 15:15:35,854]\u001b[0m Trial 88 finished with value: 0.7373949579831933 and parameters: {'iterations': 70, 'depth': 8, 'min_data_in_leaf': 3}. Best is trial 73 with value: 0.7663865546218487.\u001b[0m\n",
      "\u001b[32m[I 2022-11-28 15:15:37,144]\u001b[0m Trial 89 finished with value: 0.7228991596638656 and parameters: {'iterations': 100, 'depth': 10, 'min_data_in_leaf': 39}. Best is trial 73 with value: 0.7663865546218487.\u001b[0m\n",
      "\u001b[32m[I 2022-11-28 15:15:38,572]\u001b[0m Trial 90 finished with value: 0.7445378151260504 and parameters: {'iterations': 87, 'depth': 11, 'min_data_in_leaf': 1}. Best is trial 73 with value: 0.7663865546218487.\u001b[0m\n",
      "\u001b[32m[I 2022-11-28 15:15:39,096]\u001b[0m Trial 91 finished with value: 0.7371848739495799 and parameters: {'iterations': 65, 'depth': 3, 'min_data_in_leaf': 42}. Best is trial 73 with value: 0.7663865546218487.\u001b[0m\n",
      "\u001b[32m[I 2022-11-28 15:15:39,932]\u001b[0m Trial 92 finished with value: 0.7302521008403362 and parameters: {'iterations': 91, 'depth': 6, 'min_data_in_leaf': 37}. Best is trial 73 with value: 0.7663865546218487.\u001b[0m\n",
      "\u001b[32m[I 2022-11-28 15:15:40,361]\u001b[0m Trial 93 finished with value: 0.7373949579831933 and parameters: {'iterations': 49, 'depth': 4, 'min_data_in_leaf': 40}. Best is trial 73 with value: 0.7663865546218487.\u001b[0m\n",
      "\u001b[32m[I 2022-11-28 15:15:40,838]\u001b[0m Trial 94 finished with value: 0.7376050420168067 and parameters: {'iterations': 93, 'depth': 2, 'min_data_in_leaf': 36}. Best is trial 73 with value: 0.7663865546218487.\u001b[0m\n",
      "\u001b[32m[I 2022-11-28 15:15:41,321]\u001b[0m Trial 95 finished with value: 0.7298319327731093 and parameters: {'iterations': 61, 'depth': 4, 'min_data_in_leaf': 35}. Best is trial 73 with value: 0.7663865546218487.\u001b[0m\n",
      "\u001b[32m[I 2022-11-28 15:15:42,018]\u001b[0m Trial 96 finished with value: 0.7447478991596639 and parameters: {'iterations': 80, 'depth': 5, 'min_data_in_leaf': 47}. Best is trial 73 with value: 0.7663865546218487.\u001b[0m\n",
      "\u001b[32m[I 2022-11-28 15:15:43,361]\u001b[0m Trial 97 finished with value: 0.7447478991596639 and parameters: {'iterations': 74, 'depth': 11, 'min_data_in_leaf': 12}. Best is trial 73 with value: 0.7663865546218487.\u001b[0m\n",
      "\u001b[32m[I 2022-11-28 15:15:44,765]\u001b[0m Trial 98 finished with value: 0.7226890756302522 and parameters: {'iterations': 90, 'depth': 9, 'min_data_in_leaf': 7}. Best is trial 73 with value: 0.7663865546218487.\u001b[0m\n",
      "\u001b[32m[I 2022-11-28 15:15:45,826]\u001b[0m Trial 99 finished with value: 0.7371848739495799 and parameters: {'iterations': 97, 'depth': 8, 'min_data_in_leaf': 44}. Best is trial 73 with value: 0.7663865546218487.\u001b[0m\n"
     ]
    }
   ],
   "source": [
    "boost_opt_cv = OptunaSearchCV(\n",
    "    estimator=boost_model,\n",
    "    param_distributions=boost_param_distribs_opt,\n",
    "    cv = cv,\n",
    "    n_trials=100\n",
    ").fit(Xtrain, ytrain)"
   ]
  },
  {
   "cell_type": "code",
   "execution_count": 47,
   "id": "a8264183",
   "metadata": {
    "ExecuteTime": {
     "end_time": "2022-11-28T14:15:45.983446Z",
     "start_time": "2022-11-28T14:15:45.967023Z"
    }
   },
   "outputs": [
    {
     "name": "stdout",
     "output_type": "stream",
     "text": [
      "Meilleur score:  0.7663865546218487\n"
     ]
    },
    {
     "data": {
      "text/plain": [
       "{'iterations': 97, 'depth': 3, 'min_data_in_leaf': 47}"
      ]
     },
     "execution_count": 47,
     "metadata": {},
     "output_type": "execute_result"
    }
   ],
   "source": [
    "print(\"Meilleur score: \", boost_opt_cv.best_score_)\n",
    "boost_opt_cv.best_params_"
   ]
  },
  {
   "cell_type": "markdown",
   "id": "4958ce2b",
   "metadata": {},
   "source": [
    "### Comparaison finale\n",
    "\n",
    "Nous pouvons maintenant évaluer la performance de chaque famille sur les données de test :"
   ]
  },
  {
   "cell_type": "code",
   "execution_count": 48,
   "id": "c8a7fceb",
   "metadata": {
    "ExecuteTime": {
     "end_time": "2022-11-28T14:15:46.047210Z",
     "start_time": "2022-11-28T14:15:45.990620Z"
    }
   },
   "outputs": [
    {
     "name": "stdout",
     "output_type": "stream",
     "text": [
      "Score Regr. Logist.:  0.696\n"
     ]
    }
   ],
   "source": [
    "print(f\"Score Regr. Logist.: {logist_opt_cv.score(Xtest, ytest): 0.3f}\")"
   ]
  },
  {
   "cell_type": "code",
   "execution_count": 49,
   "id": "b56f7a9e",
   "metadata": {
    "ExecuteTime": {
     "end_time": "2022-11-28T14:15:46.189647Z",
     "start_time": "2022-11-28T14:15:46.063189Z"
    }
   },
   "outputs": [
    {
     "name": "stdout",
     "output_type": "stream",
     "text": [
      "Score Arbre        :  0.717\n"
     ]
    }
   ],
   "source": [
    "print(f\"Score Arbre        : {tree_opt_cv.score(Xtest, ytest): 0.3f}\")"
   ]
  },
  {
   "cell_type": "code",
   "execution_count": 50,
   "id": "60b2c696",
   "metadata": {
    "ExecuteTime": {
     "end_time": "2022-11-28T14:15:46.211478Z",
     "start_time": "2022-11-28T14:15:46.196084Z"
    }
   },
   "outputs": [
    {
     "name": "stdout",
     "output_type": "stream",
     "text": [
      "Score CatBoost     :  0.761\n"
     ]
    }
   ],
   "source": [
    "print(f\"Score CatBoost     : {boost_opt_cv.score(Xtest, ytest): 0.3f}\")"
   ]
  },
  {
   "cell_type": "markdown",
   "id": "2d110344",
   "metadata": {},
   "source": [
    "On voit que les scores sont relativement différents des scores observées sur le jeu d'entrainement. Ceci illustre l'importance de découpler l'optimisation des hyper-paramètres de l'évaluation finale."
   ]
  },
  {
   "cell_type": "markdown",
   "id": "aa4710c6",
   "metadata": {},
   "source": [
    "Si plusieurs modèles on des résultats proches (ce n'est pas forcément le cas ici), il peut être intéressant de départager les modèles sur d'autres critères notamment les temps d'exécution à la prédiction."
   ]
  },
  {
   "cell_type": "code",
   "execution_count": 51,
   "id": "4843d24b",
   "metadata": {
    "ExecuteTime": {
     "end_time": "2022-11-28T14:16:10.122319Z",
     "start_time": "2022-11-28T14:15:46.218529Z"
    }
   },
   "outputs": [
    {
     "name": "stdout",
     "output_type": "stream",
     "text": [
      "34.4 ms ± 930 µs per loop (mean ± std. dev. of 7 runs, 10 loops each)\n",
      "45.3 ms ± 6.2 ms per loop (mean ± std. dev. of 7 runs, 10 loops each)\n",
      "2.17 ms ± 250 µs per loop (mean ± std. dev. of 7 runs, 1,000 loops each)\n"
     ]
    }
   ],
   "source": [
    "%timeit logist_opt_cv.score(Xtest, ytest)\n",
    "%timeit tree_opt_cv.score(Xtest, ytest)\n",
    "%timeit boost_opt_cv.score(Xtest, ytest)"
   ]
  },
  {
   "cell_type": "markdown",
   "id": "2fcebae9",
   "metadata": {},
   "source": [
    "On voit que par chance le modèle le plus performant est aussi le plus rapide à l'exécution."
   ]
  }
 ],
 "metadata": {
  "kernelspec": {
   "display_name": "Python 3 (ipykernel)",
   "language": "python",
   "name": "python3"
  },
  "language_info": {
   "codemirror_mode": {
    "name": "ipython",
    "version": 3
   },
   "file_extension": ".py",
   "mimetype": "text/x-python",
   "name": "python",
   "nbconvert_exporter": "python",
   "pygments_lexer": "ipython3",
   "version": "3.10.6"
  },
  "toc": {
   "base_numbering": 1,
   "nav_menu": {},
   "number_sections": true,
   "sideBar": true,
   "skip_h1_title": true,
   "title_cell": "Table of Contents",
   "title_sidebar": "Contents",
   "toc_cell": false,
   "toc_position": {
    "height": "calc(100% - 180px)",
    "left": "10px",
    "top": "150px",
    "width": "589px"
   },
   "toc_section_display": true,
   "toc_window_display": true
  }
 },
 "nbformat": 4,
 "nbformat_minor": 5
}
